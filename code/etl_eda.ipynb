{
 "cells": [
  {
   "cell_type": "markdown",
   "metadata": {},
   "source": [
    "# Extract-Transform-Load and Exploratory Data Analysis\n",
    "This notebook contains all code for the prelimiatory analysis of the KDD Cup 98 datasets"
   ]
  },
  {
   "cell_type": "markdown",
   "metadata": {},
   "source": [
    "## Loading the tidy datasets\n",
    "The class TidyDataset holds all transforming steps to create a valid dataset for later use. It transforms:\n",
    "    - boolean fields that are coded in various ways in the original dataset -> 0/1\n",
    "    - date strings yymm -> individual columns with yy and mm, name prefixed with original field name\n",
    "    - Multi-value (bytewise) categories -> individual categorical fields\n",
    "    - ZIP codes are stripped of trailing dashes and a category created"
   ]
  },
  {
   "cell_type": "code",
   "execution_count": null,
   "metadata": {},
   "outputs": [],
   "source": [
    "%load_ext autoreload\n",
    "%autoreload 2\n",
    "import eda.tidy_dataset as tds"
   ]
  },
  {
   "cell_type": "code",
   "execution_count": 1,
   "metadata": {},
   "outputs": [
    {
     "name": "stderr",
     "output_type": "stream",
     "text": [
      "C:\\Users\\micro\\Anaconda3\\lib\\site-packages\\pandas\\core\\ops.py:1167: FutureWarning: elementwise comparison failed; returning scalar instead, but in the future will perform elementwise comparison\n",
      "  result = method(y)\n"
     ]
    }
   ],
   "source": [
    "lrn = tds.TidyDataset(\"cup98LRN.txt\") # pull_stored=False) # To force reprocessing\n",
    "learning = lrn.get_tidy_data()"
   ]
  },
  {
   "cell_type": "code",
   "execution_count": null,
   "metadata": {},
   "outputs": [],
   "source": [
    "val = tds.TidyDataset(\"cup98VAL.txt\")\n",
    "validation = val.get_tidy_data()"
   ]
  },
  {
   "cell_type": "markdown",
   "metadata": {},
   "source": [
    "## A first look at the learning datasets"
   ]
  },
  {
   "cell_type": "markdown",
   "metadata": {},
   "source": [
    "Check that the learning and validation sets are really disjoint:"
   ]
  },
  {
   "cell_type": "code",
   "execution_count": null,
   "metadata": {},
   "outputs": [],
   "source": [
    "set(learning.index.values) & set(validation.index.values)"
   ]
  },
  {
   "cell_type": "markdown",
   "metadata": {},
   "source": [
    "Some basic info on the dimensions and data types contained. Category- and object-features will have to be dealt with further."
   ]
  },
  {
   "cell_type": "code",
   "execution_count": 2,
   "metadata": {},
   "outputs": [
    {
     "name": "stdout",
     "output_type": "stream",
     "text": [
      "<class 'pandas.core.frame.DataFrame'>\n",
      "Int64Index: 95412 entries, 95515 to 185114\n",
      "Columns: 554 entries, OSOURCE to RFA_24_Amount\n",
      "dtypes: bool(26), category(92), float64(74), int64(305), object(57)\n",
      "memory usage: 329.7+ MB\n"
     ]
    }
   ],
   "source": [
    "learning.info()"
   ]
  },
  {
   "cell_type": "markdown",
   "metadata": {},
   "source": [
    "Let's have a look at the object columns"
   ]
  },
  {
   "cell_type": "code",
   "execution_count": 3,
   "metadata": {},
   "outputs": [],
   "source": [
    "object_cols = learning.select_dtypes(include=\"object\")"
   ]
  },
  {
   "cell_type": "code",
   "execution_count": 4,
   "metadata": {},
   "outputs": [
    {
     "data": {
      "text/html": [
       "<div>\n",
       "<style scoped>\n",
       "    .dataframe tbody tr th:only-of-type {\n",
       "        vertical-align: middle;\n",
       "    }\n",
       "\n",
       "    .dataframe tbody tr th {\n",
       "        vertical-align: top;\n",
       "    }\n",
       "\n",
       "    .dataframe thead th {\n",
       "        text-align: right;\n",
       "    }\n",
       "</style>\n",
       "<table border=\"1\" class=\"dataframe\">\n",
       "  <thead>\n",
       "    <tr style=\"text-align: right;\">\n",
       "      <th></th>\n",
       "      <th>OSOURCE</th>\n",
       "      <th>RFA_2R</th>\n",
       "      <th>RFA_2A</th>\n",
       "      <th>MDMAUD_R</th>\n",
       "      <th>MDMAUD_F</th>\n",
       "      <th>MDMAUD_A</th>\n",
       "      <th>GEOCODE2</th>\n",
       "      <th>ODATEDW_year</th>\n",
       "      <th>ODATEDW_month</th>\n",
       "      <th>DOB_year</th>\n",
       "      <th>...</th>\n",
       "      <th>ADATE_20_year</th>\n",
       "      <th>ADATE_20_month</th>\n",
       "      <th>ADATE_21_year</th>\n",
       "      <th>ADATE_21_month</th>\n",
       "      <th>ADATE_22_year</th>\n",
       "      <th>ADATE_22_month</th>\n",
       "      <th>ADATE_23_year</th>\n",
       "      <th>ADATE_23_month</th>\n",
       "      <th>ADATE_24_year</th>\n",
       "      <th>ADATE_24_month</th>\n",
       "    </tr>\n",
       "  </thead>\n",
       "  <tbody>\n",
       "    <tr>\n",
       "      <th>count</th>\n",
       "      <td>95412</td>\n",
       "      <td>95412</td>\n",
       "      <td>95412</td>\n",
       "      <td>95412</td>\n",
       "      <td>95412</td>\n",
       "      <td>95412</td>\n",
       "      <td>95280</td>\n",
       "      <td>95412</td>\n",
       "      <td>95412</td>\n",
       "      <td>68912</td>\n",
       "      <td>...</td>\n",
       "      <td>45212</td>\n",
       "      <td>45212</td>\n",
       "      <td>60200</td>\n",
       "      <td>60200</td>\n",
       "      <td>69764</td>\n",
       "      <td>69764</td>\n",
       "      <td>39142</td>\n",
       "      <td>39142</td>\n",
       "      <td>58439</td>\n",
       "      <td>58439</td>\n",
       "    </tr>\n",
       "    <tr>\n",
       "      <th>unique</th>\n",
       "      <td>896</td>\n",
       "      <td>1</td>\n",
       "      <td>4</td>\n",
       "      <td>5</td>\n",
       "      <td>4</td>\n",
       "      <td>5</td>\n",
       "      <td>5</td>\n",
       "      <td>15</td>\n",
       "      <td>12</td>\n",
       "      <td>86</td>\n",
       "      <td>...</td>\n",
       "      <td>1</td>\n",
       "      <td>2</td>\n",
       "      <td>1</td>\n",
       "      <td>2</td>\n",
       "      <td>2</td>\n",
       "      <td>5</td>\n",
       "      <td>2</td>\n",
       "      <td>3</td>\n",
       "      <td>1</td>\n",
       "      <td>2</td>\n",
       "    </tr>\n",
       "    <tr>\n",
       "      <th>top</th>\n",
       "      <td>MBC</td>\n",
       "      <td>L</td>\n",
       "      <td>F</td>\n",
       "      <td>X</td>\n",
       "      <td>X</td>\n",
       "      <td>X</td>\n",
       "      <td>A</td>\n",
       "      <td>95</td>\n",
       "      <td>01</td>\n",
       "      <td>48</td>\n",
       "      <td>...</td>\n",
       "      <td>94</td>\n",
       "      <td>11</td>\n",
       "      <td>94</td>\n",
       "      <td>10</td>\n",
       "      <td>94</td>\n",
       "      <td>09</td>\n",
       "      <td>94</td>\n",
       "      <td>07</td>\n",
       "      <td>94</td>\n",
       "      <td>06</td>\n",
       "    </tr>\n",
       "    <tr>\n",
       "      <th>freq</th>\n",
       "      <td>4539</td>\n",
       "      <td>95412</td>\n",
       "      <td>46964</td>\n",
       "      <td>95118</td>\n",
       "      <td>95118</td>\n",
       "      <td>95118</td>\n",
       "      <td>34484</td>\n",
       "      <td>15369</td>\n",
       "      <td>95351</td>\n",
       "      <td>1912</td>\n",
       "      <td>...</td>\n",
       "      <td>45212</td>\n",
       "      <td>45198</td>\n",
       "      <td>60200</td>\n",
       "      <td>55865</td>\n",
       "      <td>68963</td>\n",
       "      <td>63908</td>\n",
       "      <td>39120</td>\n",
       "      <td>38877</td>\n",
       "      <td>58439</td>\n",
       "      <td>58161</td>\n",
       "    </tr>\n",
       "  </tbody>\n",
       "</table>\n",
       "<p>4 rows × 57 columns</p>\n",
       "</div>"
      ],
      "text/plain": [
       "       OSOURCE RFA_2R RFA_2A MDMAUD_R MDMAUD_F MDMAUD_A GEOCODE2 ODATEDW_year  \\\n",
       "count    95412  95412  95412    95412    95412    95412    95280        95412   \n",
       "unique     896      1      4        5        4        5        5           15   \n",
       "top        MBC      L      F        X        X        X        A           95   \n",
       "freq      4539  95412  46964    95118    95118    95118    34484        15369   \n",
       "\n",
       "       ODATEDW_month DOB_year      ...       ADATE_20_year ADATE_20_month  \\\n",
       "count          95412    68912      ...               45212          45212   \n",
       "unique            12       86      ...                   1              2   \n",
       "top               01       48      ...                  94             11   \n",
       "freq           95351     1912      ...               45212          45198   \n",
       "\n",
       "       ADATE_21_year ADATE_21_month ADATE_22_year ADATE_22_month  \\\n",
       "count          60200          60200         69764          69764   \n",
       "unique             1              2             2              5   \n",
       "top               94             10            94             09   \n",
       "freq           60200          55865         68963          63908   \n",
       "\n",
       "       ADATE_23_year ADATE_23_month ADATE_24_year ADATE_24_month  \n",
       "count          39142          39142         58439          58439  \n",
       "unique             2              3             1              2  \n",
       "top               94             07            94             06  \n",
       "freq           39120          38877         58439          58161  \n",
       "\n",
       "[4 rows x 57 columns]"
      ]
     },
     "execution_count": 4,
     "metadata": {},
     "output_type": "execute_result"
    }
   ],
   "source": [
    "object_cols.describe()"
   ]
  },
  {
   "cell_type": "markdown",
   "metadata": {},
   "source": [
    "The boolean columns:"
   ]
  },
  {
   "cell_type": "code",
   "execution_count": 6,
   "metadata": {},
   "outputs": [],
   "source": [
    "bool_cols = learning.select_dtypes(include=\"bool\")"
   ]
  },
  {
   "cell_type": "code",
   "execution_count": 7,
   "metadata": {},
   "outputs": [
    {
     "data": {
      "text/html": [
       "<div>\n",
       "<style scoped>\n",
       "    .dataframe tbody tr th:only-of-type {\n",
       "        vertical-align: middle;\n",
       "    }\n",
       "\n",
       "    .dataframe tbody tr th {\n",
       "        vertical-align: top;\n",
       "    }\n",
       "\n",
       "    .dataframe thead th {\n",
       "        text-align: right;\n",
       "    }\n",
       "</style>\n",
       "<table border=\"1\" class=\"dataframe\">\n",
       "  <thead>\n",
       "    <tr style=\"text-align: right;\">\n",
       "      <th></th>\n",
       "      <th>NOEXCH</th>\n",
       "      <th>RECINHSE</th>\n",
       "      <th>RECP3</th>\n",
       "      <th>RECPGVG</th>\n",
       "      <th>RECSWEEP</th>\n",
       "      <th>HOMEOWNR</th>\n",
       "      <th>MAJOR</th>\n",
       "      <th>COLLECT1</th>\n",
       "      <th>VETERANS</th>\n",
       "      <th>BIBLE</th>\n",
       "      <th>...</th>\n",
       "      <th>PHOTO</th>\n",
       "      <th>CRAFTS</th>\n",
       "      <th>FISHER</th>\n",
       "      <th>GARDENIN</th>\n",
       "      <th>BOATS</th>\n",
       "      <th>WALKER</th>\n",
       "      <th>KIDSTUFF</th>\n",
       "      <th>CARDS</th>\n",
       "      <th>PLATES</th>\n",
       "      <th>PEPSTRFL</th>\n",
       "    </tr>\n",
       "  </thead>\n",
       "  <tbody>\n",
       "    <tr>\n",
       "      <th>count</th>\n",
       "      <td>95412</td>\n",
       "      <td>95412</td>\n",
       "      <td>95412</td>\n",
       "      <td>95412</td>\n",
       "      <td>95412</td>\n",
       "      <td>95412</td>\n",
       "      <td>95412</td>\n",
       "      <td>95412</td>\n",
       "      <td>95412</td>\n",
       "      <td>95412</td>\n",
       "      <td>...</td>\n",
       "      <td>95412</td>\n",
       "      <td>95412</td>\n",
       "      <td>95412</td>\n",
       "      <td>95412</td>\n",
       "      <td>95412</td>\n",
       "      <td>95412</td>\n",
       "      <td>95412</td>\n",
       "      <td>95412</td>\n",
       "      <td>95412</td>\n",
       "      <td>95412</td>\n",
       "    </tr>\n",
       "    <tr>\n",
       "      <th>unique</th>\n",
       "      <td>1</td>\n",
       "      <td>1</td>\n",
       "      <td>1</td>\n",
       "      <td>1</td>\n",
       "      <td>1</td>\n",
       "      <td>1</td>\n",
       "      <td>1</td>\n",
       "      <td>1</td>\n",
       "      <td>1</td>\n",
       "      <td>1</td>\n",
       "      <td>...</td>\n",
       "      <td>1</td>\n",
       "      <td>1</td>\n",
       "      <td>1</td>\n",
       "      <td>1</td>\n",
       "      <td>1</td>\n",
       "      <td>1</td>\n",
       "      <td>1</td>\n",
       "      <td>1</td>\n",
       "      <td>1</td>\n",
       "      <td>2</td>\n",
       "    </tr>\n",
       "    <tr>\n",
       "      <th>top</th>\n",
       "      <td>False</td>\n",
       "      <td>False</td>\n",
       "      <td>False</td>\n",
       "      <td>False</td>\n",
       "      <td>False</td>\n",
       "      <td>False</td>\n",
       "      <td>False</td>\n",
       "      <td>False</td>\n",
       "      <td>False</td>\n",
       "      <td>False</td>\n",
       "      <td>...</td>\n",
       "      <td>False</td>\n",
       "      <td>False</td>\n",
       "      <td>False</td>\n",
       "      <td>False</td>\n",
       "      <td>False</td>\n",
       "      <td>False</td>\n",
       "      <td>False</td>\n",
       "      <td>False</td>\n",
       "      <td>False</td>\n",
       "      <td>False</td>\n",
       "    </tr>\n",
       "    <tr>\n",
       "      <th>freq</th>\n",
       "      <td>95412</td>\n",
       "      <td>95412</td>\n",
       "      <td>95412</td>\n",
       "      <td>95412</td>\n",
       "      <td>95412</td>\n",
       "      <td>95412</td>\n",
       "      <td>95412</td>\n",
       "      <td>95412</td>\n",
       "      <td>95412</td>\n",
       "      <td>95412</td>\n",
       "      <td>...</td>\n",
       "      <td>95412</td>\n",
       "      <td>95412</td>\n",
       "      <td>95412</td>\n",
       "      <td>95412</td>\n",
       "      <td>95412</td>\n",
       "      <td>95412</td>\n",
       "      <td>95412</td>\n",
       "      <td>95412</td>\n",
       "      <td>95412</td>\n",
       "      <td>50143</td>\n",
       "    </tr>\n",
       "  </tbody>\n",
       "</table>\n",
       "<p>4 rows × 26 columns</p>\n",
       "</div>"
      ],
      "text/plain": [
       "       NOEXCH RECINHSE  RECP3 RECPGVG RECSWEEP HOMEOWNR  MAJOR COLLECT1  \\\n",
       "count   95412    95412  95412   95412    95412    95412  95412    95412   \n",
       "unique      1        1      1       1        1        1      1        1   \n",
       "top     False    False  False   False    False    False  False    False   \n",
       "freq    95412    95412  95412   95412    95412    95412  95412    95412   \n",
       "\n",
       "       VETERANS  BIBLE   ...     PHOTO CRAFTS FISHER GARDENIN  BOATS WALKER  \\\n",
       "count     95412  95412   ...     95412  95412  95412    95412  95412  95412   \n",
       "unique        1      1   ...         1      1      1        1      1      1   \n",
       "top       False  False   ...     False  False  False    False  False  False   \n",
       "freq      95412  95412   ...     95412  95412  95412    95412  95412  95412   \n",
       "\n",
       "       KIDSTUFF  CARDS PLATES PEPSTRFL  \n",
       "count     95412  95412  95412    95412  \n",
       "unique        1      1      1        2  \n",
       "top       False  False  False    False  \n",
       "freq      95412  95412  95412    50143  \n",
       "\n",
       "[4 rows x 26 columns]"
      ]
     },
     "execution_count": 7,
     "metadata": {},
     "output_type": "execute_result"
    }
   ],
   "source": [
    "bool_cols.describe()"
   ]
  },
  {
   "cell_type": "markdown",
   "metadata": {},
   "source": [
    "Is this a processing problem? Check raw data!"
   ]
  },
  {
   "cell_type": "code",
   "execution_count": null,
   "metadata": {},
   "outputs": [],
   "source": [
    "raw = lrn.get_raw_data()"
   ]
  },
  {
   "cell_type": "code",
   "execution_count": null,
   "metadata": {},
   "outputs": [],
   "source": [
    "raw.info()"
   ]
  },
  {
   "cell_type": "code",
   "execution_count": null,
   "metadata": {},
   "outputs": [],
   "source": [
    "raw[empty_cols]"
   ]
  },
  {
   "cell_type": "code",
   "execution_count": null,
   "metadata": {},
   "outputs": [],
   "source": [
    "set(raw[\"RECPGVG\"])"
   ]
  },
  {
   "cell_type": "code",
   "execution_count": null,
   "metadata": {},
   "outputs": [],
   "source": [
    "set(learning[\"NOEXCH\"])"
   ]
  },
  {
   "cell_type": "code",
   "execution_count": null,
   "metadata": {},
   "outputs": [],
   "source": [
    "set(object_cols.HOMEOWNR)"
   ]
  },
  {
   "cell_type": "markdown",
   "metadata": {},
   "source": [
    "The title code is a categorical field. It may be helpful to transform the code to the actual titles. However, as is seen below, several of the codes present in the data are not in the dictionary, leaving only the option to set these to empty, which would result in a loss of information. The numerical levels are therefore kept."
   ]
  },
  {
   "cell_type": "code",
   "execution_count": null,
   "metadata": {},
   "outputs": [],
   "source": [
    "learning.info()"
   ]
  },
  {
   "cell_type": "code",
   "execution_count": null,
   "metadata": {},
   "outputs": [],
   "source": [
    "tcode_categories = {\n",
    "        0: \"_\",\n",
    "        1: \"MR.\",\n",
    "        1001: \"MESSRS.\",\n",
    "        1002: \"MR. & MRS.\",\n",
    "        2: \"MRS.\",\n",
    "        2002: \"MESDAMES\",\n",
    "        3: \"MISS\",\n",
    "        3003: \"MISSES\",\n",
    "        4: \"DR.\",\n",
    "        4002: \"DR. & MRS.\",\n",
    "        4004: \"DOCTORS\",\n",
    "        5: \"MADAME\",\n",
    "        6: \"SERGEANT\",\n",
    "        9: \"RABBI\",\n",
    "        10: \"PROFESSOR\",\n",
    "        10002: \"PROFESSOR & MRS.\",\n",
    "        10010: \"PROFESSORS\",\n",
    "        11: \"ADMIRAL\",\n",
    "        11002: \"ADMIRAL & MRS.\",\n",
    "        12: \"GENERAL\",\n",
    "        12002: \"GENERAL & MRS.\",\n",
    "        13: \"COLONEL\",\n",
    "        13002: \"COLONEL & MRS.\",\n",
    "        14: \"CAPTAIN\",\n",
    "        14002: \"CAPTAIN & MRS.\",\n",
    "        15: \"COMMANDER\",\n",
    "        15002: \"COMMANDER & MRS.\",\n",
    "        16: \"DEAN\",\n",
    "        17: \"JUDGE\",\n",
    "        17002: \"JUDGE & MRS.\",\n",
    "        18: \"MAJOR\",\n",
    "        18002: \"MAJOR & MRS.\",\n",
    "        19: \"SENATOR\",\n",
    "        20: \"GOVERNOR\",\n",
    "        21002: \"SERGEANT & MRS.\",\n",
    "        22002: \"COLNEL & MRS.\",\n",
    "        24: \"LIEUTENANT\",\n",
    "        26: \"MONSIGNOR\",\n",
    "        27: \"REVEREND\",\n",
    "        28: \"MS.\",\n",
    "        28028: \"MSS.\",\n",
    "        29: \"BISHOP\",\n",
    "        31: \"AMBASSADOR\",\n",
    "        31002: \"AMBASSADOR & MRS.\",\n",
    "        33: \"CANTOR\",\n",
    "        36: \"BROTHER\",\n",
    "        37: \"SIR\",\n",
    "        38: \"COMMODORE\",\n",
    "        40: \"FATHER\",\n",
    "        42: \"SISTER\",\n",
    "        43: \"PRESIDENT\",\n",
    "        44: \"MASTER\",\n",
    "        46: \"MOTHER\",\n",
    "        47: \"CHAPLAIN\",\n",
    "        48: \"CORPORAL\",\n",
    "        50: \"ELDER\",\n",
    "        56: \"MAYOR\",\n",
    "        59002: \"LIEUTENANT & MRS.\",\n",
    "        62: \"LORD\",\n",
    "        63: \"CARDINAL\",\n",
    "        64: \"FRIEND\",\n",
    "        65: \"FRIENDS\",\n",
    "        68: \"ARCHDEACON\",\n",
    "        69: \"CANON\",\n",
    "        70: \"BISHOP\",\n",
    "        72002: \"REVEREND & MRS.\",\n",
    "        73: \"PASTOR\",\n",
    "        75: \"ARCHBISHOP\",\n",
    "        85: \"SPECIALIST\",\n",
    "        87: \"PRIVATE\",\n",
    "        89: \"SEAMAN\",\n",
    "        90: \"AIRMAN\",\n",
    "        91: \"JUSTICE\",\n",
    "        92: \"MR. JUSTICE\",\n",
    "        100: \"M.\",\n",
    "        103: \"MLLE.\",\n",
    "        104: \"CHANCELLOR\",\n",
    "        106: \"REPRESENTATIVE\",\n",
    "        107: \"SECRETARY\",\n",
    "        108: \"LT. GOVERNOR\",\n",
    "        109: \"LIC.\",\n",
    "        111: \"SA.\",\n",
    "        114: \"DA.\",\n",
    "        116: \"SR.\",\n",
    "        117: \"SRA.\",\n",
    "        118: \"SRTA.\",\n",
    "        120: \"YOUR MAJESTY\",\n",
    "        122: \"HIS HIGHNESS\",\n",
    "        123: \"HER HIGHNESS\",\n",
    "        124: \"COUNT\",\n",
    "        125: \"LADY\",\n",
    "        126: \"PRINCE\",\n",
    "        127: \"PRINCESS\",\n",
    "        128: \"CHIEF\",\n",
    "        129: \"BARON\",\n",
    "        130: \"SHEIK\",\n",
    "        131: \"PRINCE AND PRINCESS\",\n",
    "        132: \"YOUR IMPERIAL MAJEST\",\n",
    "        135: \"M. ET MME.\",\n",
    "        210: \"PROF.\"}"
   ]
  },
  {
   "cell_type": "code",
   "execution_count": null,
   "metadata": {},
   "outputs": [],
   "source": [
    "new_cats = {str(k):str(v) for k,v in tcode_categories.items()}\n",
    "new_cats\n",
    "def set_new_tcode(old):\n",
    "    if old in new_cats:\n",
    "        return new_cats[old]\n",
    "    else:\n",
    "        return new_cats['0']\n",
    "    \n",
    "temp = learning.TCODE.cat.rename_categories(new_categories=new_cats)\n",
    "temp.cat.categories"
   ]
  },
  {
   "cell_type": "markdown",
   "metadata": {},
   "source": [
    "# Feature Extraction\n",
    "All explanatory fields have to be numerical for the subsequent operations with scikit-learn. Here, the necessary feature extractions are performed.\n",
    "\n",
    "See [scikit-learn: feature extraction](http://scikit-learn.org/stable/modules/feature_extraction.html)"
   ]
  },
  {
   "cell_type": "code",
   "execution_count": null,
   "metadata": {},
   "outputs": [],
   "source": [
    "learning.dtypes"
   ]
  },
  {
   "cell_type": "code",
   "execution_count": null,
   "metadata": {},
   "outputs": [],
   "source": []
  },
  {
   "cell_type": "markdown",
   "metadata": {},
   "source": [
    "# Feature Selection\n",
    "Meant to reduce dimensionality by selecting only features that are 'interesting enough' to be considered in order to boost performance of calculations / improve accuracy of the estimator\n",
    "- By variance threshold\n",
    "- Recursive Feature Elimination by Cross-Validation\n",
    "- L1-based feature selection (Logistic Regression, Lasso, SVM)\n",
    "- Tree-based feature selection\n",
    "\n",
    "See [scikit-learn: feature selection](http://scikit-learn.org/stable/modules/feature_selection.html#feature-selection)\n"
   ]
  },
  {
   "cell_type": "markdown",
   "metadata": {},
   "source": [
    "# PCA\n",
    "\n",
    "A first look at important features"
   ]
  },
  {
   "cell_type": "code",
   "execution_count": null,
   "metadata": {},
   "outputs": [],
   "source": [
    "from sklearn import decomposition"
   ]
  },
  {
   "cell_type": "code",
   "execution_count": null,
   "metadata": {},
   "outputs": [],
   "source": [
    "X = learning.drop([\"TARGET_B\",\"TARGET_D\"],axis=1)"
   ]
  },
  {
   "cell_type": "code",
   "execution_count": null,
   "metadata": {},
   "outputs": [],
   "source": [
    "n_comp = 3\n",
    "pca = decomposition.PCA(n_components = n_comp)\n",
    "pca.fit(X)\n",
    "result = pd.DataFrame(pca.transform(X), columns=[\"PCA%i\" % i for i in range(n_comp)], index=X.index)"
   ]
  },
  {
   "cell_type": "code",
   "execution_count": null,
   "metadata": {
    "scrolled": false
   },
   "outputs": [],
   "source": [
    "import cProfile\n",
    "domain_spreader = tds.SymbolicFieldToDummies(learning,\"RFA_24\",[\"Recency\", \"Frequency\", \"Amount\"])\n",
    "cProfile.run('domain_spreader.spread()', sort='time')"
   ]
  },
  {
   "cell_type": "code",
   "execution_count": null,
   "metadata": {},
   "outputs": [],
   "source": [
    "learning.head()"
   ]
  },
  {
   "cell_type": "code",
   "execution_count": null,
   "metadata": {},
   "outputs": [],
   "source": [
    "import os\n",
    "import numpy as np\n",
    "import sys\n",
    "os.getcwd()\n",
    "proj_dir = os.path.split(os.getcwd())[0]\n",
    "if proj_dir not in sys.path:\n",
    "    sys.path.append(proj_dir)"
   ]
  },
  {
   "cell_type": "code",
   "execution_count": null,
   "metadata": {},
   "outputs": [],
   "source": [
    "import eda.tidy_dataset as tds\n",
    "tidy = tds.TidyDataset(\"cup98LRN.txt\")"
   ]
  },
  {
   "cell_type": "code",
   "execution_count": null,
   "metadata": {},
   "outputs": [],
   "source": [
    "raw = tidy.get_raw_data()"
   ]
  },
  {
   "cell_type": "code",
   "execution_count": null,
   "metadata": {},
   "outputs": [],
   "source": [
    "spreader = tds.SymbolicFieldToDummies(\n",
    "    raw, \"RFA_24\", [\"Recency\", \"Frequency\", \"Amount\"])\n",
    "spreader.spread()"
   ]
  },
  {
   "cell_type": "code",
   "execution_count": null,
   "metadata": {},
   "outputs": [],
   "source": []
  }
 ],
 "metadata": {
  "kernelspec": {
   "display_name": "Python 3",
   "language": "python",
   "name": "python3"
  },
  "language_info": {
   "codemirror_mode": {
    "name": "ipython",
    "version": 3
   },
   "file_extension": ".py",
   "mimetype": "text/x-python",
   "name": "python",
   "nbconvert_exporter": "python",
   "pygments_lexer": "ipython3",
   "version": "3.6.6"
  }
 },
 "nbformat": 4,
 "nbformat_minor": 2
}
