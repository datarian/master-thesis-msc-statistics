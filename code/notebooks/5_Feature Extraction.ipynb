{
 "cells": [
  {
   "cell_type": "code",
   "execution_count": 1,
   "metadata": {
    "init_cell": true,
    "scrolled": true
   },
   "outputs": [],
   "source": [
    "%load_ext autoreload"
   ]
  },
  {
   "cell_type": "code",
   "execution_count": 2,
   "metadata": {
    "init_cell": true
   },
   "outputs": [
    {
     "name": "stderr",
     "output_type": "stream",
     "text": [
      "/data/anaconda/envs/py36/lib/python3.6/site-packages/sklearn/externals/six.py:31: DeprecationWarning: The module is deprecated in version 0.21 and will be removed in version 0.23 since we've dropped support for Python 2.7. Please rely on the official version of six (https://pypi.org/project/six/).\n",
      "  \"(https://pypi.org/project/six/).\", DeprecationWarning)\n",
      "/data/anaconda/envs/py36/lib/python3.6/site-packages/sklearn/externals/joblib/__init__.py:15: DeprecationWarning: sklearn.externals.joblib is deprecated in 0.21 and will be removed in 0.23. Please import this functionality directly from joblib, which can be installed with: pip install joblib. If this warning is raised when loading pickled models, you may need to re-serialize those models with scikit-learn 0.21+.\n",
      "  warnings.warn(msg, category=DeprecationWarning)\n"
     ]
    },
    {
     "data": {
      "text/plain": [
       "<Figure size 432x288 with 0 Axes>"
      ]
     },
     "metadata": {},
     "output_type": "display_data"
    },
    {
     "name": "stdout",
     "output_type": "stream",
     "text": [
      "Setup logging to file: out.log\n",
      "Figure output directory saved in figure_output at /home/datarian/OneDrive/unine/Master_Thesis/ma-thesis-report/figures\n",
      " cwd: /data/home/datarian/git/master-thesis-msc-statistics/code\n"
     ]
    }
   ],
   "source": [
    "%run \"./common_init.ipynb\""
   ]
  },
  {
   "cell_type": "code",
   "execution_count": 3,
   "metadata": {
    "init_cell": true
   },
   "outputs": [
    {
     "name": "stderr",
     "output_type": "stream",
     "text": [
      "Using TensorFlow backend.\n"
     ]
    }
   ],
   "source": [
    "%autoreload 2\n",
    "import pandas as pd\n",
    "import seaborn as sns\n",
    "import matplotlib as mpl\n",
    "import matplotlib.pyplot as plt\n",
    "\n",
    "# Load custom code\n",
    "import kdd98.data_handler as dh\n",
    "from kdd98.config import Config\n",
    "import pickle"
   ]
  },
  {
   "cell_type": "code",
   "execution_count": 4,
   "metadata": {
    "init_cell": true
   },
   "outputs": [],
   "source": [
    "PROJECT_ROOT_DIR = \"../../\"\n",
    "CHAPTER_ID = \"feature_extraction\"\n",
    "IMAGES_PATH = os.path.join(PROJECT_ROOT_DIR, \"figures\", CHAPTER_ID)\n",
    "\n",
    "if not os.path.exists(IMAGES_PATH):\n",
    "    os.makedirs(IMAGES_PATH)\n",
    "\n",
    "def save_fig(fig_id, tight_layout=True, fig_extension=[\"pdf\", \"png\"], resolution=300):\n",
    "    if tight_layout:\n",
    "        plt.tight_layout()\n",
    "    [plt.savefig(pathlib.Path(IMAGES_PATH, fig_id + \".\" + f), \n",
    "                 format=f,\n",
    "                 dpi=resolution,\n",
    "                 transparent=True,\n",
    "                 bbox_inches='tight') for f in fig_extension]"
   ]
  },
  {
   "cell_type": "code",
   "execution_count": 5,
   "metadata": {
    "init_cell": true
   },
   "outputs": [],
   "source": [
    "data_provider = dh.KDD98DataProvider(\"cup98LRN.txt\")"
   ]
  },
  {
   "cell_type": "markdown",
   "metadata": {},
   "source": [
    "Before encoding categorical features"
   ]
  },
  {
   "cell_type": "code",
   "execution_count": 6,
   "metadata": {
    "init_cell": true
   },
   "outputs": [],
   "source": [
    "cleaned = data_provider.cleaned_data"
   ]
  },
  {
   "cell_type": "markdown",
   "metadata": {},
   "source": [
    "With onehot / binary encoded categories and other feature engineering (zip codes to coordinates, etc.)"
   ]
  },
  {
   "cell_type": "code",
   "execution_count": 7,
   "metadata": {
    "init_cell": true
   },
   "outputs": [],
   "source": [
    "numeric = data_provider.numeric_data"
   ]
  },
  {
   "cell_type": "markdown",
   "metadata": {},
   "source": [
    "## Finding relevant features"
   ]
  },
  {
   "cell_type": "code",
   "execution_count": 8,
   "metadata": {},
   "outputs": [],
   "source": [
    "Xy = data_provider.imputed_data"
   ]
  },
  {
   "cell_type": "code",
   "execution_count": 9,
   "metadata": {},
   "outputs": [
    {
     "data": {
      "text/html": [
       "<div>\n",
       "<style scoped>\n",
       "    .dataframe tbody tr th:only-of-type {\n",
       "        vertical-align: middle;\n",
       "    }\n",
       "\n",
       "    .dataframe tbody tr th {\n",
       "        vertical-align: top;\n",
       "    }\n",
       "\n",
       "    .dataframe thead th {\n",
       "        text-align: right;\n",
       "    }\n",
       "</style>\n",
       "<table border=\"1\" class=\"dataframe\">\n",
       "  <thead>\n",
       "    <tr style=\"text-align: right;\">\n",
       "      <th></th>\n",
       "      <th>RECINHSE</th>\n",
       "      <th>AGE</th>\n",
       "      <th>AGEFLAG</th>\n",
       "      <th>HOMEOWNR</th>\n",
       "      <th>NUMCHLD</th>\n",
       "      <th>INCOME</th>\n",
       "      <th>WEALTH1</th>\n",
       "      <th>HIT</th>\n",
       "      <th>MBCRAFT</th>\n",
       "      <th>MBBOOKS</th>\n",
       "      <th>...</th>\n",
       "      <th>RFA_24R_P</th>\n",
       "      <th>RFA_24R_S</th>\n",
       "      <th>RFA_24R_U</th>\n",
       "      <th>RFA_24R_nan</th>\n",
       "      <th>DOMAINUrbanicity_C</th>\n",
       "      <th>DOMAINUrbanicity_R</th>\n",
       "      <th>DOMAINUrbanicity_S</th>\n",
       "      <th>DOMAINUrbanicity_T</th>\n",
       "      <th>DOMAINUrbanicity_U</th>\n",
       "      <th>DOMAINUrbanicity_nan</th>\n",
       "    </tr>\n",
       "  </thead>\n",
       "  <tbody>\n",
       "    <tr>\n",
       "      <th>count</th>\n",
       "      <td>95412.000000</td>\n",
       "      <td>95412.000000</td>\n",
       "      <td>95412.000000</td>\n",
       "      <td>95412.000000</td>\n",
       "      <td>95412.000000</td>\n",
       "      <td>95412.000000</td>\n",
       "      <td>95412.000000</td>\n",
       "      <td>95412.000000</td>\n",
       "      <td>95412.000000</td>\n",
       "      <td>95412.000000</td>\n",
       "      <td>...</td>\n",
       "      <td>95412.000000</td>\n",
       "      <td>95412.000000</td>\n",
       "      <td>95412.000000</td>\n",
       "      <td>95412.000000</td>\n",
       "      <td>95412.000000</td>\n",
       "      <td>95412.000000</td>\n",
       "      <td>95412.000000</td>\n",
       "      <td>95412.000000</td>\n",
       "      <td>95412.000000</td>\n",
       "      <td>95412.000000</td>\n",
       "    </tr>\n",
       "    <tr>\n",
       "      <th>mean</th>\n",
       "      <td>0.070253</td>\n",
       "      <td>61.707972</td>\n",
       "      <td>0.910703</td>\n",
       "      <td>0.781684</td>\n",
       "      <td>1.068513</td>\n",
       "      <td>3.911625</td>\n",
       "      <td>6.652455</td>\n",
       "      <td>3.321438</td>\n",
       "      <td>0.067832</td>\n",
       "      <td>0.497956</td>\n",
       "      <td>...</td>\n",
       "      <td>0.009831</td>\n",
       "      <td>0.149583</td>\n",
       "      <td>0.000262</td>\n",
       "      <td>0.387509</td>\n",
       "      <td>0.206358</td>\n",
       "      <td>0.207416</td>\n",
       "      <td>0.229782</td>\n",
       "      <td>0.204660</td>\n",
       "      <td>0.127510</td>\n",
       "      <td>0.024274</td>\n",
       "    </tr>\n",
       "    <tr>\n",
       "      <th>std</th>\n",
       "      <td>0.255575</td>\n",
       "      <td>14.451513</td>\n",
       "      <td>0.285173</td>\n",
       "      <td>0.413105</td>\n",
       "      <td>0.340549</td>\n",
       "      <td>1.635685</td>\n",
       "      <td>2.025250</td>\n",
       "      <td>9.306899</td>\n",
       "      <td>0.322884</td>\n",
       "      <td>1.245737</td>\n",
       "      <td>...</td>\n",
       "      <td>0.098664</td>\n",
       "      <td>0.356664</td>\n",
       "      <td>0.016185</td>\n",
       "      <td>0.487184</td>\n",
       "      <td>0.404692</td>\n",
       "      <td>0.405458</td>\n",
       "      <td>0.420695</td>\n",
       "      <td>0.403455</td>\n",
       "      <td>0.333545</td>\n",
       "      <td>0.153898</td>\n",
       "    </tr>\n",
       "    <tr>\n",
       "      <th>min</th>\n",
       "      <td>0.000000</td>\n",
       "      <td>1.000000</td>\n",
       "      <td>0.000000</td>\n",
       "      <td>0.000000</td>\n",
       "      <td>1.000000</td>\n",
       "      <td>1.000000</td>\n",
       "      <td>1.000000</td>\n",
       "      <td>0.000000</td>\n",
       "      <td>0.000000</td>\n",
       "      <td>0.000000</td>\n",
       "      <td>...</td>\n",
       "      <td>0.000000</td>\n",
       "      <td>0.000000</td>\n",
       "      <td>0.000000</td>\n",
       "      <td>0.000000</td>\n",
       "      <td>0.000000</td>\n",
       "      <td>0.000000</td>\n",
       "      <td>0.000000</td>\n",
       "      <td>0.000000</td>\n",
       "      <td>0.000000</td>\n",
       "      <td>0.000000</td>\n",
       "    </tr>\n",
       "    <tr>\n",
       "      <th>25%</th>\n",
       "      <td>0.000000</td>\n",
       "      <td>52.000000</td>\n",
       "      <td>1.000000</td>\n",
       "      <td>1.000000</td>\n",
       "      <td>1.000000</td>\n",
       "      <td>3.000000</td>\n",
       "      <td>6.000000</td>\n",
       "      <td>0.000000</td>\n",
       "      <td>0.000000</td>\n",
       "      <td>0.000000</td>\n",
       "      <td>...</td>\n",
       "      <td>0.000000</td>\n",
       "      <td>0.000000</td>\n",
       "      <td>0.000000</td>\n",
       "      <td>0.000000</td>\n",
       "      <td>0.000000</td>\n",
       "      <td>0.000000</td>\n",
       "      <td>0.000000</td>\n",
       "      <td>0.000000</td>\n",
       "      <td>0.000000</td>\n",
       "      <td>0.000000</td>\n",
       "    </tr>\n",
       "    <tr>\n",
       "      <th>50%</th>\n",
       "      <td>0.000000</td>\n",
       "      <td>62.000000</td>\n",
       "      <td>1.000000</td>\n",
       "      <td>1.000000</td>\n",
       "      <td>1.000000</td>\n",
       "      <td>4.000000</td>\n",
       "      <td>7.000000</td>\n",
       "      <td>0.000000</td>\n",
       "      <td>0.000000</td>\n",
       "      <td>0.000000</td>\n",
       "      <td>...</td>\n",
       "      <td>0.000000</td>\n",
       "      <td>0.000000</td>\n",
       "      <td>0.000000</td>\n",
       "      <td>0.000000</td>\n",
       "      <td>0.000000</td>\n",
       "      <td>0.000000</td>\n",
       "      <td>0.000000</td>\n",
       "      <td>0.000000</td>\n",
       "      <td>0.000000</td>\n",
       "      <td>0.000000</td>\n",
       "    </tr>\n",
       "    <tr>\n",
       "      <th>75%</th>\n",
       "      <td>0.000000</td>\n",
       "      <td>71.000000</td>\n",
       "      <td>1.000000</td>\n",
       "      <td>1.000000</td>\n",
       "      <td>1.000000</td>\n",
       "      <td>5.000000</td>\n",
       "      <td>7.000000</td>\n",
       "      <td>3.000000</td>\n",
       "      <td>0.000000</td>\n",
       "      <td>0.000000</td>\n",
       "      <td>...</td>\n",
       "      <td>0.000000</td>\n",
       "      <td>0.000000</td>\n",
       "      <td>0.000000</td>\n",
       "      <td>1.000000</td>\n",
       "      <td>0.000000</td>\n",
       "      <td>0.000000</td>\n",
       "      <td>0.000000</td>\n",
       "      <td>0.000000</td>\n",
       "      <td>0.000000</td>\n",
       "      <td>0.000000</td>\n",
       "    </tr>\n",
       "    <tr>\n",
       "      <th>max</th>\n",
       "      <td>1.000000</td>\n",
       "      <td>98.000000</td>\n",
       "      <td>1.000000</td>\n",
       "      <td>1.000000</td>\n",
       "      <td>7.000000</td>\n",
       "      <td>7.000000</td>\n",
       "      <td>10.000000</td>\n",
       "      <td>241.000000</td>\n",
       "      <td>6.000000</td>\n",
       "      <td>9.000000</td>\n",
       "      <td>...</td>\n",
       "      <td>1.000000</td>\n",
       "      <td>1.000000</td>\n",
       "      <td>1.000000</td>\n",
       "      <td>1.000000</td>\n",
       "      <td>1.000000</td>\n",
       "      <td>1.000000</td>\n",
       "      <td>1.000000</td>\n",
       "      <td>1.000000</td>\n",
       "      <td>1.000000</td>\n",
       "      <td>1.000000</td>\n",
       "    </tr>\n",
       "  </tbody>\n",
       "</table>\n",
       "<p>8 rows × 653 columns</p>\n",
       "</div>"
      ],
      "text/plain": [
       "           RECINHSE           AGE       AGEFLAG      HOMEOWNR       NUMCHLD  \\\n",
       "count  95412.000000  95412.000000  95412.000000  95412.000000  95412.000000   \n",
       "mean       0.070253     61.707972      0.910703      0.781684      1.068513   \n",
       "std        0.255575     14.451513      0.285173      0.413105      0.340549   \n",
       "min        0.000000      1.000000      0.000000      0.000000      1.000000   \n",
       "25%        0.000000     52.000000      1.000000      1.000000      1.000000   \n",
       "50%        0.000000     62.000000      1.000000      1.000000      1.000000   \n",
       "75%        0.000000     71.000000      1.000000      1.000000      1.000000   \n",
       "max        1.000000     98.000000      1.000000      1.000000      7.000000   \n",
       "\n",
       "             INCOME       WEALTH1           HIT       MBCRAFT       MBBOOKS  \\\n",
       "count  95412.000000  95412.000000  95412.000000  95412.000000  95412.000000   \n",
       "mean       3.911625      6.652455      3.321438      0.067832      0.497956   \n",
       "std        1.635685      2.025250      9.306899      0.322884      1.245737   \n",
       "min        1.000000      1.000000      0.000000      0.000000      0.000000   \n",
       "25%        3.000000      6.000000      0.000000      0.000000      0.000000   \n",
       "50%        4.000000      7.000000      0.000000      0.000000      0.000000   \n",
       "75%        5.000000      7.000000      3.000000      0.000000      0.000000   \n",
       "max        7.000000     10.000000    241.000000      6.000000      9.000000   \n",
       "\n",
       "       ...     RFA_24R_P     RFA_24R_S     RFA_24R_U   RFA_24R_nan  \\\n",
       "count  ...  95412.000000  95412.000000  95412.000000  95412.000000   \n",
       "mean   ...      0.009831      0.149583      0.000262      0.387509   \n",
       "std    ...      0.098664      0.356664      0.016185      0.487184   \n",
       "min    ...      0.000000      0.000000      0.000000      0.000000   \n",
       "25%    ...      0.000000      0.000000      0.000000      0.000000   \n",
       "50%    ...      0.000000      0.000000      0.000000      0.000000   \n",
       "75%    ...      0.000000      0.000000      0.000000      1.000000   \n",
       "max    ...      1.000000      1.000000      1.000000      1.000000   \n",
       "\n",
       "       DOMAINUrbanicity_C  DOMAINUrbanicity_R  DOMAINUrbanicity_S  \\\n",
       "count        95412.000000        95412.000000        95412.000000   \n",
       "mean             0.206358            0.207416            0.229782   \n",
       "std              0.404692            0.405458            0.420695   \n",
       "min              0.000000            0.000000            0.000000   \n",
       "25%              0.000000            0.000000            0.000000   \n",
       "50%              0.000000            0.000000            0.000000   \n",
       "75%              0.000000            0.000000            0.000000   \n",
       "max              1.000000            1.000000            1.000000   \n",
       "\n",
       "       DOMAINUrbanicity_T  DOMAINUrbanicity_U  DOMAINUrbanicity_nan  \n",
       "count        95412.000000        95412.000000          95412.000000  \n",
       "mean             0.204660            0.127510              0.024274  \n",
       "std              0.403455            0.333545              0.153898  \n",
       "min              0.000000            0.000000              0.000000  \n",
       "25%              0.000000            0.000000              0.000000  \n",
       "50%              0.000000            0.000000              0.000000  \n",
       "75%              0.000000            0.000000              0.000000  \n",
       "max              1.000000            1.000000              1.000000  \n",
       "\n",
       "[8 rows x 653 columns]"
      ]
     },
     "execution_count": 9,
     "metadata": {},
     "output_type": "execute_result"
    }
   ],
   "source": [
    "Xy[\"data\"].describe()"
   ]
  },
  {
   "cell_type": "code",
   "execution_count": 10,
   "metadata": {},
   "outputs": [
    {
     "name": "stdout",
     "output_type": "stream",
     "text": [
      "<class 'pandas.core.frame.DataFrame'>\n",
      "Int64Index: 95412 entries, 95515 to 185114\n",
      "Data columns (total 2 columns):\n",
      "TARGET_B    95412 non-null int64\n",
      "TARGET_D    95412 non-null float64\n",
      "dtypes: float64(1), int64(1)\n",
      "memory usage: 2.2 MB\n"
     ]
    }
   ],
   "source": [
    "Xy[\"targets\"].info()"
   ]
  },
  {
   "cell_type": "markdown",
   "metadata": {},
   "source": [
    "### Boruta"
   ]
  },
  {
   "cell_type": "code",
   "execution_count": 11,
   "metadata": {},
   "outputs": [],
   "source": [
    "from boruta import BorutaPy\n",
    "from sklearn.ensemble import RandomForestClassifier"
   ]
  },
  {
   "cell_type": "code",
   "execution_count": 12,
   "metadata": {},
   "outputs": [
    {
     "name": "stdout",
     "output_type": "stream",
     "text": [
      "Help on class BorutaPy in module boruta.boruta_py:\n",
      "\n",
      "class BorutaPy(sklearn.base.BaseEstimator, sklearn.base.TransformerMixin)\n",
      " |  Improved Python implementation of the Boruta R package.\n",
      " |  \n",
      " |  The improvements of this implementation include:\n",
      " |  - Faster run times:\n",
      " |      Thanks to scikit-learn's fast implementation of the ensemble methods.\n",
      " |  - Scikit-learn like interface:\n",
      " |      Use BorutaPy just like any other scikit learner: fit, fit_transform and\n",
      " |      transform are all implemented in a similar fashion.\n",
      " |  - Modularity:\n",
      " |      Any ensemble method could be used: random forest, extra trees\n",
      " |      classifier, even gradient boosted trees.\n",
      " |  - Two step correction:\n",
      " |      The original Boruta code corrects for multiple testing in an overly\n",
      " |      conservative way. In this implementation, the Benjamini Hochberg FDR is\n",
      " |      used to correct in each iteration across active features. This means\n",
      " |      only those features are included in the correction which are still in\n",
      " |      the selection process. Following this, each that passed goes through a\n",
      " |      regular Bonferroni correction to check for the repeated testing over\n",
      " |      the iterations.\n",
      " |  - Percentile:\n",
      " |      Instead of using the max values of the shadow features the user can\n",
      " |      specify which percentile to use. This gives a finer control over this\n",
      " |      crucial parameter. For more info, please read about the perc parameter.\n",
      " |  - Automatic tree number:\n",
      " |      Setting the n_estimator to 'auto' will calculate the number of trees\n",
      " |      in each itartion based on the number of features under investigation.\n",
      " |      This way more trees are used when the training data has many feautres\n",
      " |      and less when most of the features have been rejected.\n",
      " |  - Ranking of features:\n",
      " |      After fitting BorutaPy it provides the user with ranking of features.\n",
      " |      Confirmed ones are 1, Tentatives are 2, and the rejected are ranked\n",
      " |      starting from 3, based on their feautre importance history through\n",
      " |      the iterations.\n",
      " |  \n",
      " |  We highly recommend using pruned trees with a depth between 3-7.\n",
      " |  \n",
      " |  For more, see the docs of these functions, and the examples below.\n",
      " |  \n",
      " |  Original code and method by: Miron B Kursa, https://m2.icm.edu.pl/boruta/\n",
      " |  \n",
      " |  Boruta is an all relevant feature selection method, while most other are\n",
      " |  minimal optimal; this means it tries to find all features carrying\n",
      " |  information usable for prediction, rather than finding a possibly compact\n",
      " |  subset of features on which some classifier has a minimal error.\n",
      " |  \n",
      " |  Why bother with all relevant feature selection?\n",
      " |  When you try to understand the phenomenon that made your data, you should\n",
      " |  care about all factors that contribute to it, not just the bluntest signs\n",
      " |  of it in context of your methodology (yes, minimal optimal set of features\n",
      " |  by definition depends on your classifier choice).\n",
      " |  \n",
      " |  Parameters\n",
      " |  ----------\n",
      " |  \n",
      " |  estimator : object\n",
      " |      A supervised learning estimator, with a 'fit' method that returns the\n",
      " |      feature_importances_ attribute. Important features must correspond to\n",
      " |      high absolute values in the feature_importances_.\n",
      " |  \n",
      " |  n_estimators : int or string, default = 1000\n",
      " |      If int sets the number of estimators in the chosen ensemble method.\n",
      " |      If 'auto' this is determined automatically based on the size of the\n",
      " |      dataset. The other parameters of the used estimators need to be set\n",
      " |      with initialisation.\n",
      " |  \n",
      " |  perc : int, default = 100\n",
      " |      Instead of the max we use the percentile defined by the user, to pick\n",
      " |      our threshold for comparison between shadow and real features. The max\n",
      " |      tend to be too stringent. This provides a finer control over this. The\n",
      " |      lower perc is the more false positives will be picked as relevant but\n",
      " |      also the less relevant features will be left out. The usual trade-off.\n",
      " |      The default is essentially the vanilla Boruta corresponding to the max.\n",
      " |  \n",
      " |  alpha : float, default = 0.05\n",
      " |      Level at which the corrected p-values will get rejected in both\n",
      " |      correction steps.\n",
      " |  \n",
      " |  two_step : Boolean, default = True\n",
      " |      If you want to use the original implementation of Boruta with Bonferroni\n",
      " |      correction only set this to False.\n",
      " |  \n",
      " |  max_iter : int, default = 100\n",
      " |      The number of maximum iterations to perform.\n",
      " |  \n",
      " |  random_state : int, RandomState instance or None; default=None\n",
      " |      If int, random_state is the seed used by the random number generator;\n",
      " |      If RandomState instance, random_state is the random number generator;\n",
      " |      If None, the random number generator is the RandomState instance used\n",
      " |      by `np.random`.\n",
      " |  \n",
      " |  verbose : int, default=0\n",
      " |      Controls verbosity of output:\n",
      " |      - 0: no output\n",
      " |      - 1: displays iteration number\n",
      " |      - 2: which features have been selected already\n",
      " |  \n",
      " |  Attributes\n",
      " |  ----------\n",
      " |  \n",
      " |  n_features_ : int\n",
      " |      The number of selected features.\n",
      " |  \n",
      " |  support_ : array of shape [n_features]\n",
      " |  \n",
      " |      The mask of selected features - only confirmed ones are True.\n",
      " |  \n",
      " |  support_weak_ : array of shape [n_features]\n",
      " |  \n",
      " |      The mask of selected tentative features, which haven't gained enough\n",
      " |      support during the max_iter number of iterations..\n",
      " |  \n",
      " |  ranking_ : array of shape [n_features]\n",
      " |  \n",
      " |      The feature ranking, such that ``ranking_[i]`` corresponds to the\n",
      " |      ranking position of the i-th feature. Selected (i.e., estimated\n",
      " |      best) features are assigned rank 1 and tentative features are assigned\n",
      " |      rank 2.\n",
      " |  \n",
      " |  Examples\n",
      " |  --------\n",
      " |  \n",
      " |  import pandas as pd\n",
      " |  from sklearn.ensemble import RandomForestClassifier\n",
      " |  from boruta import BorutaPy\n",
      " |  \n",
      " |  # load X and y\n",
      " |  # NOTE BorutaPy accepts numpy arrays only, hence the .values attribute\n",
      " |  X = pd.read_csv('examples/test_X.csv', index_col=0).values\n",
      " |  y = pd.read_csv('examples/test_y.csv', header=None, index_col=0).values\n",
      " |  y = y.ravel()\n",
      " |  \n",
      " |  # define random forest classifier, with utilising all cores and\n",
      " |  # sampling in proportion to y labels\n",
      " |  rf = RandomForestClassifier(n_jobs=-1, class_weight='auto', max_depth=5)\n",
      " |  \n",
      " |  # define Boruta feature selection method\n",
      " |  feat_selector = BorutaPy(rf, n_estimators='auto', verbose=2, random_state=1)\n",
      " |  \n",
      " |  # find all relevant features - 5 features should be selected\n",
      " |  feat_selector.fit(X, y)\n",
      " |  \n",
      " |  # check selected features - first 5 features are selected\n",
      " |  feat_selector.support_\n",
      " |  \n",
      " |  # check ranking of features\n",
      " |  feat_selector.ranking_\n",
      " |  \n",
      " |  # call transform() on X to filter it down to selected features\n",
      " |  X_filtered = feat_selector.transform(X)\n",
      " |  \n",
      " |  References\n",
      " |  ----------\n",
      " |  \n",
      " |  [1] Kursa M., Rudnicki W., \"Feature Selection with the Boruta Package\"\n",
      " |      Journal of Statistical Software, Vol. 36, Issue 11, Sep 2010\n",
      " |  \n",
      " |  Method resolution order:\n",
      " |      BorutaPy\n",
      " |      sklearn.base.BaseEstimator\n",
      " |      sklearn.base.TransformerMixin\n",
      " |      builtins.object\n",
      " |  \n",
      " |  Methods defined here:\n",
      " |  \n",
      " |  __init__(self, estimator, n_estimators=1000, perc=100, alpha=0.05, two_step=True, max_iter=100, random_state=None, verbose=0)\n",
      " |      Initialize self.  See help(type(self)) for accurate signature.\n",
      " |  \n",
      " |  fit(self, X, y)\n",
      " |      Fits the Boruta feature selection with the provided estimator.\n",
      " |      \n",
      " |      Parameters\n",
      " |      ----------\n",
      " |      X : array-like, shape = [n_samples, n_features]\n",
      " |          The training input samples.\n",
      " |      \n",
      " |      y : array-like, shape = [n_samples]\n",
      " |          The target values.\n",
      " |  \n",
      " |  fit_transform(self, X, y, weak=False)\n",
      " |      Fits Boruta, then reduces the input X to the selected features.\n",
      " |      \n",
      " |      Parameters\n",
      " |      ----------\n",
      " |      X : array-like, shape = [n_samples, n_features]\n",
      " |          The training input samples.\n",
      " |      \n",
      " |      y : array-like, shape = [n_samples]\n",
      " |          The target values.\n",
      " |      \n",
      " |      weak: boolean, default = False\n",
      " |          If set to true, the tentative features are also used to reduce X.\n",
      " |      \n",
      " |      Returns\n",
      " |      -------\n",
      " |      X : array-like, shape = [n_samples, n_features_]\n",
      " |          The input matrix X's columns are reduced to the features which were\n",
      " |          selected by Boruta.\n",
      " |  \n",
      " |  transform(self, X, weak=False)\n",
      " |      Reduces the input X to the features selected by Boruta.\n",
      " |      \n",
      " |      Parameters\n",
      " |      ----------\n",
      " |      X : array-like, shape = [n_samples, n_features]\n",
      " |          The training input samples.\n",
      " |      \n",
      " |      weak: boolean, default = False\n",
      " |          If set to true, the tentative features are also used to reduce X.\n",
      " |      \n",
      " |      Returns\n",
      " |      -------\n",
      " |      X : array-like, shape = [n_samples, n_features_]\n",
      " |          The input matrix X's columns are reduced to the features which were\n",
      " |          selected by Boruta.\n",
      " |  \n",
      " |  ----------------------------------------------------------------------\n",
      " |  Methods inherited from sklearn.base.BaseEstimator:\n",
      " |  \n",
      " |  __getstate__(self)\n",
      " |  \n",
      " |  __repr__(self, N_CHAR_MAX=700)\n",
      " |      Return repr(self).\n",
      " |  \n",
      " |  __setstate__(self, state)\n",
      " |  \n",
      " |  get_params(self, deep=True)\n",
      " |      Get parameters for this estimator.\n",
      " |      \n",
      " |      Parameters\n",
      " |      ----------\n",
      " |      deep : boolean, optional\n",
      " |          If True, will return the parameters for this estimator and\n",
      " |          contained subobjects that are estimators.\n",
      " |      \n",
      " |      Returns\n",
      " |      -------\n",
      " |      params : mapping of string to any\n",
      " |          Parameter names mapped to their values.\n",
      " |  \n",
      " |  set_params(self, **params)\n",
      " |      Set the parameters of this estimator.\n",
      " |      \n",
      " |      The method works on simple estimators as well as on nested objects\n",
      " |      (such as pipelines). The latter have parameters of the form\n",
      " |      ``<component>__<parameter>`` so that it's possible to update each\n",
      " |      component of a nested object.\n",
      " |      \n",
      " |      Returns\n",
      " |      -------\n",
      " |      self\n",
      " |  \n",
      " |  ----------------------------------------------------------------------\n",
      " |  Data descriptors inherited from sklearn.base.BaseEstimator:\n",
      " |  \n",
      " |  __dict__\n",
      " |      dictionary for instance variables (if defined)\n",
      " |  \n",
      " |  __weakref__\n",
      " |      list of weak references to the object (if defined)\n",
      "\n"
     ]
    }
   ],
   "source": [
    "help(BorutaPy)"
   ]
  },
  {
   "cell_type": "code",
   "execution_count": 13,
   "metadata": {},
   "outputs": [],
   "source": [
    "# define random forest classifier, with utilising all cores and\n",
    "# sampling in proportion to y labels\n",
    "rf = RandomForestClassifier(n_jobs=-1,\n",
    "                            max_depth=6,\n",
    "                            class_weight='balanced')\n",
    "\n",
    "# define Boruta feature selection method\n",
    "feat_selector = BorutaPy(rf,\n",
    "                         n_estimators='auto',\n",
    "                         max_iter=120,\n",
    "                         perc=100, # controls how conservatively we select features. Lower means more false positives\n",
    "                         verbose=2,\n",
    "                         random_state=Config.get(\"random_seed\"))"
   ]
  },
  {
   "cell_type": "markdown",
   "metadata": {},
   "source": [
    "The algorithm automatically stops when no tentative features remain, or after 120 rounds."
   ]
  },
  {
   "cell_type": "code",
   "execution_count": 14,
   "metadata": {},
   "outputs": [
    {
     "name": "stdout",
     "output_type": "stream",
     "text": [
      "Iteration: \t1 / 120\n",
      "Confirmed: \t0\n",
      "Tentative: \t653\n",
      "Rejected: \t0\n",
      "Iteration: \t2 / 120\n",
      "Confirmed: \t0\n",
      "Tentative: \t653\n",
      "Rejected: \t0\n",
      "Iteration: \t3 / 120\n",
      "Confirmed: \t0\n",
      "Tentative: \t653\n",
      "Rejected: \t0\n",
      "Iteration: \t4 / 120\n",
      "Confirmed: \t0\n",
      "Tentative: \t653\n",
      "Rejected: \t0\n",
      "Iteration: \t5 / 120\n",
      "Confirmed: \t0\n",
      "Tentative: \t653\n",
      "Rejected: \t0\n",
      "Iteration: \t6 / 120\n",
      "Confirmed: \t0\n",
      "Tentative: \t653\n",
      "Rejected: \t0\n",
      "Iteration: \t7 / 120\n",
      "Confirmed: \t0\n",
      "Tentative: \t653\n",
      "Rejected: \t0\n",
      "Iteration: \t8 / 120\n",
      "Confirmed: \t57\n",
      "Tentative: \t42\n",
      "Rejected: \t554\n"
     ]
    },
    {
     "name": "stderr",
     "output_type": "stream",
     "text": [
      "/data/anaconda/envs/py36/lib/python3.6/site-packages/boruta/boruta_py.py:418: RuntimeWarning: invalid value encountered in greater\n",
      "  hits = np.where(cur_imp[0] > imp_sha_max)[0]\n"
     ]
    },
    {
     "name": "stdout",
     "output_type": "stream",
     "text": [
      "Iteration: \t9 / 120\n",
      "Confirmed: \t57\n",
      "Tentative: \t42\n",
      "Rejected: \t554\n"
     ]
    },
    {
     "name": "stderr",
     "output_type": "stream",
     "text": [
      "/data/anaconda/envs/py36/lib/python3.6/site-packages/boruta/boruta_py.py:418: RuntimeWarning: invalid value encountered in greater\n",
      "  hits = np.where(cur_imp[0] > imp_sha_max)[0]\n"
     ]
    },
    {
     "name": "stdout",
     "output_type": "stream",
     "text": [
      "Iteration: \t10 / 120\n",
      "Confirmed: \t57\n",
      "Tentative: \t42\n",
      "Rejected: \t554\n"
     ]
    },
    {
     "name": "stderr",
     "output_type": "stream",
     "text": [
      "/data/anaconda/envs/py36/lib/python3.6/site-packages/boruta/boruta_py.py:418: RuntimeWarning: invalid value encountered in greater\n",
      "  hits = np.where(cur_imp[0] > imp_sha_max)[0]\n"
     ]
    },
    {
     "name": "stdout",
     "output_type": "stream",
     "text": [
      "Iteration: \t11 / 120\n",
      "Confirmed: \t57\n",
      "Tentative: \t42\n",
      "Rejected: \t554\n"
     ]
    },
    {
     "name": "stderr",
     "output_type": "stream",
     "text": [
      "/data/anaconda/envs/py36/lib/python3.6/site-packages/boruta/boruta_py.py:418: RuntimeWarning: invalid value encountered in greater\n",
      "  hits = np.where(cur_imp[0] > imp_sha_max)[0]\n"
     ]
    },
    {
     "name": "stdout",
     "output_type": "stream",
     "text": [
      "Iteration: \t12 / 120\n",
      "Confirmed: \t57\n",
      "Tentative: \t27\n",
      "Rejected: \t569\n"
     ]
    },
    {
     "name": "stderr",
     "output_type": "stream",
     "text": [
      "/data/anaconda/envs/py36/lib/python3.6/site-packages/boruta/boruta_py.py:418: RuntimeWarning: invalid value encountered in greater\n",
      "  hits = np.where(cur_imp[0] > imp_sha_max)[0]\n"
     ]
    },
    {
     "name": "stdout",
     "output_type": "stream",
     "text": [
      "Iteration: \t13 / 120\n",
      "Confirmed: \t57\n",
      "Tentative: \t27\n",
      "Rejected: \t569\n"
     ]
    },
    {
     "name": "stderr",
     "output_type": "stream",
     "text": [
      "/data/anaconda/envs/py36/lib/python3.6/site-packages/boruta/boruta_py.py:418: RuntimeWarning: invalid value encountered in greater\n",
      "  hits = np.where(cur_imp[0] > imp_sha_max)[0]\n"
     ]
    },
    {
     "name": "stdout",
     "output_type": "stream",
     "text": [
      "Iteration: \t14 / 120\n",
      "Confirmed: \t57\n",
      "Tentative: \t27\n",
      "Rejected: \t569\n"
     ]
    },
    {
     "name": "stderr",
     "output_type": "stream",
     "text": [
      "/data/anaconda/envs/py36/lib/python3.6/site-packages/boruta/boruta_py.py:418: RuntimeWarning: invalid value encountered in greater\n",
      "  hits = np.where(cur_imp[0] > imp_sha_max)[0]\n"
     ]
    },
    {
     "name": "stdout",
     "output_type": "stream",
     "text": [
      "Iteration: \t15 / 120\n",
      "Confirmed: \t57\n",
      "Tentative: \t27\n",
      "Rejected: \t569\n"
     ]
    },
    {
     "name": "stderr",
     "output_type": "stream",
     "text": [
      "/data/anaconda/envs/py36/lib/python3.6/site-packages/boruta/boruta_py.py:418: RuntimeWarning: invalid value encountered in greater\n",
      "  hits = np.where(cur_imp[0] > imp_sha_max)[0]\n"
     ]
    },
    {
     "name": "stdout",
     "output_type": "stream",
     "text": [
      "Iteration: \t16 / 120\n",
      "Confirmed: \t57\n",
      "Tentative: \t22\n",
      "Rejected: \t574\n"
     ]
    },
    {
     "name": "stderr",
     "output_type": "stream",
     "text": [
      "/data/anaconda/envs/py36/lib/python3.6/site-packages/boruta/boruta_py.py:418: RuntimeWarning: invalid value encountered in greater\n",
      "  hits = np.where(cur_imp[0] > imp_sha_max)[0]\n"
     ]
    },
    {
     "name": "stdout",
     "output_type": "stream",
     "text": [
      "Iteration: \t17 / 120\n",
      "Confirmed: \t57\n",
      "Tentative: \t22\n",
      "Rejected: \t574\n"
     ]
    },
    {
     "name": "stderr",
     "output_type": "stream",
     "text": [
      "/data/anaconda/envs/py36/lib/python3.6/site-packages/boruta/boruta_py.py:418: RuntimeWarning: invalid value encountered in greater\n",
      "  hits = np.where(cur_imp[0] > imp_sha_max)[0]\n"
     ]
    },
    {
     "name": "stdout",
     "output_type": "stream",
     "text": [
      "Iteration: \t18 / 120\n",
      "Confirmed: \t57\n",
      "Tentative: \t22\n",
      "Rejected: \t574\n"
     ]
    },
    {
     "name": "stderr",
     "output_type": "stream",
     "text": [
      "/data/anaconda/envs/py36/lib/python3.6/site-packages/boruta/boruta_py.py:418: RuntimeWarning: invalid value encountered in greater\n",
      "  hits = np.where(cur_imp[0] > imp_sha_max)[0]\n"
     ]
    },
    {
     "name": "stdout",
     "output_type": "stream",
     "text": [
      "Iteration: \t19 / 120\n",
      "Confirmed: \t57\n",
      "Tentative: \t18\n",
      "Rejected: \t578\n"
     ]
    },
    {
     "name": "stderr",
     "output_type": "stream",
     "text": [
      "/data/anaconda/envs/py36/lib/python3.6/site-packages/boruta/boruta_py.py:418: RuntimeWarning: invalid value encountered in greater\n",
      "  hits = np.where(cur_imp[0] > imp_sha_max)[0]\n"
     ]
    },
    {
     "name": "stdout",
     "output_type": "stream",
     "text": [
      "Iteration: \t20 / 120\n",
      "Confirmed: \t57\n",
      "Tentative: \t18\n",
      "Rejected: \t578\n"
     ]
    },
    {
     "name": "stderr",
     "output_type": "stream",
     "text": [
      "/data/anaconda/envs/py36/lib/python3.6/site-packages/boruta/boruta_py.py:418: RuntimeWarning: invalid value encountered in greater\n",
      "  hits = np.where(cur_imp[0] > imp_sha_max)[0]\n"
     ]
    },
    {
     "name": "stdout",
     "output_type": "stream",
     "text": [
      "Iteration: \t21 / 120\n",
      "Confirmed: \t57\n",
      "Tentative: \t18\n",
      "Rejected: \t578\n"
     ]
    },
    {
     "name": "stderr",
     "output_type": "stream",
     "text": [
      "/data/anaconda/envs/py36/lib/python3.6/site-packages/boruta/boruta_py.py:418: RuntimeWarning: invalid value encountered in greater\n",
      "  hits = np.where(cur_imp[0] > imp_sha_max)[0]\n"
     ]
    },
    {
     "name": "stdout",
     "output_type": "stream",
     "text": [
      "Iteration: \t22 / 120\n",
      "Confirmed: \t57\n",
      "Tentative: \t10\n",
      "Rejected: \t586\n"
     ]
    },
    {
     "name": "stderr",
     "output_type": "stream",
     "text": [
      "/data/anaconda/envs/py36/lib/python3.6/site-packages/boruta/boruta_py.py:418: RuntimeWarning: invalid value encountered in greater\n",
      "  hits = np.where(cur_imp[0] > imp_sha_max)[0]\n"
     ]
    },
    {
     "name": "stdout",
     "output_type": "stream",
     "text": [
      "Iteration: \t23 / 120\n",
      "Confirmed: \t57\n",
      "Tentative: \t10\n",
      "Rejected: \t586\n"
     ]
    },
    {
     "name": "stderr",
     "output_type": "stream",
     "text": [
      "/data/anaconda/envs/py36/lib/python3.6/site-packages/boruta/boruta_py.py:418: RuntimeWarning: invalid value encountered in greater\n",
      "  hits = np.where(cur_imp[0] > imp_sha_max)[0]\n"
     ]
    },
    {
     "name": "stdout",
     "output_type": "stream",
     "text": [
      "Iteration: \t24 / 120\n",
      "Confirmed: \t57\n",
      "Tentative: \t10\n",
      "Rejected: \t586\n"
     ]
    },
    {
     "name": "stderr",
     "output_type": "stream",
     "text": [
      "/data/anaconda/envs/py36/lib/python3.6/site-packages/boruta/boruta_py.py:418: RuntimeWarning: invalid value encountered in greater\n",
      "  hits = np.where(cur_imp[0] > imp_sha_max)[0]\n"
     ]
    },
    {
     "name": "stdout",
     "output_type": "stream",
     "text": [
      "Iteration: \t25 / 120\n",
      "Confirmed: \t57\n",
      "Tentative: \t10\n",
      "Rejected: \t586\n"
     ]
    },
    {
     "name": "stderr",
     "output_type": "stream",
     "text": [
      "/data/anaconda/envs/py36/lib/python3.6/site-packages/boruta/boruta_py.py:418: RuntimeWarning: invalid value encountered in greater\n",
      "  hits = np.where(cur_imp[0] > imp_sha_max)[0]\n"
     ]
    },
    {
     "name": "stdout",
     "output_type": "stream",
     "text": [
      "Iteration: \t26 / 120\n",
      "Confirmed: \t57\n",
      "Tentative: \t6\n",
      "Rejected: \t590\n"
     ]
    },
    {
     "name": "stderr",
     "output_type": "stream",
     "text": [
      "/data/anaconda/envs/py36/lib/python3.6/site-packages/boruta/boruta_py.py:418: RuntimeWarning: invalid value encountered in greater\n",
      "  hits = np.where(cur_imp[0] > imp_sha_max)[0]\n"
     ]
    },
    {
     "name": "stdout",
     "output_type": "stream",
     "text": [
      "Iteration: \t27 / 120\n",
      "Confirmed: \t57\n",
      "Tentative: \t6\n",
      "Rejected: \t590\n"
     ]
    },
    {
     "name": "stderr",
     "output_type": "stream",
     "text": [
      "/data/anaconda/envs/py36/lib/python3.6/site-packages/boruta/boruta_py.py:418: RuntimeWarning: invalid value encountered in greater\n",
      "  hits = np.where(cur_imp[0] > imp_sha_max)[0]\n"
     ]
    },
    {
     "name": "stdout",
     "output_type": "stream",
     "text": [
      "Iteration: \t28 / 120\n",
      "Confirmed: \t57\n",
      "Tentative: \t6\n",
      "Rejected: \t590\n"
     ]
    },
    {
     "name": "stderr",
     "output_type": "stream",
     "text": [
      "/data/anaconda/envs/py36/lib/python3.6/site-packages/boruta/boruta_py.py:418: RuntimeWarning: invalid value encountered in greater\n",
      "  hits = np.where(cur_imp[0] > imp_sha_max)[0]\n"
     ]
    },
    {
     "name": "stdout",
     "output_type": "stream",
     "text": [
      "Iteration: \t29 / 120\n",
      "Confirmed: \t57\n",
      "Tentative: \t6\n",
      "Rejected: \t590\n"
     ]
    },
    {
     "name": "stderr",
     "output_type": "stream",
     "text": [
      "/data/anaconda/envs/py36/lib/python3.6/site-packages/boruta/boruta_py.py:418: RuntimeWarning: invalid value encountered in greater\n",
      "  hits = np.where(cur_imp[0] > imp_sha_max)[0]\n"
     ]
    },
    {
     "name": "stdout",
     "output_type": "stream",
     "text": [
      "Iteration: \t30 / 120\n",
      "Confirmed: \t57\n",
      "Tentative: \t5\n",
      "Rejected: \t591\n"
     ]
    },
    {
     "name": "stderr",
     "output_type": "stream",
     "text": [
      "/data/anaconda/envs/py36/lib/python3.6/site-packages/boruta/boruta_py.py:418: RuntimeWarning: invalid value encountered in greater\n",
      "  hits = np.where(cur_imp[0] > imp_sha_max)[0]\n"
     ]
    },
    {
     "name": "stdout",
     "output_type": "stream",
     "text": [
      "Iteration: \t31 / 120\n",
      "Confirmed: \t57\n",
      "Tentative: \t5\n",
      "Rejected: \t591\n"
     ]
    },
    {
     "name": "stderr",
     "output_type": "stream",
     "text": [
      "/data/anaconda/envs/py36/lib/python3.6/site-packages/boruta/boruta_py.py:418: RuntimeWarning: invalid value encountered in greater\n",
      "  hits = np.where(cur_imp[0] > imp_sha_max)[0]\n"
     ]
    },
    {
     "name": "stdout",
     "output_type": "stream",
     "text": [
      "Iteration: \t32 / 120\n",
      "Confirmed: \t57\n",
      "Tentative: \t4\n",
      "Rejected: \t592\n"
     ]
    },
    {
     "name": "stderr",
     "output_type": "stream",
     "text": [
      "/data/anaconda/envs/py36/lib/python3.6/site-packages/boruta/boruta_py.py:418: RuntimeWarning: invalid value encountered in greater\n",
      "  hits = np.where(cur_imp[0] > imp_sha_max)[0]\n"
     ]
    },
    {
     "name": "stdout",
     "output_type": "stream",
     "text": [
      "Iteration: \t33 / 120\n",
      "Confirmed: \t57\n",
      "Tentative: \t4\n",
      "Rejected: \t592\n"
     ]
    },
    {
     "name": "stderr",
     "output_type": "stream",
     "text": [
      "/data/anaconda/envs/py36/lib/python3.6/site-packages/boruta/boruta_py.py:418: RuntimeWarning: invalid value encountered in greater\n",
      "  hits = np.where(cur_imp[0] > imp_sha_max)[0]\n"
     ]
    },
    {
     "name": "stdout",
     "output_type": "stream",
     "text": [
      "Iteration: \t34 / 120\n",
      "Confirmed: \t57\n",
      "Tentative: \t4\n",
      "Rejected: \t592\n"
     ]
    },
    {
     "name": "stderr",
     "output_type": "stream",
     "text": [
      "/data/anaconda/envs/py36/lib/python3.6/site-packages/boruta/boruta_py.py:418: RuntimeWarning: invalid value encountered in greater\n",
      "  hits = np.where(cur_imp[0] > imp_sha_max)[0]\n"
     ]
    },
    {
     "name": "stdout",
     "output_type": "stream",
     "text": [
      "Iteration: \t35 / 120\n",
      "Confirmed: \t57\n",
      "Tentative: \t4\n",
      "Rejected: \t592\n"
     ]
    },
    {
     "name": "stderr",
     "output_type": "stream",
     "text": [
      "/data/anaconda/envs/py36/lib/python3.6/site-packages/boruta/boruta_py.py:418: RuntimeWarning: invalid value encountered in greater\n",
      "  hits = np.where(cur_imp[0] > imp_sha_max)[0]\n"
     ]
    },
    {
     "name": "stdout",
     "output_type": "stream",
     "text": [
      "Iteration: \t36 / 120\n",
      "Confirmed: \t57\n",
      "Tentative: \t4\n",
      "Rejected: \t592\n"
     ]
    },
    {
     "name": "stderr",
     "output_type": "stream",
     "text": [
      "/data/anaconda/envs/py36/lib/python3.6/site-packages/boruta/boruta_py.py:418: RuntimeWarning: invalid value encountered in greater\n",
      "  hits = np.where(cur_imp[0] > imp_sha_max)[0]\n"
     ]
    },
    {
     "name": "stdout",
     "output_type": "stream",
     "text": [
      "Iteration: \t37 / 120\n",
      "Confirmed: \t57\n",
      "Tentative: \t4\n",
      "Rejected: \t592\n"
     ]
    },
    {
     "name": "stderr",
     "output_type": "stream",
     "text": [
      "/data/anaconda/envs/py36/lib/python3.6/site-packages/boruta/boruta_py.py:418: RuntimeWarning: invalid value encountered in greater\n",
      "  hits = np.where(cur_imp[0] > imp_sha_max)[0]\n"
     ]
    },
    {
     "name": "stdout",
     "output_type": "stream",
     "text": [
      "Iteration: \t38 / 120\n",
      "Confirmed: \t57\n",
      "Tentative: \t4\n",
      "Rejected: \t592\n"
     ]
    },
    {
     "name": "stderr",
     "output_type": "stream",
     "text": [
      "/data/anaconda/envs/py36/lib/python3.6/site-packages/boruta/boruta_py.py:418: RuntimeWarning: invalid value encountered in greater\n",
      "  hits = np.where(cur_imp[0] > imp_sha_max)[0]\n"
     ]
    },
    {
     "name": "stdout",
     "output_type": "stream",
     "text": [
      "Iteration: \t39 / 120\n",
      "Confirmed: \t57\n",
      "Tentative: \t4\n",
      "Rejected: \t592\n"
     ]
    },
    {
     "name": "stderr",
     "output_type": "stream",
     "text": [
      "/data/anaconda/envs/py36/lib/python3.6/site-packages/boruta/boruta_py.py:418: RuntimeWarning: invalid value encountered in greater\n",
      "  hits = np.where(cur_imp[0] > imp_sha_max)[0]\n"
     ]
    },
    {
     "name": "stdout",
     "output_type": "stream",
     "text": [
      "Iteration: \t40 / 120\n",
      "Confirmed: \t57\n",
      "Tentative: \t4\n",
      "Rejected: \t592\n"
     ]
    },
    {
     "name": "stderr",
     "output_type": "stream",
     "text": [
      "/data/anaconda/envs/py36/lib/python3.6/site-packages/boruta/boruta_py.py:418: RuntimeWarning: invalid value encountered in greater\n",
      "  hits = np.where(cur_imp[0] > imp_sha_max)[0]\n"
     ]
    },
    {
     "name": "stdout",
     "output_type": "stream",
     "text": [
      "Iteration: \t41 / 120\n",
      "Confirmed: \t57\n",
      "Tentative: \t4\n",
      "Rejected: \t592\n"
     ]
    },
    {
     "name": "stderr",
     "output_type": "stream",
     "text": [
      "/data/anaconda/envs/py36/lib/python3.6/site-packages/boruta/boruta_py.py:418: RuntimeWarning: invalid value encountered in greater\n",
      "  hits = np.where(cur_imp[0] > imp_sha_max)[0]\n"
     ]
    },
    {
     "name": "stdout",
     "output_type": "stream",
     "text": [
      "Iteration: \t42 / 120\n",
      "Confirmed: \t57\n",
      "Tentative: \t4\n",
      "Rejected: \t592\n"
     ]
    },
    {
     "name": "stderr",
     "output_type": "stream",
     "text": [
      "/data/anaconda/envs/py36/lib/python3.6/site-packages/boruta/boruta_py.py:418: RuntimeWarning: invalid value encountered in greater\n",
      "  hits = np.where(cur_imp[0] > imp_sha_max)[0]\n"
     ]
    },
    {
     "name": "stdout",
     "output_type": "stream",
     "text": [
      "Iteration: \t43 / 120\n",
      "Confirmed: \t57\n",
      "Tentative: \t4\n",
      "Rejected: \t592\n"
     ]
    },
    {
     "name": "stderr",
     "output_type": "stream",
     "text": [
      "/data/anaconda/envs/py36/lib/python3.6/site-packages/boruta/boruta_py.py:418: RuntimeWarning: invalid value encountered in greater\n",
      "  hits = np.where(cur_imp[0] > imp_sha_max)[0]\n"
     ]
    },
    {
     "name": "stdout",
     "output_type": "stream",
     "text": [
      "Iteration: \t44 / 120\n",
      "Confirmed: \t57\n",
      "Tentative: \t4\n",
      "Rejected: \t592\n"
     ]
    },
    {
     "name": "stderr",
     "output_type": "stream",
     "text": [
      "/data/anaconda/envs/py36/lib/python3.6/site-packages/boruta/boruta_py.py:418: RuntimeWarning: invalid value encountered in greater\n",
      "  hits = np.where(cur_imp[0] > imp_sha_max)[0]\n"
     ]
    },
    {
     "name": "stdout",
     "output_type": "stream",
     "text": [
      "Iteration: \t45 / 120\n",
      "Confirmed: \t57\n",
      "Tentative: \t4\n",
      "Rejected: \t592\n"
     ]
    },
    {
     "name": "stderr",
     "output_type": "stream",
     "text": [
      "/data/anaconda/envs/py36/lib/python3.6/site-packages/boruta/boruta_py.py:418: RuntimeWarning: invalid value encountered in greater\n",
      "  hits = np.where(cur_imp[0] > imp_sha_max)[0]\n"
     ]
    },
    {
     "name": "stdout",
     "output_type": "stream",
     "text": [
      "Iteration: \t46 / 120\n",
      "Confirmed: \t57\n",
      "Tentative: \t3\n",
      "Rejected: \t593\n"
     ]
    },
    {
     "name": "stderr",
     "output_type": "stream",
     "text": [
      "/data/anaconda/envs/py36/lib/python3.6/site-packages/boruta/boruta_py.py:418: RuntimeWarning: invalid value encountered in greater\n",
      "  hits = np.where(cur_imp[0] > imp_sha_max)[0]\n"
     ]
    },
    {
     "name": "stdout",
     "output_type": "stream",
     "text": [
      "Iteration: \t47 / 120\n",
      "Confirmed: \t57\n",
      "Tentative: \t3\n",
      "Rejected: \t593\n"
     ]
    },
    {
     "name": "stderr",
     "output_type": "stream",
     "text": [
      "/data/anaconda/envs/py36/lib/python3.6/site-packages/boruta/boruta_py.py:418: RuntimeWarning: invalid value encountered in greater\n",
      "  hits = np.where(cur_imp[0] > imp_sha_max)[0]\n"
     ]
    },
    {
     "name": "stdout",
     "output_type": "stream",
     "text": [
      "Iteration: \t48 / 120\n",
      "Confirmed: \t57\n",
      "Tentative: \t3\n",
      "Rejected: \t593\n"
     ]
    },
    {
     "name": "stderr",
     "output_type": "stream",
     "text": [
      "/data/anaconda/envs/py36/lib/python3.6/site-packages/boruta/boruta_py.py:418: RuntimeWarning: invalid value encountered in greater\n",
      "  hits = np.where(cur_imp[0] > imp_sha_max)[0]\n"
     ]
    },
    {
     "name": "stdout",
     "output_type": "stream",
     "text": [
      "Iteration: \t49 / 120\n",
      "Confirmed: \t58\n",
      "Tentative: \t2\n",
      "Rejected: \t593\n"
     ]
    },
    {
     "name": "stderr",
     "output_type": "stream",
     "text": [
      "/data/anaconda/envs/py36/lib/python3.6/site-packages/boruta/boruta_py.py:418: RuntimeWarning: invalid value encountered in greater\n",
      "  hits = np.where(cur_imp[0] > imp_sha_max)[0]\n"
     ]
    },
    {
     "name": "stdout",
     "output_type": "stream",
     "text": [
      "Iteration: \t50 / 120\n",
      "Confirmed: \t58\n",
      "Tentative: \t2\n",
      "Rejected: \t593\n"
     ]
    },
    {
     "name": "stderr",
     "output_type": "stream",
     "text": [
      "/data/anaconda/envs/py36/lib/python3.6/site-packages/boruta/boruta_py.py:418: RuntimeWarning: invalid value encountered in greater\n",
      "  hits = np.where(cur_imp[0] > imp_sha_max)[0]\n"
     ]
    },
    {
     "name": "stdout",
     "output_type": "stream",
     "text": [
      "Iteration: \t51 / 120\n",
      "Confirmed: \t58\n",
      "Tentative: \t2\n",
      "Rejected: \t593\n"
     ]
    },
    {
     "name": "stderr",
     "output_type": "stream",
     "text": [
      "/data/anaconda/envs/py36/lib/python3.6/site-packages/boruta/boruta_py.py:418: RuntimeWarning: invalid value encountered in greater\n",
      "  hits = np.where(cur_imp[0] > imp_sha_max)[0]\n"
     ]
    },
    {
     "name": "stdout",
     "output_type": "stream",
     "text": [
      "Iteration: \t52 / 120\n",
      "Confirmed: \t58\n",
      "Tentative: \t2\n",
      "Rejected: \t593\n"
     ]
    },
    {
     "name": "stderr",
     "output_type": "stream",
     "text": [
      "/data/anaconda/envs/py36/lib/python3.6/site-packages/boruta/boruta_py.py:418: RuntimeWarning: invalid value encountered in greater\n",
      "  hits = np.where(cur_imp[0] > imp_sha_max)[0]\n"
     ]
    },
    {
     "name": "stdout",
     "output_type": "stream",
     "text": [
      "Iteration: \t53 / 120\n",
      "Confirmed: \t58\n",
      "Tentative: \t2\n",
      "Rejected: \t593\n"
     ]
    },
    {
     "name": "stderr",
     "output_type": "stream",
     "text": [
      "/data/anaconda/envs/py36/lib/python3.6/site-packages/boruta/boruta_py.py:418: RuntimeWarning: invalid value encountered in greater\n",
      "  hits = np.where(cur_imp[0] > imp_sha_max)[0]\n"
     ]
    },
    {
     "name": "stdout",
     "output_type": "stream",
     "text": [
      "Iteration: \t54 / 120\n",
      "Confirmed: \t58\n",
      "Tentative: \t2\n",
      "Rejected: \t593\n"
     ]
    },
    {
     "name": "stderr",
     "output_type": "stream",
     "text": [
      "/data/anaconda/envs/py36/lib/python3.6/site-packages/boruta/boruta_py.py:418: RuntimeWarning: invalid value encountered in greater\n",
      "  hits = np.where(cur_imp[0] > imp_sha_max)[0]\n"
     ]
    },
    {
     "name": "stdout",
     "output_type": "stream",
     "text": [
      "Iteration: \t55 / 120\n",
      "Confirmed: \t58\n",
      "Tentative: \t2\n",
      "Rejected: \t593\n"
     ]
    },
    {
     "name": "stderr",
     "output_type": "stream",
     "text": [
      "/data/anaconda/envs/py36/lib/python3.6/site-packages/boruta/boruta_py.py:418: RuntimeWarning: invalid value encountered in greater\n",
      "  hits = np.where(cur_imp[0] > imp_sha_max)[0]\n"
     ]
    },
    {
     "name": "stdout",
     "output_type": "stream",
     "text": [
      "Iteration: \t56 / 120\n",
      "Confirmed: \t58\n",
      "Tentative: \t2\n",
      "Rejected: \t593\n"
     ]
    },
    {
     "name": "stderr",
     "output_type": "stream",
     "text": [
      "/data/anaconda/envs/py36/lib/python3.6/site-packages/boruta/boruta_py.py:418: RuntimeWarning: invalid value encountered in greater\n",
      "  hits = np.where(cur_imp[0] > imp_sha_max)[0]\n"
     ]
    },
    {
     "name": "stdout",
     "output_type": "stream",
     "text": [
      "Iteration: \t57 / 120\n",
      "Confirmed: \t58\n",
      "Tentative: \t2\n",
      "Rejected: \t593\n"
     ]
    },
    {
     "name": "stderr",
     "output_type": "stream",
     "text": [
      "/data/anaconda/envs/py36/lib/python3.6/site-packages/boruta/boruta_py.py:418: RuntimeWarning: invalid value encountered in greater\n",
      "  hits = np.where(cur_imp[0] > imp_sha_max)[0]\n"
     ]
    },
    {
     "name": "stdout",
     "output_type": "stream",
     "text": [
      "Iteration: \t58 / 120\n",
      "Confirmed: \t58\n",
      "Tentative: \t2\n",
      "Rejected: \t593\n"
     ]
    },
    {
     "name": "stderr",
     "output_type": "stream",
     "text": [
      "/data/anaconda/envs/py36/lib/python3.6/site-packages/boruta/boruta_py.py:418: RuntimeWarning: invalid value encountered in greater\n",
      "  hits = np.where(cur_imp[0] > imp_sha_max)[0]\n"
     ]
    },
    {
     "name": "stdout",
     "output_type": "stream",
     "text": [
      "Iteration: \t59 / 120\n",
      "Confirmed: \t58\n",
      "Tentative: \t2\n",
      "Rejected: \t593\n"
     ]
    },
    {
     "name": "stderr",
     "output_type": "stream",
     "text": [
      "/data/anaconda/envs/py36/lib/python3.6/site-packages/boruta/boruta_py.py:418: RuntimeWarning: invalid value encountered in greater\n",
      "  hits = np.where(cur_imp[0] > imp_sha_max)[0]\n"
     ]
    },
    {
     "name": "stdout",
     "output_type": "stream",
     "text": [
      "Iteration: \t60 / 120\n",
      "Confirmed: \t58\n",
      "Tentative: \t2\n",
      "Rejected: \t593\n"
     ]
    },
    {
     "name": "stderr",
     "output_type": "stream",
     "text": [
      "/data/anaconda/envs/py36/lib/python3.6/site-packages/boruta/boruta_py.py:418: RuntimeWarning: invalid value encountered in greater\n",
      "  hits = np.where(cur_imp[0] > imp_sha_max)[0]\n"
     ]
    },
    {
     "name": "stdout",
     "output_type": "stream",
     "text": [
      "Iteration: \t61 / 120\n",
      "Confirmed: \t58\n",
      "Tentative: \t2\n",
      "Rejected: \t593\n"
     ]
    },
    {
     "name": "stderr",
     "output_type": "stream",
     "text": [
      "/data/anaconda/envs/py36/lib/python3.6/site-packages/boruta/boruta_py.py:418: RuntimeWarning: invalid value encountered in greater\n",
      "  hits = np.where(cur_imp[0] > imp_sha_max)[0]\n"
     ]
    },
    {
     "name": "stdout",
     "output_type": "stream",
     "text": [
      "Iteration: \t62 / 120\n",
      "Confirmed: \t58\n",
      "Tentative: \t2\n",
      "Rejected: \t593\n"
     ]
    },
    {
     "name": "stderr",
     "output_type": "stream",
     "text": [
      "/data/anaconda/envs/py36/lib/python3.6/site-packages/boruta/boruta_py.py:418: RuntimeWarning: invalid value encountered in greater\n",
      "  hits = np.where(cur_imp[0] > imp_sha_max)[0]\n"
     ]
    },
    {
     "name": "stdout",
     "output_type": "stream",
     "text": [
      "Iteration: \t63 / 120\n",
      "Confirmed: \t58\n",
      "Tentative: \t2\n",
      "Rejected: \t593\n"
     ]
    },
    {
     "name": "stderr",
     "output_type": "stream",
     "text": [
      "/data/anaconda/envs/py36/lib/python3.6/site-packages/boruta/boruta_py.py:418: RuntimeWarning: invalid value encountered in greater\n",
      "  hits = np.where(cur_imp[0] > imp_sha_max)[0]\n"
     ]
    },
    {
     "name": "stdout",
     "output_type": "stream",
     "text": [
      "Iteration: \t64 / 120\n",
      "Confirmed: \t58\n",
      "Tentative: \t2\n",
      "Rejected: \t593\n"
     ]
    },
    {
     "name": "stderr",
     "output_type": "stream",
     "text": [
      "/data/anaconda/envs/py36/lib/python3.6/site-packages/boruta/boruta_py.py:418: RuntimeWarning: invalid value encountered in greater\n",
      "  hits = np.where(cur_imp[0] > imp_sha_max)[0]\n"
     ]
    },
    {
     "name": "stdout",
     "output_type": "stream",
     "text": [
      "Iteration: \t65 / 120\n",
      "Confirmed: \t58\n",
      "Tentative: \t2\n",
      "Rejected: \t593\n"
     ]
    },
    {
     "name": "stderr",
     "output_type": "stream",
     "text": [
      "/data/anaconda/envs/py36/lib/python3.6/site-packages/boruta/boruta_py.py:418: RuntimeWarning: invalid value encountered in greater\n",
      "  hits = np.where(cur_imp[0] > imp_sha_max)[0]\n"
     ]
    },
    {
     "name": "stdout",
     "output_type": "stream",
     "text": [
      "Iteration: \t66 / 120\n",
      "Confirmed: \t58\n",
      "Tentative: \t2\n",
      "Rejected: \t593\n"
     ]
    },
    {
     "name": "stderr",
     "output_type": "stream",
     "text": [
      "/data/anaconda/envs/py36/lib/python3.6/site-packages/boruta/boruta_py.py:418: RuntimeWarning: invalid value encountered in greater\n",
      "  hits = np.where(cur_imp[0] > imp_sha_max)[0]\n"
     ]
    },
    {
     "name": "stdout",
     "output_type": "stream",
     "text": [
      "Iteration: \t67 / 120\n",
      "Confirmed: \t58\n",
      "Tentative: \t2\n",
      "Rejected: \t593\n"
     ]
    },
    {
     "name": "stderr",
     "output_type": "stream",
     "text": [
      "/data/anaconda/envs/py36/lib/python3.6/site-packages/boruta/boruta_py.py:418: RuntimeWarning: invalid value encountered in greater\n",
      "  hits = np.where(cur_imp[0] > imp_sha_max)[0]\n"
     ]
    },
    {
     "name": "stdout",
     "output_type": "stream",
     "text": [
      "Iteration: \t68 / 120\n",
      "Confirmed: \t58\n",
      "Tentative: \t2\n",
      "Rejected: \t593\n"
     ]
    },
    {
     "name": "stderr",
     "output_type": "stream",
     "text": [
      "/data/anaconda/envs/py36/lib/python3.6/site-packages/boruta/boruta_py.py:418: RuntimeWarning: invalid value encountered in greater\n",
      "  hits = np.where(cur_imp[0] > imp_sha_max)[0]\n"
     ]
    },
    {
     "name": "stdout",
     "output_type": "stream",
     "text": [
      "Iteration: \t69 / 120\n",
      "Confirmed: \t58\n",
      "Tentative: \t2\n",
      "Rejected: \t593\n"
     ]
    },
    {
     "name": "stderr",
     "output_type": "stream",
     "text": [
      "/data/anaconda/envs/py36/lib/python3.6/site-packages/boruta/boruta_py.py:418: RuntimeWarning: invalid value encountered in greater\n",
      "  hits = np.where(cur_imp[0] > imp_sha_max)[0]\n"
     ]
    },
    {
     "name": "stdout",
     "output_type": "stream",
     "text": [
      "Iteration: \t70 / 120\n",
      "Confirmed: \t58\n",
      "Tentative: \t2\n",
      "Rejected: \t593\n"
     ]
    },
    {
     "name": "stderr",
     "output_type": "stream",
     "text": [
      "/data/anaconda/envs/py36/lib/python3.6/site-packages/boruta/boruta_py.py:418: RuntimeWarning: invalid value encountered in greater\n",
      "  hits = np.where(cur_imp[0] > imp_sha_max)[0]\n"
     ]
    },
    {
     "name": "stdout",
     "output_type": "stream",
     "text": [
      "Iteration: \t71 / 120\n",
      "Confirmed: \t58\n",
      "Tentative: \t2\n",
      "Rejected: \t593\n"
     ]
    },
    {
     "name": "stderr",
     "output_type": "stream",
     "text": [
      "/data/anaconda/envs/py36/lib/python3.6/site-packages/boruta/boruta_py.py:418: RuntimeWarning: invalid value encountered in greater\n",
      "  hits = np.where(cur_imp[0] > imp_sha_max)[0]\n"
     ]
    },
    {
     "name": "stdout",
     "output_type": "stream",
     "text": [
      "Iteration: \t72 / 120\n",
      "Confirmed: \t58\n",
      "Tentative: \t2\n",
      "Rejected: \t593\n"
     ]
    },
    {
     "name": "stderr",
     "output_type": "stream",
     "text": [
      "/data/anaconda/envs/py36/lib/python3.6/site-packages/boruta/boruta_py.py:418: RuntimeWarning: invalid value encountered in greater\n",
      "  hits = np.where(cur_imp[0] > imp_sha_max)[0]\n"
     ]
    },
    {
     "name": "stdout",
     "output_type": "stream",
     "text": [
      "Iteration: \t73 / 120\n",
      "Confirmed: \t58\n",
      "Tentative: \t2\n",
      "Rejected: \t593\n"
     ]
    },
    {
     "name": "stderr",
     "output_type": "stream",
     "text": [
      "/data/anaconda/envs/py36/lib/python3.6/site-packages/boruta/boruta_py.py:418: RuntimeWarning: invalid value encountered in greater\n",
      "  hits = np.where(cur_imp[0] > imp_sha_max)[0]\n"
     ]
    },
    {
     "name": "stdout",
     "output_type": "stream",
     "text": [
      "Iteration: \t74 / 120\n",
      "Confirmed: \t58\n",
      "Tentative: \t2\n",
      "Rejected: \t593\n"
     ]
    },
    {
     "name": "stderr",
     "output_type": "stream",
     "text": [
      "/data/anaconda/envs/py36/lib/python3.6/site-packages/boruta/boruta_py.py:418: RuntimeWarning: invalid value encountered in greater\n",
      "  hits = np.where(cur_imp[0] > imp_sha_max)[0]\n"
     ]
    },
    {
     "name": "stdout",
     "output_type": "stream",
     "text": [
      "Iteration: \t75 / 120\n",
      "Confirmed: \t58\n",
      "Tentative: \t2\n",
      "Rejected: \t593\n"
     ]
    },
    {
     "name": "stderr",
     "output_type": "stream",
     "text": [
      "/data/anaconda/envs/py36/lib/python3.6/site-packages/boruta/boruta_py.py:418: RuntimeWarning: invalid value encountered in greater\n",
      "  hits = np.where(cur_imp[0] > imp_sha_max)[0]\n"
     ]
    },
    {
     "name": "stdout",
     "output_type": "stream",
     "text": [
      "Iteration: \t76 / 120\n",
      "Confirmed: \t58\n",
      "Tentative: \t2\n",
      "Rejected: \t593\n"
     ]
    },
    {
     "name": "stderr",
     "output_type": "stream",
     "text": [
      "/data/anaconda/envs/py36/lib/python3.6/site-packages/boruta/boruta_py.py:418: RuntimeWarning: invalid value encountered in greater\n",
      "  hits = np.where(cur_imp[0] > imp_sha_max)[0]\n"
     ]
    },
    {
     "name": "stdout",
     "output_type": "stream",
     "text": [
      "Iteration: \t77 / 120\n",
      "Confirmed: \t58\n",
      "Tentative: \t2\n",
      "Rejected: \t593\n"
     ]
    },
    {
     "name": "stderr",
     "output_type": "stream",
     "text": [
      "/data/anaconda/envs/py36/lib/python3.6/site-packages/boruta/boruta_py.py:418: RuntimeWarning: invalid value encountered in greater\n",
      "  hits = np.where(cur_imp[0] > imp_sha_max)[0]\n"
     ]
    },
    {
     "name": "stdout",
     "output_type": "stream",
     "text": [
      "Iteration: \t78 / 120\n",
      "Confirmed: \t58\n",
      "Tentative: \t2\n",
      "Rejected: \t593\n"
     ]
    },
    {
     "name": "stderr",
     "output_type": "stream",
     "text": [
      "/data/anaconda/envs/py36/lib/python3.6/site-packages/boruta/boruta_py.py:418: RuntimeWarning: invalid value encountered in greater\n",
      "  hits = np.where(cur_imp[0] > imp_sha_max)[0]\n"
     ]
    },
    {
     "name": "stdout",
     "output_type": "stream",
     "text": [
      "Iteration: \t79 / 120\n",
      "Confirmed: \t58\n",
      "Tentative: \t2\n",
      "Rejected: \t593\n"
     ]
    },
    {
     "name": "stderr",
     "output_type": "stream",
     "text": [
      "/data/anaconda/envs/py36/lib/python3.6/site-packages/boruta/boruta_py.py:418: RuntimeWarning: invalid value encountered in greater\n",
      "  hits = np.where(cur_imp[0] > imp_sha_max)[0]\n"
     ]
    },
    {
     "name": "stdout",
     "output_type": "stream",
     "text": [
      "Iteration: \t80 / 120\n",
      "Confirmed: \t58\n",
      "Tentative: \t2\n",
      "Rejected: \t593\n"
     ]
    },
    {
     "name": "stderr",
     "output_type": "stream",
     "text": [
      "/data/anaconda/envs/py36/lib/python3.6/site-packages/boruta/boruta_py.py:418: RuntimeWarning: invalid value encountered in greater\n",
      "  hits = np.where(cur_imp[0] > imp_sha_max)[0]\n"
     ]
    },
    {
     "name": "stdout",
     "output_type": "stream",
     "text": [
      "Iteration: \t81 / 120\n",
      "Confirmed: \t58\n",
      "Tentative: \t2\n",
      "Rejected: \t593\n"
     ]
    },
    {
     "name": "stderr",
     "output_type": "stream",
     "text": [
      "/data/anaconda/envs/py36/lib/python3.6/site-packages/boruta/boruta_py.py:418: RuntimeWarning: invalid value encountered in greater\n",
      "  hits = np.where(cur_imp[0] > imp_sha_max)[0]\n"
     ]
    },
    {
     "name": "stdout",
     "output_type": "stream",
     "text": [
      "Iteration: \t82 / 120\n",
      "Confirmed: \t58\n",
      "Tentative: \t2\n",
      "Rejected: \t593\n"
     ]
    },
    {
     "name": "stderr",
     "output_type": "stream",
     "text": [
      "/data/anaconda/envs/py36/lib/python3.6/site-packages/boruta/boruta_py.py:418: RuntimeWarning: invalid value encountered in greater\n",
      "  hits = np.where(cur_imp[0] > imp_sha_max)[0]\n"
     ]
    },
    {
     "name": "stdout",
     "output_type": "stream",
     "text": [
      "Iteration: \t83 / 120\n",
      "Confirmed: \t58\n",
      "Tentative: \t2\n",
      "Rejected: \t593\n"
     ]
    },
    {
     "name": "stderr",
     "output_type": "stream",
     "text": [
      "/data/anaconda/envs/py36/lib/python3.6/site-packages/boruta/boruta_py.py:418: RuntimeWarning: invalid value encountered in greater\n",
      "  hits = np.where(cur_imp[0] > imp_sha_max)[0]\n"
     ]
    },
    {
     "name": "stdout",
     "output_type": "stream",
     "text": [
      "Iteration: \t84 / 120\n",
      "Confirmed: \t58\n",
      "Tentative: \t2\n",
      "Rejected: \t593\n"
     ]
    },
    {
     "name": "stderr",
     "output_type": "stream",
     "text": [
      "/data/anaconda/envs/py36/lib/python3.6/site-packages/boruta/boruta_py.py:418: RuntimeWarning: invalid value encountered in greater\n",
      "  hits = np.where(cur_imp[0] > imp_sha_max)[0]\n"
     ]
    },
    {
     "name": "stdout",
     "output_type": "stream",
     "text": [
      "Iteration: \t85 / 120\n",
      "Confirmed: \t58\n",
      "Tentative: \t2\n",
      "Rejected: \t593\n"
     ]
    },
    {
     "name": "stderr",
     "output_type": "stream",
     "text": [
      "/data/anaconda/envs/py36/lib/python3.6/site-packages/boruta/boruta_py.py:418: RuntimeWarning: invalid value encountered in greater\n",
      "  hits = np.where(cur_imp[0] > imp_sha_max)[0]\n"
     ]
    },
    {
     "name": "stdout",
     "output_type": "stream",
     "text": [
      "Iteration: \t86 / 120\n",
      "Confirmed: \t58\n",
      "Tentative: \t2\n",
      "Rejected: \t593\n"
     ]
    },
    {
     "name": "stderr",
     "output_type": "stream",
     "text": [
      "/data/anaconda/envs/py36/lib/python3.6/site-packages/boruta/boruta_py.py:418: RuntimeWarning: invalid value encountered in greater\n",
      "  hits = np.where(cur_imp[0] > imp_sha_max)[0]\n"
     ]
    },
    {
     "name": "stdout",
     "output_type": "stream",
     "text": [
      "Iteration: \t87 / 120\n",
      "Confirmed: \t58\n",
      "Tentative: \t2\n",
      "Rejected: \t593\n"
     ]
    },
    {
     "name": "stderr",
     "output_type": "stream",
     "text": [
      "/data/anaconda/envs/py36/lib/python3.6/site-packages/boruta/boruta_py.py:418: RuntimeWarning: invalid value encountered in greater\n",
      "  hits = np.where(cur_imp[0] > imp_sha_max)[0]\n"
     ]
    },
    {
     "name": "stdout",
     "output_type": "stream",
     "text": [
      "Iteration: \t88 / 120\n",
      "Confirmed: \t58\n",
      "Tentative: \t2\n",
      "Rejected: \t593\n"
     ]
    },
    {
     "name": "stderr",
     "output_type": "stream",
     "text": [
      "/data/anaconda/envs/py36/lib/python3.6/site-packages/boruta/boruta_py.py:418: RuntimeWarning: invalid value encountered in greater\n",
      "  hits = np.where(cur_imp[0] > imp_sha_max)[0]\n"
     ]
    },
    {
     "name": "stdout",
     "output_type": "stream",
     "text": [
      "Iteration: \t89 / 120\n",
      "Confirmed: \t58\n",
      "Tentative: \t2\n",
      "Rejected: \t593\n"
     ]
    },
    {
     "name": "stderr",
     "output_type": "stream",
     "text": [
      "/data/anaconda/envs/py36/lib/python3.6/site-packages/boruta/boruta_py.py:418: RuntimeWarning: invalid value encountered in greater\n",
      "  hits = np.where(cur_imp[0] > imp_sha_max)[0]\n"
     ]
    },
    {
     "name": "stdout",
     "output_type": "stream",
     "text": [
      "Iteration: \t90 / 120\n",
      "Confirmed: \t58\n",
      "Tentative: \t2\n",
      "Rejected: \t593\n"
     ]
    },
    {
     "name": "stderr",
     "output_type": "stream",
     "text": [
      "/data/anaconda/envs/py36/lib/python3.6/site-packages/boruta/boruta_py.py:418: RuntimeWarning: invalid value encountered in greater\n",
      "  hits = np.where(cur_imp[0] > imp_sha_max)[0]\n"
     ]
    },
    {
     "name": "stdout",
     "output_type": "stream",
     "text": [
      "Iteration: \t91 / 120\n",
      "Confirmed: \t58\n",
      "Tentative: \t2\n",
      "Rejected: \t593\n"
     ]
    },
    {
     "name": "stderr",
     "output_type": "stream",
     "text": [
      "/data/anaconda/envs/py36/lib/python3.6/site-packages/boruta/boruta_py.py:418: RuntimeWarning: invalid value encountered in greater\n",
      "  hits = np.where(cur_imp[0] > imp_sha_max)[0]\n"
     ]
    },
    {
     "name": "stdout",
     "output_type": "stream",
     "text": [
      "Iteration: \t92 / 120\n",
      "Confirmed: \t58\n",
      "Tentative: \t2\n",
      "Rejected: \t593\n"
     ]
    },
    {
     "name": "stderr",
     "output_type": "stream",
     "text": [
      "/data/anaconda/envs/py36/lib/python3.6/site-packages/boruta/boruta_py.py:418: RuntimeWarning: invalid value encountered in greater\n",
      "  hits = np.where(cur_imp[0] > imp_sha_max)[0]\n"
     ]
    },
    {
     "name": "stdout",
     "output_type": "stream",
     "text": [
      "Iteration: \t93 / 120\n",
      "Confirmed: \t58\n",
      "Tentative: \t2\n",
      "Rejected: \t593\n"
     ]
    },
    {
     "name": "stderr",
     "output_type": "stream",
     "text": [
      "/data/anaconda/envs/py36/lib/python3.6/site-packages/boruta/boruta_py.py:418: RuntimeWarning: invalid value encountered in greater\n",
      "  hits = np.where(cur_imp[0] > imp_sha_max)[0]\n"
     ]
    },
    {
     "name": "stdout",
     "output_type": "stream",
     "text": [
      "Iteration: \t94 / 120\n",
      "Confirmed: \t58\n",
      "Tentative: \t2\n",
      "Rejected: \t593\n"
     ]
    },
    {
     "name": "stderr",
     "output_type": "stream",
     "text": [
      "/data/anaconda/envs/py36/lib/python3.6/site-packages/boruta/boruta_py.py:418: RuntimeWarning: invalid value encountered in greater\n",
      "  hits = np.where(cur_imp[0] > imp_sha_max)[0]\n"
     ]
    },
    {
     "name": "stdout",
     "output_type": "stream",
     "text": [
      "Iteration: \t95 / 120\n",
      "Confirmed: \t58\n",
      "Tentative: \t2\n",
      "Rejected: \t593\n"
     ]
    },
    {
     "name": "stderr",
     "output_type": "stream",
     "text": [
      "/data/anaconda/envs/py36/lib/python3.6/site-packages/boruta/boruta_py.py:418: RuntimeWarning: invalid value encountered in greater\n",
      "  hits = np.where(cur_imp[0] > imp_sha_max)[0]\n"
     ]
    },
    {
     "name": "stdout",
     "output_type": "stream",
     "text": [
      "Iteration: \t96 / 120\n",
      "Confirmed: \t58\n",
      "Tentative: \t2\n",
      "Rejected: \t593\n"
     ]
    },
    {
     "name": "stderr",
     "output_type": "stream",
     "text": [
      "/data/anaconda/envs/py36/lib/python3.6/site-packages/boruta/boruta_py.py:418: RuntimeWarning: invalid value encountered in greater\n",
      "  hits = np.where(cur_imp[0] > imp_sha_max)[0]\n"
     ]
    },
    {
     "name": "stdout",
     "output_type": "stream",
     "text": [
      "Iteration: \t97 / 120\n",
      "Confirmed: \t58\n",
      "Tentative: \t2\n",
      "Rejected: \t593\n"
     ]
    },
    {
     "name": "stderr",
     "output_type": "stream",
     "text": [
      "/data/anaconda/envs/py36/lib/python3.6/site-packages/boruta/boruta_py.py:418: RuntimeWarning: invalid value encountered in greater\n",
      "  hits = np.where(cur_imp[0] > imp_sha_max)[0]\n"
     ]
    },
    {
     "name": "stdout",
     "output_type": "stream",
     "text": [
      "Iteration: \t98 / 120\n",
      "Confirmed: \t58\n",
      "Tentative: \t2\n",
      "Rejected: \t593\n"
     ]
    },
    {
     "name": "stderr",
     "output_type": "stream",
     "text": [
      "/data/anaconda/envs/py36/lib/python3.6/site-packages/boruta/boruta_py.py:418: RuntimeWarning: invalid value encountered in greater\n",
      "  hits = np.where(cur_imp[0] > imp_sha_max)[0]\n"
     ]
    },
    {
     "name": "stdout",
     "output_type": "stream",
     "text": [
      "Iteration: \t99 / 120\n",
      "Confirmed: \t58\n",
      "Tentative: \t2\n",
      "Rejected: \t593\n"
     ]
    },
    {
     "name": "stderr",
     "output_type": "stream",
     "text": [
      "/data/anaconda/envs/py36/lib/python3.6/site-packages/boruta/boruta_py.py:418: RuntimeWarning: invalid value encountered in greater\n",
      "  hits = np.where(cur_imp[0] > imp_sha_max)[0]\n"
     ]
    },
    {
     "name": "stdout",
     "output_type": "stream",
     "text": [
      "Iteration: \t100 / 120\n",
      "Confirmed: \t58\n",
      "Tentative: \t2\n",
      "Rejected: \t593\n"
     ]
    },
    {
     "name": "stderr",
     "output_type": "stream",
     "text": [
      "/data/anaconda/envs/py36/lib/python3.6/site-packages/boruta/boruta_py.py:418: RuntimeWarning: invalid value encountered in greater\n",
      "  hits = np.where(cur_imp[0] > imp_sha_max)[0]\n"
     ]
    },
    {
     "name": "stdout",
     "output_type": "stream",
     "text": [
      "Iteration: \t101 / 120\n",
      "Confirmed: \t58\n",
      "Tentative: \t2\n",
      "Rejected: \t593\n"
     ]
    },
    {
     "name": "stderr",
     "output_type": "stream",
     "text": [
      "/data/anaconda/envs/py36/lib/python3.6/site-packages/boruta/boruta_py.py:418: RuntimeWarning: invalid value encountered in greater\n",
      "  hits = np.where(cur_imp[0] > imp_sha_max)[0]\n"
     ]
    },
    {
     "name": "stdout",
     "output_type": "stream",
     "text": [
      "Iteration: \t102 / 120\n",
      "Confirmed: \t58\n",
      "Tentative: \t2\n",
      "Rejected: \t593\n"
     ]
    },
    {
     "name": "stderr",
     "output_type": "stream",
     "text": [
      "/data/anaconda/envs/py36/lib/python3.6/site-packages/boruta/boruta_py.py:418: RuntimeWarning: invalid value encountered in greater\n",
      "  hits = np.where(cur_imp[0] > imp_sha_max)[0]\n"
     ]
    },
    {
     "name": "stdout",
     "output_type": "stream",
     "text": [
      "Iteration: \t103 / 120\n",
      "Confirmed: \t58\n",
      "Tentative: \t2\n",
      "Rejected: \t593\n"
     ]
    },
    {
     "name": "stderr",
     "output_type": "stream",
     "text": [
      "/data/anaconda/envs/py36/lib/python3.6/site-packages/boruta/boruta_py.py:418: RuntimeWarning: invalid value encountered in greater\n",
      "  hits = np.where(cur_imp[0] > imp_sha_max)[0]\n"
     ]
    },
    {
     "name": "stdout",
     "output_type": "stream",
     "text": [
      "Iteration: \t104 / 120\n",
      "Confirmed: \t58\n",
      "Tentative: \t2\n",
      "Rejected: \t593\n"
     ]
    },
    {
     "name": "stderr",
     "output_type": "stream",
     "text": [
      "/data/anaconda/envs/py36/lib/python3.6/site-packages/boruta/boruta_py.py:418: RuntimeWarning: invalid value encountered in greater\n",
      "  hits = np.where(cur_imp[0] > imp_sha_max)[0]\n"
     ]
    },
    {
     "name": "stdout",
     "output_type": "stream",
     "text": [
      "Iteration: \t105 / 120\n",
      "Confirmed: \t58\n",
      "Tentative: \t2\n",
      "Rejected: \t593\n"
     ]
    },
    {
     "name": "stderr",
     "output_type": "stream",
     "text": [
      "/data/anaconda/envs/py36/lib/python3.6/site-packages/boruta/boruta_py.py:418: RuntimeWarning: invalid value encountered in greater\n",
      "  hits = np.where(cur_imp[0] > imp_sha_max)[0]\n"
     ]
    },
    {
     "name": "stdout",
     "output_type": "stream",
     "text": [
      "Iteration: \t106 / 120\n",
      "Confirmed: \t58\n",
      "Tentative: \t2\n",
      "Rejected: \t593\n"
     ]
    },
    {
     "name": "stderr",
     "output_type": "stream",
     "text": [
      "/data/anaconda/envs/py36/lib/python3.6/site-packages/boruta/boruta_py.py:418: RuntimeWarning: invalid value encountered in greater\n",
      "  hits = np.where(cur_imp[0] > imp_sha_max)[0]\n"
     ]
    },
    {
     "name": "stdout",
     "output_type": "stream",
     "text": [
      "Iteration: \t107 / 120\n",
      "Confirmed: \t58\n",
      "Tentative: \t2\n",
      "Rejected: \t593\n"
     ]
    },
    {
     "name": "stderr",
     "output_type": "stream",
     "text": [
      "/data/anaconda/envs/py36/lib/python3.6/site-packages/boruta/boruta_py.py:418: RuntimeWarning: invalid value encountered in greater\n",
      "  hits = np.where(cur_imp[0] > imp_sha_max)[0]\n"
     ]
    },
    {
     "name": "stdout",
     "output_type": "stream",
     "text": [
      "Iteration: \t108 / 120\n",
      "Confirmed: \t58\n",
      "Tentative: \t2\n",
      "Rejected: \t593\n"
     ]
    },
    {
     "name": "stderr",
     "output_type": "stream",
     "text": [
      "/data/anaconda/envs/py36/lib/python3.6/site-packages/boruta/boruta_py.py:418: RuntimeWarning: invalid value encountered in greater\n",
      "  hits = np.where(cur_imp[0] > imp_sha_max)[0]\n"
     ]
    },
    {
     "name": "stdout",
     "output_type": "stream",
     "text": [
      "Iteration: \t109 / 120\n",
      "Confirmed: \t58\n",
      "Tentative: \t2\n",
      "Rejected: \t593\n"
     ]
    },
    {
     "name": "stderr",
     "output_type": "stream",
     "text": [
      "/data/anaconda/envs/py36/lib/python3.6/site-packages/boruta/boruta_py.py:418: RuntimeWarning: invalid value encountered in greater\n",
      "  hits = np.where(cur_imp[0] > imp_sha_max)[0]\n"
     ]
    },
    {
     "name": "stdout",
     "output_type": "stream",
     "text": [
      "Iteration: \t110 / 120\n",
      "Confirmed: \t58\n",
      "Tentative: \t2\n",
      "Rejected: \t593\n"
     ]
    },
    {
     "name": "stderr",
     "output_type": "stream",
     "text": [
      "/data/anaconda/envs/py36/lib/python3.6/site-packages/boruta/boruta_py.py:418: RuntimeWarning: invalid value encountered in greater\n",
      "  hits = np.where(cur_imp[0] > imp_sha_max)[0]\n"
     ]
    },
    {
     "name": "stdout",
     "output_type": "stream",
     "text": [
      "Iteration: \t111 / 120\n",
      "Confirmed: \t58\n",
      "Tentative: \t2\n",
      "Rejected: \t593\n"
     ]
    },
    {
     "name": "stderr",
     "output_type": "stream",
     "text": [
      "/data/anaconda/envs/py36/lib/python3.6/site-packages/boruta/boruta_py.py:418: RuntimeWarning: invalid value encountered in greater\n",
      "  hits = np.where(cur_imp[0] > imp_sha_max)[0]\n"
     ]
    },
    {
     "name": "stdout",
     "output_type": "stream",
     "text": [
      "Iteration: \t112 / 120\n",
      "Confirmed: \t58\n",
      "Tentative: \t2\n",
      "Rejected: \t593\n"
     ]
    },
    {
     "name": "stderr",
     "output_type": "stream",
     "text": [
      "/data/anaconda/envs/py36/lib/python3.6/site-packages/boruta/boruta_py.py:418: RuntimeWarning: invalid value encountered in greater\n",
      "  hits = np.where(cur_imp[0] > imp_sha_max)[0]\n"
     ]
    },
    {
     "name": "stdout",
     "output_type": "stream",
     "text": [
      "Iteration: \t113 / 120\n",
      "Confirmed: \t58\n",
      "Tentative: \t2\n",
      "Rejected: \t593\n"
     ]
    },
    {
     "name": "stderr",
     "output_type": "stream",
     "text": [
      "/data/anaconda/envs/py36/lib/python3.6/site-packages/boruta/boruta_py.py:418: RuntimeWarning: invalid value encountered in greater\n",
      "  hits = np.where(cur_imp[0] > imp_sha_max)[0]\n"
     ]
    },
    {
     "name": "stdout",
     "output_type": "stream",
     "text": [
      "Iteration: \t114 / 120\n",
      "Confirmed: \t58\n",
      "Tentative: \t2\n",
      "Rejected: \t593\n"
     ]
    },
    {
     "name": "stderr",
     "output_type": "stream",
     "text": [
      "/data/anaconda/envs/py36/lib/python3.6/site-packages/boruta/boruta_py.py:418: RuntimeWarning: invalid value encountered in greater\n",
      "  hits = np.where(cur_imp[0] > imp_sha_max)[0]\n"
     ]
    },
    {
     "name": "stdout",
     "output_type": "stream",
     "text": [
      "Iteration: \t115 / 120\n",
      "Confirmed: \t58\n",
      "Tentative: \t2\n",
      "Rejected: \t593\n"
     ]
    },
    {
     "name": "stderr",
     "output_type": "stream",
     "text": [
      "/data/anaconda/envs/py36/lib/python3.6/site-packages/boruta/boruta_py.py:418: RuntimeWarning: invalid value encountered in greater\n",
      "  hits = np.where(cur_imp[0] > imp_sha_max)[0]\n"
     ]
    },
    {
     "name": "stdout",
     "output_type": "stream",
     "text": [
      "Iteration: \t116 / 120\n",
      "Confirmed: \t58\n",
      "Tentative: \t2\n",
      "Rejected: \t593\n"
     ]
    },
    {
     "name": "stderr",
     "output_type": "stream",
     "text": [
      "/data/anaconda/envs/py36/lib/python3.6/site-packages/boruta/boruta_py.py:418: RuntimeWarning: invalid value encountered in greater\n",
      "  hits = np.where(cur_imp[0] > imp_sha_max)[0]\n"
     ]
    },
    {
     "name": "stdout",
     "output_type": "stream",
     "text": [
      "Iteration: \t117 / 120\n",
      "Confirmed: \t58\n",
      "Tentative: \t2\n",
      "Rejected: \t593\n"
     ]
    },
    {
     "name": "stderr",
     "output_type": "stream",
     "text": [
      "/data/anaconda/envs/py36/lib/python3.6/site-packages/boruta/boruta_py.py:418: RuntimeWarning: invalid value encountered in greater\n",
      "  hits = np.where(cur_imp[0] > imp_sha_max)[0]\n"
     ]
    },
    {
     "name": "stdout",
     "output_type": "stream",
     "text": [
      "Iteration: \t118 / 120\n",
      "Confirmed: \t58\n",
      "Tentative: \t2\n",
      "Rejected: \t593\n",
      "Iteration: \t119 / 120\n",
      "Confirmed: \t58\n",
      "Tentative: \t2\n",
      "Rejected: \t593\n",
      "\n",
      "\n",
      "BorutaPy finished running.\n",
      "\n",
      "Iteration: \t120 / 120\n",
      "Confirmed: \t58\n",
      "Tentative: \t0\n",
      "Rejected: \t593\n"
     ]
    },
    {
     "name": "stderr",
     "output_type": "stream",
     "text": [
      "/data/anaconda/envs/py36/lib/python3.6/site-packages/boruta/boruta_py.py:418: RuntimeWarning: invalid value encountered in greater\n",
      "  hits = np.where(cur_imp[0] > imp_sha_max)[0]\n"
     ]
    },
    {
     "data": {
      "text/plain": [
       "BorutaPy(alpha=0.05,\n",
       "         estimator=RandomForestClassifier(bootstrap=True,\n",
       "                                          class_weight='balanced',\n",
       "                                          criterion='gini', max_depth=6,\n",
       "                                          max_features='auto',\n",
       "                                          max_leaf_nodes=None,\n",
       "                                          min_impurity_decrease=0.0,\n",
       "                                          min_impurity_split=None,\n",
       "                                          min_samples_leaf=1,\n",
       "                                          min_samples_split=2,\n",
       "                                          min_weight_fraction_leaf=0.0,\n",
       "                                          n_estimators=182, n_jobs=-1,\n",
       "                                          oob_score=False,\n",
       "                                          random_state=<mtrand.RandomState object at 0x7f5f145dd3f0>,\n",
       "                                          verbose=0, warm_start=False),\n",
       "         max_iter=120, n_estimators='auto', perc=100,\n",
       "         random_state=<mtrand.RandomState object at 0x7f5f145dd3f0>,\n",
       "         two_step=True, verbose=2)"
      ]
     },
     "execution_count": 14,
     "metadata": {},
     "output_type": "execute_result"
    }
   ],
   "source": [
    "feat_selector.fit(Xy[\"data\"].values, Xy[\"targets\"].loc[:,\"TARGET_B\"].astype(\"int64\").values)"
   ]
  },
  {
   "cell_type": "code",
   "execution_count": 15,
   "metadata": {},
   "outputs": [],
   "source": [
    "with open(pathlib.Path(Config.get(\"model_store\"), \"feature_selection_boruta.pkl\"), \"wb\") as of:\n",
    "    pickle.dump(feat_selector, of)"
   ]
  },
  {
   "cell_type": "markdown",
   "metadata": {},
   "source": [
    "Boolean mask for the features selected:"
   ]
  },
  {
   "cell_type": "code",
   "execution_count": 16,
   "metadata": {},
   "outputs": [
    {
     "data": {
      "text/plain": [
       "array([False,  True, False, False, False, False, False, False, False,\n",
       "       False, False, False, False, False, False, False, False, False,\n",
       "       False, False, False, False, False, False, False, False, False,\n",
       "       False, False, False, False, False, False, False, False, False,\n",
       "       False, False, False, False,  True, False, False, False, False,\n",
       "       False, False, False, False, False, False, False, False, False,\n",
       "       False, False, False, False, False, False, False, False, False,\n",
       "       False, False, False, False, False, False, False, False, False,\n",
       "       False, False, False, False, False, False, False, False, False,\n",
       "       False, False, False, False, False, False, False, False, False,\n",
       "       False, False, False, False, False, False, False, False, False,\n",
       "       False, False, False, False, False, False, False, False, False,\n",
       "       False, False,  True,  True, False, False, False, False, False,\n",
       "       False, False, False, False, False, False, False, False, False,\n",
       "       False, False, False, False, False, False, False, False, False,\n",
       "       False, False,  True,  True,  True,  True,  True, False, False,\n",
       "       False, False, False, False, False, False, False, False, False,\n",
       "       False, False, False,  True, False, False, False, False, False,\n",
       "        True, False,  True,  True,  True,  True, False, False, False,\n",
       "       False, False, False, False, False, False, False, False, False,\n",
       "       False, False, False, False, False, False, False, False,  True,\n",
       "       False, False, False, False, False, False, False, False, False,\n",
       "       False, False, False, False, False, False, False, False, False,\n",
       "       False, False, False, False, False, False, False, False, False,\n",
       "       False, False, False, False, False, False, False, False, False,\n",
       "       False, False, False, False, False, False, False, False, False,\n",
       "       False, False, False, False, False, False, False, False, False,\n",
       "       False, False, False, False, False, False, False, False, False,\n",
       "       False, False, False, False, False, False,  True, False, False,\n",
       "       False, False, False, False, False, False, False, False, False,\n",
       "       False, False, False, False, False, False, False, False, False,\n",
       "       False, False, False, False, False, False, False, False, False,\n",
       "       False, False,  True, False, False, False, False, False, False,\n",
       "       False, False, False, False, False, False, False, False, False,\n",
       "       False, False, False, False, False, False, False, False, False,\n",
       "       False, False, False, False, False, False, False,  True,  True,\n",
       "        True,  True, False,  True, False, False, False,  True,  True,\n",
       "        True,  True,  True,  True, False,  True, False,  True,  True,\n",
       "       False,  True,  True,  True,  True,  True,  True,  True,  True,\n",
       "        True,  True,  True,  True,  True,  True, False, False, False,\n",
       "        True, False,  True, False,  True, False,  True, False,  True,\n",
       "       False,  True, False, False, False, False, False, False, False,\n",
       "       False, False, False, False, False, False, False, False, False,\n",
       "       False, False,  True, False, False, False, False, False, False,\n",
       "       False, False, False, False, False, False, False, False, False,\n",
       "       False,  True, False,  True,  True, False, False, False, False,\n",
       "       False, False, False, False, False, False, False, False, False,\n",
       "       False, False, False, False, False, False, False, False, False,\n",
       "       False, False, False, False, False, False, False, False, False,\n",
       "       False, False, False, False, False, False, False, False, False,\n",
       "       False, False, False, False, False, False, False, False, False,\n",
       "       False, False, False, False, False, False, False, False, False,\n",
       "       False, False, False, False, False, False,  True, False, False,\n",
       "       False, False, False,  True, False, False, False, False, False,\n",
       "       False, False, False, False, False, False, False, False, False,\n",
       "       False, False, False, False, False, False, False, False, False,\n",
       "       False, False, False, False, False, False, False, False, False,\n",
       "       False, False, False, False, False, False, False, False, False,\n",
       "       False, False, False, False, False, False, False, False, False,\n",
       "       False, False, False, False, False, False, False, False, False,\n",
       "       False, False, False, False, False, False, False, False, False,\n",
       "       False, False, False, False, False, False, False, False, False,\n",
       "       False, False, False, False, False, False, False, False, False,\n",
       "       False, False, False, False, False, False, False, False, False,\n",
       "       False, False, False, False, False, False, False, False, False,\n",
       "       False, False, False, False, False, False, False, False, False,\n",
       "       False, False, False, False, False, False, False, False, False,\n",
       "       False, False, False, False, False, False, False, False, False,\n",
       "       False, False, False, False, False, False, False, False, False,\n",
       "       False, False, False, False, False, False, False, False, False,\n",
       "       False, False, False, False, False, False, False, False, False,\n",
       "       False, False, False, False, False, False, False, False, False,\n",
       "       False, False, False, False, False])"
      ]
     },
     "execution_count": 16,
     "metadata": {},
     "output_type": "execute_result"
    }
   ],
   "source": [
    "feat_selector.support_"
   ]
  },
  {
   "cell_type": "markdown",
   "metadata": {},
   "source": [
    "Important features have rank 1, rank 2 are tentative, then, the ranks get progressively higher for less important features."
   ]
  },
  {
   "cell_type": "code",
   "execution_count": 17,
   "metadata": {},
   "outputs": [
    {
     "data": {
      "text/plain": [
       "array([277,   1, 443, 392, 381,  71, 287, 223, 363, 314, 368, 512, 378,\n",
       "       511, 481, 346, 401, 360, 423, 331, 100, 113,  77, 202, 190, 180,\n",
       "        69, 485, 458, 513, 500, 410, 435, 445, 496, 473, 515, 429, 372,\n",
       "       397,   1,  32,  34,  31, 352, 328, 314, 252, 263,  13,  10, 289,\n",
       "        57, 117, 475, 191, 302, 312, 310, 365, 126, 390, 418, 202,  35,\n",
       "       116, 127, 104, 124, 205, 118, 119, 216, 159,  58, 171, 218, 267,\n",
       "       207,  55, 124, 226, 192, 257, 239, 199,  79, 220,  92, 176,   5,\n",
       "        97, 134, 177, 237,  80, 228, 279,  51,  66,  72, 130, 148, 178,\n",
       "       167, 174, 242, 282, 284, 349,   1,   1, 108,  48,  90,  73, 171,\n",
       "       199, 178,  73, 128,  82, 136, 185, 185,   7, 338,  15, 223, 231,\n",
       "       273, 167,  56,  64,  52,  21, 145,   1,   1,   1,   1,   1,   9,\n",
       "       237,  96, 140, 173, 293, 294, 141, 246, 255, 131, 142, 229, 320,\n",
       "         1,   3,   7,  54,  27,  53,   1,   4,   1,   1,   1,   1,  75,\n",
       "       150, 152, 164,  95,  11, 209, 109, 231,  18, 157, 124, 155, 102,\n",
       "        29, 120, 147, 218, 106, 146,   1,  46,  82,  86,  13, 100, 143,\n",
       "       155, 183, 370, 266, 226, 269, 105, 189, 210, 204,  85, 154, 196,\n",
       "       128, 157, 206, 113,  68, 212, 325, 110,  33,  88, 282,  93, 187,\n",
       "       366, 305,  62, 259, 184,  43, 260, 195, 274, 339, 194, 139, 261,\n",
       "       291, 269, 197, 165, 252, 298, 298, 193, 246, 161, 263, 180, 213,\n",
       "       208,  94, 111, 199, 343, 107,  11,  37,  38,  86, 136,   1,  23,\n",
       "       220, 152, 330,  82, 235, 331, 298,  98,  77, 317, 171,  99,  88,\n",
       "        49, 348, 134, 316, 121, 448, 413, 248, 215, 201, 248, 374, 351,\n",
       "       339, 320, 471,  47,   1, 115, 229, 244, 217,  90,  59, 188, 256,\n",
       "        64, 281, 251, 169,  63,  75,  61, 243, 275, 166, 233, 122, 210,\n",
       "       239, 241, 254, 222, 354,  16, 102, 376, 236, 276,   1,   1,   1,\n",
       "         1, 134,   1,  19, 213, 272,   1,   1,   1,   1,   1,   1, 112,\n",
       "         1, 366,   1,   1,  40,   1,   1,   1,   1,   1,   1,   1,   1,\n",
       "         1,   1,   1,   1,   1,   1,  67,  26,  17,   1,   6,   1,  42,\n",
       "         1,  70,   1, 344,   1, 182,   1, 313, 174, 150,  36, 234,  50,\n",
       "       336, 250, 363, 263, 286, 132, 291, 226, 309, 144, 308,  24,   1,\n",
       "       507, 162, 358, 410, 402, 383, 335, 138, 359, 337, 421, 245, 448,\n",
       "       426, 383, 354,   1,   2,   1,   1, 582, 505, 460, 396, 412, 419,\n",
       "       483, 455, 491, 390, 498, 582, 458, 278, 317, 341, 406, 372, 582,\n",
       "       461, 467, 416, 461, 439, 344, 582, 548, 349, 441, 380, 324, 400,\n",
       "       582, 582, 473, 560, 463, 539, 524, 527, 497, 492, 498, 426, 547,\n",
       "       482, 542, 538, 518, 550, 333, 483, 405, 426, 385, 408, 404, 541,\n",
       "       523, 582,  38,  30, 562, 479,   1, 285,  59,  40, 545, 441,   1,\n",
       "       306, 354, 566, 549,  28, 288, 356,  44, 554, 378, 421, 582,  24,\n",
       "       582, 302, 467, 399, 562, 522, 434, 323, 159, 582, 295, 370, 387,\n",
       "       582, 450, 408, 342,  19, 582, 516, 414, 388, 555, 526, 397, 503,\n",
       "        22, 582, 267, 393, 420, 557, 562, 403, 307, 394, 389, 509, 540,\n",
       "       531, 489, 328,  82, 280, 414, 492, 537, 506, 428, 347,  45, 566,\n",
       "       375, 451, 503, 582, 566, 534, 304, 582, 370, 454, 545, 582, 452,\n",
       "       479, 395, 271, 582, 163, 519, 528, 290, 582, 334, 385, 477, 520,\n",
       "       298, 521, 582, 150, 553, 258, 495, 501, 559, 423, 530, 487, 416,\n",
       "       582, 298, 432, 529, 551, 406, 509, 488, 361, 562, 325, 383, 536,\n",
       "       534, 436, 472, 457, 265, 582, 311, 466, 517, 582, 558, 443, 494,\n",
       "       582, 432, 464, 525, 552, 439, 445, 475, 436, 322, 502, 544, 534,\n",
       "       486, 455, 465, 357, 582, 328, 430, 542, 582, 566, 532, 298, 582,\n",
       "       319, 452, 508, 582, 469, 490, 556, 378, 582, 362, 448, 477, 438,\n",
       "       469, 432, 513])"
      ]
     },
     "execution_count": 17,
     "metadata": {},
     "output_type": "execute_result"
    }
   ],
   "source": [
    "# check ranking of features\n",
    "feat_selector.ranking_"
   ]
  },
  {
   "cell_type": "markdown",
   "metadata": {},
   "source": [
    "The list of selected features:"
   ]
  },
  {
   "cell_type": "code",
   "execution_count": 18,
   "metadata": {},
   "outputs": [
    {
     "data": {
      "text/plain": [
       "array(['AGE', 'PEPSTRFL', 'HV1', 'HV2', 'HVP1', 'HVP2', 'HVP3', 'HVP4',\n",
       "       'HVP5', 'RP1', 'DMA', 'IC2', 'IC3', 'IC4', 'IC5', 'HHAS3', 'EC7',\n",
       "       'POBC2', 'CARDPROM', 'NUMPROM', 'CARDPM12', 'NUMPRM12', 'RAMNT_14',\n",
       "       'RAMNTALL', 'NGIFTALL', 'CARDGIFT', 'MINRAMNT', 'MAXRAMNT',\n",
       "       'LASTGIFT', 'AVGGIFT', 'RFA_2F', 'RFA_2A', 'RFA_3F', 'RFA_3A',\n",
       "       'RFA_4F', 'RFA_4A', 'RFA_5F', 'RFA_5A', 'RFA_6F', 'RFA_6A',\n",
       "       'RFA_7F', 'RFA_7A', 'RFA_8F', 'RFA_8A', 'RFA_9F', 'RFA_9A',\n",
       "       'RFA_11A', 'RFA_12A', 'RFA_13A', 'RFA_14A', 'RFA_15A', 'RFA_16A',\n",
       "       'ZIP_longitude', 'LASTDATE_DELTA_MONTHS', 'MAXRDATE_DELTA_MONTHS',\n",
       "       'ODATEDW_DELTA_YEARS', 'RFA_3R_S', 'RFA_4R_S'], dtype=object)"
      ]
     },
     "execution_count": 18,
     "metadata": {},
     "output_type": "execute_result"
    }
   ],
   "source": [
    "feature_names = Xy[\"data\"].columns.values[feat_selector.support_]\n",
    "feature_names"
   ]
  },
  {
   "cell_type": "markdown",
   "metadata": {},
   "source": [
    "The selected features excluding RFA_*:"
   ]
  },
  {
   "cell_type": "code",
   "execution_count": 19,
   "metadata": {},
   "outputs": [],
   "source": [
    "feature_names_without_RFA = [f for f in feature_names if f[:4] != \"RFA_\"]"
   ]
  },
  {
   "cell_type": "markdown",
   "metadata": {},
   "source": [
    "The dataframe is persisted for further use:"
   ]
  },
  {
   "cell_type": "code",
   "execution_count": 20,
   "metadata": {},
   "outputs": [],
   "source": [
    "Xy_all_relevant = Xy.copy()\n",
    "\n",
    "Xy_all_relevant[\"data\"] = Xy_all_relevant[\"data\"].loc[:, feature_names_without_RFA]\n",
    "Xy_all_relevant[\"feature_names\"] = Xy[\"data\"].columns.values.tolist()\n",
    "\n",
    "with open(pathlib.Path(Config.get(\"df_store\"), \"Xy_all_relevant.pd.pkl\"), \"wb\") as of:\n",
    "    pickle.dump(Xy_all_relevant, of)"
   ]
  },
  {
   "cell_type": "markdown",
   "metadata": {},
   "source": [
    "Boruta-selected features are also available conveniently from `kdd98`:"
   ]
  },
  {
   "cell_type": "code",
   "execution_count": 21,
   "metadata": {},
   "outputs": [],
   "source": [
    "all_relevant = data_provider.all_relevant_data"
   ]
  },
  {
   "cell_type": "markdown",
   "metadata": {},
   "source": [
    "It would now be nice to generate a pairplot of the remaining the features, but unfortunately this is beyond the resources of the machine used. Calculation"
   ]
  },
  {
   "cell_type": "markdown",
   "metadata": {},
   "source": [
    "## PCA\n",
    "\n",
    "A completely different approach to feature selection through PCA.\n",
    "\n",
    "We can use the first $n$ principal components as new input features, compressing the information in the original data. "
   ]
  },
  {
   "cell_type": "code",
   "execution_count": 22,
   "metadata": {},
   "outputs": [],
   "source": [
    "from sklearn import decomposition\n",
    "from sklearn import preprocessing\n",
    "from sklearn.pipeline import Pipeline"
   ]
  },
  {
   "cell_type": "markdown",
   "metadata": {},
   "source": [
    "PCA is initialized with the percentage of variance explained that is to be achieved. The necessary number of components is selected to meet the criteria."
   ]
  },
  {
   "cell_type": "code",
   "execution_count": 23,
   "metadata": {},
   "outputs": [],
   "source": [
    "scaled = preprocessing.StandardScaler().fit_transform(Xy[\"data\"].values)\n",
    "pca = decomposition.PCA(n_components=0.95)\n",
    "pca.fit(scaled)\n",
    "features_pca = pca.transform(scaled)"
   ]
  },
  {
   "cell_type": "code",
   "execution_count": 24,
   "metadata": {},
   "outputs": [
    {
     "data": {
      "text/plain": [
       "array([[ 5.54832263e+00, -1.27380000e+01,  9.18663503e+00, ...,\n",
       "        -2.53850294e-01,  8.15157269e-02,  1.03959739e-01],\n",
       "       [-2.11531122e+01,  7.24868252e-01, -3.38091815e-01, ...,\n",
       "        -7.12765530e-01, -3.20329713e-01,  5.31474176e-01],\n",
       "       [ 7.81614792e+00, -1.05868549e+01,  5.06108265e+00, ...,\n",
       "         6.55482179e-01,  6.72570633e-03,  5.10604001e-01],\n",
       "       ...,\n",
       "       [ 3.92533306e+00, -1.49181431e+00, -2.18465441e+00, ...,\n",
       "        -6.18885886e-01, -5.03398485e-01,  3.20471990e-02],\n",
       "       [-8.02389659e+00, -7.48061715e+00,  9.36808872e+00, ...,\n",
       "        -4.24634587e-01,  4.64834534e-01,  1.84718444e-02],\n",
       "       [-7.66594607e+00, -4.52467267e+00,  3.94814442e+00, ...,\n",
       "        -3.10573286e-02,  8.60743423e-02, -2.45504288e-01]])"
      ]
     },
     "execution_count": 24,
     "metadata": {},
     "output_type": "execute_result"
    }
   ],
   "source": [
    "features_pca"
   ]
  },
  {
   "cell_type": "code",
   "execution_count": 25,
   "metadata": {},
   "outputs": [
    {
     "data": {
      "text/plain": [
       "array([[ 0.00066436,  0.01904806,  0.00459083, ...,  0.0055132 ,\n",
       "        -0.00503461, -0.00144575],\n",
       "       [-0.00317863,  0.00290653, -0.00269118, ..., -0.02986225,\n",
       "         0.05577906, -0.00214995],\n",
       "       [ 0.02724358,  0.04505671, -0.00463347, ..., -0.01949199,\n",
       "         0.02045932,  0.00563115],\n",
       "       ...,\n",
       "       [ 0.00192865, -0.00909539,  0.00073621, ..., -0.01004385,\n",
       "         0.06116234,  0.05991661],\n",
       "       [-0.00289661,  0.0029167 , -0.00759639, ..., -0.07489955,\n",
       "        -0.017487  ,  0.06466446],\n",
       "       [ 0.02625639,  0.02131605, -0.02834509, ...,  0.00362902,\n",
       "         0.00484767,  0.00561891]])"
      ]
     },
     "execution_count": 25,
     "metadata": {},
     "output_type": "execute_result"
    }
   ],
   "source": [
    "pca.components_"
   ]
  },
  {
   "cell_type": "markdown",
   "metadata": {},
   "source": [
    "Dimensionality is still very high for reaching even only 60% of variance explained"
   ]
  },
  {
   "cell_type": "code",
   "execution_count": 26,
   "metadata": {},
   "outputs": [
    {
     "data": {
      "application/pdf": "[encoded data removed]",
      "image/png": "[encoded data removed]",
      "text/plain": [
       "<Figure size 432x288 with 1 Axes>"
      ]
     },
     "metadata": {
      "needs_background": "light"
     },
     "output_type": "display_data"
    }
   ],
   "source": [
    "cum_var_expl = np.cumsum(pca.explained_variance_ratio_)\n",
    "sns.lineplot(data = cum_var_expl)\n",
    "plt.xlabel = \"Number of dimensions\"\n",
    "plt.ylabel = \"Variance explained\""
   ]
  },
  {
   "cell_type": "code",
   "execution_count": 27,
   "metadata": {},
   "outputs": [
    {
     "data": {
      "text/plain": [
       "324"
      ]
     },
     "execution_count": 27,
     "metadata": {},
     "output_type": "execute_result"
    }
   ],
   "source": [
    "pca.n_components_"
   ]
  },
  {
   "cell_type": "code",
   "execution_count": 28,
   "metadata": {},
   "outputs": [
    {
     "data": {
      "text/plain": [
       "653"
      ]
     },
     "execution_count": 28,
     "metadata": {},
     "output_type": "execute_result"
    }
   ],
   "source": [
    "pca.n_features_"
   ]
  },
  {
   "cell_type": "markdown",
   "metadata": {},
   "source": [
    "## Sklearn SelectFromModel "
   ]
  },
  {
   "cell_type": "markdown",
   "metadata": {},
   "source": [
    "Yet another approach using scikit-learn functionality. We use a random forest classifier to determine feature importances.\n",
    "\n",
    "Then, the $n$ most important features are selected."
   ]
  },
  {
   "cell_type": "code",
   "execution_count": 29,
   "metadata": {},
   "outputs": [
    {
     "data": {
      "text/plain": [
       "array([3.52406638e-04, 6.19923274e-03, 4.45288366e-04, 5.85887227e-04,\n",
       "       3.80193249e-04, 2.43949279e-03, 1.83174877e-03, 2.36924432e-03,\n",
       "       4.41296300e-04, 1.09036715e-03, 6.98604997e-04, 3.12989279e-04,\n",
       "       2.71627684e-04, 3.29178692e-04, 3.18317298e-04, 8.91551445e-04,\n",
       "       4.56199329e-04, 6.39492013e-04, 4.17556893e-04, 1.26647901e-03,\n",
       "       4.32595313e-03, 4.50919702e-03, 4.27906248e-03, 3.42920293e-03,\n",
       "       3.00632392e-03, 2.67956344e-03, 1.90422142e-03, 3.12781177e-04,\n",
       "       4.05511641e-04, 4.06824074e-04, 3.65662948e-04, 4.38123557e-04,\n",
       "       4.75476042e-04, 4.31037300e-04, 4.26653282e-04, 3.19962657e-04,\n",
       "       3.74960286e-04, 3.54219721e-04, 4.74431006e-04, 4.36137593e-04,\n",
       "       2.41766208e-03, 5.24921183e-03, 5.13690473e-03, 5.25953105e-03,\n",
       "       7.37433589e-04, 1.26724492e-03, 1.29804158e-03, 2.14864261e-03,\n",
       "       2.04653221e-03, 2.89158347e-03, 2.36368511e-03, 1.16988653e-03,\n",
       "       1.76842258e-03, 2.45848899e-03, 4.80164025e-04, 5.62905636e-04,\n",
       "       7.74952558e-04, 7.25875200e-04, 5.54331265e-04, 5.57854544e-04,\n",
       "       2.20854025e-03, 6.23083704e-04, 4.55349845e-04, 1.43033420e-03,\n",
       "       2.31657678e-03, 2.23579127e-03, 2.29333981e-03, 2.08595178e-03,\n",
       "       1.92748898e-03, 2.00932008e-03, 2.52407375e-03, 3.36304790e-03,\n",
       "       2.99402536e-03, 3.12203919e-03, 2.51476523e-03, 2.75684477e-03,\n",
       "       2.64421077e-03, 2.45309068e-03, 2.53228956e-03, 2.25154247e-03,\n",
       "       2.28189048e-03, 2.79791581e-03, 2.71189038e-03, 2.92137369e-03,\n",
       "       2.80217277e-03, 2.95490228e-03, 2.79047973e-03, 2.40107962e-03,\n",
       "       2.71315379e-03, 2.69116506e-03, 2.93639766e-03, 2.66713997e-03,\n",
       "       2.62455295e-03, 2.39303433e-03, 1.79625063e-03, 3.06390385e-03,\n",
       "       2.41935874e-03, 2.04192054e-03, 2.96891171e-03, 3.32327988e-03,\n",
       "       3.30357896e-03, 3.13160183e-03, 3.18558755e-03, 2.11844371e-03,\n",
       "       2.51384191e-03, 2.36551128e-03, 2.21140061e-03, 1.51867209e-03,\n",
       "       1.38946880e-03, 7.50315503e-04, 4.48861647e-03, 4.49434314e-03,\n",
       "       1.22297118e-03, 1.29407219e-03, 3.18744829e-03, 3.33103902e-03,\n",
       "       2.89178704e-03, 3.01101751e-03, 3.13403028e-03, 2.70954338e-03,\n",
       "       2.74466806e-03, 2.91406429e-03, 2.66164561e-03, 2.52850473e-03,\n",
       "       2.56788156e-03, 2.42907063e-03, 1.02241274e-03, 2.27684452e-03,\n",
       "       2.74323761e-03, 2.70856756e-03, 2.06532430e-03, 2.67813565e-03,\n",
       "       3.32163334e-03, 2.51561363e-03, 1.39742327e-03, 2.06017341e-03,\n",
       "       8.94025946e-04, 2.19262330e-03, 2.81491652e-03, 3.22792065e-03,\n",
       "       3.39962311e-03, 2.85903015e-03, 1.59678510e-03, 2.06005745e-03,\n",
       "       3.36657509e-03, 2.91373327e-03, 2.70530439e-03, 1.11078887e-03,\n",
       "       8.34640656e-04, 2.86629700e-03, 2.04116592e-03, 2.32204389e-03,\n",
       "       3.43078360e-03, 2.53261485e-03, 2.07147074e-03, 1.37963109e-03,\n",
       "       3.13922716e-03, 3.60852516e-03, 3.61696791e-03, 3.35706156e-03,\n",
       "       3.64536857e-03, 4.06379388e-03, 4.56061292e-03, 3.59427858e-03,\n",
       "       3.62232706e-03, 3.59939869e-03, 3.70203592e-03, 4.03584659e-03,\n",
       "       3.05791156e-03, 3.13400429e-03, 3.42682174e-03, 3.44247078e-03,\n",
       "       3.01158381e-03, 2.48035863e-03, 1.62918362e-03, 1.17591861e-03,\n",
       "       1.31966309e-03, 2.89159563e-03, 3.17517642e-03, 3.50990496e-03,\n",
       "       3.61073070e-03, 3.35774473e-03, 2.51737626e-03, 1.77173710e-03,\n",
       "       1.30363980e-03, 1.46935663e-03, 3.06441350e-03, 2.61982846e-03,\n",
       "       3.93966284e-03, 2.70925131e-03, 3.72170874e-03, 3.66110978e-03,\n",
       "       3.77485384e-03, 3.87751206e-03, 3.54808768e-03, 1.74510003e-03,\n",
       "       1.57245638e-03, 6.31301649e-04, 2.33933319e-03, 2.35933886e-03,\n",
       "       2.10425749e-03, 4.45086981e-03, 3.27244275e-03, 3.45274323e-03,\n",
       "       3.12498823e-03, 4.64575469e-03, 3.03169395e-03, 3.12664679e-03,\n",
       "       3.50317803e-03, 3.16453343e-03, 3.49896782e-03, 4.22599017e-03,\n",
       "       4.35788420e-03, 3.08674113e-03, 1.37262095e-03, 2.72629204e-03,\n",
       "       3.39085284e-03, 3.07857321e-03, 2.37534177e-03, 3.29437373e-03,\n",
       "       3.48451151e-03, 8.83475360e-04, 1.77044198e-03, 3.36859356e-03,\n",
       "       1.94503684e-03, 3.11961775e-03, 2.98509429e-03, 2.40319069e-03,\n",
       "       2.32576787e-03, 2.15990257e-03, 1.32808618e-03, 3.11194564e-03,\n",
       "       3.90720566e-03, 2.79449317e-03, 2.42632306e-03, 2.84811943e-03,\n",
       "       3.46697500e-03, 2.90819150e-03, 2.65933302e-03, 2.29120717e-03,\n",
       "       1.73268187e-03, 3.29423409e-03, 3.11446776e-03, 2.86068562e-03,\n",
       "       2.88247460e-03, 3.07297089e-03, 2.88401197e-03, 2.54738716e-03,\n",
       "       3.13494759e-03, 3.98202487e-03, 3.18460496e-03, 9.58946593e-04,\n",
       "       1.62440891e-03, 2.87759917e-03, 3.32462374e-03, 3.87839290e-03,\n",
       "       3.60955912e-03, 3.01346741e-03, 3.48831005e-03, 2.65350277e-03,\n",
       "       2.57180964e-03, 3.17108725e-03, 1.45046050e-03, 2.96780283e-03,\n",
       "       2.56929078e-03, 8.36383165e-04, 1.17836855e-03, 3.05578012e-03,\n",
       "       3.62477365e-03, 1.56044741e-03, 3.88661464e-03, 4.09617207e-03,\n",
       "       3.67305499e-03, 3.48069158e-03, 1.11138264e-03, 3.04676092e-03,\n",
       "       1.20938481e-03, 3.55259417e-03, 6.17891730e-04, 4.99677764e-04,\n",
       "       2.91842822e-03, 1.90443008e-03, 1.31032182e-03, 1.65483448e-03,\n",
       "       5.07814916e-04, 7.43198307e-04, 1.07789212e-03, 1.19753718e-03,\n",
       "       3.67548963e-04, 2.53481301e-03, 4.67830003e-03, 2.90613490e-03,\n",
       "       2.39881348e-03, 1.56865173e-03, 2.40756676e-03, 2.27041246e-03,\n",
       "       3.21675012e-03, 3.32312021e-03, 2.34853992e-03, 3.44972254e-03,\n",
       "       1.97599023e-03, 2.96029250e-03, 3.28057148e-03, 3.43050010e-03,\n",
       "       3.26363317e-03, 3.39819425e-03, 1.58746970e-03, 1.44456912e-03,\n",
       "       3.68708028e-03, 2.56639907e-03, 4.14461991e-03, 2.38927732e-03,\n",
       "       2.42961584e-03, 2.30236087e-03, 2.47166878e-03, 2.54456996e-03,\n",
       "       8.13775715e-04, 2.13958686e-03, 1.97923125e-03, 8.77156443e-04,\n",
       "       2.47943087e-03, 2.44975183e-03, 3.81580925e-03, 5.03478717e-03,\n",
       "       1.94276249e-03, 3.82534159e-03, 1.66823436e-03, 2.12173838e-03,\n",
       "       2.05029972e-03, 1.45240353e-03, 1.50705615e-03, 5.27524382e-03,\n",
       "       4.11361405e-03, 4.34072505e-03, 2.58253951e-03, 4.39360002e-03,\n",
       "       4.94811059e-03, 3.99352888e-03, 6.53779079e-03, 5.71473904e-04,\n",
       "       3.03295570e-03, 2.73046892e-03, 2.93224268e-03, 2.24678168e-03,\n",
       "       2.33778744e-03, 2.01640058e-03, 1.97482852e-03, 1.37533603e-03,\n",
       "       1.28570544e-03, 1.61596073e-03, 1.78671224e-03, 1.27000773e-03,\n",
       "       1.22457134e-03, 1.25036313e-03, 1.38512656e-03, 1.23538718e-03,\n",
       "       1.36903654e-03, 9.75896226e-04, 9.86111432e-04, 9.92739275e-04,\n",
       "       1.18093340e-03, 1.09573527e-03, 1.31079398e-03, 9.85072660e-04,\n",
       "       9.41055842e-04, 1.04558482e-03, 1.26520961e-03, 6.45931272e-04,\n",
       "       6.89003200e-04, 9.86438493e-04, 1.07174787e-03, 8.61496456e-04,\n",
       "       1.00502847e-03, 8.98249584e-04, 1.05394799e-03, 9.80314253e-04,\n",
       "       1.00727252e-03, 9.13222834e-04, 9.09640395e-04, 8.81655710e-04,\n",
       "       1.00808000e-03, 8.76991619e-04, 9.72062341e-04, 9.25997938e-04,\n",
       "       7.27567333e-04, 9.80914352e-04, 9.56778875e-04, 4.03857673e-04,\n",
       "       5.41433036e-03, 5.66744955e-03, 1.60710372e-04, 6.41444066e-04,\n",
       "       3.47731619e-04, 4.28659023e-04, 6.49679730e-04, 8.73402739e-04,\n",
       "       4.63533086e-04, 7.34843098e-04, 3.02188344e-04, 8.83064522e-04,\n",
       "       4.23387190e-04, 8.24091706e-04, 3.80202105e-04, 4.64966204e-04,\n",
       "       7.15932083e-04, 6.64822302e-04, 4.93980633e-03, 5.42091892e-03,\n",
       "       4.79427244e-03, 2.31393659e-03, 0.00000000e+00, 5.52323985e-04,\n",
       "       5.71329987e-04, 5.62709154e-04, 5.27666509e-04, 5.70893451e-04,\n",
       "       5.99470020e-04, 5.35711146e-04, 5.58627295e-04, 5.39788202e-04,\n",
       "       5.74359576e-04, 0.00000000e+00, 4.04771476e-04, 4.07590986e-04,\n",
       "       4.74770434e-04, 4.33405711e-04, 4.27309053e-04, 4.10155435e-04,\n",
       "       0.00000000e+00, 3.34546621e-04, 4.60874553e-04, 5.32868770e-04,\n",
       "       4.90975373e-04, 4.50090791e-04, 5.04480525e-04, 0.00000000e+00,\n",
       "       7.31835838e-05, 6.42240289e-04, 4.62971728e-04, 2.98209900e-04,\n",
       "       6.24322235e-04, 5.47972364e-04, 1.17828381e-06, 8.51759623e-08,\n",
       "       5.42721866e-04, 5.60953575e-05, 5.59317450e-04, 1.50246256e-04,\n",
       "       2.61991359e-04, 3.77387129e-04, 5.18660971e-04, 4.95805643e-04,\n",
       "       5.26741735e-04, 7.51536539e-05, 9.84946469e-05, 1.83041059e-04,\n",
       "       1.25775741e-04, 1.56117162e-04, 2.61525825e-04, 9.40067954e-05,\n",
       "       3.24133963e-04, 4.96557268e-04, 4.95150675e-04, 4.08690654e-04,\n",
       "       5.87548023e-04, 2.93205403e-04, 4.35329710e-04, 3.53120245e-04,\n",
       "       2.27574431e-04, 1.86893099e-05, 4.65670482e-04, 2.49211084e-04,\n",
       "       3.26232147e-05, 1.73539067e-04, 7.26334326e-04, 1.87060955e-04,\n",
       "       4.39498457e-04, 1.94727001e-04, 3.52703886e-05, 1.82176601e-04,\n",
       "       5.33812600e-04, 1.83255297e-04, 3.84012615e-04, 7.87644574e-06,\n",
       "       1.38557916e-04, 3.09659789e-04, 4.32110105e-04, 4.00001885e-04,\n",
       "       2.43002260e-04, 5.83379434e-05, 3.10331687e-04, 2.42982373e-04,\n",
       "       8.41614251e-08, 3.69375790e-04, 5.06244856e-06, 2.99752372e-04,\n",
       "       3.79609984e-04, 2.12184559e-04, 2.83019744e-05, 2.42775879e-04,\n",
       "       2.67681768e-04, 1.34484823e-04, 2.83533964e-04, 4.22430419e-08,\n",
       "       3.86598174e-04, 3.59361817e-04, 1.97084414e-04, 3.09280202e-05,\n",
       "       2.43235483e-04, 2.48401370e-04, 1.19029049e-04, 3.98772270e-04,\n",
       "       9.40387050e-07, 1.71937143e-04, 3.59053188e-04, 1.88694055e-04,\n",
       "       5.70964709e-05, 2.62796054e-04, 2.71110534e-04, 4.54316754e-05,\n",
       "       3.47678597e-04, 3.06842183e-07, 2.91112415e-04, 3.95258441e-04,\n",
       "       1.90355349e-04, 2.17468148e-05, 2.76759484e-05, 2.92039947e-04,\n",
       "       2.58222358e-04, 4.49386306e-04, 3.53875504e-04, 2.11875602e-04,\n",
       "       6.33085362e-05, 2.74675039e-04, 2.62696295e-04, 1.57728938e-04,\n",
       "       2.66512727e-04, 3.29585946e-04, 3.84620073e-04, 1.79370151e-04,\n",
       "       7.85314093e-05, 2.65995878e-04, 2.74924550e-04, 1.50923000e-04,\n",
       "       2.41840735e-04, 2.30086959e-05, 2.70938781e-04, 3.92335011e-04,\n",
       "       1.49298193e-04, 2.06829267e-05, 1.52360261e-05, 2.47889437e-04,\n",
       "       2.45971676e-04, 2.31693444e-07, 4.20330856e-04, 4.34509829e-04,\n",
       "       2.27679754e-04, 5.85798561e-06, 2.96495878e-04, 2.43370732e-04,\n",
       "       1.95300883e-04, 2.31513986e-04, 7.52667179e-08, 4.44670527e-04,\n",
       "       3.70794082e-04, 1.56204689e-04, 2.41299509e-04, 0.00000000e+00,\n",
       "       3.67639538e-04, 4.37092459e-04, 2.52750709e-04, 1.73815206e-04,\n",
       "       4.75200834e-04, 2.86670678e-04, 1.61084817e-07, 2.74052715e-04,\n",
       "       3.18428602e-05, 3.04178105e-04, 3.94255931e-04, 1.91041126e-04,\n",
       "       8.68773526e-05, 3.48577926e-04, 2.80414257e-04, 2.01358014e-04,\n",
       "       2.61971925e-04, 7.82143060e-07, 4.41858523e-04, 3.83304927e-04,\n",
       "       2.09887618e-04, 1.26430940e-04, 3.72086345e-04, 2.72357251e-04,\n",
       "       2.27758223e-04, 2.63966975e-04, 4.71278063e-05, 3.76486017e-04,\n",
       "       3.92331943e-04, 1.82810881e-04, 8.59822263e-05, 4.07989214e-04,\n",
       "       3.19514503e-04, 1.18850075e-04, 2.50063531e-04, 2.62383159e-06,\n",
       "       3.16551402e-04, 4.23398321e-04, 1.49030197e-04, 3.70749602e-06,\n",
       "       8.04839511e-05, 2.77676890e-04, 2.64724039e-04, 4.38132662e-08,\n",
       "       4.23439599e-04, 3.77403664e-04, 1.60022864e-04, 4.97497449e-05,\n",
       "       3.62580497e-04, 2.77731361e-04, 2.10095985e-04, 2.43423885e-04,\n",
       "       4.49813424e-04, 3.91486264e-04, 1.67934237e-04, 1.15818647e-04,\n",
       "       3.31166180e-04, 3.34963267e-04, 2.15487986e-04, 2.25911382e-04,\n",
       "       7.77358817e-06, 3.34117884e-04, 4.29538105e-04, 5.99319975e-05,\n",
       "       0.00000000e+00, 1.25807937e-05, 1.73607727e-04, 2.66710027e-04,\n",
       "       0.00000000e+00, 3.64155321e-04, 4.02463189e-04, 3.09604026e-04,\n",
       "       2.08560075e-07, 2.25589879e-04, 1.87305681e-04, 6.74387052e-05,\n",
       "       2.67915992e-04, 2.51935792e-06, 3.67616060e-04, 3.77184665e-04,\n",
       "       2.74437341e-04, 3.79886114e-04, 3.87597279e-04, 2.79203854e-04,\n",
       "       1.75132946e-04])"
      ]
     },
     "execution_count": 29,
     "metadata": {},
     "output_type": "execute_result"
    }
   ],
   "source": [
    "from sklearn.ensemble import RandomForestClassifier\n",
    "from sklearn.feature_selection import SelectFromModel\n",
    "clf = RandomForestClassifier(n_estimators=500, class_weight=\"balanced\")\n",
    "clf = clf.fit(Xy[\"data\"].values, Xy[\"targets\"].TARGET_B.astype(\"int\").values)\n",
    "clf.feature_importances_  "
   ]
  },
  {
   "cell_type": "code",
   "execution_count": 30,
   "metadata": {},
   "outputs": [],
   "source": [
    "importances = pd.DataFrame(data=clf.feature_importances_, index=Xy[\"data\"].columns.values.tolist(), columns=[\"importance\"])"
   ]
  },
  {
   "cell_type": "code",
   "execution_count": 31,
   "metadata": {},
   "outputs": [
    {
     "data": {
      "text/plain": [
       "<matplotlib.axes._subplots.AxesSubplot at 0x7f5f14401940>"
      ]
     },
     "execution_count": 31,
     "metadata": {},
     "output_type": "execute_result"
    },
    {
     "data": {
      "application/pdf": "[encoded data removed]",
      "image/png": "[encoded data removed]",
      "text/plain": [
       "<Figure size 432x288 with 1 Axes>"
      ]
     },
     "metadata": {
      "needs_background": "light"
     },
     "output_type": "display_data"
    }
   ],
   "source": [
    "importances.sort_values(by=\"importance\", ascending=False).head(50).plot(kind=\"barh\")"
   ]
  },
  {
   "cell_type": "markdown",
   "metadata": {},
   "source": [
    "Using this approach, we end up with 274 features. So it's a little less than with PCA, but still far more than the selection by boruta."
   ]
  },
  {
   "cell_type": "code",
   "execution_count": 32,
   "metadata": {},
   "outputs": [
    {
     "data": {
      "text/plain": [
       "(95412, 274)"
      ]
     },
     "execution_count": 32,
     "metadata": {},
     "output_type": "execute_result"
    }
   ],
   "source": [
    "model = SelectFromModel(clf, prefit=True)\n",
    "X_sfm = model.transform(Xy[\"data\"].values)\n",
    "X_sfm.shape               "
   ]
  },
  {
   "cell_type": "code",
   "execution_count": 33,
   "metadata": {},
   "outputs": [],
   "source": [
    "selected_features = Xy[\"data\"].columns.values[model.get_support()]"
   ]
  },
  {
   "cell_type": "code",
   "execution_count": 34,
   "metadata": {},
   "outputs": [
    {
     "data": {
      "text/plain": [
       "array(['AGE', 'INCOME', 'WEALTH1', 'HIT', 'MALEVET', 'VIETVETS',\n",
       "       'WWIIVETS', 'LOCALGOV', 'STATEGOV', 'FEDGOV', 'WEALTH2',\n",
       "       'PEPSTRFL', 'POP901', 'POP902', 'POP903', 'POP90C4', 'POP90C5',\n",
       "       'ETH1', 'ETH2', 'ETH4', 'ETH5', 'ETH13', 'AGE901', 'AGE902',\n",
       "       'AGE903', 'AGE904', 'AGE905', 'AGE906', 'AGE907', 'CHIL1', 'CHIL2',\n",
       "       'CHIL3', 'AGEC1', 'AGEC2', 'AGEC3', 'AGEC4', 'AGEC5', 'AGEC6',\n",
       "       'AGEC7', 'CHILC1', 'CHILC2', 'CHILC3', 'CHILC4', 'CHILC5',\n",
       "       'HHAGE1', 'HHAGE2', 'HHAGE3', 'HHN1', 'HHN2', 'HHN3', 'HHN4',\n",
       "       'HHN5', 'HHN6', 'MARR1', 'MARR2', 'MARR3', 'MARR4', 'HHP1', 'HHP2',\n",
       "       'DW1', 'DW2', 'DW3', 'DW4', 'DW5', 'DW6', 'HV1', 'HV2', 'HU1',\n",
       "       'HU2', 'HU3', 'HU4', 'HU5', 'HHD1', 'HHD2', 'HHD3', 'HHD4', 'HHD5',\n",
       "       'HHD6', 'HHD7', 'HHD9', 'HHD10', 'HHD11', 'HHD12', 'ETHC1',\n",
       "       'ETHC2', 'ETHC3', 'ETHC5', 'HVP1', 'HVP2', 'HVP3', 'HVP4', 'HVP5',\n",
       "       'HVP6', 'HUR1', 'HUR2', 'RHP1', 'RHP2', 'HUPA1', 'HUPA2', 'HUPA3',\n",
       "       'HUPA4', 'HUPA5', 'HUPA6', 'RP1', 'RP2', 'RP3', 'RP4', 'MSA',\n",
       "       'ADI', 'DMA', 'IC1', 'IC2', 'IC3', 'IC4', 'IC5', 'IC6', 'IC7',\n",
       "       'IC8', 'IC9', 'IC10', 'IC11', 'IC12', 'IC15', 'IC16', 'IC17',\n",
       "       'IC18', 'IC19', 'IC20', 'IC21', 'HHAS1', 'HHAS2', 'HHAS3', 'HHAS4',\n",
       "       'MC1', 'MC2', 'MC3', 'TPE1', 'TPE2', 'TPE3', 'TPE4', 'TPE8',\n",
       "       'TPE9', 'PEC1', 'PEC2', 'TPE10', 'TPE11', 'TPE12', 'TPE13', 'LFC1',\n",
       "       'LFC2', 'LFC3', 'LFC4', 'LFC5', 'LFC6', 'LFC7', 'LFC8', 'LFC10',\n",
       "       'OCC1', 'OCC2', 'OCC3', 'OCC4', 'OCC5', 'OCC7', 'OCC8', 'OCC9',\n",
       "       'OCC10', 'OCC11', 'OCC12', 'OCC13', 'EIC1', 'EIC3', 'EIC4', 'EIC5',\n",
       "       'EIC6', 'EIC7', 'EIC8', 'EIC9', 'EIC10', 'EIC11', 'EIC12', 'EIC13',\n",
       "       'EIC14', 'EIC15', 'EIC16', 'OEDC1', 'OEDC2', 'OEDC3', 'OEDC4',\n",
       "       'OEDC5', 'OEDC6', 'EC1', 'EC2', 'EC3', 'EC4', 'EC5', 'EC6', 'EC7',\n",
       "       'EC8', 'SEC1', 'SEC2', 'SEC4', 'SEC5', 'AFC4', 'AFC5', 'AFC6',\n",
       "       'VC1', 'VC2', 'VC3', 'VC4', 'ANC2', 'ANC4', 'ANC7', 'ANC8',\n",
       "       'ANC10', 'POBC1', 'POBC2', 'LSC1', 'LSC2', 'LSC3', 'LSC4', 'VOC1',\n",
       "       'VOC2', 'VOC3', 'HC1', 'HC2', 'HC3', 'HC4', 'HC5', 'HC6', 'HC7',\n",
       "       'HC8', 'HC9', 'HC11', 'HC12', 'HC13', 'HC14', 'HC16', 'HC17',\n",
       "       'HC18', 'HC19', 'HC21', 'MHUC1', 'AC1', 'AC2', 'CARDPROM',\n",
       "       'NUMPROM', 'CARDPM12', 'NUMPRM12', 'RAMNT_12', 'RAMNT_14',\n",
       "       'RAMNT_16', 'RAMNTALL', 'NGIFTALL', 'CARDGIFT', 'MINRAMNT',\n",
       "       'MAXRAMNT', 'LASTGIFT', 'TIMELAG', 'AVGGIFT', 'RFA_2F', 'RFA_2A',\n",
       "       'CLUSTER2', 'RFA_3F', 'RFA_3A', 'RFA_4F', 'RFA_4A', 'RFA_6F',\n",
       "       'RFA_6A', 'ZIP_latitude', 'ZIP_longitude', 'LASTDATE_DELTA_MONTHS',\n",
       "       'MINRDATE_DELTA_MONTHS', 'MAXRDATE_DELTA_MONTHS',\n",
       "       'ODATEDW_DELTA_YEARS'], dtype=object)"
      ]
     },
     "execution_count": 34,
     "metadata": {},
     "output_type": "execute_result"
    }
   ],
   "source": [
    "selected_features"
   ]
  },
  {
   "cell_type": "code",
   "execution_count": null,
   "metadata": {},
   "outputs": [],
   "source": []
  }
 ],
 "metadata": {
  "kernelspec": {
   "display_name": "py36",
   "language": "python",
   "name": "py36"
  },
  "language_info": {
   "codemirror_mode": {
    "name": "ipython",
    "version": 3
   },
   "file_extension": ".py",
   "mimetype": "text/x-python",
   "name": "python",
   "nbconvert_exporter": "python",
   "pygments_lexer": "ipython3",
   "version": "3.6.7"
  },
  "toc": {
   "base_numbering": 1,
   "nav_menu": {},
   "number_sections": true,
   "sideBar": true,
   "skip_h1_title": false,
   "title_cell": "Table of Contents",
   "title_sidebar": "Contents",
   "toc_cell": false,
   "toc_position": {
    "height": "calc(100% - 180px)",
    "left": "10px",
    "top": "150px",
    "width": "214px"
   },
   "toc_section_display": true,
   "toc_window_display": true
  }
 },
 "nbformat": 4,
 "nbformat_minor": 2
}
