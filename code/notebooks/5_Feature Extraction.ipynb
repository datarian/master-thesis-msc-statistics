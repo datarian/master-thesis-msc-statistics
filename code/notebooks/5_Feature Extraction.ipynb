{
 "cells": [
  {
   "cell_type": "code",
   "execution_count": 6,
   "metadata": {
    "init_cell": true
   },
   "outputs": [
    {
     "name": "stdout",
     "output_type": "stream",
     "text": [
      "The autoreload extension is already loaded. To reload it, use:\n",
      "  %reload_ext autoreload\n"
     ]
    }
   ],
   "source": [
    "%load_ext autoreload"
   ]
  },
  {
   "cell_type": "code",
   "execution_count": 7,
   "metadata": {
    "init_cell": true
   },
   "outputs": [],
   "source": [
    "%run \"./common_init.ipynb\""
   ]
  },
  {
   "cell_type": "code",
   "execution_count": 8,
   "metadata": {
    "init_cell": true
   },
   "outputs": [],
   "source": [
    "%autoreload 2\n",
    "import pandas as pd\n",
    "import seaborn as sns\n",
    "import matplotlib as mpl\n",
    "import matplotlib.pyplot as plt\n",
    "\n",
    "# Load custom code\n",
    "import kdd98.data_handler as dh\n",
    "from kdd98.config import Config\n",
    "import pickle"
   ]
  },
  {
   "cell_type": "code",
   "execution_count": 9,
   "metadata": {
    "init_cell": true
   },
   "outputs": [],
   "source": [
    "data_provider = dh.KDD98DataProvider(\"cup98LRN.txt\")"
   ]
  },
  {
   "cell_type": "markdown",
   "metadata": {},
   "source": [
    "Before encoding categorical features"
   ]
  },
  {
   "cell_type": "code",
   "execution_count": 13,
   "metadata": {},
   "outputs": [],
   "source": [
    "preprocessed = data_provider.preprocessed_data"
   ]
  },
  {
   "cell_type": "markdown",
   "metadata": {},
   "source": [
    "With onehot / binary encoded categories and other feature engineering (zip codes to coordinates, etc.)"
   ]
  },
  {
   "cell_type": "code",
   "execution_count": 14,
   "metadata": {},
   "outputs": [],
   "source": [
    "numeric = data_provider.numeric_data"
   ]
  },
  {
   "cell_type": "code",
   "execution_count": 16,
   "metadata": {},
   "outputs": [
    {
     "data": {
      "text/html": [
       "<div>\n",
       "<style scoped>\n",
       "    .dataframe tbody tr th:only-of-type {\n",
       "        vertical-align: middle;\n",
       "    }\n",
       "\n",
       "    .dataframe tbody tr th {\n",
       "        vertical-align: top;\n",
       "    }\n",
       "\n",
       "    .dataframe thead th {\n",
       "        text-align: right;\n",
       "    }\n",
       "</style>\n",
       "<table border=\"1\" class=\"dataframe\">\n",
       "  <thead>\n",
       "    <tr style=\"text-align: right;\">\n",
       "      <th></th>\n",
       "      <th>TARGET_B</th>\n",
       "      <th>TARGET_D</th>\n",
       "    </tr>\n",
       "    <tr>\n",
       "      <th>CONTROLN</th>\n",
       "      <th></th>\n",
       "      <th></th>\n",
       "    </tr>\n",
       "  </thead>\n",
       "  <tbody>\n",
       "    <tr>\n",
       "      <th>95515</th>\n",
       "      <td>0</td>\n",
       "      <td>0.0</td>\n",
       "    </tr>\n",
       "    <tr>\n",
       "      <th>148535</th>\n",
       "      <td>0</td>\n",
       "      <td>0.0</td>\n",
       "    </tr>\n",
       "    <tr>\n",
       "      <th>15078</th>\n",
       "      <td>0</td>\n",
       "      <td>0.0</td>\n",
       "    </tr>\n",
       "    <tr>\n",
       "      <th>172556</th>\n",
       "      <td>0</td>\n",
       "      <td>0.0</td>\n",
       "    </tr>\n",
       "    <tr>\n",
       "      <th>7112</th>\n",
       "      <td>0</td>\n",
       "      <td>0.0</td>\n",
       "    </tr>\n",
       "    <tr>\n",
       "      <th>47784</th>\n",
       "      <td>0</td>\n",
       "      <td>0.0</td>\n",
       "    </tr>\n",
       "    <tr>\n",
       "      <th>62117</th>\n",
       "      <td>0</td>\n",
       "      <td>0.0</td>\n",
       "    </tr>\n",
       "    <tr>\n",
       "      <th>109359</th>\n",
       "      <td>0</td>\n",
       "      <td>0.0</td>\n",
       "    </tr>\n",
       "    <tr>\n",
       "      <th>75768</th>\n",
       "      <td>0</td>\n",
       "      <td>0.0</td>\n",
       "    </tr>\n",
       "    <tr>\n",
       "      <th>49909</th>\n",
       "      <td>0</td>\n",
       "      <td>0.0</td>\n",
       "    </tr>\n",
       "    <tr>\n",
       "      <th>106016</th>\n",
       "      <td>0</td>\n",
       "      <td>0.0</td>\n",
       "    </tr>\n",
       "    <tr>\n",
       "      <th>60127</th>\n",
       "      <td>0</td>\n",
       "      <td>0.0</td>\n",
       "    </tr>\n",
       "    <tr>\n",
       "      <th>85548</th>\n",
       "      <td>0</td>\n",
       "      <td>0.0</td>\n",
       "    </tr>\n",
       "    <tr>\n",
       "      <th>12890</th>\n",
       "      <td>0</td>\n",
       "      <td>0.0</td>\n",
       "    </tr>\n",
       "    <tr>\n",
       "      <th>134891</th>\n",
       "      <td>0</td>\n",
       "      <td>0.0</td>\n",
       "    </tr>\n",
       "    <tr>\n",
       "      <th>143689</th>\n",
       "      <td>0</td>\n",
       "      <td>0.0</td>\n",
       "    </tr>\n",
       "    <tr>\n",
       "      <th>64667</th>\n",
       "      <td>0</td>\n",
       "      <td>0.0</td>\n",
       "    </tr>\n",
       "    <tr>\n",
       "      <th>98090</th>\n",
       "      <td>0</td>\n",
       "      <td>0.0</td>\n",
       "    </tr>\n",
       "    <tr>\n",
       "      <th>35557</th>\n",
       "      <td>0</td>\n",
       "      <td>0.0</td>\n",
       "    </tr>\n",
       "    <tr>\n",
       "      <th>42556</th>\n",
       "      <td>0</td>\n",
       "      <td>0.0</td>\n",
       "    </tr>\n",
       "    <tr>\n",
       "      <th>82943</th>\n",
       "      <td>1</td>\n",
       "      <td>4.0</td>\n",
       "    </tr>\n",
       "    <tr>\n",
       "      <th>72675</th>\n",
       "      <td>0</td>\n",
       "      <td>0.0</td>\n",
       "    </tr>\n",
       "    <tr>\n",
       "      <th>190166</th>\n",
       "      <td>0</td>\n",
       "      <td>0.0</td>\n",
       "    </tr>\n",
       "    <tr>\n",
       "      <th>92152</th>\n",
       "      <td>0</td>\n",
       "      <td>0.0</td>\n",
       "    </tr>\n",
       "    <tr>\n",
       "      <th>82229</th>\n",
       "      <td>0</td>\n",
       "      <td>0.0</td>\n",
       "    </tr>\n",
       "    <tr>\n",
       "      <th>160963</th>\n",
       "      <td>0</td>\n",
       "      <td>0.0</td>\n",
       "    </tr>\n",
       "    <tr>\n",
       "      <th>89160</th>\n",
       "      <td>0</td>\n",
       "      <td>0.0</td>\n",
       "    </tr>\n",
       "    <tr>\n",
       "      <th>102610</th>\n",
       "      <td>0</td>\n",
       "      <td>0.0</td>\n",
       "    </tr>\n",
       "    <tr>\n",
       "      <th>122772</th>\n",
       "      <td>0</td>\n",
       "      <td>0.0</td>\n",
       "    </tr>\n",
       "    <tr>\n",
       "      <th>97870</th>\n",
       "      <td>0</td>\n",
       "      <td>0.0</td>\n",
       "    </tr>\n",
       "    <tr>\n",
       "      <th>...</th>\n",
       "      <td>...</td>\n",
       "      <td>...</td>\n",
       "    </tr>\n",
       "    <tr>\n",
       "      <th>56972</th>\n",
       "      <td>0</td>\n",
       "      <td>0.0</td>\n",
       "    </tr>\n",
       "    <tr>\n",
       "      <th>22658</th>\n",
       "      <td>0</td>\n",
       "      <td>0.0</td>\n",
       "    </tr>\n",
       "    <tr>\n",
       "      <th>126131</th>\n",
       "      <td>0</td>\n",
       "      <td>0.0</td>\n",
       "    </tr>\n",
       "    <tr>\n",
       "      <th>93718</th>\n",
       "      <td>0</td>\n",
       "      <td>0.0</td>\n",
       "    </tr>\n",
       "    <tr>\n",
       "      <th>157506</th>\n",
       "      <td>0</td>\n",
       "      <td>0.0</td>\n",
       "    </tr>\n",
       "    <tr>\n",
       "      <th>31573</th>\n",
       "      <td>0</td>\n",
       "      <td>0.0</td>\n",
       "    </tr>\n",
       "    <tr>\n",
       "      <th>46748</th>\n",
       "      <td>0</td>\n",
       "      <td>0.0</td>\n",
       "    </tr>\n",
       "    <tr>\n",
       "      <th>139193</th>\n",
       "      <td>0</td>\n",
       "      <td>0.0</td>\n",
       "    </tr>\n",
       "    <tr>\n",
       "      <th>98104</th>\n",
       "      <td>0</td>\n",
       "      <td>0.0</td>\n",
       "    </tr>\n",
       "    <tr>\n",
       "      <th>23868</th>\n",
       "      <td>0</td>\n",
       "      <td>0.0</td>\n",
       "    </tr>\n",
       "    <tr>\n",
       "      <th>132458</th>\n",
       "      <td>0</td>\n",
       "      <td>0.0</td>\n",
       "    </tr>\n",
       "    <tr>\n",
       "      <th>17039</th>\n",
       "      <td>0</td>\n",
       "      <td>0.0</td>\n",
       "    </tr>\n",
       "    <tr>\n",
       "      <th>35112</th>\n",
       "      <td>0</td>\n",
       "      <td>0.0</td>\n",
       "    </tr>\n",
       "    <tr>\n",
       "      <th>104515</th>\n",
       "      <td>0</td>\n",
       "      <td>0.0</td>\n",
       "    </tr>\n",
       "    <tr>\n",
       "      <th>12322</th>\n",
       "      <td>0</td>\n",
       "      <td>0.0</td>\n",
       "    </tr>\n",
       "    <tr>\n",
       "      <th>131980</th>\n",
       "      <td>0</td>\n",
       "      <td>0.0</td>\n",
       "    </tr>\n",
       "    <tr>\n",
       "      <th>78831</th>\n",
       "      <td>1</td>\n",
       "      <td>3.0</td>\n",
       "    </tr>\n",
       "    <tr>\n",
       "      <th>29549</th>\n",
       "      <td>0</td>\n",
       "      <td>0.0</td>\n",
       "    </tr>\n",
       "    <tr>\n",
       "      <th>38061</th>\n",
       "      <td>0</td>\n",
       "      <td>0.0</td>\n",
       "    </tr>\n",
       "    <tr>\n",
       "      <th>109741</th>\n",
       "      <td>0</td>\n",
       "      <td>0.0</td>\n",
       "    </tr>\n",
       "    <tr>\n",
       "      <th>47945</th>\n",
       "      <td>0</td>\n",
       "      <td>0.0</td>\n",
       "    </tr>\n",
       "    <tr>\n",
       "      <th>84678</th>\n",
       "      <td>1</td>\n",
       "      <td>10.0</td>\n",
       "    </tr>\n",
       "    <tr>\n",
       "      <th>58178</th>\n",
       "      <td>0</td>\n",
       "      <td>0.0</td>\n",
       "    </tr>\n",
       "    <tr>\n",
       "      <th>156106</th>\n",
       "      <td>0</td>\n",
       "      <td>0.0</td>\n",
       "    </tr>\n",
       "    <tr>\n",
       "      <th>35088</th>\n",
       "      <td>0</td>\n",
       "      <td>0.0</td>\n",
       "    </tr>\n",
       "    <tr>\n",
       "      <th>184568</th>\n",
       "      <td>0</td>\n",
       "      <td>0.0</td>\n",
       "    </tr>\n",
       "    <tr>\n",
       "      <th>122706</th>\n",
       "      <td>0</td>\n",
       "      <td>0.0</td>\n",
       "    </tr>\n",
       "    <tr>\n",
       "      <th>189641</th>\n",
       "      <td>0</td>\n",
       "      <td>0.0</td>\n",
       "    </tr>\n",
       "    <tr>\n",
       "      <th>4693</th>\n",
       "      <td>1</td>\n",
       "      <td>18.0</td>\n",
       "    </tr>\n",
       "    <tr>\n",
       "      <th>185114</th>\n",
       "      <td>0</td>\n",
       "      <td>0.0</td>\n",
       "    </tr>\n",
       "  </tbody>\n",
       "</table>\n",
       "<p>95412 rows × 2 columns</p>\n",
       "</div>"
      ],
      "text/plain": [
       "         TARGET_B  TARGET_D\n",
       "CONTROLN                   \n",
       "95515           0       0.0\n",
       "148535          0       0.0\n",
       "15078           0       0.0\n",
       "172556          0       0.0\n",
       "7112            0       0.0\n",
       "47784           0       0.0\n",
       "62117           0       0.0\n",
       "109359          0       0.0\n",
       "75768           0       0.0\n",
       "49909           0       0.0\n",
       "106016          0       0.0\n",
       "60127           0       0.0\n",
       "85548           0       0.0\n",
       "12890           0       0.0\n",
       "134891          0       0.0\n",
       "143689          0       0.0\n",
       "64667           0       0.0\n",
       "98090           0       0.0\n",
       "35557           0       0.0\n",
       "42556           0       0.0\n",
       "82943           1       4.0\n",
       "72675           0       0.0\n",
       "190166          0       0.0\n",
       "92152           0       0.0\n",
       "82229           0       0.0\n",
       "160963          0       0.0\n",
       "89160           0       0.0\n",
       "102610          0       0.0\n",
       "122772          0       0.0\n",
       "97870           0       0.0\n",
       "...           ...       ...\n",
       "56972           0       0.0\n",
       "22658           0       0.0\n",
       "126131          0       0.0\n",
       "93718           0       0.0\n",
       "157506          0       0.0\n",
       "31573           0       0.0\n",
       "46748           0       0.0\n",
       "139193          0       0.0\n",
       "98104           0       0.0\n",
       "23868           0       0.0\n",
       "132458          0       0.0\n",
       "17039           0       0.0\n",
       "35112           0       0.0\n",
       "104515          0       0.0\n",
       "12322           0       0.0\n",
       "131980          0       0.0\n",
       "78831           1       3.0\n",
       "29549           0       0.0\n",
       "38061           0       0.0\n",
       "109741          0       0.0\n",
       "47945           0       0.0\n",
       "84678           1      10.0\n",
       "58178           0       0.0\n",
       "156106          0       0.0\n",
       "35088           0       0.0\n",
       "184568          0       0.0\n",
       "122706          0       0.0\n",
       "189641          0       0.0\n",
       "4693            1      18.0\n",
       "185114          0       0.0\n",
       "\n",
       "[95412 rows x 2 columns]"
      ]
     },
     "execution_count": 16,
     "metadata": {},
     "output_type": "execute_result"
    }
   ],
   "source": [
    "numeric[\"targets\"]"
   ]
  },
  {
   "cell_type": "code",
   "execution_count": 10,
   "metadata": {
    "init_cell": true
   },
   "outputs": [],
   "source": [
    "# Where to save the figures\n",
    "PROJECT_ROOT_DIR = \"../../\"\n",
    "CHAPTER_ID = \"feature_extraction\"\n",
    "IMAGES_PATH = os.path.join(PROJECT_ROOT_DIR, \"figures\", CHAPTER_ID)\n",
    "\n",
    "if not os.path.exists(IMAGES_PATH):\n",
    "    os.makedirs(IMAGES_PATH)\n",
    "\n",
    "def save_fig(fig_id, tight_layout=True, fig_extension=[\"pdf\", \"png\"], resolution=300):\n",
    "    if tight_layout:\n",
    "        plt.tight_layout()\n",
    "    [plt.savefig(pathlib.Path(IMAGES_PATH, fig_id + \".\" + f), \n",
    "                 format=f,\n",
    "                 dpi=resolution,\n",
    "                 transparent=True,\n",
    "                 bbox_inches='tight') for f in fig_extension]"
   ]
  },
  {
   "cell_type": "markdown",
   "metadata": {},
   "source": [
    "## Finding relevant features"
   ]
  },
  {
   "cell_type": "code",
   "execution_count": 57,
   "metadata": {},
   "outputs": [],
   "source": [
    "with open(pathlib.Path(Config.get(\"df_store\"), \"Xy_imputed_median.pd.pkl\"), \"rb\") as f:\n",
    "    Xy = pickle.load(f)"
   ]
  },
  {
   "cell_type": "code",
   "execution_count": 33,
   "metadata": {},
   "outputs": [],
   "source": [
    "with open(pathlib.Path(Config.get(\"df_store\"), \"X_train.pd.pkl\"), \"rb\") as f:\n",
    "    X_train = pickle.load(f)\n",
    "with open(pathlib.Path(Config.get(\"df_store\"), \"y_train.pd.pkl\"), \"rb\") as f:\n",
    "    y_train = pickle.load(f)\n",
    "with open(pathlib.Path(Config.get(\"df_store\"), \"X_val.pd.pkl\"), \"rb\") as f:\n",
    "    X_val = pickle.load(f)\n",
    "with open(pathlib.Path(Config.get(\"df_store\"), \"y_val.pd.pkl\"), \"rb\") as f:\n",
    "    y_val = pickle.load(f)"
   ]
  },
  {
   "cell_type": "code",
   "execution_count": 10,
   "metadata": {},
   "outputs": [
    {
     "data": {
      "text/html": [
       "<div>\n",
       "<style scoped>\n",
       "    .dataframe tbody tr th:only-of-type {\n",
       "        vertical-align: middle;\n",
       "    }\n",
       "\n",
       "    .dataframe tbody tr th {\n",
       "        vertical-align: top;\n",
       "    }\n",
       "\n",
       "    .dataframe thead th {\n",
       "        text-align: right;\n",
       "    }\n",
       "</style>\n",
       "<table border=\"1\" class=\"dataframe\">\n",
       "  <thead>\n",
       "    <tr style=\"text-align: right;\">\n",
       "      <th></th>\n",
       "      <th>RECINHSE</th>\n",
       "      <th>AGE</th>\n",
       "      <th>AGEFLAG</th>\n",
       "      <th>HOMEOWNR</th>\n",
       "      <th>NUMCHLD</th>\n",
       "      <th>INCOME</th>\n",
       "      <th>WEALTH1</th>\n",
       "      <th>HIT</th>\n",
       "      <th>MBCRAFT</th>\n",
       "      <th>MBBOOKS</th>\n",
       "      <th>...</th>\n",
       "      <th>RFA_24R_P</th>\n",
       "      <th>RFA_24R_S</th>\n",
       "      <th>RFA_24R_U</th>\n",
       "      <th>RFA_24R_nan</th>\n",
       "      <th>DOMAINUrbanicity_C</th>\n",
       "      <th>DOMAINUrbanicity_R</th>\n",
       "      <th>DOMAINUrbanicity_S</th>\n",
       "      <th>DOMAINUrbanicity_T</th>\n",
       "      <th>DOMAINUrbanicity_U</th>\n",
       "      <th>DOMAINUrbanicity_nan</th>\n",
       "    </tr>\n",
       "  </thead>\n",
       "  <tbody>\n",
       "    <tr>\n",
       "      <th>count</th>\n",
       "      <td>95412.000000</td>\n",
       "      <td>95412.000000</td>\n",
       "      <td>95412.000000</td>\n",
       "      <td>95412.000000</td>\n",
       "      <td>95412.000000</td>\n",
       "      <td>95412.000000</td>\n",
       "      <td>95412.000000</td>\n",
       "      <td>95412.000000</td>\n",
       "      <td>95412.000000</td>\n",
       "      <td>95412.000000</td>\n",
       "      <td>...</td>\n",
       "      <td>95412.000000</td>\n",
       "      <td>95412.000000</td>\n",
       "      <td>95412.000000</td>\n",
       "      <td>95412.000000</td>\n",
       "      <td>95412.000000</td>\n",
       "      <td>95412.000000</td>\n",
       "      <td>95412.000000</td>\n",
       "      <td>95412.000000</td>\n",
       "      <td>95412.000000</td>\n",
       "      <td>95412.000000</td>\n",
       "    </tr>\n",
       "    <tr>\n",
       "      <th>mean</th>\n",
       "      <td>0.070253</td>\n",
       "      <td>61.707972</td>\n",
       "      <td>0.910703</td>\n",
       "      <td>0.781684</td>\n",
       "      <td>1.068513</td>\n",
       "      <td>3.911625</td>\n",
       "      <td>6.652455</td>\n",
       "      <td>3.321438</td>\n",
       "      <td>0.067832</td>\n",
       "      <td>0.497956</td>\n",
       "      <td>...</td>\n",
       "      <td>0.009831</td>\n",
       "      <td>0.149583</td>\n",
       "      <td>0.000262</td>\n",
       "      <td>0.387509</td>\n",
       "      <td>0.206358</td>\n",
       "      <td>0.207416</td>\n",
       "      <td>0.229782</td>\n",
       "      <td>0.204660</td>\n",
       "      <td>0.127510</td>\n",
       "      <td>0.024274</td>\n",
       "    </tr>\n",
       "    <tr>\n",
       "      <th>std</th>\n",
       "      <td>0.255575</td>\n",
       "      <td>14.451513</td>\n",
       "      <td>0.285173</td>\n",
       "      <td>0.413105</td>\n",
       "      <td>0.340549</td>\n",
       "      <td>1.635685</td>\n",
       "      <td>2.025250</td>\n",
       "      <td>9.306899</td>\n",
       "      <td>0.322884</td>\n",
       "      <td>1.245737</td>\n",
       "      <td>...</td>\n",
       "      <td>0.098664</td>\n",
       "      <td>0.356664</td>\n",
       "      <td>0.016185</td>\n",
       "      <td>0.487184</td>\n",
       "      <td>0.404692</td>\n",
       "      <td>0.405458</td>\n",
       "      <td>0.420695</td>\n",
       "      <td>0.403455</td>\n",
       "      <td>0.333545</td>\n",
       "      <td>0.153898</td>\n",
       "    </tr>\n",
       "    <tr>\n",
       "      <th>min</th>\n",
       "      <td>0.000000</td>\n",
       "      <td>1.000000</td>\n",
       "      <td>0.000000</td>\n",
       "      <td>0.000000</td>\n",
       "      <td>1.000000</td>\n",
       "      <td>1.000000</td>\n",
       "      <td>1.000000</td>\n",
       "      <td>0.000000</td>\n",
       "      <td>0.000000</td>\n",
       "      <td>0.000000</td>\n",
       "      <td>...</td>\n",
       "      <td>0.000000</td>\n",
       "      <td>0.000000</td>\n",
       "      <td>0.000000</td>\n",
       "      <td>0.000000</td>\n",
       "      <td>0.000000</td>\n",
       "      <td>0.000000</td>\n",
       "      <td>0.000000</td>\n",
       "      <td>0.000000</td>\n",
       "      <td>0.000000</td>\n",
       "      <td>0.000000</td>\n",
       "    </tr>\n",
       "    <tr>\n",
       "      <th>25%</th>\n",
       "      <td>0.000000</td>\n",
       "      <td>52.000000</td>\n",
       "      <td>1.000000</td>\n",
       "      <td>1.000000</td>\n",
       "      <td>1.000000</td>\n",
       "      <td>3.000000</td>\n",
       "      <td>6.000000</td>\n",
       "      <td>0.000000</td>\n",
       "      <td>0.000000</td>\n",
       "      <td>0.000000</td>\n",
       "      <td>...</td>\n",
       "      <td>0.000000</td>\n",
       "      <td>0.000000</td>\n",
       "      <td>0.000000</td>\n",
       "      <td>0.000000</td>\n",
       "      <td>0.000000</td>\n",
       "      <td>0.000000</td>\n",
       "      <td>0.000000</td>\n",
       "      <td>0.000000</td>\n",
       "      <td>0.000000</td>\n",
       "      <td>0.000000</td>\n",
       "    </tr>\n",
       "    <tr>\n",
       "      <th>50%</th>\n",
       "      <td>0.000000</td>\n",
       "      <td>62.000000</td>\n",
       "      <td>1.000000</td>\n",
       "      <td>1.000000</td>\n",
       "      <td>1.000000</td>\n",
       "      <td>4.000000</td>\n",
       "      <td>7.000000</td>\n",
       "      <td>0.000000</td>\n",
       "      <td>0.000000</td>\n",
       "      <td>0.000000</td>\n",
       "      <td>...</td>\n",
       "      <td>0.000000</td>\n",
       "      <td>0.000000</td>\n",
       "      <td>0.000000</td>\n",
       "      <td>0.000000</td>\n",
       "      <td>0.000000</td>\n",
       "      <td>0.000000</td>\n",
       "      <td>0.000000</td>\n",
       "      <td>0.000000</td>\n",
       "      <td>0.000000</td>\n",
       "      <td>0.000000</td>\n",
       "    </tr>\n",
       "    <tr>\n",
       "      <th>75%</th>\n",
       "      <td>0.000000</td>\n",
       "      <td>71.000000</td>\n",
       "      <td>1.000000</td>\n",
       "      <td>1.000000</td>\n",
       "      <td>1.000000</td>\n",
       "      <td>5.000000</td>\n",
       "      <td>7.000000</td>\n",
       "      <td>3.000000</td>\n",
       "      <td>0.000000</td>\n",
       "      <td>0.000000</td>\n",
       "      <td>...</td>\n",
       "      <td>0.000000</td>\n",
       "      <td>0.000000</td>\n",
       "      <td>0.000000</td>\n",
       "      <td>1.000000</td>\n",
       "      <td>0.000000</td>\n",
       "      <td>0.000000</td>\n",
       "      <td>0.000000</td>\n",
       "      <td>0.000000</td>\n",
       "      <td>0.000000</td>\n",
       "      <td>0.000000</td>\n",
       "    </tr>\n",
       "    <tr>\n",
       "      <th>max</th>\n",
       "      <td>1.000000</td>\n",
       "      <td>98.000000</td>\n",
       "      <td>1.000000</td>\n",
       "      <td>1.000000</td>\n",
       "      <td>7.000000</td>\n",
       "      <td>7.000000</td>\n",
       "      <td>10.000000</td>\n",
       "      <td>241.000000</td>\n",
       "      <td>6.000000</td>\n",
       "      <td>9.000000</td>\n",
       "      <td>...</td>\n",
       "      <td>1.000000</td>\n",
       "      <td>1.000000</td>\n",
       "      <td>1.000000</td>\n",
       "      <td>1.000000</td>\n",
       "      <td>1.000000</td>\n",
       "      <td>1.000000</td>\n",
       "      <td>1.000000</td>\n",
       "      <td>1.000000</td>\n",
       "      <td>1.000000</td>\n",
       "      <td>1.000000</td>\n",
       "    </tr>\n",
       "  </tbody>\n",
       "</table>\n",
       "<p>8 rows × 653 columns</p>\n",
       "</div>"
      ],
      "text/plain": [
       "           RECINHSE           AGE       AGEFLAG      HOMEOWNR       NUMCHLD  \\\n",
       "count  95412.000000  95412.000000  95412.000000  95412.000000  95412.000000   \n",
       "mean       0.070253     61.707972      0.910703      0.781684      1.068513   \n",
       "std        0.255575     14.451513      0.285173      0.413105      0.340549   \n",
       "min        0.000000      1.000000      0.000000      0.000000      1.000000   \n",
       "25%        0.000000     52.000000      1.000000      1.000000      1.000000   \n",
       "50%        0.000000     62.000000      1.000000      1.000000      1.000000   \n",
       "75%        0.000000     71.000000      1.000000      1.000000      1.000000   \n",
       "max        1.000000     98.000000      1.000000      1.000000      7.000000   \n",
       "\n",
       "             INCOME       WEALTH1           HIT       MBCRAFT       MBBOOKS  \\\n",
       "count  95412.000000  95412.000000  95412.000000  95412.000000  95412.000000   \n",
       "mean       3.911625      6.652455      3.321438      0.067832      0.497956   \n",
       "std        1.635685      2.025250      9.306899      0.322884      1.245737   \n",
       "min        1.000000      1.000000      0.000000      0.000000      0.000000   \n",
       "25%        3.000000      6.000000      0.000000      0.000000      0.000000   \n",
       "50%        4.000000      7.000000      0.000000      0.000000      0.000000   \n",
       "75%        5.000000      7.000000      3.000000      0.000000      0.000000   \n",
       "max        7.000000     10.000000    241.000000      6.000000      9.000000   \n",
       "\n",
       "       ...     RFA_24R_P     RFA_24R_S     RFA_24R_U   RFA_24R_nan  \\\n",
       "count  ...  95412.000000  95412.000000  95412.000000  95412.000000   \n",
       "mean   ...      0.009831      0.149583      0.000262      0.387509   \n",
       "std    ...      0.098664      0.356664      0.016185      0.487184   \n",
       "min    ...      0.000000      0.000000      0.000000      0.000000   \n",
       "25%    ...      0.000000      0.000000      0.000000      0.000000   \n",
       "50%    ...      0.000000      0.000000      0.000000      0.000000   \n",
       "75%    ...      0.000000      0.000000      0.000000      1.000000   \n",
       "max    ...      1.000000      1.000000      1.000000      1.000000   \n",
       "\n",
       "       DOMAINUrbanicity_C  DOMAINUrbanicity_R  DOMAINUrbanicity_S  \\\n",
       "count        95412.000000        95412.000000        95412.000000   \n",
       "mean             0.206358            0.207416            0.229782   \n",
       "std              0.404692            0.405458            0.420695   \n",
       "min              0.000000            0.000000            0.000000   \n",
       "25%              0.000000            0.000000            0.000000   \n",
       "50%              0.000000            0.000000            0.000000   \n",
       "75%              0.000000            0.000000            0.000000   \n",
       "max              1.000000            1.000000            1.000000   \n",
       "\n",
       "       DOMAINUrbanicity_T  DOMAINUrbanicity_U  DOMAINUrbanicity_nan  \n",
       "count        95412.000000        95412.000000          95412.000000  \n",
       "mean             0.204660            0.127510              0.024274  \n",
       "std              0.403455            0.333545              0.153898  \n",
       "min              0.000000            0.000000              0.000000  \n",
       "25%              0.000000            0.000000              0.000000  \n",
       "50%              0.000000            0.000000              0.000000  \n",
       "75%              0.000000            0.000000              0.000000  \n",
       "max              1.000000            1.000000              1.000000  \n",
       "\n",
       "[8 rows x 653 columns]"
      ]
     },
     "execution_count": 10,
     "metadata": {},
     "output_type": "execute_result"
    }
   ],
   "source": [
    "Xy[\"data\"].describe()"
   ]
  },
  {
   "cell_type": "code",
   "execution_count": 22,
   "metadata": {},
   "outputs": [
    {
     "name": "stdout",
     "output_type": "stream",
     "text": [
      "<class 'pandas.core.frame.DataFrame'>\n",
      "Int64Index: 95412 entries, 95515 to 185114\n",
      "Data columns (total 2 columns):\n",
      "TARGET_B    95412 non-null object\n",
      "TARGET_D    95412 non-null float64\n",
      "dtypes: float64(1), object(1)\n",
      "memory usage: 2.2+ MB\n"
     ]
    }
   ],
   "source": [
    "Xy[\"targets\"].info()"
   ]
  },
  {
   "cell_type": "markdown",
   "metadata": {},
   "source": [
    "### Boruta"
   ]
  },
  {
   "cell_type": "code",
   "execution_count": 23,
   "metadata": {},
   "outputs": [],
   "source": [
    "from boruta import BorutaPy\n",
    "from sklearn.ensemble import RandomForestClassifier"
   ]
  },
  {
   "cell_type": "code",
   "execution_count": 24,
   "metadata": {},
   "outputs": [
    {
     "name": "stdout",
     "output_type": "stream",
     "text": [
      "Help on class BorutaPy in module boruta.boruta_py:\n",
      "\n",
      "class BorutaPy(sklearn.base.BaseEstimator, sklearn.base.TransformerMixin)\n",
      " |  Improved Python implementation of the Boruta R package.\n",
      " |  \n",
      " |  The improvements of this implementation include:\n",
      " |  - Faster run times:\n",
      " |      Thanks to scikit-learn's fast implementation of the ensemble methods.\n",
      " |  - Scikit-learn like interface:\n",
      " |      Use BorutaPy just like any other scikit learner: fit, fit_transform and\n",
      " |      transform are all implemented in a similar fashion.\n",
      " |  - Modularity:\n",
      " |      Any ensemble method could be used: random forest, extra trees\n",
      " |      classifier, even gradient boosted trees.\n",
      " |  - Two step correction:\n",
      " |      The original Boruta code corrects for multiple testing in an overly\n",
      " |      conservative way. In this implementation, the Benjamini Hochberg FDR is\n",
      " |      used to correct in each iteration across active features. This means\n",
      " |      only those features are included in the correction which are still in\n",
      " |      the selection process. Following this, each that passed goes through a\n",
      " |      regular Bonferroni correction to check for the repeated testing over\n",
      " |      the iterations.\n",
      " |  - Percentile:\n",
      " |      Instead of using the max values of the shadow features the user can\n",
      " |      specify which percentile to use. This gives a finer control over this\n",
      " |      crucial parameter. For more info, please read about the perc parameter.\n",
      " |  - Automatic tree number:\n",
      " |      Setting the n_estimator to 'auto' will calculate the number of trees\n",
      " |      in each itartion based on the number of features under investigation.\n",
      " |      This way more trees are used when the training data has many feautres\n",
      " |      and less when most of the features have been rejected.\n",
      " |  - Ranking of features:\n",
      " |      After fitting BorutaPy it provides the user with ranking of features.\n",
      " |      Confirmed ones are 1, Tentatives are 2, and the rejected are ranked\n",
      " |      starting from 3, based on their feautre importance history through\n",
      " |      the iterations.\n",
      " |  \n",
      " |  We highly recommend using pruned trees with a depth between 3-7.\n",
      " |  \n",
      " |  For more, see the docs of these functions, and the examples below.\n",
      " |  \n",
      " |  Original code and method by: Miron B Kursa, https://m2.icm.edu.pl/boruta/\n",
      " |  \n",
      " |  Boruta is an all relevant feature selection method, while most other are\n",
      " |  minimal optimal; this means it tries to find all features carrying\n",
      " |  information usable for prediction, rather than finding a possibly compact\n",
      " |  subset of features on which some classifier has a minimal error.\n",
      " |  \n",
      " |  Why bother with all relevant feature selection?\n",
      " |  When you try to understand the phenomenon that made your data, you should\n",
      " |  care about all factors that contribute to it, not just the bluntest signs\n",
      " |  of it in context of your methodology (yes, minimal optimal set of features\n",
      " |  by definition depends on your classifier choice).\n",
      " |  \n",
      " |  Parameters\n",
      " |  ----------\n",
      " |  \n",
      " |  estimator : object\n",
      " |      A supervised learning estimator, with a 'fit' method that returns the\n",
      " |      feature_importances_ attribute. Important features must correspond to\n",
      " |      high absolute values in the feature_importances_.\n",
      " |  \n",
      " |  n_estimators : int or string, default = 1000\n",
      " |      If int sets the number of estimators in the chosen ensemble method.\n",
      " |      If 'auto' this is determined automatically based on the size of the\n",
      " |      dataset. The other parameters of the used estimators need to be set\n",
      " |      with initialisation.\n",
      " |  \n",
      " |  perc : int, default = 100\n",
      " |      Instead of the max we use the percentile defined by the user, to pick\n",
      " |      our threshold for comparison between shadow and real features. The max\n",
      " |      tend to be too stringent. This provides a finer control over this. The\n",
      " |      lower perc is the more false positives will be picked as relevant but\n",
      " |      also the less relevant features will be left out. The usual trade-off.\n",
      " |      The default is essentially the vanilla Boruta corresponding to the max.\n",
      " |  \n",
      " |  alpha : float, default = 0.05\n",
      " |      Level at which the corrected p-values will get rejected in both\n",
      " |      correction steps.\n",
      " |  \n",
      " |  two_step : Boolean, default = True\n",
      " |      If you want to use the original implementation of Boruta with Bonferroni\n",
      " |      correction only set this to False.\n",
      " |  \n",
      " |  max_iter : int, default = 100\n",
      " |      The number of maximum iterations to perform.\n",
      " |  \n",
      " |  random_state : int, RandomState instance or None; default=None\n",
      " |      If int, random_state is the seed used by the random number generator;\n",
      " |      If RandomState instance, random_state is the random number generator;\n",
      " |      If None, the random number generator is the RandomState instance used\n",
      " |      by `np.random`.\n",
      " |  \n",
      " |  verbose : int, default=0\n",
      " |      Controls verbosity of output:\n",
      " |      - 0: no output\n",
      " |      - 1: displays iteration number\n",
      " |      - 2: which features have been selected already\n",
      " |  \n",
      " |  Attributes\n",
      " |  ----------\n",
      " |  \n",
      " |  n_features_ : int\n",
      " |      The number of selected features.\n",
      " |  \n",
      " |  support_ : array of shape [n_features]\n",
      " |  \n",
      " |      The mask of selected features - only confirmed ones are True.\n",
      " |  \n",
      " |  support_weak_ : array of shape [n_features]\n",
      " |  \n",
      " |      The mask of selected tentative features, which haven't gained enough\n",
      " |      support during the max_iter number of iterations..\n",
      " |  \n",
      " |  ranking_ : array of shape [n_features]\n",
      " |  \n",
      " |      The feature ranking, such that ``ranking_[i]`` corresponds to the\n",
      " |      ranking position of the i-th feature. Selected (i.e., estimated\n",
      " |      best) features are assigned rank 1 and tentative features are assigned\n",
      " |      rank 2.\n",
      " |  \n",
      " |  Examples\n",
      " |  --------\n",
      " |  \n",
      " |  import pandas as pd\n",
      " |  from sklearn.ensemble import RandomForestClassifier\n",
      " |  from boruta import BorutaPy\n",
      " |  \n",
      " |  # load X and y\n",
      " |  # NOTE BorutaPy accepts numpy arrays only, hence the .values attribute\n",
      " |  X = pd.read_csv('examples/test_X.csv', index_col=0).values\n",
      " |  y = pd.read_csv('examples/test_y.csv', header=None, index_col=0).values\n",
      " |  y = y.ravel()\n",
      " |  \n",
      " |  # define random forest classifier, with utilising all cores and\n",
      " |  # sampling in proportion to y labels\n",
      " |  rf = RandomForestClassifier(n_jobs=-1, class_weight='auto', max_depth=5)\n",
      " |  \n",
      " |  # define Boruta feature selection method\n",
      " |  feat_selector = BorutaPy(rf, n_estimators='auto', verbose=2, random_state=1)\n",
      " |  \n",
      " |  # find all relevant features - 5 features should be selected\n",
      " |  feat_selector.fit(X, y)\n",
      " |  \n",
      " |  # check selected features - first 5 features are selected\n",
      " |  feat_selector.support_\n",
      " |  \n",
      " |  # check ranking of features\n",
      " |  feat_selector.ranking_\n",
      " |  \n",
      " |  # call transform() on X to filter it down to selected features\n",
      " |  X_filtered = feat_selector.transform(X)\n",
      " |  \n",
      " |  References\n",
      " |  ----------\n",
      " |  \n",
      " |  [1] Kursa M., Rudnicki W., \"Feature Selection with the Boruta Package\"\n",
      " |      Journal of Statistical Software, Vol. 36, Issue 11, Sep 2010\n",
      " |  \n",
      " |  Method resolution order:\n",
      " |      BorutaPy\n",
      " |      sklearn.base.BaseEstimator\n",
      " |      sklearn.base.TransformerMixin\n",
      " |      builtins.object\n",
      " |  \n",
      " |  Methods defined here:\n",
      " |  \n",
      " |  __init__(self, estimator, n_estimators=1000, perc=100, alpha=0.05, two_step=True, max_iter=100, random_state=None, verbose=0)\n",
      " |      Initialize self.  See help(type(self)) for accurate signature.\n",
      " |  \n",
      " |  fit(self, X, y)\n",
      " |      Fits the Boruta feature selection with the provided estimator.\n",
      " |      \n",
      " |      Parameters\n",
      " |      ----------\n",
      " |      X : array-like, shape = [n_samples, n_features]\n",
      " |          The training input samples.\n",
      " |      \n",
      " |      y : array-like, shape = [n_samples]\n",
      " |          The target values.\n",
      " |  \n",
      " |  fit_transform(self, X, y, weak=False)\n",
      " |      Fits Boruta, then reduces the input X to the selected features.\n",
      " |      \n",
      " |      Parameters\n",
      " |      ----------\n",
      " |      X : array-like, shape = [n_samples, n_features]\n",
      " |          The training input samples.\n",
      " |      \n",
      " |      y : array-like, shape = [n_samples]\n",
      " |          The target values.\n",
      " |      \n",
      " |      weak: boolean, default = False\n",
      " |          If set to true, the tentative features are also used to reduce X.\n",
      " |      \n",
      " |      Returns\n",
      " |      -------\n",
      " |      X : array-like, shape = [n_samples, n_features_]\n",
      " |          The input matrix X's columns are reduced to the features which were\n",
      " |          selected by Boruta.\n",
      " |  \n",
      " |  transform(self, X, weak=False)\n",
      " |      Reduces the input X to the features selected by Boruta.\n",
      " |      \n",
      " |      Parameters\n",
      " |      ----------\n",
      " |      X : array-like, shape = [n_samples, n_features]\n",
      " |          The training input samples.\n",
      " |      \n",
      " |      weak: boolean, default = False\n",
      " |          If set to true, the tentative features are also used to reduce X.\n",
      " |      \n",
      " |      Returns\n",
      " |      -------\n",
      " |      X : array-like, shape = [n_samples, n_features_]\n",
      " |          The input matrix X's columns are reduced to the features which were\n",
      " |          selected by Boruta.\n",
      " |  \n",
      " |  ----------------------------------------------------------------------\n",
      " |  Methods inherited from sklearn.base.BaseEstimator:\n",
      " |  \n",
      " |  __getstate__(self)\n",
      " |  \n",
      " |  __repr__(self)\n",
      " |      Return repr(self).\n",
      " |  \n",
      " |  __setstate__(self, state)\n",
      " |  \n",
      " |  get_params(self, deep=True)\n",
      " |      Get parameters for this estimator.\n",
      " |      \n",
      " |      Parameters\n",
      " |      ----------\n",
      " |      deep : boolean, optional\n",
      " |          If True, will return the parameters for this estimator and\n",
      " |          contained subobjects that are estimators.\n",
      " |      \n",
      " |      Returns\n",
      " |      -------\n",
      " |      params : mapping of string to any\n",
      " |          Parameter names mapped to their values.\n",
      " |  \n",
      " |  set_params(self, **params)\n",
      " |      Set the parameters of this estimator.\n",
      " |      \n",
      " |      The method works on simple estimators as well as on nested objects\n",
      " |      (such as pipelines). The latter have parameters of the form\n",
      " |      ``<component>__<parameter>`` so that it's possible to update each\n",
      " |      component of a nested object.\n",
      " |      \n",
      " |      Returns\n",
      " |      -------\n",
      " |      self\n",
      " |  \n",
      " |  ----------------------------------------------------------------------\n",
      " |  Data descriptors inherited from sklearn.base.BaseEstimator:\n",
      " |  \n",
      " |  __dict__\n",
      " |      dictionary for instance variables (if defined)\n",
      " |  \n",
      " |  __weakref__\n",
      " |      list of weak references to the object (if defined)\n",
      "\n"
     ]
    }
   ],
   "source": [
    "help(BorutaPy)"
   ]
  },
  {
   "cell_type": "code",
   "execution_count": 48,
   "metadata": {},
   "outputs": [],
   "source": [
    "# define random forest classifier, with utilising all cores and\n",
    "# sampling in proportion to y labels\n",
    "rf = RandomForestClassifier(n_jobs=-1,\n",
    "                            max_depth=6,\n",
    "                            class_weight='balanced')\n",
    "\n",
    "# define Boruta feature selection method\n",
    "feat_selector = BorutaPy(rf,\n",
    "                         n_estimators='auto',\n",
    "                         max_iter=120,\n",
    "                         perc=95,\n",
    "                         verbose=10,\n",
    "                         random_state=Config.get(\"random_seed\"))"
   ]
  },
  {
   "cell_type": "code",
   "execution_count": 49,
   "metadata": {},
   "outputs": [
    {
     "name": "stdout",
     "output_type": "stream",
     "text": [
      "Iteration: \t1 / 120\n",
      "Confirmed: \t0\n",
      "Tentative: \t653\n",
      "Rejected: \t0\n",
      "Iteration: \t2 / 120\n",
      "Confirmed: \t0\n",
      "Tentative: \t653\n",
      "Rejected: \t0\n",
      "Iteration: \t3 / 120\n",
      "Confirmed: \t0\n",
      "Tentative: \t653\n",
      "Rejected: \t0\n",
      "Iteration: \t4 / 120\n",
      "Confirmed: \t0\n",
      "Tentative: \t653\n",
      "Rejected: \t0\n",
      "Iteration: \t5 / 120\n",
      "Confirmed: \t0\n",
      "Tentative: \t653\n",
      "Rejected: \t0\n",
      "Iteration: \t6 / 120\n",
      "Confirmed: \t0\n",
      "Tentative: \t653\n",
      "Rejected: \t0\n",
      "Iteration: \t7 / 120\n",
      "Confirmed: \t0\n",
      "Tentative: \t653\n",
      "Rejected: \t0\n",
      "Iteration: \t8 / 120\n",
      "Confirmed: \t57\n",
      "Tentative: \t42\n",
      "Rejected: \t554\n"
     ]
    },
    {
     "name": "stderr",
     "output_type": "stream",
     "text": [
      "/data/anaconda/envs/py36/lib/python3.6/site-packages/boruta/boruta_py.py:418: RuntimeWarning: invalid value encountered in greater\n",
      "  hits = np.where(cur_imp[0] > imp_sha_max)[0]\n"
     ]
    },
    {
     "name": "stdout",
     "output_type": "stream",
     "text": [
      "Iteration: \t9 / 120\n",
      "Confirmed: \t57\n",
      "Tentative: \t42\n",
      "Rejected: \t554\n"
     ]
    },
    {
     "name": "stderr",
     "output_type": "stream",
     "text": [
      "/data/anaconda/envs/py36/lib/python3.6/site-packages/boruta/boruta_py.py:418: RuntimeWarning: invalid value encountered in greater\n",
      "  hits = np.where(cur_imp[0] > imp_sha_max)[0]\n"
     ]
    },
    {
     "name": "stdout",
     "output_type": "stream",
     "text": [
      "Iteration: \t10 / 120\n",
      "Confirmed: \t57\n",
      "Tentative: \t42\n",
      "Rejected: \t554\n"
     ]
    },
    {
     "name": "stderr",
     "output_type": "stream",
     "text": [
      "/data/anaconda/envs/py36/lib/python3.6/site-packages/boruta/boruta_py.py:418: RuntimeWarning: invalid value encountered in greater\n",
      "  hits = np.where(cur_imp[0] > imp_sha_max)[0]\n"
     ]
    },
    {
     "name": "stdout",
     "output_type": "stream",
     "text": [
      "Iteration: \t11 / 120\n",
      "Confirmed: \t57\n",
      "Tentative: \t42\n",
      "Rejected: \t554\n"
     ]
    },
    {
     "name": "stderr",
     "output_type": "stream",
     "text": [
      "/data/anaconda/envs/py36/lib/python3.6/site-packages/boruta/boruta_py.py:418: RuntimeWarning: invalid value encountered in greater\n",
      "  hits = np.where(cur_imp[0] > imp_sha_max)[0]\n"
     ]
    },
    {
     "name": "stdout",
     "output_type": "stream",
     "text": [
      "Iteration: \t12 / 120\n",
      "Confirmed: \t57\n",
      "Tentative: \t27\n",
      "Rejected: \t569\n"
     ]
    },
    {
     "name": "stderr",
     "output_type": "stream",
     "text": [
      "/data/anaconda/envs/py36/lib/python3.6/site-packages/boruta/boruta_py.py:418: RuntimeWarning: invalid value encountered in greater\n",
      "  hits = np.where(cur_imp[0] > imp_sha_max)[0]\n"
     ]
    },
    {
     "name": "stdout",
     "output_type": "stream",
     "text": [
      "Iteration: \t13 / 120\n",
      "Confirmed: \t57\n",
      "Tentative: \t27\n",
      "Rejected: \t569\n"
     ]
    },
    {
     "name": "stderr",
     "output_type": "stream",
     "text": [
      "/data/anaconda/envs/py36/lib/python3.6/site-packages/boruta/boruta_py.py:418: RuntimeWarning: invalid value encountered in greater\n",
      "  hits = np.where(cur_imp[0] > imp_sha_max)[0]\n"
     ]
    },
    {
     "name": "stdout",
     "output_type": "stream",
     "text": [
      "Iteration: \t14 / 120\n",
      "Confirmed: \t57\n",
      "Tentative: \t27\n",
      "Rejected: \t569\n"
     ]
    },
    {
     "name": "stderr",
     "output_type": "stream",
     "text": [
      "/data/anaconda/envs/py36/lib/python3.6/site-packages/boruta/boruta_py.py:418: RuntimeWarning: invalid value encountered in greater\n",
      "  hits = np.where(cur_imp[0] > imp_sha_max)[0]\n"
     ]
    },
    {
     "name": "stdout",
     "output_type": "stream",
     "text": [
      "Iteration: \t15 / 120\n",
      "Confirmed: \t57\n",
      "Tentative: \t27\n",
      "Rejected: \t569\n"
     ]
    },
    {
     "name": "stderr",
     "output_type": "stream",
     "text": [
      "/data/anaconda/envs/py36/lib/python3.6/site-packages/boruta/boruta_py.py:418: RuntimeWarning: invalid value encountered in greater\n",
      "  hits = np.where(cur_imp[0] > imp_sha_max)[0]\n"
     ]
    },
    {
     "name": "stdout",
     "output_type": "stream",
     "text": [
      "Iteration: \t16 / 120\n",
      "Confirmed: \t57\n",
      "Tentative: \t22\n",
      "Rejected: \t574\n"
     ]
    },
    {
     "name": "stderr",
     "output_type": "stream",
     "text": [
      "/data/anaconda/envs/py36/lib/python3.6/site-packages/boruta/boruta_py.py:418: RuntimeWarning: invalid value encountered in greater\n",
      "  hits = np.where(cur_imp[0] > imp_sha_max)[0]\n"
     ]
    },
    {
     "name": "stdout",
     "output_type": "stream",
     "text": [
      "Iteration: \t17 / 120\n",
      "Confirmed: \t57\n",
      "Tentative: \t22\n",
      "Rejected: \t574\n"
     ]
    },
    {
     "name": "stderr",
     "output_type": "stream",
     "text": [
      "/data/anaconda/envs/py36/lib/python3.6/site-packages/boruta/boruta_py.py:418: RuntimeWarning: invalid value encountered in greater\n",
      "  hits = np.where(cur_imp[0] > imp_sha_max)[0]\n"
     ]
    },
    {
     "name": "stdout",
     "output_type": "stream",
     "text": [
      "Iteration: \t18 / 120\n",
      "Confirmed: \t57\n",
      "Tentative: \t22\n",
      "Rejected: \t574\n"
     ]
    },
    {
     "name": "stderr",
     "output_type": "stream",
     "text": [
      "/data/anaconda/envs/py36/lib/python3.6/site-packages/boruta/boruta_py.py:418: RuntimeWarning: invalid value encountered in greater\n",
      "  hits = np.where(cur_imp[0] > imp_sha_max)[0]\n"
     ]
    },
    {
     "name": "stdout",
     "output_type": "stream",
     "text": [
      "Iteration: \t19 / 120\n",
      "Confirmed: \t57\n",
      "Tentative: \t18\n",
      "Rejected: \t578\n"
     ]
    },
    {
     "name": "stderr",
     "output_type": "stream",
     "text": [
      "/data/anaconda/envs/py36/lib/python3.6/site-packages/boruta/boruta_py.py:418: RuntimeWarning: invalid value encountered in greater\n",
      "  hits = np.where(cur_imp[0] > imp_sha_max)[0]\n"
     ]
    },
    {
     "name": "stdout",
     "output_type": "stream",
     "text": [
      "Iteration: \t20 / 120\n",
      "Confirmed: \t57\n",
      "Tentative: \t18\n",
      "Rejected: \t578\n"
     ]
    },
    {
     "name": "stderr",
     "output_type": "stream",
     "text": [
      "/data/anaconda/envs/py36/lib/python3.6/site-packages/boruta/boruta_py.py:418: RuntimeWarning: invalid value encountered in greater\n",
      "  hits = np.where(cur_imp[0] > imp_sha_max)[0]\n"
     ]
    },
    {
     "name": "stdout",
     "output_type": "stream",
     "text": [
      "Iteration: \t21 / 120\n",
      "Confirmed: \t57\n",
      "Tentative: \t18\n",
      "Rejected: \t578\n"
     ]
    },
    {
     "name": "stderr",
     "output_type": "stream",
     "text": [
      "/data/anaconda/envs/py36/lib/python3.6/site-packages/boruta/boruta_py.py:418: RuntimeWarning: invalid value encountered in greater\n",
      "  hits = np.where(cur_imp[0] > imp_sha_max)[0]\n"
     ]
    },
    {
     "name": "stdout",
     "output_type": "stream",
     "text": [
      "Iteration: \t22 / 120\n",
      "Confirmed: \t57\n",
      "Tentative: \t10\n",
      "Rejected: \t586\n"
     ]
    },
    {
     "name": "stderr",
     "output_type": "stream",
     "text": [
      "/data/anaconda/envs/py36/lib/python3.6/site-packages/boruta/boruta_py.py:418: RuntimeWarning: invalid value encountered in greater\n",
      "  hits = np.where(cur_imp[0] > imp_sha_max)[0]\n"
     ]
    },
    {
     "name": "stdout",
     "output_type": "stream",
     "text": [
      "Iteration: \t23 / 120\n",
      "Confirmed: \t57\n",
      "Tentative: \t10\n",
      "Rejected: \t586\n"
     ]
    },
    {
     "name": "stderr",
     "output_type": "stream",
     "text": [
      "/data/anaconda/envs/py36/lib/python3.6/site-packages/boruta/boruta_py.py:418: RuntimeWarning: invalid value encountered in greater\n",
      "  hits = np.where(cur_imp[0] > imp_sha_max)[0]\n"
     ]
    },
    {
     "name": "stdout",
     "output_type": "stream",
     "text": [
      "Iteration: \t24 / 120\n",
      "Confirmed: \t57\n",
      "Tentative: \t10\n",
      "Rejected: \t586\n"
     ]
    },
    {
     "name": "stderr",
     "output_type": "stream",
     "text": [
      "/data/anaconda/envs/py36/lib/python3.6/site-packages/boruta/boruta_py.py:418: RuntimeWarning: invalid value encountered in greater\n",
      "  hits = np.where(cur_imp[0] > imp_sha_max)[0]\n"
     ]
    },
    {
     "name": "stdout",
     "output_type": "stream",
     "text": [
      "Iteration: \t25 / 120\n",
      "Confirmed: \t57\n",
      "Tentative: \t10\n",
      "Rejected: \t586\n"
     ]
    },
    {
     "name": "stderr",
     "output_type": "stream",
     "text": [
      "/data/anaconda/envs/py36/lib/python3.6/site-packages/boruta/boruta_py.py:418: RuntimeWarning: invalid value encountered in greater\n",
      "  hits = np.where(cur_imp[0] > imp_sha_max)[0]\n"
     ]
    },
    {
     "name": "stdout",
     "output_type": "stream",
     "text": [
      "Iteration: \t26 / 120\n",
      "Confirmed: \t57\n",
      "Tentative: \t6\n",
      "Rejected: \t590\n"
     ]
    },
    {
     "name": "stderr",
     "output_type": "stream",
     "text": [
      "/data/anaconda/envs/py36/lib/python3.6/site-packages/boruta/boruta_py.py:418: RuntimeWarning: invalid value encountered in greater\n",
      "  hits = np.where(cur_imp[0] > imp_sha_max)[0]\n"
     ]
    },
    {
     "name": "stdout",
     "output_type": "stream",
     "text": [
      "Iteration: \t27 / 120\n",
      "Confirmed: \t57\n",
      "Tentative: \t6\n",
      "Rejected: \t590\n"
     ]
    },
    {
     "name": "stderr",
     "output_type": "stream",
     "text": [
      "/data/anaconda/envs/py36/lib/python3.6/site-packages/boruta/boruta_py.py:418: RuntimeWarning: invalid value encountered in greater\n",
      "  hits = np.where(cur_imp[0] > imp_sha_max)[0]\n"
     ]
    },
    {
     "name": "stdout",
     "output_type": "stream",
     "text": [
      "Iteration: \t28 / 120\n",
      "Confirmed: \t57\n",
      "Tentative: \t6\n",
      "Rejected: \t590\n"
     ]
    },
    {
     "name": "stderr",
     "output_type": "stream",
     "text": [
      "/data/anaconda/envs/py36/lib/python3.6/site-packages/boruta/boruta_py.py:418: RuntimeWarning: invalid value encountered in greater\n",
      "  hits = np.where(cur_imp[0] > imp_sha_max)[0]\n"
     ]
    },
    {
     "name": "stdout",
     "output_type": "stream",
     "text": [
      "Iteration: \t29 / 120\n",
      "Confirmed: \t57\n",
      "Tentative: \t6\n",
      "Rejected: \t590\n"
     ]
    },
    {
     "name": "stderr",
     "output_type": "stream",
     "text": [
      "/data/anaconda/envs/py36/lib/python3.6/site-packages/boruta/boruta_py.py:418: RuntimeWarning: invalid value encountered in greater\n",
      "  hits = np.where(cur_imp[0] > imp_sha_max)[0]\n"
     ]
    },
    {
     "name": "stdout",
     "output_type": "stream",
     "text": [
      "Iteration: \t30 / 120\n",
      "Confirmed: \t57\n",
      "Tentative: \t5\n",
      "Rejected: \t591\n"
     ]
    },
    {
     "name": "stderr",
     "output_type": "stream",
     "text": [
      "/data/anaconda/envs/py36/lib/python3.6/site-packages/boruta/boruta_py.py:418: RuntimeWarning: invalid value encountered in greater\n",
      "  hits = np.where(cur_imp[0] > imp_sha_max)[0]\n"
     ]
    },
    {
     "name": "stdout",
     "output_type": "stream",
     "text": [
      "Iteration: \t31 / 120\n",
      "Confirmed: \t57\n",
      "Tentative: \t5\n",
      "Rejected: \t591\n"
     ]
    },
    {
     "name": "stderr",
     "output_type": "stream",
     "text": [
      "/data/anaconda/envs/py36/lib/python3.6/site-packages/boruta/boruta_py.py:418: RuntimeWarning: invalid value encountered in greater\n",
      "  hits = np.where(cur_imp[0] > imp_sha_max)[0]\n"
     ]
    },
    {
     "name": "stdout",
     "output_type": "stream",
     "text": [
      "Iteration: \t32 / 120\n",
      "Confirmed: \t57\n",
      "Tentative: \t4\n",
      "Rejected: \t592\n"
     ]
    },
    {
     "name": "stderr",
     "output_type": "stream",
     "text": [
      "/data/anaconda/envs/py36/lib/python3.6/site-packages/boruta/boruta_py.py:418: RuntimeWarning: invalid value encountered in greater\n",
      "  hits = np.where(cur_imp[0] > imp_sha_max)[0]\n"
     ]
    },
    {
     "name": "stdout",
     "output_type": "stream",
     "text": [
      "Iteration: \t33 / 120\n",
      "Confirmed: \t57\n",
      "Tentative: \t4\n",
      "Rejected: \t592\n"
     ]
    },
    {
     "name": "stderr",
     "output_type": "stream",
     "text": [
      "/data/anaconda/envs/py36/lib/python3.6/site-packages/boruta/boruta_py.py:418: RuntimeWarning: invalid value encountered in greater\n",
      "  hits = np.where(cur_imp[0] > imp_sha_max)[0]\n"
     ]
    },
    {
     "name": "stdout",
     "output_type": "stream",
     "text": [
      "Iteration: \t34 / 120\n",
      "Confirmed: \t57\n",
      "Tentative: \t4\n",
      "Rejected: \t592\n"
     ]
    },
    {
     "name": "stderr",
     "output_type": "stream",
     "text": [
      "/data/anaconda/envs/py36/lib/python3.6/site-packages/boruta/boruta_py.py:418: RuntimeWarning: invalid value encountered in greater\n",
      "  hits = np.where(cur_imp[0] > imp_sha_max)[0]\n"
     ]
    },
    {
     "name": "stdout",
     "output_type": "stream",
     "text": [
      "Iteration: \t35 / 120\n",
      "Confirmed: \t57\n",
      "Tentative: \t4\n",
      "Rejected: \t592\n"
     ]
    },
    {
     "name": "stderr",
     "output_type": "stream",
     "text": [
      "/data/anaconda/envs/py36/lib/python3.6/site-packages/boruta/boruta_py.py:418: RuntimeWarning: invalid value encountered in greater\n",
      "  hits = np.where(cur_imp[0] > imp_sha_max)[0]\n"
     ]
    },
    {
     "name": "stdout",
     "output_type": "stream",
     "text": [
      "Iteration: \t36 / 120\n",
      "Confirmed: \t57\n",
      "Tentative: \t4\n",
      "Rejected: \t592\n"
     ]
    },
    {
     "name": "stderr",
     "output_type": "stream",
     "text": [
      "/data/anaconda/envs/py36/lib/python3.6/site-packages/boruta/boruta_py.py:418: RuntimeWarning: invalid value encountered in greater\n",
      "  hits = np.where(cur_imp[0] > imp_sha_max)[0]\n"
     ]
    },
    {
     "name": "stdout",
     "output_type": "stream",
     "text": [
      "Iteration: \t37 / 120\n",
      "Confirmed: \t57\n",
      "Tentative: \t4\n",
      "Rejected: \t592\n"
     ]
    },
    {
     "name": "stderr",
     "output_type": "stream",
     "text": [
      "/data/anaconda/envs/py36/lib/python3.6/site-packages/boruta/boruta_py.py:418: RuntimeWarning: invalid value encountered in greater\n",
      "  hits = np.where(cur_imp[0] > imp_sha_max)[0]\n"
     ]
    },
    {
     "name": "stdout",
     "output_type": "stream",
     "text": [
      "Iteration: \t38 / 120\n",
      "Confirmed: \t57\n",
      "Tentative: \t4\n",
      "Rejected: \t592\n"
     ]
    },
    {
     "name": "stderr",
     "output_type": "stream",
     "text": [
      "/data/anaconda/envs/py36/lib/python3.6/site-packages/boruta/boruta_py.py:418: RuntimeWarning: invalid value encountered in greater\n",
      "  hits = np.where(cur_imp[0] > imp_sha_max)[0]\n"
     ]
    },
    {
     "name": "stdout",
     "output_type": "stream",
     "text": [
      "Iteration: \t39 / 120\n",
      "Confirmed: \t57\n",
      "Tentative: \t4\n",
      "Rejected: \t592\n"
     ]
    },
    {
     "name": "stderr",
     "output_type": "stream",
     "text": [
      "/data/anaconda/envs/py36/lib/python3.6/site-packages/boruta/boruta_py.py:418: RuntimeWarning: invalid value encountered in greater\n",
      "  hits = np.where(cur_imp[0] > imp_sha_max)[0]\n"
     ]
    },
    {
     "name": "stdout",
     "output_type": "stream",
     "text": [
      "Iteration: \t40 / 120\n",
      "Confirmed: \t57\n",
      "Tentative: \t4\n",
      "Rejected: \t592\n"
     ]
    },
    {
     "name": "stderr",
     "output_type": "stream",
     "text": [
      "/data/anaconda/envs/py36/lib/python3.6/site-packages/boruta/boruta_py.py:418: RuntimeWarning: invalid value encountered in greater\n",
      "  hits = np.where(cur_imp[0] > imp_sha_max)[0]\n"
     ]
    },
    {
     "name": "stdout",
     "output_type": "stream",
     "text": [
      "Iteration: \t41 / 120\n",
      "Confirmed: \t57\n",
      "Tentative: \t4\n",
      "Rejected: \t592\n"
     ]
    },
    {
     "name": "stderr",
     "output_type": "stream",
     "text": [
      "/data/anaconda/envs/py36/lib/python3.6/site-packages/boruta/boruta_py.py:418: RuntimeWarning: invalid value encountered in greater\n",
      "  hits = np.where(cur_imp[0] > imp_sha_max)[0]\n"
     ]
    },
    {
     "name": "stdout",
     "output_type": "stream",
     "text": [
      "Iteration: \t42 / 120\n",
      "Confirmed: \t57\n",
      "Tentative: \t4\n",
      "Rejected: \t592\n"
     ]
    },
    {
     "name": "stderr",
     "output_type": "stream",
     "text": [
      "/data/anaconda/envs/py36/lib/python3.6/site-packages/boruta/boruta_py.py:418: RuntimeWarning: invalid value encountered in greater\n",
      "  hits = np.where(cur_imp[0] > imp_sha_max)[0]\n"
     ]
    },
    {
     "name": "stdout",
     "output_type": "stream",
     "text": [
      "Iteration: \t43 / 120\n",
      "Confirmed: \t57\n",
      "Tentative: \t4\n",
      "Rejected: \t592\n"
     ]
    },
    {
     "name": "stderr",
     "output_type": "stream",
     "text": [
      "/data/anaconda/envs/py36/lib/python3.6/site-packages/boruta/boruta_py.py:418: RuntimeWarning: invalid value encountered in greater\n",
      "  hits = np.where(cur_imp[0] > imp_sha_max)[0]\n"
     ]
    },
    {
     "name": "stdout",
     "output_type": "stream",
     "text": [
      "Iteration: \t44 / 120\n",
      "Confirmed: \t57\n",
      "Tentative: \t4\n",
      "Rejected: \t592\n"
     ]
    },
    {
     "name": "stderr",
     "output_type": "stream",
     "text": [
      "/data/anaconda/envs/py36/lib/python3.6/site-packages/boruta/boruta_py.py:418: RuntimeWarning: invalid value encountered in greater\n",
      "  hits = np.where(cur_imp[0] > imp_sha_max)[0]\n"
     ]
    },
    {
     "name": "stdout",
     "output_type": "stream",
     "text": [
      "Iteration: \t45 / 120\n",
      "Confirmed: \t57\n",
      "Tentative: \t4\n",
      "Rejected: \t592\n"
     ]
    },
    {
     "name": "stderr",
     "output_type": "stream",
     "text": [
      "/data/anaconda/envs/py36/lib/python3.6/site-packages/boruta/boruta_py.py:418: RuntimeWarning: invalid value encountered in greater\n",
      "  hits = np.where(cur_imp[0] > imp_sha_max)[0]\n"
     ]
    },
    {
     "name": "stdout",
     "output_type": "stream",
     "text": [
      "Iteration: \t46 / 120\n",
      "Confirmed: \t57\n",
      "Tentative: \t3\n",
      "Rejected: \t593\n"
     ]
    },
    {
     "name": "stderr",
     "output_type": "stream",
     "text": [
      "/data/anaconda/envs/py36/lib/python3.6/site-packages/boruta/boruta_py.py:418: RuntimeWarning: invalid value encountered in greater\n",
      "  hits = np.where(cur_imp[0] > imp_sha_max)[0]\n"
     ]
    },
    {
     "name": "stdout",
     "output_type": "stream",
     "text": [
      "Iteration: \t47 / 120\n",
      "Confirmed: \t57\n",
      "Tentative: \t3\n",
      "Rejected: \t593\n"
     ]
    },
    {
     "name": "stderr",
     "output_type": "stream",
     "text": [
      "/data/anaconda/envs/py36/lib/python3.6/site-packages/boruta/boruta_py.py:418: RuntimeWarning: invalid value encountered in greater\n",
      "  hits = np.where(cur_imp[0] > imp_sha_max)[0]\n"
     ]
    },
    {
     "name": "stdout",
     "output_type": "stream",
     "text": [
      "Iteration: \t48 / 120\n",
      "Confirmed: \t57\n",
      "Tentative: \t3\n",
      "Rejected: \t593\n"
     ]
    },
    {
     "name": "stderr",
     "output_type": "stream",
     "text": [
      "/data/anaconda/envs/py36/lib/python3.6/site-packages/boruta/boruta_py.py:418: RuntimeWarning: invalid value encountered in greater\n",
      "  hits = np.where(cur_imp[0] > imp_sha_max)[0]\n"
     ]
    },
    {
     "name": "stdout",
     "output_type": "stream",
     "text": [
      "Iteration: \t49 / 120\n",
      "Confirmed: \t58\n",
      "Tentative: \t2\n",
      "Rejected: \t593\n"
     ]
    },
    {
     "name": "stderr",
     "output_type": "stream",
     "text": [
      "/data/anaconda/envs/py36/lib/python3.6/site-packages/boruta/boruta_py.py:418: RuntimeWarning: invalid value encountered in greater\n",
      "  hits = np.where(cur_imp[0] > imp_sha_max)[0]\n"
     ]
    },
    {
     "name": "stdout",
     "output_type": "stream",
     "text": [
      "Iteration: \t50 / 120\n",
      "Confirmed: \t58\n",
      "Tentative: \t2\n",
      "Rejected: \t593\n"
     ]
    },
    {
     "name": "stderr",
     "output_type": "stream",
     "text": [
      "/data/anaconda/envs/py36/lib/python3.6/site-packages/boruta/boruta_py.py:418: RuntimeWarning: invalid value encountered in greater\n",
      "  hits = np.where(cur_imp[0] > imp_sha_max)[0]\n"
     ]
    },
    {
     "name": "stdout",
     "output_type": "stream",
     "text": [
      "Iteration: \t51 / 120\n",
      "Confirmed: \t58\n",
      "Tentative: \t2\n",
      "Rejected: \t593\n"
     ]
    },
    {
     "name": "stderr",
     "output_type": "stream",
     "text": [
      "/data/anaconda/envs/py36/lib/python3.6/site-packages/boruta/boruta_py.py:418: RuntimeWarning: invalid value encountered in greater\n",
      "  hits = np.where(cur_imp[0] > imp_sha_max)[0]\n"
     ]
    },
    {
     "name": "stdout",
     "output_type": "stream",
     "text": [
      "Iteration: \t52 / 120\n",
      "Confirmed: \t58\n",
      "Tentative: \t2\n",
      "Rejected: \t593\n"
     ]
    },
    {
     "name": "stderr",
     "output_type": "stream",
     "text": [
      "/data/anaconda/envs/py36/lib/python3.6/site-packages/boruta/boruta_py.py:418: RuntimeWarning: invalid value encountered in greater\n",
      "  hits = np.where(cur_imp[0] > imp_sha_max)[0]\n"
     ]
    },
    {
     "name": "stdout",
     "output_type": "stream",
     "text": [
      "Iteration: \t53 / 120\n",
      "Confirmed: \t58\n",
      "Tentative: \t2\n",
      "Rejected: \t593\n"
     ]
    },
    {
     "name": "stderr",
     "output_type": "stream",
     "text": [
      "/data/anaconda/envs/py36/lib/python3.6/site-packages/boruta/boruta_py.py:418: RuntimeWarning: invalid value encountered in greater\n",
      "  hits = np.where(cur_imp[0] > imp_sha_max)[0]\n"
     ]
    },
    {
     "name": "stdout",
     "output_type": "stream",
     "text": [
      "Iteration: \t54 / 120\n",
      "Confirmed: \t58\n",
      "Tentative: \t2\n",
      "Rejected: \t593\n"
     ]
    },
    {
     "name": "stderr",
     "output_type": "stream",
     "text": [
      "/data/anaconda/envs/py36/lib/python3.6/site-packages/boruta/boruta_py.py:418: RuntimeWarning: invalid value encountered in greater\n",
      "  hits = np.where(cur_imp[0] > imp_sha_max)[0]\n"
     ]
    },
    {
     "name": "stdout",
     "output_type": "stream",
     "text": [
      "Iteration: \t55 / 120\n",
      "Confirmed: \t58\n",
      "Tentative: \t2\n",
      "Rejected: \t593\n"
     ]
    },
    {
     "name": "stderr",
     "output_type": "stream",
     "text": [
      "/data/anaconda/envs/py36/lib/python3.6/site-packages/boruta/boruta_py.py:418: RuntimeWarning: invalid value encountered in greater\n",
      "  hits = np.where(cur_imp[0] > imp_sha_max)[0]\n"
     ]
    },
    {
     "name": "stdout",
     "output_type": "stream",
     "text": [
      "Iteration: \t56 / 120\n",
      "Confirmed: \t58\n",
      "Tentative: \t2\n",
      "Rejected: \t593\n"
     ]
    },
    {
     "name": "stderr",
     "output_type": "stream",
     "text": [
      "/data/anaconda/envs/py36/lib/python3.6/site-packages/boruta/boruta_py.py:418: RuntimeWarning: invalid value encountered in greater\n",
      "  hits = np.where(cur_imp[0] > imp_sha_max)[0]\n"
     ]
    },
    {
     "name": "stdout",
     "output_type": "stream",
     "text": [
      "Iteration: \t57 / 120\n",
      "Confirmed: \t58\n",
      "Tentative: \t2\n",
      "Rejected: \t593\n"
     ]
    },
    {
     "name": "stderr",
     "output_type": "stream",
     "text": [
      "/data/anaconda/envs/py36/lib/python3.6/site-packages/boruta/boruta_py.py:418: RuntimeWarning: invalid value encountered in greater\n",
      "  hits = np.where(cur_imp[0] > imp_sha_max)[0]\n"
     ]
    },
    {
     "name": "stdout",
     "output_type": "stream",
     "text": [
      "Iteration: \t58 / 120\n",
      "Confirmed: \t58\n",
      "Tentative: \t2\n",
      "Rejected: \t593\n"
     ]
    },
    {
     "name": "stderr",
     "output_type": "stream",
     "text": [
      "/data/anaconda/envs/py36/lib/python3.6/site-packages/boruta/boruta_py.py:418: RuntimeWarning: invalid value encountered in greater\n",
      "  hits = np.where(cur_imp[0] > imp_sha_max)[0]\n"
     ]
    },
    {
     "name": "stdout",
     "output_type": "stream",
     "text": [
      "Iteration: \t59 / 120\n",
      "Confirmed: \t58\n",
      "Tentative: \t2\n",
      "Rejected: \t593\n"
     ]
    },
    {
     "name": "stderr",
     "output_type": "stream",
     "text": [
      "/data/anaconda/envs/py36/lib/python3.6/site-packages/boruta/boruta_py.py:418: RuntimeWarning: invalid value encountered in greater\n",
      "  hits = np.where(cur_imp[0] > imp_sha_max)[0]\n"
     ]
    },
    {
     "name": "stdout",
     "output_type": "stream",
     "text": [
      "Iteration: \t60 / 120\n",
      "Confirmed: \t58\n",
      "Tentative: \t2\n",
      "Rejected: \t593\n"
     ]
    },
    {
     "name": "stderr",
     "output_type": "stream",
     "text": [
      "/data/anaconda/envs/py36/lib/python3.6/site-packages/boruta/boruta_py.py:418: RuntimeWarning: invalid value encountered in greater\n",
      "  hits = np.where(cur_imp[0] > imp_sha_max)[0]\n"
     ]
    },
    {
     "name": "stdout",
     "output_type": "stream",
     "text": [
      "Iteration: \t61 / 120\n",
      "Confirmed: \t58\n",
      "Tentative: \t2\n",
      "Rejected: \t593\n"
     ]
    },
    {
     "name": "stderr",
     "output_type": "stream",
     "text": [
      "/data/anaconda/envs/py36/lib/python3.6/site-packages/boruta/boruta_py.py:418: RuntimeWarning: invalid value encountered in greater\n",
      "  hits = np.where(cur_imp[0] > imp_sha_max)[0]\n"
     ]
    },
    {
     "name": "stdout",
     "output_type": "stream",
     "text": [
      "Iteration: \t62 / 120\n",
      "Confirmed: \t58\n",
      "Tentative: \t2\n",
      "Rejected: \t593\n"
     ]
    },
    {
     "name": "stderr",
     "output_type": "stream",
     "text": [
      "/data/anaconda/envs/py36/lib/python3.6/site-packages/boruta/boruta_py.py:418: RuntimeWarning: invalid value encountered in greater\n",
      "  hits = np.where(cur_imp[0] > imp_sha_max)[0]\n"
     ]
    },
    {
     "name": "stdout",
     "output_type": "stream",
     "text": [
      "Iteration: \t63 / 120\n",
      "Confirmed: \t58\n",
      "Tentative: \t2\n",
      "Rejected: \t593\n"
     ]
    },
    {
     "name": "stderr",
     "output_type": "stream",
     "text": [
      "/data/anaconda/envs/py36/lib/python3.6/site-packages/boruta/boruta_py.py:418: RuntimeWarning: invalid value encountered in greater\n",
      "  hits = np.where(cur_imp[0] > imp_sha_max)[0]\n"
     ]
    },
    {
     "name": "stdout",
     "output_type": "stream",
     "text": [
      "Iteration: \t64 / 120\n",
      "Confirmed: \t58\n",
      "Tentative: \t2\n",
      "Rejected: \t593\n"
     ]
    },
    {
     "name": "stderr",
     "output_type": "stream",
     "text": [
      "/data/anaconda/envs/py36/lib/python3.6/site-packages/boruta/boruta_py.py:418: RuntimeWarning: invalid value encountered in greater\n",
      "  hits = np.where(cur_imp[0] > imp_sha_max)[0]\n"
     ]
    },
    {
     "name": "stdout",
     "output_type": "stream",
     "text": [
      "Iteration: \t65 / 120\n",
      "Confirmed: \t58\n",
      "Tentative: \t2\n",
      "Rejected: \t593\n"
     ]
    },
    {
     "name": "stderr",
     "output_type": "stream",
     "text": [
      "/data/anaconda/envs/py36/lib/python3.6/site-packages/boruta/boruta_py.py:418: RuntimeWarning: invalid value encountered in greater\n",
      "  hits = np.where(cur_imp[0] > imp_sha_max)[0]\n"
     ]
    },
    {
     "name": "stdout",
     "output_type": "stream",
     "text": [
      "Iteration: \t66 / 120\n",
      "Confirmed: \t58\n",
      "Tentative: \t2\n",
      "Rejected: \t593\n"
     ]
    },
    {
     "name": "stderr",
     "output_type": "stream",
     "text": [
      "/data/anaconda/envs/py36/lib/python3.6/site-packages/boruta/boruta_py.py:418: RuntimeWarning: invalid value encountered in greater\n",
      "  hits = np.where(cur_imp[0] > imp_sha_max)[0]\n"
     ]
    },
    {
     "name": "stdout",
     "output_type": "stream",
     "text": [
      "Iteration: \t67 / 120\n",
      "Confirmed: \t58\n",
      "Tentative: \t2\n",
      "Rejected: \t593\n"
     ]
    },
    {
     "name": "stderr",
     "output_type": "stream",
     "text": [
      "/data/anaconda/envs/py36/lib/python3.6/site-packages/boruta/boruta_py.py:418: RuntimeWarning: invalid value encountered in greater\n",
      "  hits = np.where(cur_imp[0] > imp_sha_max)[0]\n"
     ]
    },
    {
     "name": "stdout",
     "output_type": "stream",
     "text": [
      "Iteration: \t68 / 120\n",
      "Confirmed: \t58\n",
      "Tentative: \t2\n",
      "Rejected: \t593\n"
     ]
    },
    {
     "name": "stderr",
     "output_type": "stream",
     "text": [
      "/data/anaconda/envs/py36/lib/python3.6/site-packages/boruta/boruta_py.py:418: RuntimeWarning: invalid value encountered in greater\n",
      "  hits = np.where(cur_imp[0] > imp_sha_max)[0]\n"
     ]
    },
    {
     "name": "stdout",
     "output_type": "stream",
     "text": [
      "Iteration: \t69 / 120\n",
      "Confirmed: \t58\n",
      "Tentative: \t2\n",
      "Rejected: \t593\n"
     ]
    },
    {
     "name": "stderr",
     "output_type": "stream",
     "text": [
      "/data/anaconda/envs/py36/lib/python3.6/site-packages/boruta/boruta_py.py:418: RuntimeWarning: invalid value encountered in greater\n",
      "  hits = np.where(cur_imp[0] > imp_sha_max)[0]\n"
     ]
    },
    {
     "name": "stdout",
     "output_type": "stream",
     "text": [
      "Iteration: \t70 / 120\n",
      "Confirmed: \t58\n",
      "Tentative: \t2\n",
      "Rejected: \t593\n"
     ]
    },
    {
     "name": "stderr",
     "output_type": "stream",
     "text": [
      "/data/anaconda/envs/py36/lib/python3.6/site-packages/boruta/boruta_py.py:418: RuntimeWarning: invalid value encountered in greater\n",
      "  hits = np.where(cur_imp[0] > imp_sha_max)[0]\n"
     ]
    },
    {
     "name": "stdout",
     "output_type": "stream",
     "text": [
      "Iteration: \t71 / 120\n",
      "Confirmed: \t58\n",
      "Tentative: \t2\n",
      "Rejected: \t593\n"
     ]
    },
    {
     "name": "stderr",
     "output_type": "stream",
     "text": [
      "/data/anaconda/envs/py36/lib/python3.6/site-packages/boruta/boruta_py.py:418: RuntimeWarning: invalid value encountered in greater\n",
      "  hits = np.where(cur_imp[0] > imp_sha_max)[0]\n"
     ]
    },
    {
     "name": "stdout",
     "output_type": "stream",
     "text": [
      "Iteration: \t72 / 120\n",
      "Confirmed: \t58\n",
      "Tentative: \t2\n",
      "Rejected: \t593\n"
     ]
    },
    {
     "name": "stderr",
     "output_type": "stream",
     "text": [
      "/data/anaconda/envs/py36/lib/python3.6/site-packages/boruta/boruta_py.py:418: RuntimeWarning: invalid value encountered in greater\n",
      "  hits = np.where(cur_imp[0] > imp_sha_max)[0]\n"
     ]
    },
    {
     "name": "stdout",
     "output_type": "stream",
     "text": [
      "Iteration: \t73 / 120\n",
      "Confirmed: \t58\n",
      "Tentative: \t2\n",
      "Rejected: \t593\n"
     ]
    },
    {
     "name": "stderr",
     "output_type": "stream",
     "text": [
      "/data/anaconda/envs/py36/lib/python3.6/site-packages/boruta/boruta_py.py:418: RuntimeWarning: invalid value encountered in greater\n",
      "  hits = np.where(cur_imp[0] > imp_sha_max)[0]\n"
     ]
    },
    {
     "name": "stdout",
     "output_type": "stream",
     "text": [
      "Iteration: \t74 / 120\n",
      "Confirmed: \t58\n",
      "Tentative: \t2\n",
      "Rejected: \t593\n"
     ]
    },
    {
     "name": "stderr",
     "output_type": "stream",
     "text": [
      "/data/anaconda/envs/py36/lib/python3.6/site-packages/boruta/boruta_py.py:418: RuntimeWarning: invalid value encountered in greater\n",
      "  hits = np.where(cur_imp[0] > imp_sha_max)[0]\n"
     ]
    },
    {
     "name": "stdout",
     "output_type": "stream",
     "text": [
      "Iteration: \t75 / 120\n",
      "Confirmed: \t58\n",
      "Tentative: \t2\n",
      "Rejected: \t593\n"
     ]
    },
    {
     "name": "stderr",
     "output_type": "stream",
     "text": [
      "/data/anaconda/envs/py36/lib/python3.6/site-packages/boruta/boruta_py.py:418: RuntimeWarning: invalid value encountered in greater\n",
      "  hits = np.where(cur_imp[0] > imp_sha_max)[0]\n"
     ]
    },
    {
     "name": "stdout",
     "output_type": "stream",
     "text": [
      "Iteration: \t76 / 120\n",
      "Confirmed: \t58\n",
      "Tentative: \t2\n",
      "Rejected: \t593\n"
     ]
    },
    {
     "name": "stderr",
     "output_type": "stream",
     "text": [
      "/data/anaconda/envs/py36/lib/python3.6/site-packages/boruta/boruta_py.py:418: RuntimeWarning: invalid value encountered in greater\n",
      "  hits = np.where(cur_imp[0] > imp_sha_max)[0]\n"
     ]
    },
    {
     "name": "stdout",
     "output_type": "stream",
     "text": [
      "Iteration: \t77 / 120\n",
      "Confirmed: \t58\n",
      "Tentative: \t2\n",
      "Rejected: \t593\n"
     ]
    },
    {
     "name": "stderr",
     "output_type": "stream",
     "text": [
      "/data/anaconda/envs/py36/lib/python3.6/site-packages/boruta/boruta_py.py:418: RuntimeWarning: invalid value encountered in greater\n",
      "  hits = np.where(cur_imp[0] > imp_sha_max)[0]\n"
     ]
    },
    {
     "name": "stdout",
     "output_type": "stream",
     "text": [
      "Iteration: \t78 / 120\n",
      "Confirmed: \t58\n",
      "Tentative: \t2\n",
      "Rejected: \t593\n"
     ]
    },
    {
     "name": "stderr",
     "output_type": "stream",
     "text": [
      "/data/anaconda/envs/py36/lib/python3.6/site-packages/boruta/boruta_py.py:418: RuntimeWarning: invalid value encountered in greater\n",
      "  hits = np.where(cur_imp[0] > imp_sha_max)[0]\n"
     ]
    },
    {
     "name": "stdout",
     "output_type": "stream",
     "text": [
      "Iteration: \t79 / 120\n",
      "Confirmed: \t58\n",
      "Tentative: \t2\n",
      "Rejected: \t593\n"
     ]
    },
    {
     "name": "stderr",
     "output_type": "stream",
     "text": [
      "/data/anaconda/envs/py36/lib/python3.6/site-packages/boruta/boruta_py.py:418: RuntimeWarning: invalid value encountered in greater\n",
      "  hits = np.where(cur_imp[0] > imp_sha_max)[0]\n"
     ]
    },
    {
     "name": "stdout",
     "output_type": "stream",
     "text": [
      "Iteration: \t80 / 120\n",
      "Confirmed: \t58\n",
      "Tentative: \t2\n",
      "Rejected: \t593\n"
     ]
    },
    {
     "name": "stderr",
     "output_type": "stream",
     "text": [
      "/data/anaconda/envs/py36/lib/python3.6/site-packages/boruta/boruta_py.py:418: RuntimeWarning: invalid value encountered in greater\n",
      "  hits = np.where(cur_imp[0] > imp_sha_max)[0]\n"
     ]
    },
    {
     "name": "stdout",
     "output_type": "stream",
     "text": [
      "Iteration: \t81 / 120\n",
      "Confirmed: \t58\n",
      "Tentative: \t2\n",
      "Rejected: \t593\n"
     ]
    },
    {
     "name": "stderr",
     "output_type": "stream",
     "text": [
      "/data/anaconda/envs/py36/lib/python3.6/site-packages/boruta/boruta_py.py:418: RuntimeWarning: invalid value encountered in greater\n",
      "  hits = np.where(cur_imp[0] > imp_sha_max)[0]\n"
     ]
    },
    {
     "name": "stdout",
     "output_type": "stream",
     "text": [
      "Iteration: \t82 / 120\n",
      "Confirmed: \t58\n",
      "Tentative: \t2\n",
      "Rejected: \t593\n"
     ]
    },
    {
     "name": "stderr",
     "output_type": "stream",
     "text": [
      "/data/anaconda/envs/py36/lib/python3.6/site-packages/boruta/boruta_py.py:418: RuntimeWarning: invalid value encountered in greater\n",
      "  hits = np.where(cur_imp[0] > imp_sha_max)[0]\n"
     ]
    },
    {
     "name": "stdout",
     "output_type": "stream",
     "text": [
      "Iteration: \t83 / 120\n",
      "Confirmed: \t58\n",
      "Tentative: \t2\n",
      "Rejected: \t593\n"
     ]
    },
    {
     "name": "stderr",
     "output_type": "stream",
     "text": [
      "/data/anaconda/envs/py36/lib/python3.6/site-packages/boruta/boruta_py.py:418: RuntimeWarning: invalid value encountered in greater\n",
      "  hits = np.where(cur_imp[0] > imp_sha_max)[0]\n"
     ]
    },
    {
     "name": "stdout",
     "output_type": "stream",
     "text": [
      "Iteration: \t84 / 120\n",
      "Confirmed: \t58\n",
      "Tentative: \t2\n",
      "Rejected: \t593\n"
     ]
    },
    {
     "name": "stderr",
     "output_type": "stream",
     "text": [
      "/data/anaconda/envs/py36/lib/python3.6/site-packages/boruta/boruta_py.py:418: RuntimeWarning: invalid value encountered in greater\n",
      "  hits = np.where(cur_imp[0] > imp_sha_max)[0]\n"
     ]
    },
    {
     "name": "stdout",
     "output_type": "stream",
     "text": [
      "Iteration: \t85 / 120\n",
      "Confirmed: \t58\n",
      "Tentative: \t2\n",
      "Rejected: \t593\n"
     ]
    },
    {
     "name": "stderr",
     "output_type": "stream",
     "text": [
      "/data/anaconda/envs/py36/lib/python3.6/site-packages/boruta/boruta_py.py:418: RuntimeWarning: invalid value encountered in greater\n",
      "  hits = np.where(cur_imp[0] > imp_sha_max)[0]\n"
     ]
    },
    {
     "name": "stdout",
     "output_type": "stream",
     "text": [
      "Iteration: \t86 / 120\n",
      "Confirmed: \t58\n",
      "Tentative: \t2\n",
      "Rejected: \t593\n"
     ]
    },
    {
     "name": "stderr",
     "output_type": "stream",
     "text": [
      "/data/anaconda/envs/py36/lib/python3.6/site-packages/boruta/boruta_py.py:418: RuntimeWarning: invalid value encountered in greater\n",
      "  hits = np.where(cur_imp[0] > imp_sha_max)[0]\n"
     ]
    },
    {
     "name": "stdout",
     "output_type": "stream",
     "text": [
      "Iteration: \t87 / 120\n",
      "Confirmed: \t58\n",
      "Tentative: \t2\n",
      "Rejected: \t593\n"
     ]
    },
    {
     "name": "stderr",
     "output_type": "stream",
     "text": [
      "/data/anaconda/envs/py36/lib/python3.6/site-packages/boruta/boruta_py.py:418: RuntimeWarning: invalid value encountered in greater\n",
      "  hits = np.where(cur_imp[0] > imp_sha_max)[0]\n"
     ]
    },
    {
     "name": "stdout",
     "output_type": "stream",
     "text": [
      "Iteration: \t88 / 120\n",
      "Confirmed: \t58\n",
      "Tentative: \t2\n",
      "Rejected: \t593\n"
     ]
    },
    {
     "name": "stderr",
     "output_type": "stream",
     "text": [
      "/data/anaconda/envs/py36/lib/python3.6/site-packages/boruta/boruta_py.py:418: RuntimeWarning: invalid value encountered in greater\n",
      "  hits = np.where(cur_imp[0] > imp_sha_max)[0]\n"
     ]
    },
    {
     "name": "stdout",
     "output_type": "stream",
     "text": [
      "Iteration: \t89 / 120\n",
      "Confirmed: \t58\n",
      "Tentative: \t2\n",
      "Rejected: \t593\n"
     ]
    },
    {
     "name": "stderr",
     "output_type": "stream",
     "text": [
      "/data/anaconda/envs/py36/lib/python3.6/site-packages/boruta/boruta_py.py:418: RuntimeWarning: invalid value encountered in greater\n",
      "  hits = np.where(cur_imp[0] > imp_sha_max)[0]\n"
     ]
    },
    {
     "name": "stdout",
     "output_type": "stream",
     "text": [
      "Iteration: \t90 / 120\n",
      "Confirmed: \t58\n",
      "Tentative: \t2\n",
      "Rejected: \t593\n"
     ]
    },
    {
     "name": "stderr",
     "output_type": "stream",
     "text": [
      "/data/anaconda/envs/py36/lib/python3.6/site-packages/boruta/boruta_py.py:418: RuntimeWarning: invalid value encountered in greater\n",
      "  hits = np.where(cur_imp[0] > imp_sha_max)[0]\n"
     ]
    },
    {
     "name": "stdout",
     "output_type": "stream",
     "text": [
      "Iteration: \t91 / 120\n",
      "Confirmed: \t58\n",
      "Tentative: \t2\n",
      "Rejected: \t593\n"
     ]
    },
    {
     "name": "stderr",
     "output_type": "stream",
     "text": [
      "/data/anaconda/envs/py36/lib/python3.6/site-packages/boruta/boruta_py.py:418: RuntimeWarning: invalid value encountered in greater\n",
      "  hits = np.where(cur_imp[0] > imp_sha_max)[0]\n"
     ]
    },
    {
     "name": "stdout",
     "output_type": "stream",
     "text": [
      "Iteration: \t92 / 120\n",
      "Confirmed: \t58\n",
      "Tentative: \t2\n",
      "Rejected: \t593\n"
     ]
    },
    {
     "name": "stderr",
     "output_type": "stream",
     "text": [
      "/data/anaconda/envs/py36/lib/python3.6/site-packages/boruta/boruta_py.py:418: RuntimeWarning: invalid value encountered in greater\n",
      "  hits = np.where(cur_imp[0] > imp_sha_max)[0]\n"
     ]
    },
    {
     "name": "stdout",
     "output_type": "stream",
     "text": [
      "Iteration: \t93 / 120\n",
      "Confirmed: \t58\n",
      "Tentative: \t2\n",
      "Rejected: \t593\n"
     ]
    },
    {
     "name": "stderr",
     "output_type": "stream",
     "text": [
      "/data/anaconda/envs/py36/lib/python3.6/site-packages/boruta/boruta_py.py:418: RuntimeWarning: invalid value encountered in greater\n",
      "  hits = np.where(cur_imp[0] > imp_sha_max)[0]\n"
     ]
    },
    {
     "name": "stdout",
     "output_type": "stream",
     "text": [
      "Iteration: \t94 / 120\n",
      "Confirmed: \t58\n",
      "Tentative: \t2\n",
      "Rejected: \t593\n"
     ]
    },
    {
     "name": "stderr",
     "output_type": "stream",
     "text": [
      "/data/anaconda/envs/py36/lib/python3.6/site-packages/boruta/boruta_py.py:418: RuntimeWarning: invalid value encountered in greater\n",
      "  hits = np.where(cur_imp[0] > imp_sha_max)[0]\n"
     ]
    },
    {
     "name": "stdout",
     "output_type": "stream",
     "text": [
      "Iteration: \t95 / 120\n",
      "Confirmed: \t58\n",
      "Tentative: \t2\n",
      "Rejected: \t593\n"
     ]
    },
    {
     "name": "stderr",
     "output_type": "stream",
     "text": [
      "/data/anaconda/envs/py36/lib/python3.6/site-packages/boruta/boruta_py.py:418: RuntimeWarning: invalid value encountered in greater\n",
      "  hits = np.where(cur_imp[0] > imp_sha_max)[0]\n"
     ]
    },
    {
     "name": "stdout",
     "output_type": "stream",
     "text": [
      "Iteration: \t96 / 120\n",
      "Confirmed: \t58\n",
      "Tentative: \t2\n",
      "Rejected: \t593\n"
     ]
    },
    {
     "name": "stderr",
     "output_type": "stream",
     "text": [
      "/data/anaconda/envs/py36/lib/python3.6/site-packages/boruta/boruta_py.py:418: RuntimeWarning: invalid value encountered in greater\n",
      "  hits = np.where(cur_imp[0] > imp_sha_max)[0]\n"
     ]
    },
    {
     "name": "stdout",
     "output_type": "stream",
     "text": [
      "Iteration: \t97 / 120\n",
      "Confirmed: \t58\n",
      "Tentative: \t2\n",
      "Rejected: \t593\n"
     ]
    },
    {
     "name": "stderr",
     "output_type": "stream",
     "text": [
      "/data/anaconda/envs/py36/lib/python3.6/site-packages/boruta/boruta_py.py:418: RuntimeWarning: invalid value encountered in greater\n",
      "  hits = np.where(cur_imp[0] > imp_sha_max)[0]\n"
     ]
    },
    {
     "name": "stdout",
     "output_type": "stream",
     "text": [
      "Iteration: \t98 / 120\n",
      "Confirmed: \t58\n",
      "Tentative: \t2\n",
      "Rejected: \t593\n"
     ]
    },
    {
     "name": "stderr",
     "output_type": "stream",
     "text": [
      "/data/anaconda/envs/py36/lib/python3.6/site-packages/boruta/boruta_py.py:418: RuntimeWarning: invalid value encountered in greater\n",
      "  hits = np.where(cur_imp[0] > imp_sha_max)[0]\n"
     ]
    },
    {
     "name": "stdout",
     "output_type": "stream",
     "text": [
      "Iteration: \t99 / 120\n",
      "Confirmed: \t58\n",
      "Tentative: \t2\n",
      "Rejected: \t593\n"
     ]
    },
    {
     "name": "stderr",
     "output_type": "stream",
     "text": [
      "/data/anaconda/envs/py36/lib/python3.6/site-packages/boruta/boruta_py.py:418: RuntimeWarning: invalid value encountered in greater\n",
      "  hits = np.where(cur_imp[0] > imp_sha_max)[0]\n"
     ]
    },
    {
     "name": "stdout",
     "output_type": "stream",
     "text": [
      "Iteration: \t100 / 120\n",
      "Confirmed: \t58\n",
      "Tentative: \t2\n",
      "Rejected: \t593\n"
     ]
    },
    {
     "name": "stderr",
     "output_type": "stream",
     "text": [
      "/data/anaconda/envs/py36/lib/python3.6/site-packages/boruta/boruta_py.py:418: RuntimeWarning: invalid value encountered in greater\n",
      "  hits = np.where(cur_imp[0] > imp_sha_max)[0]\n"
     ]
    },
    {
     "name": "stdout",
     "output_type": "stream",
     "text": [
      "Iteration: \t101 / 120\n",
      "Confirmed: \t58\n",
      "Tentative: \t2\n",
      "Rejected: \t593\n"
     ]
    },
    {
     "name": "stderr",
     "output_type": "stream",
     "text": [
      "/data/anaconda/envs/py36/lib/python3.6/site-packages/boruta/boruta_py.py:418: RuntimeWarning: invalid value encountered in greater\n",
      "  hits = np.where(cur_imp[0] > imp_sha_max)[0]\n"
     ]
    },
    {
     "name": "stdout",
     "output_type": "stream",
     "text": [
      "Iteration: \t102 / 120\n",
      "Confirmed: \t58\n",
      "Tentative: \t2\n",
      "Rejected: \t593\n"
     ]
    },
    {
     "name": "stderr",
     "output_type": "stream",
     "text": [
      "/data/anaconda/envs/py36/lib/python3.6/site-packages/boruta/boruta_py.py:418: RuntimeWarning: invalid value encountered in greater\n",
      "  hits = np.where(cur_imp[0] > imp_sha_max)[0]\n"
     ]
    },
    {
     "name": "stdout",
     "output_type": "stream",
     "text": [
      "Iteration: \t103 / 120\n",
      "Confirmed: \t58\n",
      "Tentative: \t2\n",
      "Rejected: \t593\n"
     ]
    },
    {
     "name": "stderr",
     "output_type": "stream",
     "text": [
      "/data/anaconda/envs/py36/lib/python3.6/site-packages/boruta/boruta_py.py:418: RuntimeWarning: invalid value encountered in greater\n",
      "  hits = np.where(cur_imp[0] > imp_sha_max)[0]\n"
     ]
    },
    {
     "name": "stdout",
     "output_type": "stream",
     "text": [
      "Iteration: \t104 / 120\n",
      "Confirmed: \t58\n",
      "Tentative: \t2\n",
      "Rejected: \t593\n"
     ]
    },
    {
     "name": "stderr",
     "output_type": "stream",
     "text": [
      "/data/anaconda/envs/py36/lib/python3.6/site-packages/boruta/boruta_py.py:418: RuntimeWarning: invalid value encountered in greater\n",
      "  hits = np.where(cur_imp[0] > imp_sha_max)[0]\n"
     ]
    },
    {
     "name": "stdout",
     "output_type": "stream",
     "text": [
      "Iteration: \t105 / 120\n",
      "Confirmed: \t58\n",
      "Tentative: \t2\n",
      "Rejected: \t593\n"
     ]
    },
    {
     "name": "stderr",
     "output_type": "stream",
     "text": [
      "/data/anaconda/envs/py36/lib/python3.6/site-packages/boruta/boruta_py.py:418: RuntimeWarning: invalid value encountered in greater\n",
      "  hits = np.where(cur_imp[0] > imp_sha_max)[0]\n"
     ]
    },
    {
     "name": "stdout",
     "output_type": "stream",
     "text": [
      "Iteration: \t106 / 120\n",
      "Confirmed: \t58\n",
      "Tentative: \t2\n",
      "Rejected: \t593\n"
     ]
    },
    {
     "name": "stderr",
     "output_type": "stream",
     "text": [
      "/data/anaconda/envs/py36/lib/python3.6/site-packages/boruta/boruta_py.py:418: RuntimeWarning: invalid value encountered in greater\n",
      "  hits = np.where(cur_imp[0] > imp_sha_max)[0]\n"
     ]
    },
    {
     "name": "stdout",
     "output_type": "stream",
     "text": [
      "Iteration: \t107 / 120\n",
      "Confirmed: \t58\n",
      "Tentative: \t2\n",
      "Rejected: \t593\n"
     ]
    },
    {
     "name": "stderr",
     "output_type": "stream",
     "text": [
      "/data/anaconda/envs/py36/lib/python3.6/site-packages/boruta/boruta_py.py:418: RuntimeWarning: invalid value encountered in greater\n",
      "  hits = np.where(cur_imp[0] > imp_sha_max)[0]\n"
     ]
    },
    {
     "name": "stdout",
     "output_type": "stream",
     "text": [
      "Iteration: \t108 / 120\n",
      "Confirmed: \t58\n",
      "Tentative: \t2\n",
      "Rejected: \t593\n"
     ]
    },
    {
     "name": "stderr",
     "output_type": "stream",
     "text": [
      "/data/anaconda/envs/py36/lib/python3.6/site-packages/boruta/boruta_py.py:418: RuntimeWarning: invalid value encountered in greater\n",
      "  hits = np.where(cur_imp[0] > imp_sha_max)[0]\n"
     ]
    },
    {
     "name": "stdout",
     "output_type": "stream",
     "text": [
      "Iteration: \t109 / 120\n",
      "Confirmed: \t58\n",
      "Tentative: \t2\n",
      "Rejected: \t593\n"
     ]
    },
    {
     "name": "stderr",
     "output_type": "stream",
     "text": [
      "/data/anaconda/envs/py36/lib/python3.6/site-packages/boruta/boruta_py.py:418: RuntimeWarning: invalid value encountered in greater\n",
      "  hits = np.where(cur_imp[0] > imp_sha_max)[0]\n"
     ]
    },
    {
     "name": "stdout",
     "output_type": "stream",
     "text": [
      "Iteration: \t110 / 120\n",
      "Confirmed: \t58\n",
      "Tentative: \t2\n",
      "Rejected: \t593\n"
     ]
    },
    {
     "name": "stderr",
     "output_type": "stream",
     "text": [
      "/data/anaconda/envs/py36/lib/python3.6/site-packages/boruta/boruta_py.py:418: RuntimeWarning: invalid value encountered in greater\n",
      "  hits = np.where(cur_imp[0] > imp_sha_max)[0]\n"
     ]
    },
    {
     "name": "stdout",
     "output_type": "stream",
     "text": [
      "Iteration: \t111 / 120\n",
      "Confirmed: \t58\n",
      "Tentative: \t2\n",
      "Rejected: \t593\n"
     ]
    },
    {
     "name": "stderr",
     "output_type": "stream",
     "text": [
      "/data/anaconda/envs/py36/lib/python3.6/site-packages/boruta/boruta_py.py:418: RuntimeWarning: invalid value encountered in greater\n",
      "  hits = np.where(cur_imp[0] > imp_sha_max)[0]\n"
     ]
    },
    {
     "name": "stdout",
     "output_type": "stream",
     "text": [
      "Iteration: \t112 / 120\n",
      "Confirmed: \t58\n",
      "Tentative: \t2\n",
      "Rejected: \t593\n"
     ]
    },
    {
     "name": "stderr",
     "output_type": "stream",
     "text": [
      "/data/anaconda/envs/py36/lib/python3.6/site-packages/boruta/boruta_py.py:418: RuntimeWarning: invalid value encountered in greater\n",
      "  hits = np.where(cur_imp[0] > imp_sha_max)[0]\n"
     ]
    },
    {
     "name": "stdout",
     "output_type": "stream",
     "text": [
      "Iteration: \t113 / 120\n",
      "Confirmed: \t58\n",
      "Tentative: \t2\n",
      "Rejected: \t593\n"
     ]
    },
    {
     "name": "stderr",
     "output_type": "stream",
     "text": [
      "/data/anaconda/envs/py36/lib/python3.6/site-packages/boruta/boruta_py.py:418: RuntimeWarning: invalid value encountered in greater\n",
      "  hits = np.where(cur_imp[0] > imp_sha_max)[0]\n"
     ]
    },
    {
     "name": "stdout",
     "output_type": "stream",
     "text": [
      "Iteration: \t114 / 120\n",
      "Confirmed: \t58\n",
      "Tentative: \t2\n",
      "Rejected: \t593\n"
     ]
    },
    {
     "name": "stderr",
     "output_type": "stream",
     "text": [
      "/data/anaconda/envs/py36/lib/python3.6/site-packages/boruta/boruta_py.py:418: RuntimeWarning: invalid value encountered in greater\n",
      "  hits = np.where(cur_imp[0] > imp_sha_max)[0]\n"
     ]
    },
    {
     "name": "stdout",
     "output_type": "stream",
     "text": [
      "Iteration: \t115 / 120\n",
      "Confirmed: \t58\n",
      "Tentative: \t2\n",
      "Rejected: \t593\n"
     ]
    },
    {
     "name": "stderr",
     "output_type": "stream",
     "text": [
      "/data/anaconda/envs/py36/lib/python3.6/site-packages/boruta/boruta_py.py:418: RuntimeWarning: invalid value encountered in greater\n",
      "  hits = np.where(cur_imp[0] > imp_sha_max)[0]\n"
     ]
    },
    {
     "name": "stdout",
     "output_type": "stream",
     "text": [
      "Iteration: \t116 / 120\n",
      "Confirmed: \t58\n",
      "Tentative: \t2\n",
      "Rejected: \t593\n"
     ]
    },
    {
     "name": "stderr",
     "output_type": "stream",
     "text": [
      "/data/anaconda/envs/py36/lib/python3.6/site-packages/boruta/boruta_py.py:418: RuntimeWarning: invalid value encountered in greater\n",
      "  hits = np.where(cur_imp[0] > imp_sha_max)[0]\n"
     ]
    },
    {
     "name": "stdout",
     "output_type": "stream",
     "text": [
      "Iteration: \t117 / 120\n",
      "Confirmed: \t58\n",
      "Tentative: \t2\n",
      "Rejected: \t593\n"
     ]
    },
    {
     "name": "stderr",
     "output_type": "stream",
     "text": [
      "/data/anaconda/envs/py36/lib/python3.6/site-packages/boruta/boruta_py.py:418: RuntimeWarning: invalid value encountered in greater\n",
      "  hits = np.where(cur_imp[0] > imp_sha_max)[0]\n"
     ]
    },
    {
     "name": "stdout",
     "output_type": "stream",
     "text": [
      "Iteration: \t118 / 120\n",
      "Confirmed: \t58\n",
      "Tentative: \t2\n",
      "Rejected: \t593\n",
      "Iteration: \t119 / 120\n",
      "Confirmed: \t58\n",
      "Tentative: \t2\n",
      "Rejected: \t593\n",
      "\n",
      "\n",
      "BorutaPy finished running.\n",
      "\n",
      "Iteration: \t120 / 120\n",
      "Confirmed: \t58\n",
      "Tentative: \t0\n",
      "Rejected: \t593\n"
     ]
    },
    {
     "name": "stderr",
     "output_type": "stream",
     "text": [
      "/data/anaconda/envs/py36/lib/python3.6/site-packages/boruta/boruta_py.py:418: RuntimeWarning: invalid value encountered in greater\n",
      "  hits = np.where(cur_imp[0] > imp_sha_max)[0]\n"
     ]
    },
    {
     "data": {
      "text/plain": [
       "BorutaPy(alpha=0.05,\n",
       "     estimator=RandomForestClassifier(bootstrap=True, class_weight='balanced',\n",
       "            criterion='gini', max_depth=6, max_features='auto',\n",
       "            max_leaf_nodes=None, min_impurity_decrease=0.0,\n",
       "            min_impurity_split=None, min_samples_leaf=1,\n",
       "            min_samples_split=2, min_weight_fraction_leaf=0.0,\n",
       "            n_estimators=182, n_jobs=-1, oob_score=False,\n",
       "            random_state=<mtrand.RandomState object at 0x7fa6f0495090>,\n",
       "            verbose=0, warm_start=False),\n",
       "     max_iter=120, n_estimators='auto', perc=100,\n",
       "     random_state=<mtrand.RandomState object at 0x7fa6f0495090>,\n",
       "     two_step=True, verbose=2)"
      ]
     },
     "execution_count": 49,
     "metadata": {},
     "output_type": "execute_result"
    }
   ],
   "source": [
    "feat_selector = BorutaPy(rf,\n",
    "                         n_estimators='auto',\n",
    "                         max_iter=120,\n",
    "                         perc=100, # controls how conservatively we select features. Lower means more false positives\n",
    "                         verbose=2,\n",
    "                         random_state=Config.get(\"random_seed\"))\n",
    "feat_selector.fit(Xy[\"data\"].values, Xy[\"targets\"].loc[:,\"TARGET_B\"].astype(\"int64\").values)"
   ]
  },
  {
   "cell_type": "code",
   "execution_count": 50,
   "metadata": {},
   "outputs": [],
   "source": [
    "with open(pathlib.Path(Config.get(\"model_store\"), \"feature_selection_boruta.pkl\"), \"wb\") as of:\n",
    "    pickle.dump(feat_selector, of)"
   ]
  },
  {
   "cell_type": "code",
   "execution_count": 51,
   "metadata": {},
   "outputs": [
    {
     "data": {
      "text/plain": [
       "array([False,  True, False, False, False, False, False, False, False,\n",
       "       False, False, False, False, False, False, False, False, False,\n",
       "       False, False, False, False, False, False, False, False, False,\n",
       "       False, False, False, False, False, False, False, False, False,\n",
       "       False, False, False, False,  True, False, False, False, False,\n",
       "       False, False, False, False, False, False, False, False, False,\n",
       "       False, False, False, False, False, False, False, False, False,\n",
       "       False, False, False, False, False, False, False, False, False,\n",
       "       False, False, False, False, False, False, False, False, False,\n",
       "       False, False, False, False, False, False, False, False, False,\n",
       "       False, False, False, False, False, False, False, False, False,\n",
       "       False, False, False, False, False, False, False, False, False,\n",
       "       False, False,  True,  True, False, False, False, False, False,\n",
       "       False, False, False, False, False, False, False, False, False,\n",
       "       False, False, False, False, False, False, False, False, False,\n",
       "       False, False,  True,  True,  True,  True,  True, False, False,\n",
       "       False, False, False, False, False, False, False, False, False,\n",
       "       False, False, False,  True, False, False, False, False, False,\n",
       "        True, False,  True,  True,  True,  True, False, False, False,\n",
       "       False, False, False, False, False, False, False, False, False,\n",
       "       False, False, False, False, False, False, False, False,  True,\n",
       "       False, False, False, False, False, False, False, False, False,\n",
       "       False, False, False, False, False, False, False, False, False,\n",
       "       False, False, False, False, False, False, False, False, False,\n",
       "       False, False, False, False, False, False, False, False, False,\n",
       "       False, False, False, False, False, False, False, False, False,\n",
       "       False, False, False, False, False, False, False, False, False,\n",
       "       False, False, False, False, False, False, False, False, False,\n",
       "       False, False, False, False, False, False,  True, False, False,\n",
       "       False, False, False, False, False, False, False, False, False,\n",
       "       False, False, False, False, False, False, False, False, False,\n",
       "       False, False, False, False, False, False, False, False, False,\n",
       "       False, False,  True, False, False, False, False, False, False,\n",
       "       False, False, False, False, False, False, False, False, False,\n",
       "       False, False, False, False, False, False, False, False, False,\n",
       "       False, False, False, False, False, False, False,  True,  True,\n",
       "        True,  True, False,  True, False, False, False,  True,  True,\n",
       "        True,  True,  True,  True, False,  True, False,  True,  True,\n",
       "       False,  True,  True,  True,  True,  True,  True,  True,  True,\n",
       "        True,  True,  True,  True,  True,  True, False, False, False,\n",
       "        True, False,  True, False,  True, False,  True, False,  True,\n",
       "       False,  True, False, False, False, False, False, False, False,\n",
       "       False, False, False, False, False, False, False, False, False,\n",
       "       False, False,  True, False, False, False, False, False, False,\n",
       "       False, False, False, False, False, False, False, False, False,\n",
       "       False,  True, False,  True,  True, False, False, False, False,\n",
       "       False, False, False, False, False, False, False, False, False,\n",
       "       False, False, False, False, False, False, False, False, False,\n",
       "       False, False, False, False, False, False, False, False, False,\n",
       "       False, False, False, False, False, False, False, False, False,\n",
       "       False, False, False, False, False, False, False, False, False,\n",
       "       False, False, False, False, False, False, False, False, False,\n",
       "       False, False, False, False, False, False,  True, False, False,\n",
       "       False, False, False,  True, False, False, False, False, False,\n",
       "       False, False, False, False, False, False, False, False, False,\n",
       "       False, False, False, False, False, False, False, False, False,\n",
       "       False, False, False, False, False, False, False, False, False,\n",
       "       False, False, False, False, False, False, False, False, False,\n",
       "       False, False, False, False, False, False, False, False, False,\n",
       "       False, False, False, False, False, False, False, False, False,\n",
       "       False, False, False, False, False, False, False, False, False,\n",
       "       False, False, False, False, False, False, False, False, False,\n",
       "       False, False, False, False, False, False, False, False, False,\n",
       "       False, False, False, False, False, False, False, False, False,\n",
       "       False, False, False, False, False, False, False, False, False,\n",
       "       False, False, False, False, False, False, False, False, False,\n",
       "       False, False, False, False, False, False, False, False, False,\n",
       "       False, False, False, False, False, False, False, False, False,\n",
       "       False, False, False, False, False, False, False, False, False,\n",
       "       False, False, False, False, False, False, False, False, False,\n",
       "       False, False, False, False, False, False, False, False, False,\n",
       "       False, False, False, False, False, False, False, False, False,\n",
       "       False, False, False, False, False])"
      ]
     },
     "execution_count": 51,
     "metadata": {},
     "output_type": "execute_result"
    }
   ],
   "source": [
    "# check selected features\n",
    "feat_selector.support_"
   ]
  },
  {
   "cell_type": "code",
   "execution_count": 52,
   "metadata": {},
   "outputs": [
    {
     "data": {
      "text/plain": [
       "array([277,   1, 443, 392, 381,  71, 287, 223, 363, 314, 368, 512, 378,\n",
       "       511, 481, 346, 401, 360, 423, 331, 100, 113,  77, 202, 190, 180,\n",
       "        69, 485, 458, 513, 500, 410, 435, 445, 496, 473, 515, 429, 372,\n",
       "       397,   1,  32,  34,  31, 352, 328, 314, 252, 263,  13,  10, 289,\n",
       "        57, 117, 475, 191, 302, 312, 310, 365, 126, 390, 418, 202,  35,\n",
       "       116, 127, 104, 124, 205, 118, 119, 216, 159,  58, 171, 218, 267,\n",
       "       207,  55, 124, 226, 192, 257, 239, 199,  79, 220,  92, 176,   5,\n",
       "        97, 134, 177, 237,  80, 228, 279,  51,  66,  72, 130, 148, 178,\n",
       "       167, 174, 242, 282, 284, 349,   1,   1, 108,  48,  90,  73, 171,\n",
       "       199, 178,  73, 128,  82, 136, 185, 185,   7, 338,  15, 223, 231,\n",
       "       273, 167,  56,  64,  52,  21, 145,   1,   1,   1,   1,   1,   9,\n",
       "       237,  96, 140, 173, 293, 294, 141, 246, 255, 131, 142, 229, 320,\n",
       "         1,   3,   7,  54,  27,  53,   1,   4,   1,   1,   1,   1,  75,\n",
       "       150, 152, 164,  95,  11, 209, 109, 231,  18, 157, 124, 155, 102,\n",
       "        29, 120, 147, 218, 106, 146,   1,  46,  82,  86,  13, 100, 143,\n",
       "       155, 183, 370, 266, 226, 269, 105, 189, 210, 204,  85, 154, 196,\n",
       "       128, 157, 206, 113,  68, 212, 325, 110,  33,  88, 282,  93, 187,\n",
       "       366, 305,  62, 259, 184,  43, 260, 195, 274, 339, 194, 139, 261,\n",
       "       291, 269, 197, 165, 252, 298, 298, 193, 246, 161, 263, 180, 213,\n",
       "       208,  94, 111, 199, 343, 107,  11,  37,  38,  86, 136,   1,  23,\n",
       "       220, 152, 330,  82, 235, 331, 298,  98,  77, 317, 171,  99,  88,\n",
       "        49, 348, 134, 316, 121, 448, 413, 248, 215, 201, 248, 374, 351,\n",
       "       339, 320, 471,  47,   1, 115, 229, 244, 217,  90,  59, 188, 256,\n",
       "        64, 281, 251, 169,  63,  75,  61, 243, 275, 166, 233, 122, 210,\n",
       "       239, 241, 254, 222, 354,  16, 102, 376, 236, 276,   1,   1,   1,\n",
       "         1, 134,   1,  19, 213, 272,   1,   1,   1,   1,   1,   1, 112,\n",
       "         1, 366,   1,   1,  40,   1,   1,   1,   1,   1,   1,   1,   1,\n",
       "         1,   1,   1,   1,   1,   1,  67,  26,  17,   1,   6,   1,  42,\n",
       "         1,  70,   1, 344,   1, 182,   1, 313, 174, 150,  36, 234,  50,\n",
       "       336, 250, 363, 263, 286, 132, 291, 226, 309, 144, 308,  24,   1,\n",
       "       507, 162, 358, 410, 402, 383, 335, 138, 359, 337, 421, 245, 448,\n",
       "       426, 383, 354,   1,   2,   1,   1, 582, 505, 460, 396, 412, 419,\n",
       "       483, 455, 491, 390, 498, 582, 458, 278, 317, 341, 406, 372, 582,\n",
       "       461, 467, 416, 461, 439, 344, 582, 548, 349, 441, 380, 324, 400,\n",
       "       582, 582, 473, 560, 463, 539, 524, 527, 497, 492, 498, 426, 547,\n",
       "       482, 542, 538, 518, 550, 333, 483, 405, 426, 385, 408, 404, 541,\n",
       "       523, 582,  38,  30, 562, 479,   1, 285,  59,  40, 545, 441,   1,\n",
       "       306, 354, 566, 549,  28, 288, 356,  44, 554, 378, 421, 582,  24,\n",
       "       582, 302, 467, 399, 562, 522, 434, 323, 159, 582, 295, 370, 387,\n",
       "       582, 450, 408, 342,  19, 582, 516, 414, 388, 555, 526, 397, 503,\n",
       "        22, 582, 267, 393, 420, 557, 562, 403, 307, 394, 389, 509, 540,\n",
       "       531, 489, 328,  82, 280, 414, 492, 537, 506, 428, 347,  45, 566,\n",
       "       375, 451, 503, 582, 566, 534, 304, 582, 370, 454, 545, 582, 452,\n",
       "       479, 395, 271, 582, 163, 519, 528, 290, 582, 334, 385, 477, 520,\n",
       "       298, 521, 582, 150, 553, 258, 495, 501, 559, 423, 530, 487, 416,\n",
       "       582, 298, 432, 529, 551, 406, 509, 488, 361, 562, 325, 383, 536,\n",
       "       534, 436, 472, 457, 265, 582, 311, 466, 517, 582, 558, 443, 494,\n",
       "       582, 432, 464, 525, 552, 439, 445, 475, 436, 322, 502, 544, 534,\n",
       "       486, 455, 465, 357, 582, 328, 430, 542, 582, 566, 532, 298, 582,\n",
       "       319, 452, 508, 582, 469, 490, 556, 378, 582, 362, 448, 477, 438,\n",
       "       469, 432, 513])"
      ]
     },
     "execution_count": 52,
     "metadata": {},
     "output_type": "execute_result"
    }
   ],
   "source": [
    "# check ranking of features\n",
    "feat_selector.ranking_"
   ]
  },
  {
   "cell_type": "code",
   "execution_count": 53,
   "metadata": {},
   "outputs": [],
   "source": [
    "feature_names = Xy[\"data\"].columns.values[feat_selector.support_]"
   ]
  },
  {
   "cell_type": "code",
   "execution_count": 54,
   "metadata": {},
   "outputs": [
    {
     "data": {
      "text/plain": [
       "array(['AGE', 'PEPSTRFL', 'HV1', 'HV2', 'HVP1', 'HVP2', 'HVP3', 'HVP4',\n",
       "       'HVP5', 'RP1', 'DMA', 'IC2', 'IC3', 'IC4', 'IC5', 'HHAS3', 'EC7',\n",
       "       'POBC2', 'CARDPROM', 'NUMPROM', 'CARDPM12', 'NUMPRM12', 'RAMNT_14',\n",
       "       'RAMNTALL', 'NGIFTALL', 'CARDGIFT', 'MINRAMNT', 'MAXRAMNT',\n",
       "       'LASTGIFT', 'AVGGIFT', 'RFA_2F', 'RFA_2A', 'RFA_3F', 'RFA_3A',\n",
       "       'RFA_4F', 'RFA_4A', 'RFA_5F', 'RFA_5A', 'RFA_6F', 'RFA_6A',\n",
       "       'RFA_7F', 'RFA_7A', 'RFA_8F', 'RFA_8A', 'RFA_9F', 'RFA_9A',\n",
       "       'RFA_11A', 'RFA_12A', 'RFA_13A', 'RFA_14A', 'RFA_15A', 'RFA_16A',\n",
       "       'ZIP_longitude', 'LASTDATE_DELTA_MONTHS', 'MAXRDATE_DELTA_MONTHS',\n",
       "       'ODATEDW_DELTA_YEARS', 'RFA_3R_S', 'RFA_4R_S'], dtype=object)"
      ]
     },
     "execution_count": 54,
     "metadata": {},
     "output_type": "execute_result"
    }
   ],
   "source": [
    "feature_names"
   ]
  },
  {
   "cell_type": "code",
   "execution_count": 58,
   "metadata": {},
   "outputs": [],
   "source": [
    "Xy_all_relevant = Xy.copy()\n",
    "\n",
    "Xy_all_relevant[\"data\"] = pd.DataFrame(feat_selector.transform(Xy[\"data\"].values),\n",
    "                                   columns = feature_names,\n",
    "                                   index = Xy[\"data\"].index)\n",
    "Xy_all_relevant[\"feature_names\"] = Xy[\"data\"].columns.values.tolist()\n",
    "\n",
    "with open(pathlib.Path(Config.get(\"df_store\"), \"Xy_all_relevant.pd.pkl\"), \"wb\") as of:\n",
    "    pickle.dump(Xy_all_relevant, of)"
   ]
  },
  {
   "cell_type": "markdown",
   "metadata": {},
   "source": [
    "## PCA\n",
    "\n",
    "A completely different approach to feature selection through PCA.\n",
    "\n",
    "We can use the first $n$ principal components as new input features, compressing the information in the original data. "
   ]
  },
  {
   "cell_type": "code",
   "execution_count": 59,
   "metadata": {},
   "outputs": [],
   "source": [
    "from sklearn import decomposition\n",
    "from sklearn import preprocessing\n",
    "from sklearn.pipeline import Pipeline"
   ]
  },
  {
   "cell_type": "code",
   "execution_count": 60,
   "metadata": {},
   "outputs": [],
   "source": [
    "scaled = preprocessing.StandardScaler().fit_transform(Xy[\"data\"].values)\n",
    "pca = decomposition.PCA(n_components=0.95)\n",
    "pca.fit(scaled)\n",
    "features_pca = pca.transform(scaled)"
   ]
  },
  {
   "cell_type": "code",
   "execution_count": 61,
   "metadata": {},
   "outputs": [
    {
     "data": {
      "text/plain": [
       "array([[ 5.54832263e+00, -1.27380000e+01,  9.18663503e+00, ...,\n",
       "        -2.53850294e-01,  8.15157269e-02,  1.03959739e-01],\n",
       "       [-2.11531122e+01,  7.24868252e-01, -3.38091815e-01, ...,\n",
       "        -7.12765530e-01, -3.20329713e-01,  5.31474176e-01],\n",
       "       [ 7.81614792e+00, -1.05868549e+01,  5.06108265e+00, ...,\n",
       "         6.55482179e-01,  6.72570633e-03,  5.10604001e-01],\n",
       "       ...,\n",
       "       [ 3.92533306e+00, -1.49181431e+00, -2.18465441e+00, ...,\n",
       "        -6.18885886e-01, -5.03398485e-01,  3.20471990e-02],\n",
       "       [-8.02389659e+00, -7.48061715e+00,  9.36808872e+00, ...,\n",
       "        -4.24634587e-01,  4.64834534e-01,  1.84718444e-02],\n",
       "       [-7.66594607e+00, -4.52467267e+00,  3.94814442e+00, ...,\n",
       "        -3.10573286e-02,  8.60743423e-02, -2.45504288e-01]])"
      ]
     },
     "execution_count": 61,
     "metadata": {},
     "output_type": "execute_result"
    }
   ],
   "source": [
    "features_pca"
   ]
  },
  {
   "cell_type": "code",
   "execution_count": 62,
   "metadata": {},
   "outputs": [
    {
     "data": {
      "text/plain": [
       "array([[ 0.00066436,  0.01904806,  0.00459083, ...,  0.0055132 ,\n",
       "        -0.00503461, -0.00144575],\n",
       "       [-0.00317863,  0.00290653, -0.00269118, ..., -0.02986225,\n",
       "         0.05577906, -0.00214995],\n",
       "       [ 0.02724358,  0.04505671, -0.00463347, ..., -0.01949199,\n",
       "         0.02045932,  0.00563115],\n",
       "       ...,\n",
       "       [ 0.00192865, -0.00909539,  0.00073621, ..., -0.01004385,\n",
       "         0.06116234,  0.05991661],\n",
       "       [-0.00289661,  0.0029167 , -0.00759639, ..., -0.07489955,\n",
       "        -0.017487  ,  0.06466446],\n",
       "       [ 0.02625639,  0.02131605, -0.02834509, ...,  0.00362902,\n",
       "         0.00484767,  0.00561891]])"
      ]
     },
     "execution_count": 62,
     "metadata": {},
     "output_type": "execute_result"
    }
   ],
   "source": [
    "pca.components_"
   ]
  },
  {
   "cell_type": "code",
   "execution_count": 63,
   "metadata": {},
   "outputs": [
    {
     "data": {
      "application/pdf": "[encoded data removed]",
      "image/png": "[encoded data removed]",
      "text/plain": [
       "<Figure size 432x288 with 1 Axes>"
      ]
     },
     "metadata": {
      "needs_background": "light"
     },
     "output_type": "display_data"
    }
   ],
   "source": [
    "cum_var_expl = np.cumsum(pca.explained_variance_ratio_)\n",
    "sns.lineplot(data = cum_var_expl)\n",
    "plt.xlabel = \"Number of dimensions\"\n",
    "plt.ylabel = \"Variance explained\""
   ]
  },
  {
   "cell_type": "code",
   "execution_count": 64,
   "metadata": {},
   "outputs": [
    {
     "data": {
      "text/plain": [
       "324"
      ]
     },
     "execution_count": 64,
     "metadata": {},
     "output_type": "execute_result"
    }
   ],
   "source": [
    "pca.n_components_"
   ]
  },
  {
   "cell_type": "code",
   "execution_count": 65,
   "metadata": {},
   "outputs": [
    {
     "data": {
      "text/plain": [
       "653"
      ]
     },
     "execution_count": 65,
     "metadata": {},
     "output_type": "execute_result"
    }
   ],
   "source": [
    "pca.n_features_"
   ]
  },
  {
   "cell_type": "code",
   "execution_count": 66,
   "metadata": {},
   "outputs": [
    {
     "data": {
      "text/plain": [
       "<bound method BaseEstimator.get_params of PCA(copy=True, iterated_power='auto', n_components=0.95, random_state=None,\n",
       "  svd_solver='auto', tol=0.0, whiten=False)>"
      ]
     },
     "execution_count": 66,
     "metadata": {},
     "output_type": "execute_result"
    }
   ],
   "source": [
    "pca.get_params"
   ]
  },
  {
   "cell_type": "markdown",
   "metadata": {},
   "source": [
    "## Sklearn SelectFromModel "
   ]
  },
  {
   "cell_type": "code",
   "execution_count": 68,
   "metadata": {},
   "outputs": [
    {
     "data": {
      "text/plain": [
       "array([3.57965870e-04, 6.22585435e-03, 4.71046141e-04, 5.55908332e-04,\n",
       "       4.04787339e-04, 2.36767583e-03, 1.83129437e-03, 2.29758556e-03,\n",
       "       4.49354188e-04, 1.10338461e-03, 7.48818280e-04, 3.01008138e-04,\n",
       "       2.59707793e-04, 3.15279679e-04, 3.28792597e-04, 8.52077672e-04,\n",
       "       4.64005535e-04, 6.12675969e-04, 4.59443013e-04, 1.19043778e-03,\n",
       "       4.17620813e-03, 4.43782145e-03, 4.24090662e-03, 3.45565585e-03,\n",
       "       3.12292146e-03, 2.61894657e-03, 1.91244383e-03, 3.11592426e-04,\n",
       "       4.14705806e-04, 4.35362508e-04, 3.97107759e-04, 4.67670485e-04,\n",
       "       4.50041138e-04, 4.54374491e-04, 4.23029720e-04, 2.85173805e-04,\n",
       "       3.51815372e-04, 3.58746137e-04, 4.43758189e-04, 4.26548515e-04,\n",
       "       2.18939510e-03, 5.17618976e-03, 5.18679675e-03, 5.17421238e-03,\n",
       "       6.73837186e-04, 1.24420012e-03, 1.25883428e-03, 2.07587919e-03,\n",
       "       2.01776751e-03, 2.94884921e-03, 2.44081584e-03, 1.08092967e-03,\n",
       "       1.74671649e-03, 2.39140919e-03, 5.49087644e-04, 5.70414354e-04,\n",
       "       7.83473401e-04, 7.51107649e-04, 5.72820641e-04, 5.19658285e-04,\n",
       "       2.17189067e-03, 6.26689477e-04, 4.26613595e-04, 1.43440498e-03,\n",
       "       2.34735635e-03, 2.24997002e-03, 2.21247523e-03, 2.14529259e-03,\n",
       "       2.05015915e-03, 1.98231505e-03, 2.46037313e-03, 3.32302780e-03,\n",
       "       2.96335918e-03, 3.04511060e-03, 2.53158830e-03, 2.73768591e-03,\n",
       "       2.68127696e-03, 2.45680057e-03, 2.44083981e-03, 2.25402068e-03,\n",
       "       2.27355870e-03, 2.81636064e-03, 2.64971618e-03, 2.91577611e-03,\n",
       "       2.78274750e-03, 2.93322539e-03, 2.79257047e-03, 2.31528879e-03,\n",
       "       2.75323108e-03, 2.63891784e-03, 3.01234007e-03, 2.75030484e-03,\n",
       "       2.60080662e-03, 2.40636718e-03, 1.75787279e-03, 3.00918080e-03,\n",
       "       2.41957777e-03, 1.98986203e-03, 2.92674498e-03, 3.23147597e-03,\n",
       "       3.29830681e-03, 3.11800223e-03, 3.24711051e-03, 2.06917676e-03,\n",
       "       2.48484413e-03, 2.43945679e-03, 2.23572202e-03, 1.52659359e-03,\n",
       "       1.36360319e-03, 8.25083274e-04, 4.52685923e-03, 4.50802225e-03,\n",
       "       1.28114531e-03, 1.24669046e-03, 3.24045660e-03, 3.12826870e-03,\n",
       "       2.86681179e-03, 3.05235029e-03, 3.17947081e-03, 2.70780516e-03,\n",
       "       2.68994520e-03, 3.00517713e-03, 2.66500907e-03, 2.50955533e-03,\n",
       "       2.63016880e-03, 2.46132191e-03, 1.00507342e-03, 2.37337018e-03,\n",
       "       2.67016449e-03, 2.67895729e-03, 2.07561569e-03, 2.84367666e-03,\n",
       "       3.40529630e-03, 2.58370913e-03, 1.42356292e-03, 2.02629340e-03,\n",
       "       8.86276534e-04, 2.22942740e-03, 2.66293067e-03, 3.24243207e-03,\n",
       "       3.41435642e-03, 2.80284335e-03, 1.49793120e-03, 2.09305176e-03,\n",
       "       3.47065428e-03, 2.86652517e-03, 2.74510659e-03, 1.11170753e-03,\n",
       "       8.46219804e-04, 2.79019635e-03, 2.06567963e-03, 2.27923620e-03,\n",
       "       3.47587220e-03, 2.51869180e-03, 2.18758777e-03, 1.42666223e-03,\n",
       "       3.12528521e-03, 3.60465811e-03, 3.70433276e-03, 3.50842004e-03,\n",
       "       3.77379400e-03, 4.03075941e-03, 4.55161911e-03, 3.64161300e-03,\n",
       "       3.66498774e-03, 3.61684178e-03, 3.83017579e-03, 4.11300549e-03,\n",
       "       3.07757831e-03, 3.11641790e-03, 3.44082058e-03, 3.42589468e-03,\n",
       "       3.12404156e-03, 2.44601887e-03, 1.61771525e-03, 1.15021999e-03,\n",
       "       1.36003714e-03, 2.93971362e-03, 3.22785675e-03, 3.57938695e-03,\n",
       "       3.62441339e-03, 3.40126898e-03, 2.52459880e-03, 1.81186362e-03,\n",
       "       1.29323928e-03, 1.48301723e-03, 3.02936949e-03, 2.69759775e-03,\n",
       "       3.85692811e-03, 2.84609162e-03, 3.68552077e-03, 3.76172977e-03,\n",
       "       3.57931423e-03, 3.79026014e-03, 3.43613284e-03, 1.76709148e-03,\n",
       "       1.47557270e-03, 6.67274105e-04, 2.47774944e-03, 2.44652576e-03,\n",
       "       2.14244776e-03, 4.46871831e-03, 3.33718611e-03, 3.38279767e-03,\n",
       "       3.09365239e-03, 4.61098697e-03, 3.00109938e-03, 3.18366163e-03,\n",
       "       3.46496614e-03, 3.21308188e-03, 3.40720199e-03, 4.18380313e-03,\n",
       "       4.32048355e-03, 3.02328256e-03, 1.36943420e-03, 2.78019526e-03,\n",
       "       3.32154389e-03, 3.21992771e-03, 2.36758274e-03, 3.25280208e-03,\n",
       "       3.48030650e-03, 8.79638160e-04, 1.69758245e-03, 3.42007266e-03,\n",
       "       2.07348361e-03, 3.20860867e-03, 2.96361859e-03, 2.46670421e-03,\n",
       "       2.34096207e-03, 2.19664267e-03, 1.29154191e-03, 3.05159548e-03,\n",
       "       3.99645124e-03, 2.92629332e-03, 2.37525400e-03, 2.87839293e-03,\n",
       "       3.49895857e-03, 2.91114994e-03, 2.67858064e-03, 2.27471099e-03,\n",
       "       1.65846179e-03, 3.33844886e-03, 3.08876920e-03, 2.88283426e-03,\n",
       "       2.79855621e-03, 3.19049924e-03, 2.82332990e-03, 2.44419218e-03,\n",
       "       3.25408072e-03, 3.95318886e-03, 3.11390423e-03, 1.01366881e-03,\n",
       "       1.56101710e-03, 2.99988698e-03, 3.10780977e-03, 3.86275774e-03,\n",
       "       3.68644789e-03, 2.93465592e-03, 3.39973100e-03, 2.71128974e-03,\n",
       "       2.55953423e-03, 3.18576989e-03, 1.47860549e-03, 2.88904690e-03,\n",
       "       2.58950219e-03, 8.25041524e-04, 1.15444457e-03, 2.89250259e-03,\n",
       "       3.64375612e-03, 1.54657744e-03, 3.89317971e-03, 4.24337877e-03,\n",
       "       3.71915198e-03, 3.32661302e-03, 1.17275301e-03, 3.01894581e-03,\n",
       "       1.25910087e-03, 3.52975300e-03, 5.80955909e-04, 4.96716343e-04,\n",
       "       2.98412914e-03, 1.96607527e-03, 1.31499405e-03, 1.66714101e-03,\n",
       "       5.29080010e-04, 7.31032529e-04, 1.05589682e-03, 1.25485431e-03,\n",
       "       3.47474926e-04, 2.54231497e-03, 4.69962928e-03, 2.92422138e-03,\n",
       "       2.37189575e-03, 1.51658697e-03, 2.37473653e-03, 2.22489504e-03,\n",
       "       3.30372492e-03, 3.42960426e-03, 2.30143571e-03, 3.44688970e-03,\n",
       "       1.97000390e-03, 2.99550509e-03, 3.23021480e-03, 3.41326743e-03,\n",
       "       3.23783934e-03, 3.50480701e-03, 1.56670467e-03, 1.29716306e-03,\n",
       "       3.60323860e-03, 2.55320454e-03, 4.07544877e-03, 2.42907222e-03,\n",
       "       2.41276962e-03, 2.20808357e-03, 2.47342922e-03, 2.69747333e-03,\n",
       "       8.69994109e-04, 2.05567404e-03, 2.03645010e-03, 8.74663028e-04,\n",
       "       2.49785743e-03, 2.31872125e-03, 3.84202835e-03, 4.99665948e-03,\n",
       "       2.06758255e-03, 3.73887660e-03, 1.68751090e-03, 1.99191927e-03,\n",
       "       2.01304460e-03, 1.44565136e-03, 1.49177032e-03, 5.11974903e-03,\n",
       "       4.30316581e-03, 4.39742872e-03, 2.43811359e-03, 4.29050508e-03,\n",
       "       5.21367053e-03, 4.00374130e-03, 6.81649773e-03, 5.32347518e-04,\n",
       "       3.30174756e-03, 2.20523811e-03, 2.98813810e-03, 1.93340334e-03,\n",
       "       1.99394539e-03, 2.39531266e-03, 1.98905869e-03, 1.46223295e-03,\n",
       "       1.53236725e-03, 1.68627496e-03, 1.89535717e-03, 1.27562643e-03,\n",
       "       1.21011736e-03, 1.31798947e-03, 1.48189928e-03, 1.14998071e-03,\n",
       "       1.38171385e-03, 1.03656162e-03, 9.58113548e-04, 9.80822894e-04,\n",
       "       1.32779022e-03, 1.09484652e-03, 1.17030728e-03, 9.58948693e-04,\n",
       "       9.85777130e-04, 1.08826399e-03, 1.16799927e-03, 6.79498617e-04,\n",
       "       7.40296694e-04, 9.74193521e-04, 1.07930962e-03, 8.58078083e-04,\n",
       "       1.00486724e-03, 8.65358173e-04, 1.01807297e-03, 9.87156353e-04,\n",
       "       1.03815084e-03, 9.40392687e-04, 9.00015178e-04, 8.63336467e-04,\n",
       "       1.00203827e-03, 8.64818491e-04, 9.87519140e-04, 9.26725270e-04,\n",
       "       7.13575665e-04, 1.06147589e-03, 9.41339003e-04, 4.07305576e-04,\n",
       "       5.40610341e-03, 5.65261026e-03, 1.89725663e-04, 6.65010620e-04,\n",
       "       3.60556108e-04, 4.26919558e-04, 6.29978705e-04, 8.64461197e-04,\n",
       "       4.97030433e-04, 7.77977415e-04, 2.94355450e-04, 9.10924307e-04,\n",
       "       4.30948845e-04, 8.19988738e-04, 3.40068940e-04, 4.71002844e-04,\n",
       "       7.46092974e-04, 6.78883166e-04, 4.83610703e-03, 5.37765090e-03,\n",
       "       4.73605503e-03, 2.37353289e-03, 0.00000000e+00, 5.76269841e-04,\n",
       "       5.33272034e-04, 5.89645107e-04, 5.88023954e-04, 5.10687785e-04,\n",
       "       5.84875567e-04, 5.23010640e-04, 5.86014986e-04, 5.48159400e-04,\n",
       "       5.82787172e-04, 0.00000000e+00, 4.26560066e-04, 4.30984172e-04,\n",
       "       4.29223630e-04, 4.53696324e-04, 3.98264536e-04, 4.64793291e-04,\n",
       "       0.00000000e+00, 3.10688781e-04, 4.60219915e-04, 4.94174682e-04,\n",
       "       4.95130416e-04, 4.85550610e-04, 5.26226496e-04, 0.00000000e+00,\n",
       "       7.81730307e-05, 6.37557686e-04, 4.97048750e-04, 2.86880524e-04,\n",
       "       5.89560111e-04, 5.56900110e-04, 6.46850694e-07, 4.30878946e-08,\n",
       "       5.76471367e-04, 4.90119805e-05, 5.29347416e-04, 1.41721344e-04,\n",
       "       2.51186097e-04, 3.77726691e-04, 4.86171955e-04, 4.65575517e-04,\n",
       "       5.30779152e-04, 5.95565961e-05, 1.07692103e-04, 1.70390020e-04,\n",
       "       1.17264260e-04, 1.30789810e-04, 2.50020630e-04, 9.08972396e-05,\n",
       "       2.92466520e-04, 4.68168151e-04, 4.83923380e-04, 4.52398628e-04,\n",
       "       5.75573484e-04, 3.09122479e-04, 4.07254526e-04, 3.98088216e-04,\n",
       "       2.25667726e-04, 2.31635105e-05, 4.29118809e-04, 1.93912373e-04,\n",
       "       2.67293301e-05, 1.91697299e-04, 7.16400048e-04, 1.69052792e-04,\n",
       "       4.00708366e-04, 1.94240240e-04, 2.21894517e-05, 2.05684949e-04,\n",
       "       5.04774948e-04, 1.84502667e-04, 3.88903719e-04, 4.59869474e-06,\n",
       "       1.40652912e-04, 3.00067039e-04, 4.48357082e-04, 4.30849813e-04,\n",
       "       1.84583669e-04, 8.75694623e-05, 2.86712310e-04, 2.44260302e-04,\n",
       "       1.23115081e-07, 3.57215679e-04, 5.23978881e-06, 2.57482379e-04,\n",
       "       3.67055688e-04, 2.00038419e-04, 3.59739543e-05, 2.49968982e-04,\n",
       "       2.71583183e-04, 1.35857165e-04, 2.57408566e-04, 0.00000000e+00,\n",
       "       3.87189420e-04, 3.63193336e-04, 1.90699008e-04, 3.89137739e-05,\n",
       "       2.48723207e-04, 2.62475443e-04, 1.39735220e-04, 3.61082548e-04,\n",
       "       3.73823348e-06, 1.62064466e-04, 3.65468265e-04, 1.89893202e-04,\n",
       "       4.97194357e-05, 2.73455330e-04, 2.71817227e-04, 3.81983426e-05,\n",
       "       2.63647473e-04, 2.45670036e-07, 2.57087373e-04, 3.78294505e-04,\n",
       "       1.79025143e-04, 1.71235931e-05, 2.12434725e-05, 2.77793264e-04,\n",
       "       2.50622201e-04, 4.36910415e-04, 3.52784181e-04, 1.60465883e-04,\n",
       "       5.16405604e-05, 2.75048995e-04, 2.41931233e-04, 1.74093910e-04,\n",
       "       3.24926658e-04, 3.12379747e-04, 3.76320861e-04, 1.98623351e-04,\n",
       "       6.33548883e-05, 2.58526008e-04, 2.48570694e-04, 1.71837474e-04,\n",
       "       3.08211431e-04, 1.76798499e-05, 3.00227722e-04, 4.28971441e-04,\n",
       "       1.58293147e-04, 1.62665257e-05, 1.53853945e-05, 2.44261051e-04,\n",
       "       2.59308993e-04, 3.65718132e-07, 4.20091982e-04, 4.12576470e-04,\n",
       "       2.23864304e-04, 6.00698643e-06, 2.89755537e-04, 2.32380224e-04,\n",
       "       1.98850981e-04, 2.53138991e-04, 3.99093959e-07, 4.73339757e-04,\n",
       "       4.01577466e-04, 1.55747560e-04, 2.20047481e-04, 0.00000000e+00,\n",
       "       3.77889732e-04, 4.28371643e-04, 2.41337485e-04, 1.98302938e-04,\n",
       "       4.66763644e-04, 2.80565895e-04, 0.00000000e+00, 2.89016887e-04,\n",
       "       4.17872090e-05, 2.98311492e-04, 3.63061151e-04, 1.94854868e-04,\n",
       "       1.02922102e-04, 3.27242974e-04, 2.59617087e-04, 1.87549156e-04,\n",
       "       2.69721583e-04, 2.56896177e-07, 4.43367712e-04, 3.79239136e-04,\n",
       "       2.29495069e-04, 1.10434312e-04, 3.66619154e-04, 2.76654443e-04,\n",
       "       2.00355267e-04, 2.50520319e-04, 4.09865179e-05, 3.96263581e-04,\n",
       "       3.84162729e-04, 2.07030384e-04, 6.09592703e-05, 3.86951846e-04,\n",
       "       3.73634604e-04, 9.86600095e-05, 2.58113953e-04, 9.11780070e-07,\n",
       "       3.16946251e-04, 3.85603245e-04, 1.57066427e-04, 1.30659195e-06,\n",
       "       7.62805338e-05, 2.82986421e-04, 2.66578685e-04, 0.00000000e+00,\n",
       "       4.24915736e-04, 3.77795482e-04, 1.54402744e-04, 4.39726300e-05,\n",
       "       3.50154511e-04, 3.20222248e-04, 2.08639622e-04, 2.43843085e-04,\n",
       "       4.50794110e-04, 4.05614475e-04, 1.66707966e-04, 1.15270250e-04,\n",
       "       3.62134923e-04, 3.40534059e-04, 2.24391215e-04, 2.39075015e-04,\n",
       "       9.13015475e-06, 3.61185572e-04, 4.20096551e-04, 6.23129428e-05,\n",
       "       8.49499374e-08, 1.39203527e-05, 1.95748670e-04, 2.61632439e-04,\n",
       "       0.00000000e+00, 3.82973797e-04, 4.33491849e-04, 3.00289640e-04,\n",
       "       4.24165851e-08, 2.47638914e-04, 2.02343979e-04, 7.30615326e-05,\n",
       "       2.58471874e-04, 2.51571688e-06, 3.98719935e-04, 4.10488273e-04,\n",
       "       2.84993862e-04, 3.56481881e-04, 3.99886249e-04, 2.80624247e-04,\n",
       "       1.75681592e-04])"
      ]
     },
     "execution_count": 68,
     "metadata": {},
     "output_type": "execute_result"
    }
   ],
   "source": [
    "from sklearn.ensemble import RandomForestClassifier\n",
    "from sklearn.feature_selection import SelectFromModel\n",
    "clf = RandomForestClassifier(n_estimators=500, class_weight=\"balanced\")\n",
    "clf = clf.fit(Xy[\"data\"].values, Xy[\"targets\"].TARGET_B.astype(\"int\").values)\n",
    "clf.feature_importances_  "
   ]
  },
  {
   "cell_type": "code",
   "execution_count": 70,
   "metadata": {},
   "outputs": [],
   "source": [
    "importances = pd.DataFrame(data=clf.feature_importances_, index=Xy[\"data\"].columns.values.tolist(), columns=[\"importance\"])"
   ]
  },
  {
   "cell_type": "code",
   "execution_count": 74,
   "metadata": {},
   "outputs": [
    {
     "data": {
      "text/plain": [
       "<matplotlib.axes._subplots.AxesSubplot at 0x7fa7211b0e10>"
      ]
     },
     "execution_count": 74,
     "metadata": {},
     "output_type": "execute_result"
    },
    {
     "data": {
      "application/pdf": "[encoded data removed]",
      "image/png": "[encoded data removed]",
      "text/plain": [
       "<Figure size 432x288 with 1 Axes>"
      ]
     },
     "metadata": {
      "needs_background": "light"
     },
     "output_type": "display_data"
    }
   ],
   "source": [
    "importances.sort_values(by=\"importance\", ascending=False).head(50).plot(kind=\"barh\")"
   ]
  },
  {
   "cell_type": "code",
   "execution_count": null,
   "metadata": {},
   "outputs": [],
   "source": [
    "model = SelectFromModel(clf, prefit=True)\n",
    "X_sfm = model.transform(Xy[\"data\"].values)\n",
    "X_sfm.shape               "
   ]
  },
  {
   "cell_type": "code",
   "execution_count": null,
   "metadata": {},
   "outputs": [],
   "source": [
    "selected_features = Xy[\"data\"].columns.values[model.get_support()]"
   ]
  },
  {
   "cell_type": "code",
   "execution_count": null,
   "metadata": {},
   "outputs": [],
   "source": [
    "selected_features"
   ]
  },
  {
   "cell_type": "code",
   "execution_count": null,
   "metadata": {},
   "outputs": [],
   "source": []
  }
 ],
 "metadata": {
  "kernelspec": {
   "display_name": "py36",
   "language": "python",
   "name": "py36"
  },
  "language_info": {
   "codemirror_mode": {
    "name": "ipython",
    "version": 3
   },
   "file_extension": ".py",
   "mimetype": "text/x-python",
   "name": "python",
   "nbconvert_exporter": "python",
   "pygments_lexer": "ipython3",
   "version": "3.6.7"
  },
  "toc": {
   "base_numbering": 1,
   "nav_menu": {},
   "number_sections": true,
   "sideBar": true,
   "skip_h1_title": false,
   "title_cell": "Table of Contents",
   "title_sidebar": "Contents",
   "toc_cell": false,
   "toc_position": {
    "height": "calc(100% - 180px)",
    "left": "10px",
    "top": "150px",
    "width": "214px"
   },
   "toc_section_display": true,
   "toc_window_display": true
  }
 },
 "nbformat": 4,
 "nbformat_minor": 2
}
