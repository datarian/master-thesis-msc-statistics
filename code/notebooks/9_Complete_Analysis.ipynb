{
 "cells": [
  {
   "cell_type": "code",
   "execution_count": 69,
   "metadata": {
    "init_cell": true
   },
   "outputs": [
    {
     "name": "stdout",
     "output_type": "stream",
     "text": [
      "The autoreload extension is already loaded. To reload it, use:\n",
      "  %reload_ext autoreload\n"
     ]
    }
   ],
   "source": [
    "%load_ext autoreload"
   ]
  },
  {
   "cell_type": "code",
   "execution_count": 70,
   "metadata": {
    "init_cell": true,
    "scrolled": true
   },
   "outputs": [],
   "source": [
    "%run ./common_init.ipynb"
   ]
  },
  {
   "cell_type": "code",
   "execution_count": 71,
   "metadata": {
    "init_cell": true
   },
   "outputs": [],
   "source": [
    "%autoreload 2\n",
    "import numpy as np\n",
    "from sklearn.impute import SimpleImputer\n",
    "import pickle\n",
    "\n",
    "# Load custom code\n",
    "import kdd98.data_handler as dh\n",
    "from kdd98.config import Config\n",
    "from kdd98.transformers import *\n",
    "\n",
    "from fancyimpute import KNN, IterativeImputer, BiScaler"
   ]
  },
  {
   "cell_type": "code",
   "execution_count": 72,
   "metadata": {
    "init_cell": true
   },
   "outputs": [],
   "source": [
    "# Where to save the figures\n",
    "IMAGES_PATH = pathlib.Path(figure_output/'complete_analysis')\n",
    "\n",
    "pathlib.Path(IMAGES_PATH).mkdir(parents=True, exist_ok=True)\n",
    "\n",
    "def save_fig(fig_id, tight_layout=True, fig_extension=[\"pdf\", \"png\"], resolution=300):\n",
    "    if tight_layout:\n",
    "        plt.tight_layout()\n",
    "    [plt.savefig(pathlib.Path(IMAGES_PATH, fig_id + \".\" + f), \n",
    "                 format=f,\n",
    "                 dpi=resolution,\n",
    "                 transparent=True,\n",
    "                 bbox_inches='tight') for f in fig_extension]"
   ]
  },
  {
   "cell_type": "markdown",
   "metadata": {},
   "source": [
    "# Loading data"
   ]
  },
  {
   "cell_type": "code",
   "execution_count": 73,
   "metadata": {
    "init_cell": true
   },
   "outputs": [],
   "source": [
    "learning_provider = dh.KDD98DataProvider(\"cup98LRN.txt\")\n",
    "test_provider = dh.KDD98DataProvider(\"cup98VAL.txt\")"
   ]
  },
  {
   "cell_type": "code",
   "execution_count": 14,
   "metadata": {},
   "outputs": [],
   "source": [
    "learning = learning_provider.all_relevant_data\n",
    "test = test_provider.all_relevant_data"
   ]
  },
  {
   "cell_type": "markdown",
   "metadata": {},
   "source": [
    "Check that we have the same features in both sets"
   ]
  },
  {
   "cell_type": "code",
   "execution_count": 7,
   "metadata": {},
   "outputs": [
    {
     "data": {
      "text/plain": [
       "set()"
      ]
     },
     "execution_count": 7,
     "metadata": {},
     "output_type": "execute_result"
    }
   ],
   "source": [
    "set(learning[\"data\"].columns.values) - set(test[\"data\"].columns.values)"
   ]
  },
  {
   "cell_type": "markdown",
   "metadata": {},
   "source": [
    "Data set dimensions"
   ]
  },
  {
   "cell_type": "code",
   "execution_count": 8,
   "metadata": {},
   "outputs": [
    {
     "data": {
      "text/plain": [
       "(95412, 58)"
      ]
     },
     "execution_count": 8,
     "metadata": {},
     "output_type": "execute_result"
    }
   ],
   "source": [
    "learning[\"data\"].shape"
   ]
  },
  {
   "cell_type": "code",
   "execution_count": 21,
   "metadata": {},
   "outputs": [
    {
     "data": {
      "text/plain": [
       "(96367, 58)"
      ]
     },
     "execution_count": 21,
     "metadata": {},
     "output_type": "execute_result"
    }
   ],
   "source": [
    "test[\"data\"].shape"
   ]
  },
  {
   "cell_type": "markdown",
   "metadata": {},
   "source": [
    "# Predictions"
   ]
  },
  {
   "cell_type": "code",
   "execution_count": 9,
   "metadata": {},
   "outputs": [],
   "source": [
    "from imblearn.over_sampling import BorderlineSMOTE\n",
    "from sklearn.neural_network import MLPClassifier\n",
    "from sklearn.svm import SVR, SVC\n",
    "from sklearn.metrics import classification_report\n",
    "from imblearn.pipeline import Pipeline\n",
    "from kdd98.transformers import Rescaler\n",
    "from kdd98.prediction import Kdd98ProfitEstimator"
   ]
  },
  {
   "cell_type": "markdown",
   "metadata": {},
   "source": [
    "## Learning binary classifier "
   ]
  },
  {
   "cell_type": "code",
   "execution_count": 10,
   "metadata": {},
   "outputs": [],
   "source": [
    "mlp_sampler = BorderlineSMOTE(random_state=Config.get(\"random_seed\"))\n",
    "mlp_scaler = Rescaler(transformer=\"ptrans\")\n",
    "svc_scaler = Rescaler(transformer=\"ptrans\")\n",
    "\n",
    "svc_classifier = SVC(\n",
    "    class_weight=\"balanced\",\n",
    "    C=35,\n",
    "    coef0=0.174,\n",
    "    kernel=\"poly\",\n",
    "    degree=3,\n",
    "    probability=True,\n",
    "    gamma=\"auto\",\n",
    "    random_state=Config.get(\"random_seed\"))\n",
    "\n",
    "\n",
    "\n",
    "mlp_classifier = MLPClassifier(\n",
    "    hidden_layer_sizes=(50, 10,),\n",
    "    alpha=0.5622,\n",
    "    learning_rate_init=0.0842,\n",
    "    early_stopping=True,\n",
    "    random_state=Config.get(\"random_seed\")\n",
    ")\n",
    "\n",
    "classifier = Pipeline([\n",
    "    (\"scaler\", mlp_scaler),\n",
    "    (\"sampler\", mlp_sampler),\n",
    "    (\"classifier\", mlp_classifier)\n",
    "])\n",
    "\n",
    "#classifier = Pipeline([\n",
    "#    (\"scaler\", svc_scaler),\n",
    "#    (\"classifier\", svc_classifier)\n",
    "#])\n",
    "\n",
    "regressor = SVR(C=72, degree=12, gamma=3.91)"
   ]
  },
  {
   "cell_type": "code",
   "execution_count": 11,
   "metadata": {},
   "outputs": [
    {
     "data": {
      "text/plain": [
       "Pipeline(memory=None,\n",
       "     steps=[('scaler', Rescaler(transformer='ptrans')), ('sampler', BorderlineSMOTE(k_neighbors=5, kind='borderline-1', m_neighbors=10, n_jobs=1,\n",
       "        random_state=42, sampling_strategy='auto')), ('classifier', MLPClassifier(activation='relu', alpha=0.5622, batch_size='auto', beta_1=0.9,\n",
       "       beta_2...=True, solver='adam', tol=0.0001,\n",
       "       validation_fraction=0.1, verbose=False, warm_start=False))])"
      ]
     },
     "execution_count": 11,
     "metadata": {},
     "output_type": "execute_result"
    }
   ],
   "source": [
    "classifier.fit(learning[\"data\"].values, learning[\"targets\"].TARGET_B.values)"
   ]
  },
  {
   "cell_type": "markdown",
   "metadata": {},
   "source": [
    "Assess classifier generalisation error"
   ]
  },
  {
   "cell_type": "code",
   "execution_count": 23,
   "metadata": {},
   "outputs": [
    {
     "data": {
      "text/plain": [
       "count    96367.000000\n",
       "mean         0.050567\n",
       "std          0.219113\n",
       "min          0.000000\n",
       "25%          0.000000\n",
       "50%          0.000000\n",
       "75%          0.000000\n",
       "max          1.000000\n",
       "Name: TARGET_B, dtype: float64"
      ]
     },
     "execution_count": 23,
     "metadata": {},
     "output_type": "execute_result"
    }
   ],
   "source": [
    "test[\"targets\"].TARGET_B.describe()"
   ]
  },
  {
   "cell_type": "code",
   "execution_count": 24,
   "metadata": {},
   "outputs": [
    {
     "name": "stdout",
     "output_type": "stream",
     "text": [
      "              precision    recall  f1-score   support\n",
      "\n",
      "           0       0.96      0.59      0.73     91494\n",
      "           1       0.07      0.56      0.12      4873\n",
      "\n",
      "   micro avg       0.59      0.59      0.59     96367\n",
      "   macro avg       0.51      0.58      0.42     96367\n",
      "weighted avg       0.92      0.59      0.70     96367\n",
      "\n"
     ]
    }
   ],
   "source": [
    "print(classification_report(test[\"targets\"].TARGET_B.astype(\"int\").values,classifier.predict(test[\"data\"].values)))"
   ]
  },
  {
   "cell_type": "markdown",
   "metadata": {},
   "source": [
    "Assess regressor performance"
   ]
  },
  {
   "cell_type": "code",
   "execution_count": 25,
   "metadata": {},
   "outputs": [],
   "source": [
    "pe = Kdd98ProfitEstimator(classifier, regressor)"
   ]
  },
  {
   "cell_type": "code",
   "execution_count": 26,
   "metadata": {},
   "outputs": [
    {
     "data": {
      "text/plain": [
       "Kdd98ProfitEstimator(classifier=Pipeline(memory=None,\n",
       "     steps=[('scaler', Rescaler(transformer='ptrans')), ('sampler', BorderlineSMOTE(k_neighbors=5, kind='borderline-1', m_neighbors=10, n_jobs=1,\n",
       "        random_state=42, sampling_strategy='auto')), ('classifier', MLPClassifier(activation='relu', alpha=0.5622, batch_size='auto', beta_1=0.9,\n",
       "       beta_2...=True, solver='adam', tol=0.0001,\n",
       "       validation_fraction=0.1, verbose=False, warm_start=False))]),\n",
       "           regressor=SVR(C=72, cache_size=200, coef0=0.0, degree=12, epsilon=0.1, gamma=3.91,\n",
       "  kernel='rbf', max_iter=-1, shrinking=True, tol=0.001, verbose=False))"
      ]
     },
     "execution_count": 26,
     "metadata": {},
     "output_type": "execute_result"
    }
   ],
   "source": [
    "pe.fit(learning[\"data\"], learning[\"targets\"])"
   ]
  },
  {
   "cell_type": "code",
   "execution_count": 27,
   "metadata": {},
   "outputs": [],
   "source": [
    "profit_learning = pe.predict(learning[\"data\"], learning[\"targets\"])"
   ]
  },
  {
   "cell_type": "code",
   "execution_count": 28,
   "metadata": {},
   "outputs": [
    {
     "name": "stdout",
     "output_type": "stream",
     "text": [
      "1307\n",
      "34201.369999999995\n"
     ]
    }
   ],
   "source": [
    "print(sum(profit_learning[0]))\n",
    "print(profit_learning[1])"
   ]
  },
  {
   "cell_type": "code",
   "execution_count": 29,
   "metadata": {},
   "outputs": [],
   "source": [
    "profit_test = pe.predict(test[\"data\"], test[\"targets\"])"
   ]
  },
  {
   "cell_type": "code",
   "execution_count": 30,
   "metadata": {},
   "outputs": [
    {
     "name": "stdout",
     "output_type": "stream",
     "text": [
      "96349\n",
      "10572.320000000014\n"
     ]
    }
   ],
   "source": [
    "print(sum(profit_test[0]))\n",
    "print(profit_test[1])"
   ]
  },
  {
   "cell_type": "code",
   "execution_count": 33,
   "metadata": {},
   "outputs": [
    {
     "name": "stdout",
     "output_type": "stream",
     "text": [
      "<class 'pandas.core.frame.DataFrame'>\n",
      "Int64Index: 96367 entries, 188946 to 123497\n",
      "Data columns (total 58 columns):\n",
      "AGE                      96367 non-null float64\n",
      "PEPSTRFL                 96367 non-null float64\n",
      "HV1                      96367 non-null float64\n",
      "HV2                      96367 non-null float64\n",
      "HVP1                     96367 non-null float64\n",
      "HVP2                     96367 non-null float64\n",
      "HVP3                     96367 non-null float64\n",
      "HVP4                     96367 non-null float64\n",
      "HVP5                     96367 non-null float64\n",
      "RP1                      96367 non-null float64\n",
      "DMA                      96367 non-null float64\n",
      "IC2                      96367 non-null float64\n",
      "IC3                      96367 non-null float64\n",
      "IC4                      96367 non-null float64\n",
      "IC5                      96367 non-null float64\n",
      "HHAS3                    96367 non-null float64\n",
      "EC7                      96367 non-null float64\n",
      "POBC2                    96367 non-null float64\n",
      "CARDPROM                 96367 non-null float64\n",
      "NUMPROM                  96367 non-null float64\n",
      "CARDPM12                 96367 non-null float64\n",
      "NUMPRM12                 96367 non-null float64\n",
      "RAMNT_14                 96367 non-null float64\n",
      "RAMNTALL                 96367 non-null float64\n",
      "NGIFTALL                 96367 non-null float64\n",
      "CARDGIFT                 96367 non-null float64\n",
      "MINRAMNT                 96367 non-null float64\n",
      "MAXRAMNT                 96367 non-null float64\n",
      "LASTGIFT                 96367 non-null float64\n",
      "AVGGIFT                  96367 non-null float64\n",
      "RFA_2F                   96367 non-null float64\n",
      "RFA_2A                   96367 non-null float64\n",
      "RFA_3F                   96367 non-null float64\n",
      "RFA_3A                   96367 non-null float64\n",
      "RFA_4F                   96367 non-null float64\n",
      "RFA_4A                   96367 non-null float64\n",
      "RFA_5F                   96367 non-null float64\n",
      "RFA_5A                   96367 non-null float64\n",
      "RFA_6F                   96367 non-null float64\n",
      "RFA_6A                   96367 non-null float64\n",
      "RFA_7F                   96367 non-null float64\n",
      "RFA_7A                   96367 non-null float64\n",
      "RFA_8F                   96367 non-null float64\n",
      "RFA_8A                   96367 non-null float64\n",
      "RFA_9F                   96367 non-null float64\n",
      "RFA_9A                   96367 non-null float64\n",
      "RFA_11A                  96367 non-null float64\n",
      "RFA_12A                  96367 non-null float64\n",
      "RFA_13A                  96367 non-null float64\n",
      "RFA_14A                  96367 non-null float64\n",
      "RFA_15A                  96367 non-null float64\n",
      "RFA_16A                  96367 non-null float64\n",
      "ZIP_longitude            96367 non-null float64\n",
      "LASTDATE_DELTA_MONTHS    96367 non-null float64\n",
      "MAXRDATE_DELTA_MONTHS    96367 non-null float64\n",
      "ODATEDW_DELTA_YEARS      96367 non-null float64\n",
      "RFA_3R_S                 96367 non-null float64\n",
      "RFA_4R_S                 96367 non-null float64\n",
      "dtypes: float64(58)\n",
      "memory usage: 45.9 MB\n"
     ]
    }
   ],
   "source": [
    "test[\"data\"].info()"
   ]
  },
  {
   "cell_type": "code",
   "execution_count": 31,
   "metadata": {},
   "outputs": [
    {
     "data": {
      "text/plain": [
       "72775.99999999999"
      ]
     },
     "execution_count": 31,
     "metadata": {},
     "output_type": "execute_result"
    }
   ],
   "source": [
    "np.sum(test[\"targets\"].TARGET_D.values[test[\"targets\"].TARGET_D.values > 0.0] - 0.68)"
   ]
  },
  {
   "cell_type": "markdown",
   "metadata": {},
   "source": [
    "# Complete Pipeline"
   ]
  },
  {
   "cell_type": "code",
   "execution_count": null,
   "metadata": {},
   "outputs": [],
   "source": [
    "imputer = MedianImputer()\n",
    "extractor = AllRelevantFeatureFilter()\n",
    "predictor = Kdd98ProfitEstimator(classifier, regressor)"
   ]
  },
  {
   "cell_type": "code",
   "execution_count": null,
   "metadata": {},
   "outputs": [],
   "source": [
    "predictions = Pipeline([\n",
    "    (\"imputer\", imputer),\n",
    "    (\"extractor\", extractor),\n",
    "    (\"predictor\", predictor)\n",
    "])"
   ]
  },
  {
   "cell_type": "code",
   "execution_count": null,
   "metadata": {},
   "outputs": [],
   "source": [
    "predictions.fit(learning[\"data\"],learning[\"targets\"])"
   ]
  },
  {
   "cell_type": "code",
   "execution_count": null,
   "metadata": {},
   "outputs": [],
   "source": []
  }
 ],
 "metadata": {
  "kernelspec": {
   "display_name": "py36",
   "language": "python",
   "name": "py36"
  },
  "language_info": {
   "codemirror_mode": {
    "name": "ipython",
    "version": 3
   },
   "file_extension": ".py",
   "mimetype": "text/x-python",
   "name": "python",
   "nbconvert_exporter": "python",
   "pygments_lexer": "ipython3",
   "version": "3.6.7"
  },
  "toc": {
   "base_numbering": 1,
   "nav_menu": {},
   "number_sections": true,
   "sideBar": true,
   "skip_h1_title": false,
   "title_cell": "Table of Contents",
   "title_sidebar": "Contents",
   "toc_cell": false,
   "toc_position": {},
   "toc_section_display": true,
   "toc_window_display": false
  }
 },
 "nbformat": 4,
 "nbformat_minor": 2
}
