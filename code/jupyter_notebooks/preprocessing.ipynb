{
 "cells": [
  {
   "cell_type": "markdown",
   "metadata": {},
   "source": [
    "# Preprocessing\n",
    "This notebook contains all code for the preprocessing of the KDD Cup 98 datasets.\n",
    "* Splits into learning and test\n",
    "* Learns the transformation pipeline on the learning dataset for future use\n",
    "* Prepares the data for model fitting\n",
    "\n",
    "This will be done with scikit-learn's transforming framework in order to ensure all transformations are applied identically on training, test and validation datasets.\n",
    "\n",
    "\n",
    "The transformations are 'learned' on the training dataset and then applied to the test dataset and new data later on."
   ]
  },
  {
   "cell_type": "code",
   "execution_count": 1,
   "metadata": {},
   "outputs": [],
   "source": [
    "%load_ext autoreload"
   ]
  },
  {
   "cell_type": "code",
   "execution_count": 3,
   "metadata": {},
   "outputs": [],
   "source": [
    "%autoreload 2\n",
    "import os\n",
    "import numpy as np\n",
    "import pandas as pd\n",
    "import seaborn as sns\n",
    "import matplotlib as mpl\n",
    "import matplotlib.pyplot as plt\n",
    "from scipy import stats\n",
    "from sklearn.preprocessing import OneHotEncoder\n",
    "from sklearn.feature_selection import VarianceThreshold\n",
    "from sklearn.compose import ColumnTransformer\n",
    "from sklearn.pipeline import Pipeline\n",
    "from sklearn.impute import SimpleImputer\n",
    "\n",
    "# Change to project root\n",
    "if not os.getcwd()[-4:] == 'code':\n",
    "    os.chdir(\"../\")\n",
    "import utils.data_loader as dl\n",
    "import utils.transformer as ut\n",
    "from kdd98.transformers import *"
   ]
  },
  {
   "cell_type": "code",
   "execution_count": 4,
   "metadata": {},
   "outputs": [],
   "source": [
    "# To plot pretty figures\n",
    "%matplotlib inline\n",
    "import matplotlib as mpl\n",
    "import matplotlib.pyplot as plt\n",
    "# seaborn config\n",
    "import seaborn as sns\n",
    "sns.set(color_codes=True)\n",
    "sns.set_style('ticks')\n",
    "sns.axes_style({'spines.right': False,\n",
    "                'axes.spines.top': False})\n",
    "sns.set_palette('cubehelix', 8)\n",
    "plt.rcParams['axes.labelsize'] = 14\n",
    "plt.rcParams['xtick.labelsize'] = 12\n",
    "plt.rcParams['ytick.labelsize'] = 12\n",
    "plt.rcParams['figure.figsize'] = (12, 8)\n",
    "\n",
    "# figures:\n",
    "# Where to save the figures\n",
    "PROJECT_ROOT_DIR = \"../../\"\n",
    "CHAPTER_ID = \"preprocessing\"\n",
    "IMAGES_PATH = os.path.join(PROJECT_ROOT_DIR, \"figures\", CHAPTER_ID)\n",
    "\n",
    "if not os.path.exists(IMAGES_PATH):\n",
    "    os.makedirs(IMAGES_PATH)\n",
    "\n",
    "\n",
    "def save_fig(fig_id, tight_layout=True, fig_extension=\"png\", resolution=300):\n",
    "    path = os.path.join(IMAGES_PATH, fig_id + \".\" + fig_extension)\n",
    "    if tight_layout:\n",
    "        plt.tight_layout()\n",
    "    plt.savefig(path, format=fig_extension, dpi=resolution)"
   ]
  },
  {
   "cell_type": "markdown",
   "metadata": {},
   "source": [
    "## Loading the learning dataset\n"
   ]
  },
  {
   "cell_type": "markdown",
   "metadata": {},
   "source": [
    "Set working directory to main code folder"
   ]
  },
  {
   "cell_type": "code",
   "execution_count": null,
   "metadata": {},
   "outputs": [],
   "source": [
    "data_loader = dl.KDD98DataLoader(\"cup98LRN.txt\")\n",
    "learning_raw = data_loader.get_dataset()"
   ]
  },
  {
   "cell_type": "markdown",
   "metadata": {},
   "source": [
    "## Splitting into training- and test dataset\n",
    "\n",
    "Before applying *any* transformations, the dataset will be split 80/20 into a learning and test set.\n",
    "\n",
    "Let's look at feature TARGET_B, which describes whether a person has donated or not:"
   ]
  },
  {
   "cell_type": "code",
   "execution_count": null,
   "metadata": {},
   "outputs": [],
   "source": [
    "learning_raw.TARGET_B.value_counts(normalize=True) # 5 % of recipients have donated."
   ]
  },
  {
   "cell_type": "markdown",
   "metadata": {},
   "source": [
    "We want to preserve this ratio in the split datasets. scikit-learn provides a method for achieving this."
   ]
  },
  {
   "cell_type": "code",
   "execution_count": null,
   "metadata": {},
   "outputs": [],
   "source": [
    "from config import App\n",
    "seed = App.config(\"random_seed\")\n",
    "from sklearn.model_selection import StratifiedShuffleSplit\n",
    "\n",
    "splitter = StratifiedShuffleSplit(n_splits=1, test_size=0.2, train_size=0.8, random_state=seed)\n",
    "for learn_index, test_index in splitter.split(learning_raw, learning_raw.TARGET_B.astype('int')):\n",
    "    l_i = learn_index\n",
    "    t_i = test_index\n",
    "    kdd_learn = learning_raw.iloc[learn_index]\n",
    "    kdd_test = learning_raw.iloc[test_index]\n",
    "    "
   ]
  },
  {
   "cell_type": "markdown",
   "metadata": {},
   "source": [
    "Now, check that the two sets are really disjoint"
   ]
  },
  {
   "cell_type": "code",
   "execution_count": null,
   "metadata": {},
   "outputs": [],
   "source": [
    "set(kdd_learn.index).intersection(kdd_test.index)"
   ]
  },
  {
   "cell_type": "markdown",
   "metadata": {},
   "source": [
    "Check the frequencies of the donors in the sets:"
   ]
  },
  {
   "cell_type": "code",
   "execution_count": null,
   "metadata": {},
   "outputs": [],
   "source": [
    "kdd_learn['TARGET_B'].value_counts(normalize=True)"
   ]
  },
  {
   "cell_type": "code",
   "execution_count": null,
   "metadata": {},
   "outputs": [],
   "source": [
    "kdd_test['TARGET_B'].value_counts(normalize=True)"
   ]
  },
  {
   "cell_type": "markdown",
   "metadata": {},
   "source": [
    "## Separating features and label\n",
    "\n",
    "First, we separate the features from the labels. We will also remove the label \"TARGET_B\", which is an indicator variable for donors that is no longer of interest\n",
    "\n",
    "**All preprocessing is performed on *kdd_learn_feat***"
   ]
  },
  {
   "cell_type": "code",
   "execution_count": null,
   "metadata": {},
   "outputs": [],
   "source": [
    "kdd_learn_feat = kdd_learn.drop(['TARGET_B', 'TARGET_D'],axis=1).copy()\n",
    "kdd_learn_label = kdd_learn['TARGET_D'].copy()"
   ]
  },
  {
   "cell_type": "code",
   "execution_count": null,
   "metadata": {},
   "outputs": [],
   "source": [
    "kdd_learn_feat.ZIP.isna().sum()"
   ]
  },
  {
   "cell_type": "markdown",
   "metadata": {},
   "source": [
    "## Cleaning pipeline\n",
    "\n",
    "The cleaning pipeline results in a dataset with numerical (binary features encoded correclty), categorial and string date features.\n",
    "\n",
    "Following this step, feature extraction, imputation, dropping of constant and sparse features and ensuring all data is numerical can be tackled."
   ]
  },
  {
   "cell_type": "code",
   "execution_count": null,
   "metadata": {
    "ExecuteTime": {
     "end_time": "2018-10-18T06:20:47.718821Z",
     "start_time": "2018-10-18T06:20:47.584825Z"
    }
   },
   "outputs": [],
   "source": [
    "cleaning_pipeline = ColumnTransformer([\n",
    "    (\"binary_x_bl\", BinaryFeatureRecode(value_map={'true': 'X', 'false': ' '}, correct_noisy=False),\n",
    "     ['PEPSTRFL', 'NOEXCH', 'MAJOR', 'RECINHSE', 'RECP3', 'RECPGVG', 'RECSWEEP']),\n",
    "    (\"binary_y_n\", BinaryFeatureRecode(value_map={'true': 'Y', 'false': 'N'}, correct_noisy=False),\n",
    "     ['COLLECT1', 'VETERANS', 'BIBLE', 'CATLG', 'HOMEE', 'PETS', 'CDPLAY', 'STEREO',\n",
    "      'PCOWNERS', 'PHOTO', 'CRAFTS', 'FISHER', 'GARDENIN',  'BOATS', 'WALKER', 'KIDSTUFF',\n",
    "      'CARDS', 'PLATES']),\n",
    "    (\"binary_e_i\", BinaryFeatureRecode(value_map={'true': \"E\", 'false': 'I'}, correct_noisy=False), ['AGEFLAG']),\n",
    "    (\"binary_h_u\", BinaryFeatureRecode(value_map={'true': \"H\", 'false': 'U'}, correct_noisy=False), ['HOMEOWNR']),\n",
    "    (\"binary_b_bl\", BinaryFeatureRecode(value_map={'true': 'B', 'false': ' '}, correct_noisy=False), ['MAILCODE']),\n",
    "    (\"binary_1_0\", BinaryFeatureRecode(value_map={'true': '1', 'false': '0'}, correct_noisy=False), ['HPHONE_D']),\n",
    "    ])"
   ]
  },
  {
   "cell_type": "code",
   "execution_count": null,
   "metadata": {},
   "outputs": [],
   "source": [
    "cleaned = cleaning_pipeline.fit_transform(kdd_learn_feat)\n",
    "cleaned_feature_names = ut.get_feature_names_from_pipeline(cleaning_pipeline)"
   ]
  },
  {
   "cell_type": "code",
   "execution_count": null,
   "metadata": {},
   "outputs": [],
   "source": [
    "cleaned_df = pd.DataFrame(cleaned, index=kdd_learn_feat.index, columns=cleaned_feature_names)\n",
    "kdd_learn_feat[cleaned_feature_names] = cleaned_df"
   ]
  },
  {
   "cell_type": "markdown",
   "metadata": {},
   "source": [
    "### Feature extraction pipeline\n",
    "\n",
    "The feature extraction pipeline transforms categorical features by hashing and one-hot encoding and computes time deltas for all date features.\n",
    "Features used to extract new features are dropped."
   ]
  },
  {
   "cell_type": "code",
   "execution_count": null,
   "metadata": {
    "ExecuteTime": {
     "end_time": "2018-10-18T06:20:47.718821Z",
     "start_time": "2018-10-18T06:20:47.584825Z"
    }
   },
   "outputs": [],
   "source": [
    "# delta_first_next needs the feature NEXTDATE from the dataset to transform. Make sure to change the name to a valid dataset\n",
    "dataset = kdd_learn_feat\n",
    "\n",
    "feature_extraction_pipeline = ColumnTransformer([\n",
    "    (\"hash_zip\", HashingEncoder(), ['ZIP']),\n",
    "    (\"hash_osource\", HashingEncoder(), ['OSOURCE']),\n",
    "    (\"multibyte_nominal\", MultiByteExtract([\"R\", \"F\", \"A\"]), dl.nominal_features[1:]),\n",
    "    (\"months_to_donation\", MonthsToDonation(), dl.don_hist_dates),\n",
    "    (\"time_last_donation\", DeltaTime(unit='months'), ['LASTDATE','MINRDATE','MAXRDATE','MAXADATE']),\n",
    "    (\"age_and_membership\", DeltaTime(unit='years'),['ODATEDW', 'DOB']),\n",
    "    (\"delta_first_next\", DeltaTime(reference_date=dataset.NEXTDATE), ['FISTDATE']),\n",
    "    ])"
   ]
  },
  {
   "cell_type": "code",
   "execution_count": null,
   "metadata": {},
   "outputs": [],
   "source": [
    "extracted = feature_extraction_pipeline.fit_transform(kdd_learn_feat)\n",
    "extracted_names = ut.get_feature_names_from_pipeline(feature_extraction_pipeline)\n",
    "extracted = pd.DataFrame(extracted, index = kdd_learn_feat.index, columns=extracted_names)"
   ]
  },
  {
   "cell_type": "markdown",
   "metadata": {},
   "source": [
    "### Automating cleaning and feature extraction\n",
    "\n",
    "The function below allows for a one-step cleaning and feature extraction, returning a pandas dataframe with all features correctly labelled.\n",
    "\n",
    "As has been seen in EDA, some features are redundant. These will not be processed by the pipeline here."
   ]
  },
  {
   "cell_type": "code",
   "execution_count": null,
   "metadata": {},
   "outputs": [],
   "source": [
    "def do_cleaning_preprocessing(dataset):\n",
    "    \n",
    "    # Cleaning stage\n",
    "    \n",
    "    cleaning_extracting_pipeline = ColumnTransformer([\n",
    "        (\"binary_x_bl\", BinaryFeatureRecode(value_map={'true': 'X', 'false': ' '}, correct_noisy=False),\n",
    "         ['PEPSTRFL', 'NOEXCH', 'MAJOR', 'RECINHSE', 'RECP3', 'RECPGVG', 'RECSWEEP']),\n",
    "        (\"binary_y_n\", BinaryFeatureRecode(value_map={'true': 'Y', 'false': 'N'}, correct_noisy=False),\n",
    "         ['COLLECT1', 'VETERANS', 'BIBLE', 'CATLG', 'HOMEE', 'PETS', 'CDPLAY', 'STEREO',\n",
    "          'PCOWNERS', 'PHOTO', 'CRAFTS', 'FISHER', 'GARDENIN',  'BOATS', 'WALKER', 'KIDSTUFF',\n",
    "          'CARDS', 'PLATES']),\n",
    "        (\"binary_e_i\", BinaryFeatureRecode(value_map={'true': \"E\", 'false': 'I'}, correct_noisy=False), ['AGEFLAG']),\n",
    "        (\"binary_h_u\", BinaryFeatureRecode(value_map={'true': \"H\", 'false': 'U'}, correct_noisy=False), ['HOMEOWNR']),\n",
    "        (\"binary_b_bl\", BinaryFeatureRecode(value_map={'true': 'B', 'false': ' '}, correct_noisy=False), ['MAILCODE']),\n",
    "        (\"binary_1_0\", BinaryFeatureRecode(value_map={'true': '1', 'false': '0'}, correct_noisy=False), ['HPHONE_D']),\n",
    "        (\"hash_zip\", HashingEncoder(), ['ZIP']),\n",
    "        (\"hash_osource\", HashingEncoder(), ['OSOURCE']),\n",
    "        (\"multibyte_nominal\", MultiByteExtract([\"R\", \"F\", \"A\"]), dl.nominal_features[1:]),\n",
    "        (\"months_to_donation\", MonthsToDonation(), dl.don_hist_dates),\n",
    "        (\"time_last_donation\", DeltaTime(unit='months'), ['LASTDATE','MINRDATE','MAXRDATE','MAXADATE']),\n",
    "        (\"age_and_membership\", DeltaTime(unit='years'),['ODATEDW']),\n",
    "        (\"drop_pre_transformation_features\", \"drop\", dl.date_features + dl.nominal_features)\n",
    "    ])\n",
    "    \n",
    "    extracted = cleaning_extracting_pipeline.fit_transform(dataset)\n",
    "    extracted_feature_names = ut.get_feature_names_from_pipeline(cleaning_extracting_pipeline)\n",
    "    extracted_df = pd.DataFrame(extracted, index=dataset.index, columns=extracted_feature_names)\n",
    "    \n",
    "    dataset[extracted_feature_names] = extracted_df\n",
    "    dataset.drop(dl.date_features + dl.nominal_features,inplace=True)\n",
    "    \n",
    "    return dataset"
   ]
  },
  {
   "cell_type": "code",
   "execution_count": null,
   "metadata": {},
   "outputs": [],
   "source": [
    "kdd_learn_feat = kdd_learn.drop(['TARGET_B', 'TARGET_D'],axis=1).copy()\n",
    "\n",
    "kdd_learn_feat = do_cleaning_preprocessing(kdd_learn_feat)"
   ]
  },
  {
   "cell_type": "markdown",
   "metadata": {},
   "source": [
    "## Exploring strategies for specific feature types\n",
    "\n",
    "* Noisy data: Correction of data entry / formatting errors\n",
    "    - These errors must be corrected without excluding the records in question\n",
    "* Missing data: Has to be inferred from known values\n",
    "    - (e.g., mean, median, mode, a modeled value).\n",
    "    - One exception to this rule is the attributes containing 99.5 percent or more missings. These are to be dropped\n",
    "* Sparse data: Events actually represented in given data make only a very small subset of the event space are to be dropped\n",
    "* Constant values are to be dropped"
   ]
  },
  {
   "cell_type": "markdown",
   "metadata": {},
   "source": [
    "### Constant and Sparse Features\n",
    "\n",
    "Features where only one value is present and those where the majority is empty are to be dropped.\n"
   ]
  },
  {
   "cell_type": "code",
   "execution_count": null,
   "metadata": {},
   "outputs": [],
   "source": [
    "const_sparse_transformer = DropSparseLowVar(keep_anyways=[\"RAMNT_\\d{1,2}\", \"MONTHS_TO_DONATION_\\d{1,2}\"])\n",
    "cs = const_sparse_transformer.fit(learning)\n",
    "cs = const_sparse_transformer.fit_transform(learning)\n",
    "set(cs.columns)\n",
    "const_sparse_transformer.get_feature_names()"
   ]
  },
  {
   "cell_type": "markdown",
   "metadata": {},
   "source": [
    "### Numerical features"
   ]
  },
  {
   "cell_type": "code",
   "execution_count": null,
   "metadata": {},
   "outputs": [],
   "source": [
    "numerical_pipe = Pipeline([\n",
    "    (\"imputer\", SimpleImputer(strategy=\"median\"))\n",
    "])"
   ]
  },
  {
   "cell_type": "markdown",
   "metadata": {},
   "source": [
    "### Categorical features"
   ]
  },
  {
   "cell_type": "markdown",
   "metadata": {},
   "source": [
    "### Remaining object features"
   ]
  },
  {
   "cell_type": "code",
   "execution_count": null,
   "metadata": {},
   "outputs": [],
   "source": [
    "objects = learning_raw.select_dtypes(include='object').columns\n",
    "print(objects)"
   ]
  },
  {
   "cell_type": "code",
   "execution_count": null,
   "metadata": {},
   "outputs": [],
   "source": [
    "for f in objects:\n",
    "    print(f+\": \"+learning_raw[f].unique())"
   ]
  },
  {
   "cell_type": "markdown",
   "metadata": {},
   "source": [
    "These are two types:\n",
    "\n",
    "* ZIP: Malformed zip codes. Some have a dash at the end, which has to be removed.\n",
    "* Multibyte values. These can be extracted into separate features bytewise. However, this is done in feature extraction later on"
   ]
  },
  {
   "cell_type": "markdown",
   "metadata": {},
   "source": [
    "## Preprocessing Pipeline\n",
    "\n",
    "It is now time to construct the preprocessing pipeline. A set of transforming operations is concatenated to a sequence of operations. This pipeline is the learned on the learning dataset. All transformations to the learning dataset will then later be applied to the test dataset and to new data."
   ]
  },
  {
   "cell_type": "code",
   "execution_count": null,
   "metadata": {},
   "outputs": [],
   "source": [
    "numerical_feats = list(kdd_learn_feat.select_dtypes(include=np.number).columns)\n",
    "categorical_feats = list(kdd_learn_feat.select_dtypes(include=np.number).columns)"
   ]
  },
  {
   "cell_type": "markdown",
   "metadata": {},
   "source": [
    "With all categories now properly formatted, it is time for one-hot encoding. The sklearn pipeline also has an impute transformation. NaN's get their own level, \"missing\". This step results in a huge increase in the dimension of the feature space. It is also heavy on computation."
   ]
  },
  {
   "cell_type": "code",
   "execution_count": null,
   "metadata": {},
   "outputs": [],
   "source": [
    "cat_pipe = Pipeline([\n",
    "    (\"imputer\", SimpleImputer(strategy=\"constant\", fill_value=\"missing\")),\n",
    "    (\"one_hot\",  OneHotEncoder(impute_missing=True,use_cat_names=True,return_df=True))\n",
    "])\n",
    "\n",
    "categories_transformer = ColumnTransformer([\n",
    "    (\"cat_encoder\",\n",
    "     cat_pipe,\n",
    "     list(kdd_learn_feat.select_dtypes(include=\"category\").columns))\n",
    "])"
   ]
  },
  {
   "cell_type": "markdown",
   "metadata": {},
   "source": [
    "Interests and donations"
   ]
  },
  {
   "cell_type": "code",
   "execution_count": null,
   "metadata": {
    "scrolled": true
   },
   "outputs": [],
   "source": [
    "data = learning_raw.loc[:,dl.interest_features+[\"TARGET_D\"]].fillna(0)\n",
    "interests = pd.melt(data,value_vars=dl.interest_features, value_name=\"Interest\")\n",
    "data.head()"
   ]
  },
  {
   "cell_type": "markdown",
   "metadata": {},
   "source": [
    "Features with constant values:"
   ]
  },
  {
   "cell_type": "markdown",
   "metadata": {},
   "source": [
    "## Feature Selection\n",
    "Meant to reduce dimensionality by selecting only features that are 'interesting enough' to be considered in order to boost performance of calculations / improve accuracy of the estimator\n",
    "- By variance threshold\n",
    "- Recursive Feature Elimination by Cross-Validation\n",
    "- L1-based feature selection (Logistic Regression, Lasso, SVM)\n",
    "- Tree-based feature selection\n",
    "\n",
    "See [scikit-learn: feature selection](http://scikit-learn.org/stable/modules/feature_selection.html#feature-selection)"
   ]
  },
  {
   "cell_type": "markdown",
   "metadata": {},
   "source": [
    "### Removing constant features (zero variance)\n",
    "\n",
    "sklearn.feature_selection_variance_threshold"
   ]
  },
  {
   "cell_type": "code",
   "execution_count": null,
   "metadata": {},
   "outputs": [],
   "source": [
    "for column in learning.columns:\n",
    "        if len(learning[column].unique()) == 1:\n",
    "            print(column)"
   ]
  },
  {
   "cell_type": "markdown",
   "metadata": {},
   "source": [
    "### Sparse Features"
   ]
  },
  {
   "cell_type": "code",
   "execution_count": null,
   "metadata": {},
   "outputs": [],
   "source": [
    "sparse_features = []\n",
    "for column in learning:\n",
    "    top_freq = learning[column].value_counts(normalize=True).iloc[0]\n",
    "    if top_freq > 0.995:\n",
    "        sparse_features.append(column)\n",
    "        print(column+\" has a top frequency of: \" + str(top_freq))\n",
    "        print(learning[column].value_counts(normalize=True))"
   ]
  },
  {
   "cell_type": "code",
   "execution_count": null,
   "metadata": {},
   "outputs": [],
   "source": [
    "sparse_features"
   ]
  },
  {
   "cell_type": "markdown",
   "metadata": {},
   "source": [
    "### Advanced approaches\n",
    "\n",
    "* If overfitting is a problem, ensemble-learning or tree learning can be used to find important features, then apply SelectFromModel before the actual estimator. See http://scikit-learn.org/stable/modules/feature_selection.html"
   ]
  },
  {
   "cell_type": "markdown",
   "metadata": {},
   "source": [
    "## Feature Extraction\n",
    "All explanatory fields have to be numerical for the subsequent operations with scikit-learn. Here, the necessary feature extractions are performed.\n",
    "\n",
    "See [scikit-learn: feature extraction](http://scikit-learn.org/stable/modules/feature_extraction.html)"
   ]
  },
  {
   "cell_type": "code",
   "execution_count": null,
   "metadata": {},
   "outputs": [],
   "source": [
    "import pandas as pd"
   ]
  },
  {
   "cell_type": "code",
   "execution_count": null,
   "metadata": {},
   "outputs": [],
   "source": [
    "symbolic_features = []\n",
    "symbolic_features.append(tds.SymbolicFeatureSpreader(\n",
    "    \"DOMAIN\", [\"U\", \"S\"])) #Urbanicity, SocioEconomicStatus\n",
    "# RFA_2 is already spread out\n",
    "for i in range(3, 25):\n",
    "    feature = \"_\".join([\"RFA\", str(i)])\n",
    "    symbolic_features.append(tds.SymbolicFeatureSpreader(\n",
    "        feature, [\"R\", \"F\", \"A\"])) # Recency, Frequency, Amount\n",
    "\n",
    "spread_multibyte = pd.DataFrame(index=learning_raw.index)\n",
    "for f in symbolic_features:\n",
    "    f.set_tidy_dataset_ref(learning_raw)\n",
    "    spread_multibyte = pd.concat([spread_multibyte,f.spread(inplace=False)],axis=1)"
   ]
  },
  {
   "cell_type": "code",
   "execution_count": null,
   "metadata": {
    "scrolled": true
   },
   "outputs": [],
   "source": [
    "spread_multibyte.info()"
   ]
  },
  {
   "cell_type": "markdown",
   "metadata": {},
   "source": [
    "# PCA\n",
    "\n",
    "A first look at important features"
   ]
  },
  {
   "cell_type": "code",
   "execution_count": null,
   "metadata": {},
   "outputs": [],
   "source": [
    "from sklearn import decomposition"
   ]
  },
  {
   "cell_type": "code",
   "execution_count": null,
   "metadata": {},
   "outputs": [],
   "source": [
    "X = learning.drop([\"TARGET_B\",\"TARGET_D\"],axis=1)"
   ]
  },
  {
   "cell_type": "code",
   "execution_count": null,
   "metadata": {},
   "outputs": [],
   "source": [
    "n_comp = 3\n",
    "pca = decomposition.PCA(n_components = n_comp)\n",
    "pca.fit(X)\n",
    "result = pd.DataFrame(pca.transform(X), columns=[\"PCA%i\" % i for i in range(n_comp)], index=X.index)"
   ]
  },
  {
   "cell_type": "code",
   "execution_count": null,
   "metadata": {
    "scrolled": false
   },
   "outputs": [],
   "source": [
    "import cProfile\n",
    "domain_spreader = tds.SymbolicFieldToDummies(learning,\"RFA_24\",[\"Recency\", \"Frequency\", \"Amount\"])\n",
    "cProfile.run('domain_spreader.spread()', sort='time')"
   ]
  },
  {
   "cell_type": "code",
   "execution_count": null,
   "metadata": {},
   "outputs": [],
   "source": [
    "learning.head()"
   ]
  },
  {
   "cell_type": "code",
   "execution_count": null,
   "metadata": {},
   "outputs": [],
   "source": [
    "import os\n",
    "import numpy as np\n",
    "import sys\n",
    "os.getcwd()\n",
    "proj_dir = os.path.split(os.getcwd())[0]\n",
    "if proj_dir not in sys.path:\n",
    "    sys.path.append(proj_dir)"
   ]
  },
  {
   "cell_type": "code",
   "execution_count": null,
   "metadata": {},
   "outputs": [],
   "source": [
    "import eda.tidy_dataset as tds\n",
    "tidy = tds.TidyDataset(\"cup98LRN.txt\")"
   ]
  },
  {
   "cell_type": "code",
   "execution_count": null,
   "metadata": {},
   "outputs": [],
   "source": [
    "raw = tidy.get_raw_data()"
   ]
  },
  {
   "cell_type": "code",
   "execution_count": null,
   "metadata": {},
   "outputs": [],
   "source": [
    "spreader = tds.SymbolicFieldToDummies(\n",
    "    raw, \"RFA_24\", [\"Recency\", \"Frequency\", \"Amount\"])\n",
    "spreader.spread()"
   ]
  },
  {
   "cell_type": "code",
   "execution_count": null,
   "metadata": {},
   "outputs": [],
   "source": []
  }
 ],
 "metadata": {
  "kernelspec": {
   "display_name": "Python 3",
   "language": "python",
   "name": "python3"
  },
  "language_info": {
   "codemirror_mode": {
    "name": "ipython",
    "version": 3
   },
   "file_extension": ".py",
   "mimetype": "text/x-python",
   "name": "python",
   "nbconvert_exporter": "python",
   "pygments_lexer": "ipython3",
   "version": "3.6.7"
  }
 },
 "nbformat": 4,
 "nbformat_minor": 2
}
