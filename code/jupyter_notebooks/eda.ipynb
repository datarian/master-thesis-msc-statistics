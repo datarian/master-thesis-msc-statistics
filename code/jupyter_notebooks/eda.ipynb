{
 "cells": [
  {
   "cell_type": "markdown",
   "metadata": {},
   "source": [
    "# Exploratory Data Analysis\n",
    "This notebook contains all code for the prelimiatory analysis of the KDD Cup 98 datasets"
   ]
  },
  {
   "cell_type": "code",
   "execution_count": 1,
   "metadata": {
    "ExecuteTime": {
     "end_time": "2018-10-17T09:04:26.014335Z",
     "start_time": "2018-10-17T09:04:25.961342Z"
    }
   },
   "outputs": [],
   "source": [
    "%load_ext autoreload"
   ]
  },
  {
   "cell_type": "code",
   "execution_count": 2,
   "metadata": {
    "ExecuteTime": {
     "end_time": "2018-10-17T09:04:26.799337Z",
     "start_time": "2018-10-17T09:04:26.016337Z"
    }
   },
   "outputs": [],
   "source": [
    "%autoreload 2\n",
    "import os\n",
    "import numpy as np\n",
    "import pandas as pd\n",
    "from scipy import stats\n",
    "\n",
    "os.chdir(\"../\")\n",
    "import util.data_loader as dl\n",
    "from kdd98.transformers import *"
   ]
  },
  {
   "cell_type": "code",
   "execution_count": 3,
   "metadata": {
    "ExecuteTime": {
     "end_time": "2018-10-17T09:04:27.184337Z",
     "start_time": "2018-10-17T09:04:26.801338Z"
    }
   },
   "outputs": [],
   "source": [
    "# To plot pretty figures\n",
    "%matplotlib inline\n",
    "import matplotlib as mpl\n",
    "import matplotlib.pyplot as plt\n",
    "plt.rcParams['axes.labelsize'] = 14\n",
    "plt.rcParams['xtick.labelsize'] = 12\n",
    "plt.rcParams['ytick.labelsize'] = 12\n",
    "plt.rcParams['figure.figsize'] = [20, 16]\n",
    "plt.rcParams['image.cmap'] = 'viridis'\n",
    "# seaborn config\n",
    "import seaborn as sns\n",
    "sns.set(color_codes=True)\n",
    "sns.set_style('ticks')\n",
    "\n",
    "# figures:\n",
    "# Where to save the figures\n",
    "PROJECT_ROOT_DIR = \"../../\"\n",
    "CHAPTER_ID = \"eda\"\n",
    "IMAGES_PATH = os.path.join(PROJECT_ROOT_DIR, \"figures\", CHAPTER_ID)\n",
    "\n",
    "if not os.path.exists(IMAGES_PATH):\n",
    "    os.makedirs(IMAGES_PATH)\n",
    "\n",
    "\n",
    "def save_fig(fig_id, tight_layout=True, fig_extension=\"png\", resolution=300):\n",
    "    path = os.path.join(IMAGES_PATH, fig_id + \".\" + fig_extension)\n",
    "    print(\"Saving figure\", fig_id)\n",
    "    if tight_layout:\n",
    "        plt.tight_layout()\n",
    "    plt.savefig(path, format=fig_extension, dpi=resolution)"
   ]
  },
  {
   "cell_type": "markdown",
   "metadata": {},
   "source": [
    "## Loading the learning dataset\n"
   ]
  },
  {
   "cell_type": "markdown",
   "metadata": {},
   "source": [
    "Set working directory to main code folder"
   ]
  },
  {
   "cell_type": "code",
   "execution_count": 4,
   "metadata": {
    "ExecuteTime": {
     "end_time": "2018-10-17T09:04:36.835592Z",
     "start_time": "2018-10-17T09:04:27.186338Z"
    }
   },
   "outputs": [],
   "source": [
    "%autoreload 2  # automatically reloads modules\n",
    "data_loader = dl.KDD98DataLoader(\"cup98LRN.txt\")\n",
    "learning = data_loader.get_dataset()"
   ]
  },
  {
   "cell_type": "markdown",
   "metadata": {},
   "source": [
    "## Overview"
   ]
  },
  {
   "cell_type": "markdown",
   "metadata": {},
   "source": [
    "A first, general look at the data structure:"
   ]
  },
  {
   "cell_type": "code",
   "execution_count": 5,
   "metadata": {
    "ExecuteTime": {
     "end_time": "2018-10-17T09:04:36.957394Z",
     "start_time": "2018-10-17T09:04:36.836394Z"
    }
   },
   "outputs": [
    {
     "name": "stdout",
     "output_type": "stream",
     "text": [
      "<class 'pandas.core.frame.DataFrame'>\n",
      "Int64Index: 95412 entries, 95515 to 185114\n",
      "Columns: 478 entries, ODATEDW to GEOCODE2\n",
      "dtypes: category(24), float64(51), int64(302), object(101)\n",
      "memory usage: 333.4+ MB\n"
     ]
    }
   ],
   "source": [
    "learning.info()"
   ]
  },
  {
   "cell_type": "markdown",
   "metadata": {},
   "source": [
    "### Numerical Features"
   ]
  },
  {
   "cell_type": "code",
   "execution_count": 6,
   "metadata": {
    "ExecuteTime": {
     "end_time": "2018-10-17T09:04:37.451397Z",
     "start_time": "2018-10-17T09:04:36.960398Z"
    },
    "scrolled": false
   },
   "outputs": [
    {
     "name": "stdout",
     "output_type": "stream",
     "text": [
      "Index(['AGE', 'NUMCHLD', 'INCOME', 'HIT', 'MBCRAFT', 'MBGARDEN', 'MBBOOKS',\n",
      "       'MBCOLECT', 'MAGFAML', 'MAGFEM',\n",
      "       ...\n",
      "       'MAXRAMNT', 'MAXRDATE', 'LASTGIFT', 'LASTDATE', 'FISTDATE', 'NEXTDATE',\n",
      "       'TIMELAG', 'AVGGIFT', 'TARGET_D', 'CLUSTER2'],\n",
      "      dtype='object', length=353)\n"
     ]
    }
   ],
   "source": [
    "numerical = learning.select_dtypes(include=np.number).columns\n",
    "print(numerical)"
   ]
  },
  {
   "cell_type": "markdown",
   "metadata": {},
   "source": [
    "### Categorical Features\n",
    "\n",
    "Categories were defined on import of the csv data. The categories were identified in the dataset dictionary."
   ]
  },
  {
   "cell_type": "code",
   "execution_count": 7,
   "metadata": {
    "ExecuteTime": {
     "end_time": "2018-10-17T09:04:37.737396Z",
     "start_time": "2018-10-17T09:04:37.454397Z"
    },
    "scrolled": true
   },
   "outputs": [
    {
     "name": "stdout",
     "output_type": "stream",
     "text": [
      "Index(['TCODE', 'STATE', 'PVASTATE', 'DOMAIN', 'CLUSTER', 'CHILD03', 'CHILD07',\n",
      "       'CHILD12', 'CHILD18', 'GENDER', 'WEALTH1', 'DATASRCE', 'SOLP3', 'SOLIH',\n",
      "       'WEALTH2', 'GEOCODE', 'LIFESRC', 'RFA_2R', 'RFA_2F', 'RFA_2A',\n",
      "       'MDMAUD_R', 'MDMAUD_F', 'MDMAUD_A', 'GEOCODE2'],\n",
      "      dtype='object')\n"
     ]
    }
   ],
   "source": [
    "categories = learning.select_dtypes(include='category').columns\n",
    "print(categories)"
   ]
  },
  {
   "cell_type": "code",
   "execution_count": 8,
   "metadata": {
    "ExecuteTime": {
     "end_time": "2018-10-17T09:04:38.230395Z",
     "start_time": "2018-10-17T09:04:37.747393Z"
    }
   },
   "outputs": [
    {
     "data": {
      "text/html": [
       "<div>\n",
       "<style scoped>\n",
       "    .dataframe tbody tr th:only-of-type {\n",
       "        vertical-align: middle;\n",
       "    }\n",
       "\n",
       "    .dataframe tbody tr th {\n",
       "        vertical-align: top;\n",
       "    }\n",
       "\n",
       "    .dataframe thead th {\n",
       "        text-align: right;\n",
       "    }\n",
       "</style>\n",
       "<table border=\"1\" class=\"dataframe\">\n",
       "  <thead>\n",
       "    <tr style=\"text-align: right;\">\n",
       "      <th></th>\n",
       "      <th>TCODE</th>\n",
       "      <th>STATE</th>\n",
       "      <th>PVASTATE</th>\n",
       "      <th>DOMAIN</th>\n",
       "      <th>CLUSTER</th>\n",
       "      <th>CHILD03</th>\n",
       "      <th>CHILD07</th>\n",
       "      <th>CHILD12</th>\n",
       "      <th>CHILD18</th>\n",
       "      <th>GENDER</th>\n",
       "      <th>...</th>\n",
       "      <th>WEALTH2</th>\n",
       "      <th>GEOCODE</th>\n",
       "      <th>LIFESRC</th>\n",
       "      <th>RFA_2R</th>\n",
       "      <th>RFA_2F</th>\n",
       "      <th>RFA_2A</th>\n",
       "      <th>MDMAUD_R</th>\n",
       "      <th>MDMAUD_F</th>\n",
       "      <th>MDMAUD_A</th>\n",
       "      <th>GEOCODE2</th>\n",
       "    </tr>\n",
       "  </thead>\n",
       "  <tbody>\n",
       "    <tr>\n",
       "      <th>count</th>\n",
       "      <td>95412</td>\n",
       "      <td>95412</td>\n",
       "      <td>95412</td>\n",
       "      <td>95412</td>\n",
       "      <td>95412</td>\n",
       "      <td>95412</td>\n",
       "      <td>95412</td>\n",
       "      <td>95412</td>\n",
       "      <td>95412</td>\n",
       "      <td>95412</td>\n",
       "      <td>...</td>\n",
       "      <td>51589</td>\n",
       "      <td>95412</td>\n",
       "      <td>95412</td>\n",
       "      <td>95412</td>\n",
       "      <td>95412</td>\n",
       "      <td>95412</td>\n",
       "      <td>95412</td>\n",
       "      <td>95412</td>\n",
       "      <td>95412</td>\n",
       "      <td>95280</td>\n",
       "    </tr>\n",
       "    <tr>\n",
       "      <th>unique</th>\n",
       "      <td>55</td>\n",
       "      <td>57</td>\n",
       "      <td>3</td>\n",
       "      <td>17</td>\n",
       "      <td>54</td>\n",
       "      <td>4</td>\n",
       "      <td>4</td>\n",
       "      <td>4</td>\n",
       "      <td>4</td>\n",
       "      <td>7</td>\n",
       "      <td>...</td>\n",
       "      <td>10</td>\n",
       "      <td>8</td>\n",
       "      <td>4</td>\n",
       "      <td>1</td>\n",
       "      <td>4</td>\n",
       "      <td>4</td>\n",
       "      <td>5</td>\n",
       "      <td>4</td>\n",
       "      <td>5</td>\n",
       "      <td>5</td>\n",
       "    </tr>\n",
       "    <tr>\n",
       "      <th>top</th>\n",
       "      <td>0</td>\n",
       "      <td>CA</td>\n",
       "      <td></td>\n",
       "      <td>R2</td>\n",
       "      <td>40</td>\n",
       "      <td></td>\n",
       "      <td></td>\n",
       "      <td></td>\n",
       "      <td></td>\n",
       "      <td>F</td>\n",
       "      <td>...</td>\n",
       "      <td>9</td>\n",
       "      <td></td>\n",
       "      <td></td>\n",
       "      <td>L</td>\n",
       "      <td>1</td>\n",
       "      <td>F</td>\n",
       "      <td>X</td>\n",
       "      <td>X</td>\n",
       "      <td>X</td>\n",
       "      <td>A</td>\n",
       "    </tr>\n",
       "    <tr>\n",
       "      <th>freq</th>\n",
       "      <td>40917</td>\n",
       "      <td>17343</td>\n",
       "      <td>93954</td>\n",
       "      <td>13623</td>\n",
       "      <td>3979</td>\n",
       "      <td>94266</td>\n",
       "      <td>93846</td>\n",
       "      <td>93601</td>\n",
       "      <td>92565</td>\n",
       "      <td>51277</td>\n",
       "      <td>...</td>\n",
       "      <td>6523</td>\n",
       "      <td>80168</td>\n",
       "      <td>54032</td>\n",
       "      <td>95412</td>\n",
       "      <td>47675</td>\n",
       "      <td>46964</td>\n",
       "      <td>95118</td>\n",
       "      <td>95118</td>\n",
       "      <td>95118</td>\n",
       "      <td>34484</td>\n",
       "    </tr>\n",
       "  </tbody>\n",
       "</table>\n",
       "<p>4 rows × 24 columns</p>\n",
       "</div>"
      ],
      "text/plain": [
       "        TCODE  STATE PVASTATE DOMAIN CLUSTER CHILD03 CHILD07 CHILD12 CHILD18  \\\n",
       "count   95412  95412    95412  95412   95412   95412   95412   95412   95412   \n",
       "unique     55     57        3     17      54       4       4       4       4   \n",
       "top         0     CA              R2      40                                   \n",
       "freq    40917  17343    93954  13623    3979   94266   93846   93601   92565   \n",
       "\n",
       "       GENDER   ...    WEALTH2 GEOCODE LIFESRC RFA_2R RFA_2F RFA_2A MDMAUD_R  \\\n",
       "count   95412   ...      51589   95412   95412  95412  95412  95412    95412   \n",
       "unique      7   ...         10       8       4      1      4      4        5   \n",
       "top         F   ...          9                      L      1      F        X   \n",
       "freq    51277   ...       6523   80168   54032  95412  47675  46964    95118   \n",
       "\n",
       "       MDMAUD_F MDMAUD_A GEOCODE2  \n",
       "count     95412    95412    95280  \n",
       "unique        4        5        5  \n",
       "top           X        X        A  \n",
       "freq      95118    95118    34484  \n",
       "\n",
       "[4 rows x 24 columns]"
      ]
     },
     "execution_count": 8,
     "metadata": {},
     "output_type": "execute_result"
    }
   ],
   "source": [
    "learning.loc[:, categories].describe()"
   ]
  },
  {
   "cell_type": "markdown",
   "metadata": {},
   "source": [
    "### Object Features\n",
    "\n",
    "These features have mixed datatypes. This hints at noisy data and features that will have to be transformed before becoming usable."
   ]
  },
  {
   "cell_type": "code",
   "execution_count": 9,
   "metadata": {
    "ExecuteTime": {
     "end_time": "2018-10-17T09:04:38.801395Z",
     "start_time": "2018-10-17T09:04:38.233395Z"
    }
   },
   "outputs": [
    {
     "name": "stdout",
     "output_type": "stream",
     "text": [
      "Index(['ODATEDW', 'OSOURCE', 'ZIP', 'MAILCODE', 'DOB', 'NOEXCH', 'RECINHSE',\n",
      "       'RECP3', 'RECPGVG', 'RECSWEEP',\n",
      "       ...\n",
      "       'RDATE_17', 'RDATE_18', 'RDATE_19', 'RDATE_20', 'RDATE_21', 'RDATE_22',\n",
      "       'RDATE_23', 'RDATE_24', 'TARGET_B', 'HPHONE_D'],\n",
      "      dtype='object', length=101)\n"
     ]
    }
   ],
   "source": [
    "objects = learning.select_dtypes(include='object').columns\n",
    "print(objects)"
   ]
  },
  {
   "cell_type": "code",
   "execution_count": 10,
   "metadata": {
    "ExecuteTime": {
     "end_time": "2018-10-17T09:04:42.087584Z",
     "start_time": "2018-10-17T09:04:38.804397Z"
    }
   },
   "outputs": [
    {
     "data": {
      "text/html": [
       "<div>\n",
       "<style scoped>\n",
       "    .dataframe tbody tr th:only-of-type {\n",
       "        vertical-align: middle;\n",
       "    }\n",
       "\n",
       "    .dataframe tbody tr th {\n",
       "        vertical-align: top;\n",
       "    }\n",
       "\n",
       "    .dataframe thead th {\n",
       "        text-align: right;\n",
       "    }\n",
       "</style>\n",
       "<table border=\"1\" class=\"dataframe\">\n",
       "  <thead>\n",
       "    <tr style=\"text-align: right;\">\n",
       "      <th></th>\n",
       "      <th>ODATEDW</th>\n",
       "      <th>OSOURCE</th>\n",
       "      <th>ZIP</th>\n",
       "      <th>MAILCODE</th>\n",
       "      <th>DOB</th>\n",
       "      <th>NOEXCH</th>\n",
       "      <th>RECINHSE</th>\n",
       "      <th>RECP3</th>\n",
       "      <th>RECPGVG</th>\n",
       "      <th>RECSWEEP</th>\n",
       "      <th>...</th>\n",
       "      <th>RDATE_17</th>\n",
       "      <th>RDATE_18</th>\n",
       "      <th>RDATE_19</th>\n",
       "      <th>RDATE_20</th>\n",
       "      <th>RDATE_21</th>\n",
       "      <th>RDATE_22</th>\n",
       "      <th>RDATE_23</th>\n",
       "      <th>RDATE_24</th>\n",
       "      <th>TARGET_B</th>\n",
       "      <th>HPHONE_D</th>\n",
       "    </tr>\n",
       "  </thead>\n",
       "  <tbody>\n",
       "    <tr>\n",
       "      <th>count</th>\n",
       "      <td>95412</td>\n",
       "      <td>95412</td>\n",
       "      <td>95412</td>\n",
       "      <td>95412</td>\n",
       "      <td>95412</td>\n",
       "      <td>95412</td>\n",
       "      <td>95412</td>\n",
       "      <td>95412</td>\n",
       "      <td>95412</td>\n",
       "      <td>95412</td>\n",
       "      <td>...</td>\n",
       "      <td>9401</td>\n",
       "      <td>19778</td>\n",
       "      <td>15877</td>\n",
       "      <td>7888</td>\n",
       "      <td>9513</td>\n",
       "      <td>20873</td>\n",
       "      <td>7859</td>\n",
       "      <td>17738</td>\n",
       "      <td>95412</td>\n",
       "      <td>95412</td>\n",
       "    </tr>\n",
       "    <tr>\n",
       "      <th>unique</th>\n",
       "      <td>54</td>\n",
       "      <td>896</td>\n",
       "      <td>19938</td>\n",
       "      <td>2</td>\n",
       "      <td>947</td>\n",
       "      <td>3</td>\n",
       "      <td>2</td>\n",
       "      <td>2</td>\n",
       "      <td>2</td>\n",
       "      <td>2</td>\n",
       "      <td>...</td>\n",
       "      <td>11</td>\n",
       "      <td>14</td>\n",
       "      <td>13</td>\n",
       "      <td>10</td>\n",
       "      <td>12</td>\n",
       "      <td>13</td>\n",
       "      <td>17</td>\n",
       "      <td>14</td>\n",
       "      <td>2</td>\n",
       "      <td>2</td>\n",
       "    </tr>\n",
       "    <tr>\n",
       "      <th>top</th>\n",
       "      <td>9501</td>\n",
       "      <td>MBC</td>\n",
       "      <td>85351</td>\n",
       "      <td></td>\n",
       "      <td>0</td>\n",
       "      <td>0</td>\n",
       "      <td></td>\n",
       "      <td></td>\n",
       "      <td></td>\n",
       "      <td></td>\n",
       "      <td>...</td>\n",
       "      <td>9503</td>\n",
       "      <td>9501</td>\n",
       "      <td>9412</td>\n",
       "      <td>9412</td>\n",
       "      <td>9411</td>\n",
       "      <td>9409</td>\n",
       "      <td>9408</td>\n",
       "      <td>9407</td>\n",
       "      <td>0</td>\n",
       "      <td>1</td>\n",
       "    </tr>\n",
       "    <tr>\n",
       "      <th>freq</th>\n",
       "      <td>15358</td>\n",
       "      <td>4539</td>\n",
       "      <td>61</td>\n",
       "      <td>94013</td>\n",
       "      <td>23661</td>\n",
       "      <td>95085</td>\n",
       "      <td>88709</td>\n",
       "      <td>93395</td>\n",
       "      <td>95298</td>\n",
       "      <td>93795</td>\n",
       "      <td>...</td>\n",
       "      <td>4729</td>\n",
       "      <td>10665</td>\n",
       "      <td>12504</td>\n",
       "      <td>4516</td>\n",
       "      <td>5006</td>\n",
       "      <td>11195</td>\n",
       "      <td>4522</td>\n",
       "      <td>7861</td>\n",
       "      <td>90569</td>\n",
       "      <td>47765</td>\n",
       "    </tr>\n",
       "  </tbody>\n",
       "</table>\n",
       "<p>4 rows × 101 columns</p>\n",
       "</div>"
      ],
      "text/plain": [
       "       ODATEDW OSOURCE    ZIP MAILCODE    DOB NOEXCH RECINHSE  RECP3 RECPGVG  \\\n",
       "count    95412   95412  95412    95412  95412  95412    95412  95412   95412   \n",
       "unique      54     896  19938        2    947      3        2      2       2   \n",
       "top       9501     MBC  85351               0      0                           \n",
       "freq     15358    4539     61    94013  23661  95085    88709  93395   95298   \n",
       "\n",
       "       RECSWEEP   ...    RDATE_17 RDATE_18 RDATE_19 RDATE_20 RDATE_21  \\\n",
       "count     95412   ...        9401    19778    15877     7888     9513   \n",
       "unique        2   ...          11       14       13       10       12   \n",
       "top               ...        9503     9501     9412     9412     9411   \n",
       "freq      93795   ...        4729    10665    12504     4516     5006   \n",
       "\n",
       "       RDATE_22 RDATE_23 RDATE_24 TARGET_B HPHONE_D  \n",
       "count     20873     7859    17738    95412    95412  \n",
       "unique       13       17       14        2        2  \n",
       "top        9409     9408     9407        0        1  \n",
       "freq      11195     4522     7861    90569    47765  \n",
       "\n",
       "[4 rows x 101 columns]"
      ]
     },
     "execution_count": 10,
     "metadata": {},
     "output_type": "execute_result"
    }
   ],
   "source": [
    "learning.loc[:, objects].describe()"
   ]
  },
  {
   "cell_type": "markdown",
   "metadata": {},
   "source": [
    "### Date features\n",
    "These are imported as strings and will have to be transformed later on to become useful."
   ]
  },
  {
   "cell_type": "code",
   "execution_count": 11,
   "metadata": {
    "ExecuteTime": {
     "end_time": "2018-10-17T09:04:45.345467Z",
     "start_time": "2018-10-17T09:04:42.089552Z"
    }
   },
   "outputs": [
    {
     "data": {
      "text/html": [
       "<div>\n",
       "<style scoped>\n",
       "    .dataframe tbody tr th:only-of-type {\n",
       "        vertical-align: middle;\n",
       "    }\n",
       "\n",
       "    .dataframe tbody tr th {\n",
       "        vertical-align: top;\n",
       "    }\n",
       "\n",
       "    .dataframe thead th {\n",
       "        text-align: right;\n",
       "    }\n",
       "</style>\n",
       "<table border=\"1\" class=\"dataframe\">\n",
       "  <thead>\n",
       "    <tr style=\"text-align: right;\">\n",
       "      <th></th>\n",
       "      <th>ODATEDW</th>\n",
       "      <th>DOB</th>\n",
       "      <th>ADATE_2</th>\n",
       "      <th>ADATE_3</th>\n",
       "      <th>ADATE_4</th>\n",
       "      <th>ADATE_5</th>\n",
       "      <th>ADATE_6</th>\n",
       "      <th>ADATE_7</th>\n",
       "      <th>ADATE_8</th>\n",
       "      <th>ADATE_9</th>\n",
       "      <th>...</th>\n",
       "      <th>RDATE_15</th>\n",
       "      <th>RDATE_16</th>\n",
       "      <th>RDATE_17</th>\n",
       "      <th>RDATE_18</th>\n",
       "      <th>RDATE_19</th>\n",
       "      <th>RDATE_20</th>\n",
       "      <th>RDATE_21</th>\n",
       "      <th>RDATE_22</th>\n",
       "      <th>RDATE_23</th>\n",
       "      <th>RDATE_24</th>\n",
       "    </tr>\n",
       "  </thead>\n",
       "  <tbody>\n",
       "    <tr>\n",
       "      <th>count</th>\n",
       "      <td>95412</td>\n",
       "      <td>95412</td>\n",
       "      <td>95412</td>\n",
       "      <td>93462</td>\n",
       "      <td>93221</td>\n",
       "      <td>61822</td>\n",
       "      <td>91855</td>\n",
       "      <td>86538</td>\n",
       "      <td>91901</td>\n",
       "      <td>84167</td>\n",
       "      <td>...</td>\n",
       "      <td>7262</td>\n",
       "      <td>26994</td>\n",
       "      <td>9401</td>\n",
       "      <td>19778</td>\n",
       "      <td>15877</td>\n",
       "      <td>7888</td>\n",
       "      <td>9513</td>\n",
       "      <td>20873</td>\n",
       "      <td>7859</td>\n",
       "      <td>17738</td>\n",
       "    </tr>\n",
       "    <tr>\n",
       "      <th>unique</th>\n",
       "      <td>54</td>\n",
       "      <td>947</td>\n",
       "      <td>2</td>\n",
       "      <td>2</td>\n",
       "      <td>8</td>\n",
       "      <td>1</td>\n",
       "      <td>2</td>\n",
       "      <td>3</td>\n",
       "      <td>5</td>\n",
       "      <td>3</td>\n",
       "      <td>...</td>\n",
       "      <td>16</td>\n",
       "      <td>18</td>\n",
       "      <td>11</td>\n",
       "      <td>14</td>\n",
       "      <td>13</td>\n",
       "      <td>10</td>\n",
       "      <td>12</td>\n",
       "      <td>13</td>\n",
       "      <td>17</td>\n",
       "      <td>14</td>\n",
       "    </tr>\n",
       "    <tr>\n",
       "      <th>top</th>\n",
       "      <td>9501</td>\n",
       "      <td>0</td>\n",
       "      <td>9706</td>\n",
       "      <td>9606</td>\n",
       "      <td>9604</td>\n",
       "      <td>9604</td>\n",
       "      <td>9603</td>\n",
       "      <td>9602</td>\n",
       "      <td>9601</td>\n",
       "      <td>9511</td>\n",
       "      <td>...</td>\n",
       "      <td>9505</td>\n",
       "      <td>9504</td>\n",
       "      <td>9503</td>\n",
       "      <td>9501</td>\n",
       "      <td>9412</td>\n",
       "      <td>9412</td>\n",
       "      <td>9411</td>\n",
       "      <td>9409</td>\n",
       "      <td>9408</td>\n",
       "      <td>9407</td>\n",
       "    </tr>\n",
       "    <tr>\n",
       "      <th>freq</th>\n",
       "      <td>15358</td>\n",
       "      <td>23661</td>\n",
       "      <td>95399</td>\n",
       "      <td>93444</td>\n",
       "      <td>92405</td>\n",
       "      <td>61822</td>\n",
       "      <td>91804</td>\n",
       "      <td>81512</td>\n",
       "      <td>85468</td>\n",
       "      <td>80718</td>\n",
       "      <td>...</td>\n",
       "      <td>4862</td>\n",
       "      <td>16670</td>\n",
       "      <td>4729</td>\n",
       "      <td>10665</td>\n",
       "      <td>12504</td>\n",
       "      <td>4516</td>\n",
       "      <td>5006</td>\n",
       "      <td>11195</td>\n",
       "      <td>4522</td>\n",
       "      <td>7861</td>\n",
       "    </tr>\n",
       "  </tbody>\n",
       "</table>\n",
       "<p>4 rows × 47 columns</p>\n",
       "</div>"
      ],
      "text/plain": [
       "       ODATEDW    DOB ADATE_2 ADATE_3 ADATE_4 ADATE_5 ADATE_6 ADATE_7 ADATE_8  \\\n",
       "count    95412  95412   95412   93462   93221   61822   91855   86538   91901   \n",
       "unique      54    947       2       2       8       1       2       3       5   \n",
       "top       9501      0    9706    9606    9604    9604    9603    9602    9601   \n",
       "freq     15358  23661   95399   93444   92405   61822   91804   81512   85468   \n",
       "\n",
       "       ADATE_9   ...    RDATE_15 RDATE_16 RDATE_17 RDATE_18 RDATE_19 RDATE_20  \\\n",
       "count    84167   ...        7262    26994     9401    19778    15877     7888   \n",
       "unique       3   ...          16       18       11       14       13       10   \n",
       "top       9511   ...        9505     9504     9503     9501     9412     9412   \n",
       "freq     80718   ...        4862    16670     4729    10665    12504     4516   \n",
       "\n",
       "       RDATE_21 RDATE_22 RDATE_23 RDATE_24  \n",
       "count      9513    20873     7859    17738  \n",
       "unique       12       13       17       14  \n",
       "top        9411     9409     9408     9407  \n",
       "freq       5006    11195     4522     7861  \n",
       "\n",
       "[4 rows x 47 columns]"
      ]
     },
     "execution_count": 11,
     "metadata": {},
     "output_type": "execute_result"
    }
   ],
   "source": [
    "dates = learning.loc[:, dl.date_features]\n",
    "dates.describe()"
   ]
  },
  {
   "cell_type": "markdown",
   "metadata": {},
   "source": [
    "## Cleaning\n",
    "\n",
    "We will leverage scikit's transformer classes, and add our own transformers. This might on first glance look as a tedious way to clean data. However, it will be very powerful later on. The transformer's parameters are actually hyperparameters in model selection. This means that a grid-search can be employed to evaluate several different strategies for i.e. imputation of missing values, cutoff thresholds for sparse features and so on and find the best preprocessing steps.\n",
    "\n",
    "sklearn doc:\n",
    "\n",
    "* http://scikit-learn.org/dev/modules/generated/sklearn.compose.ColumnTransformer.html\n",
    "* http://scikit-learn.org/stable/modules/generated/sklearn.impute.SimpleImputer.html\n",
    "* http://scikit-learn.org/stable/modules/generated/sklearn.preprocessing.OneHotEncoder.html"
   ]
  },
  {
   "cell_type": "code",
   "execution_count": 12,
   "metadata": {
    "ExecuteTime": {
     "end_time": "2018-10-17T09:04:45.604466Z",
     "start_time": "2018-10-17T09:04:45.348467Z"
    }
   },
   "outputs": [],
   "source": [
    "from sklearn.pipeline import Pipeline\n",
    "from sklearn.impute import SimpleImputer\n",
    "from sklearn.compose import ColumnTransformer"
   ]
  },
  {
   "cell_type": "markdown",
   "metadata": {},
   "source": [
    "### Boolean features"
   ]
  },
  {
   "cell_type": "code",
   "execution_count": 13,
   "metadata": {
    "ExecuteTime": {
     "end_time": "2018-10-17T09:04:45.791467Z",
     "start_time": "2018-10-17T09:04:45.607468Z"
    }
   },
   "outputs": [
    {
     "name": "stdout",
     "output_type": "stream",
     "text": [
      "['MAILCODE', 'NOEXCH', 'RECSWEEP', 'RECINHSE', 'RECP3', 'RECPGVG', 'AGEFLAG', 'HOMEOWNR', 'MAJOR', 'COLLECT1', 'BIBLE', 'CATLG', 'HOMEE', 'PETS', 'CDPLAY', 'STEREO', 'PCOWNERS', 'PHOTO', 'CRAFTS', 'FISHER', 'GARDENIN', 'BOATS', 'WALKER', 'KIDSTUFF', 'CARDS', 'PLATES', 'PEPSTRFL', 'TARGET_B', 'HPHONE_D', 'VETERANS']\n"
     ]
    }
   ],
   "source": [
    "print(dl.boolean_features)"
   ]
  },
  {
   "cell_type": "code",
   "execution_count": 14,
   "metadata": {
    "ExecuteTime": {
     "end_time": "2018-10-17T09:04:46.009467Z",
     "start_time": "2018-10-17T09:04:45.794467Z"
    }
   },
   "outputs": [],
   "source": [
    "%autoreload 2\n",
    "bool_transformers = ColumnTransformer([\n",
    "    (\"bool_x_bl\",\n",
    "     BooleanFeatureRecode(value_map={'true': 'X', 'false': ' '}),\n",
    "     ['PEPSTRFL', 'NOEXCH', 'MAJOR', 'RECINHSE', 'RECP3', 'RECPGVG', 'RECSWEEP']\n",
    "     ),\n",
    "    (\"bool_y_n\",\n",
    "     BooleanFeatureRecode(value_map={'true': 'Y', 'false': 'N'}),\n",
    "     ['COLLECT1', 'VETERANS', 'BIBLE', 'CATLG', 'HOMEE', 'PETS', 'CDPLAY', 'STEREO',\n",
    "      'PCOWNERS', 'PHOTO', 'CRAFTS', 'FISHER', 'GARDENIN',  'BOATS', 'WALKER', 'KIDSTUFF',\n",
    "      'CARDS', 'PLATES']\n",
    "     ),\n",
    "    (\"bool_e_i\",\n",
    "     BooleanFeatureRecode(value_map={'true': \"E\", 'false': 'I'}),\n",
    "     ['AGEFLAG']\n",
    "     ),\n",
    "    (\"bool_h_u\",\n",
    "     BooleanFeatureRecode(value_map={'true': \"H\", 'false': 'U'}),\n",
    "     ['HOMEOWNR']),\n",
    "    (\"bool_b_bl\",\n",
    "     BooleanFeatureRecode(value_map={'true': 'B', 'false': ' '}),\n",
    "     ['MAILCODE']\n",
    "     ),\n",
    "    (\"bool_1_0\",\n",
    "     BooleanFeatureRecode(value_map={'true': '1', 'false': '0'}),\n",
    "     ['HPHONE_D', 'TARGET_B']\n",
    "     )\n",
    "])"
   ]
  },
  {
   "cell_type": "code",
   "execution_count": 15,
   "metadata": {
    "ExecuteTime": {
     "end_time": "2018-10-17T09:04:46.916513Z",
     "start_time": "2018-10-17T09:04:46.012466Z"
    }
   },
   "outputs": [],
   "source": [
    "booleans = bool_transformers.fit_transform(learning)"
   ]
  },
  {
   "cell_type": "code",
   "execution_count": 16,
   "metadata": {
    "ExecuteTime": {
     "end_time": "2018-10-17T09:04:47.099513Z",
     "start_time": "2018-10-17T09:04:46.919513Z"
    }
   },
   "outputs": [],
   "source": [
    "feature_names = [n[n.find('__')+2:]\n",
    "                 for n in bool_transformers.get_feature_names()]"
   ]
  },
  {
   "cell_type": "code",
   "execution_count": 17,
   "metadata": {
    "ExecuteTime": {
     "end_time": "2018-10-17T09:04:47.274514Z",
     "start_time": "2018-10-17T09:04:47.102513Z"
    }
   },
   "outputs": [],
   "source": [
    "bools = pd.DataFrame(data=booleans, columns=feature_names,\n",
    "                     index=learning.index)"
   ]
  },
  {
   "cell_type": "code",
   "execution_count": 18,
   "metadata": {
    "ExecuteTime": {
     "end_time": "2018-10-17T09:04:47.565515Z",
     "start_time": "2018-10-17T09:04:47.276514Z"
    }
   },
   "outputs": [
    {
     "name": "stdout",
     "output_type": "stream",
     "text": [
      "<class 'pandas.core.frame.DataFrame'>\n",
      "Int64Index: 95412 entries, 95515 to 185114\n",
      "Data columns (total 30 columns):\n",
      "PEPSTRFL    95412 non-null bool\n",
      "NOEXCH      95412 non-null bool\n",
      "MAJOR       95412 non-null bool\n",
      "RECINHSE    95412 non-null bool\n",
      "RECP3       95412 non-null bool\n",
      "RECPGVG     95412 non-null bool\n",
      "RECSWEEP    95412 non-null bool\n",
      "COLLECT1    95412 non-null bool\n",
      "VETERANS    95412 non-null bool\n",
      "BIBLE       95412 non-null bool\n",
      "CATLG       95412 non-null bool\n",
      "HOMEE       95412 non-null bool\n",
      "PETS        95412 non-null bool\n",
      "CDPLAY      95412 non-null bool\n",
      "STEREO      95412 non-null bool\n",
      "PCOWNERS    95412 non-null bool\n",
      "PHOTO       95412 non-null bool\n",
      "CRAFTS      95412 non-null bool\n",
      "FISHER      95412 non-null bool\n",
      "GARDENIN    95412 non-null bool\n",
      "BOATS       95412 non-null bool\n",
      "WALKER      95412 non-null bool\n",
      "KIDSTUFF    95412 non-null bool\n",
      "CARDS       95412 non-null bool\n",
      "PLATES      95412 non-null bool\n",
      "AGEFLAG     95412 non-null bool\n",
      "HOMEOWNR    95412 non-null bool\n",
      "MAILCODE    95412 non-null bool\n",
      "HPHONE_D    95412 non-null bool\n",
      "TARGET_B    95412 non-null bool\n",
      "dtypes: bool(30)\n",
      "memory usage: 3.5 MB\n"
     ]
    }
   ],
   "source": [
    "bools.info()"
   ]
  },
  {
   "cell_type": "code",
   "execution_count": 19,
   "metadata": {
    "ExecuteTime": {
     "end_time": "2018-10-17T09:04:56.419032Z",
     "start_time": "2018-10-17T09:04:47.571515Z"
    }
   },
   "outputs": [],
   "source": [
    "learning[dl.boolean_features] = bools"
   ]
  },
  {
   "cell_type": "markdown",
   "metadata": {},
   "source": [
    "### Zipcode"
   ]
  },
  {
   "cell_type": "code",
   "execution_count": 20,
   "metadata": {
    "ExecuteTime": {
     "end_time": "2018-10-17T09:04:56.533033Z",
     "start_time": "2018-10-17T09:04:56.421031Z"
    }
   },
   "outputs": [],
   "source": [
    "zip_transformer = ColumnTransformer([\n",
    "    (\"truncate_zip\",\n",
    "     ZipCodeFormatter(),\n",
    "     ['ZIP']\n",
    "     )\n",
    "])"
   ]
  },
  {
   "cell_type": "code",
   "execution_count": 21,
   "metadata": {
    "ExecuteTime": {
     "end_time": "2018-10-17T09:04:56.792289Z",
     "start_time": "2018-10-17T09:04:56.535032Z"
    }
   },
   "outputs": [],
   "source": [
    "zip = zip_transformer.fit_transform(learning)"
   ]
  },
  {
   "cell_type": "code",
   "execution_count": 22,
   "metadata": {
    "ExecuteTime": {
     "end_time": "2018-10-17T09:04:56.915034Z",
     "start_time": "2018-10-17T09:04:56.794035Z"
    }
   },
   "outputs": [
    {
     "data": {
      "text/plain": [
       "CONTROLN\n",
       "95515     61081\n",
       "148535    91326\n",
       "15078     27017\n",
       "172556    95953\n",
       "7112      33176\n",
       "Name: ZIP, dtype: object"
      ]
     },
     "execution_count": 22,
     "metadata": {},
     "output_type": "execute_result"
    }
   ],
   "source": [
    "learning.ZIP.head()"
   ]
  },
  {
   "cell_type": "code",
   "execution_count": 23,
   "metadata": {
    "ExecuteTime": {
     "end_time": "2018-10-17T09:04:57.065032Z",
     "start_time": "2018-10-17T09:04:56.918034Z"
    }
   },
   "outputs": [
    {
     "data": {
      "text/plain": [
       "array([['61081'],\n",
       "       ['91326'],\n",
       "       ['27017'],\n",
       "       ['95953'],\n",
       "       ['33176']], dtype=object)"
      ]
     },
     "execution_count": 23,
     "metadata": {},
     "output_type": "execute_result"
    }
   ],
   "source": [
    "zip[0:5]"
   ]
  },
  {
   "cell_type": "code",
   "execution_count": 24,
   "metadata": {
    "ExecuteTime": {
     "end_time": "2018-10-17T09:04:57.387035Z",
     "start_time": "2018-10-17T09:04:57.067031Z"
    }
   },
   "outputs": [],
   "source": [
    "learning.ZIP = zip\n",
    "learning.ZIP = learning.ZIP.astype(\"int\", copy=False)"
   ]
  },
  {
   "cell_type": "markdown",
   "metadata": {},
   "source": [
    "### Categories\n",
    "\n",
    "Categories identified from the dataset dictionary:"
   ]
  },
  {
   "cell_type": "code",
   "execution_count": 25,
   "metadata": {
    "ExecuteTime": {
     "end_time": "2018-10-17T09:04:57.522033Z",
     "start_time": "2018-10-17T09:04:57.391033Z"
    }
   },
   "outputs": [
    {
     "name": "stdout",
     "output_type": "stream",
     "text": [
      "['DOMAIN', 'TCODE', 'STATE', 'PVASTATE', 'CLUSTER', 'CHILD03', 'CHILD07', 'CHILD12', 'CHILD18', 'GENDER', 'DATASRCE', 'SOLP3', 'SOLIH', 'WEALTH1', 'WEALTH2', 'GEOCODE', 'LIFESRC', 'RFA_2R', 'RFA_2A', 'RFA_2F', 'MDMAUD_R', 'MDMAUD_F', 'MDMAUD_A', 'GEOCODE2']\n"
     ]
    }
   ],
   "source": [
    "print(dl.categorical_features)"
   ]
  },
  {
   "cell_type": "markdown",
   "metadata": {},
   "source": [
    "There is one additional categorical feature, OSOURCE. It identifies the origin of the data for a particular record. However, it has so many levels that the feature space would get inflated heavily by one-hot encoding. It is therefore ignored for the moment."
   ]
  },
  {
   "cell_type": "markdown",
   "metadata": {},
   "source": [
    "The following are already coded as categories in the imported dataset:"
   ]
  },
  {
   "cell_type": "code",
   "execution_count": 26,
   "metadata": {
    "ExecuteTime": {
     "end_time": "2018-10-17T09:04:57.744035Z",
     "start_time": "2018-10-17T09:04:57.526032Z"
    }
   },
   "outputs": [
    {
     "data": {
      "text/plain": [
       "Index(['TCODE', 'STATE', 'PVASTATE', 'DOMAIN', 'CLUSTER', 'CHILD03', 'CHILD07',\n",
       "       'CHILD12', 'CHILD18', 'GENDER', 'WEALTH1', 'DATASRCE', 'SOLP3', 'SOLIH',\n",
       "       'WEALTH2', 'GEOCODE', 'LIFESRC', 'RFA_2R', 'RFA_2F', 'RFA_2A',\n",
       "       'MDMAUD_R', 'MDMAUD_F', 'MDMAUD_A', 'GEOCODE2'],\n",
       "      dtype='object')"
      ]
     },
     "execution_count": 26,
     "metadata": {},
     "output_type": "execute_result"
    }
   ],
   "source": [
    "learning.select_dtypes(include=\"category\").columns"
   ]
  },
  {
   "cell_type": "markdown",
   "metadata": {},
   "source": [
    "Additionally, We will also have to add the multibyte features. These are features that group together several related categorical features.\n",
    "\n",
    "These are mainly the promotion history codes. Recency, Frequency and Amount as of a particular mailing are glued together in one feature. For RFA_2 and additionally MDMAUD, the major donor matrix, the features were already spread out by the supplier of the data. These two were dropped on import of the CSV file and their spread out features kept."
   ]
  },
  {
   "cell_type": "code",
   "execution_count": 27,
   "metadata": {
    "ExecuteTime": {
     "end_time": "2018-10-17T09:04:57.876037Z",
     "start_time": "2018-10-17T09:04:57.747033Z"
    }
   },
   "outputs": [
    {
     "name": "stdout",
     "output_type": "stream",
     "text": [
      "['RFA_3', 'RFA_4', 'RFA_5', 'RFA_6', 'RFA_7', 'RFA_8', 'RFA_9', 'RFA_10', 'RFA_11', 'RFA_12', 'RFA_13', 'RFA_14', 'RFA_15', 'RFA_16', 'RFA_17', 'RFA_18', 'RFA_19', 'RFA_20', 'RFA_21', 'RFA_22', 'RFA_23', 'RFA_24']\n"
     ]
    }
   ],
   "source": [
    "print(dl.nominal_features)"
   ]
  },
  {
   "cell_type": "code",
   "execution_count": 28,
   "metadata": {
    "ExecuteTime": {
     "end_time": "2018-10-17T09:04:58.028032Z",
     "start_time": "2018-10-17T09:04:57.879034Z"
    }
   },
   "outputs": [],
   "source": [
    "multibyte_transformer = ColumnTransformer([\n",
    "    (\"rfa_spread\",\n",
    "     MultiByteExtract([\"R\", \"F\", \"A\"]),\n",
    "     dl.nominal_features)\n",
    "])"
   ]
  },
  {
   "cell_type": "markdown",
   "metadata": {},
   "source": [
    "Apply the transormation to all RFA_* features and extract the new feature names to build a pandas dataframe:"
   ]
  },
  {
   "cell_type": "code",
   "execution_count": 29,
   "metadata": {
    "ExecuteTime": {
     "end_time": "2018-10-17T09:05:04.115671Z",
     "start_time": "2018-10-17T09:04:58.031032Z"
    }
   },
   "outputs": [],
   "source": [
    "multibytes = multibyte_transformer.fit_transform(learning)\n",
    "feature_names = [n[n.find('__')+2:]\n",
    "                 for n in multibyte_transformer.get_feature_names()]"
   ]
  },
  {
   "cell_type": "code",
   "execution_count": 30,
   "metadata": {
    "ExecuteTime": {
     "end_time": "2018-10-17T09:05:04.614670Z",
     "start_time": "2018-10-17T09:05:04.117672Z"
    }
   },
   "outputs": [],
   "source": [
    "rfa = pd.DataFrame(data=multibytes, columns=feature_names,\n",
    "                   index=learning.index).astype(\"category\")"
   ]
  },
  {
   "cell_type": "markdown",
   "metadata": {},
   "source": [
    "Merge learning and the rfa features, then drop the original RFA_* features"
   ]
  },
  {
   "cell_type": "code",
   "execution_count": 31,
   "metadata": {
    "ExecuteTime": {
     "end_time": "2018-10-17T09:05:09.633672Z",
     "start_time": "2018-10-17T09:05:04.617672Z"
    }
   },
   "outputs": [],
   "source": [
    "# copy = False prevents copying the whole learning dataset around\n",
    "learning = learning.merge(rfa, on=learning.index.name, copy=False)\n",
    "learning = learning.drop(dl.nominal_features, axis=1)"
   ]
  },
  {
   "cell_type": "code",
   "execution_count": 32,
   "metadata": {
    "ExecuteTime": {
     "end_time": "2018-10-17T09:05:10.018673Z",
     "start_time": "2018-10-17T09:05:09.635672Z"
    },
    "scrolled": true
   },
   "outputs": [
    {
     "name": "stdout",
     "output_type": "stream",
     "text": [
      "['TCODE', 'STATE', 'PVASTATE', 'DOMAIN', 'CLUSTER', 'CHILD03', 'CHILD07', 'CHILD12', 'CHILD18', 'GENDER', 'WEALTH1', 'DATASRCE', 'SOLP3', 'SOLIH', 'WEALTH2', 'GEOCODE', 'LIFESRC', 'RFA_2R', 'RFA_2F', 'RFA_2A', 'MDMAUD_R', 'MDMAUD_F', 'MDMAUD_A', 'GEOCODE2', 'RFA_3_R', 'RFA_3_F', 'RFA_3_A', 'RFA_4_R', 'RFA_4_F', 'RFA_4_A', 'RFA_5_R', 'RFA_5_F', 'RFA_5_A', 'RFA_6_R', 'RFA_6_F', 'RFA_6_A', 'RFA_7_R', 'RFA_7_F', 'RFA_7_A', 'RFA_8_R', 'RFA_8_F', 'RFA_8_A', 'RFA_9_R', 'RFA_9_F', 'RFA_9_A', 'RFA_10_R', 'RFA_10_F', 'RFA_10_A', 'RFA_11_R', 'RFA_11_F', 'RFA_11_A', 'RFA_12_R', 'RFA_12_F', 'RFA_12_A', 'RFA_13_R', 'RFA_13_F', 'RFA_13_A', 'RFA_14_R', 'RFA_14_F', 'RFA_14_A', 'RFA_15_R', 'RFA_15_F', 'RFA_15_A', 'RFA_16_R', 'RFA_16_F', 'RFA_16_A', 'RFA_17_R', 'RFA_17_F', 'RFA_17_A', 'RFA_18_R', 'RFA_18_F', 'RFA_18_A', 'RFA_19_R', 'RFA_19_F', 'RFA_19_A', 'RFA_20_R', 'RFA_20_F', 'RFA_20_A', 'RFA_21_R', 'RFA_21_F', 'RFA_21_A', 'RFA_22_R', 'RFA_22_F', 'RFA_22_A', 'RFA_23_R', 'RFA_23_F', 'RFA_23_A', 'RFA_24_R', 'RFA_24_F', 'RFA_24_A']\n"
     ]
    }
   ],
   "source": [
    "print(list(learning.select_dtypes(include=\"category\").columns))"
   ]
  },
  {
   "cell_type": "markdown",
   "metadata": {},
   "source": [
    "### Dates\n",
    "\n",
    "There are several date features. ODATEDW is the date the record was added, DOB the birth date. ADATE_* and RDATE_* are from the promotion history. ADATE_* is the date of a mailing, RDATE_* the date the donation for the corresponding mailing was received. While these dates are not of particular interest (very low variance), the time it took to respond might be.\n",
    "\n",
    "Two different transformations are applied:\n",
    "\n",
    "1. ODATEDW, DOB: Get transformed to years before 1997 -> membership duration, age\n",
    "2. For the promotion history, as specified above, the time for response in months"
   ]
  },
  {
   "cell_type": "code",
   "execution_count": 33,
   "metadata": {
    "ExecuteTime": {
     "end_time": "2018-10-17T09:05:10.192672Z",
     "start_time": "2018-10-17T09:05:10.021673Z"
    }
   },
   "outputs": [
    {
     "name": "stdout",
     "output_type": "stream",
     "text": [
      "['ODATEDW', 'DOB', 'ADATE_2', 'ADATE_3', 'ADATE_4', 'ADATE_5', 'ADATE_6', 'ADATE_7', 'ADATE_8', 'ADATE_9', 'ADATE_10', 'ADATE_11', 'ADATE_12', 'ADATE_13', 'ADATE_14', 'ADATE_15', 'ADATE_16', 'ADATE_17', 'ADATE_18', 'ADATE_19', 'ADATE_20', 'ADATE_21', 'ADATE_22', 'ADATE_23', 'ADATE_24', 'RDATE_3', 'RDATE_4', 'RDATE_5', 'RDATE_6', 'RDATE_7', 'RDATE_8', 'RDATE_9', 'RDATE_10', 'RDATE_11', 'RDATE_12', 'RDATE_13', 'RDATE_14', 'RDATE_15', 'RDATE_16', 'RDATE_17', 'RDATE_18', 'RDATE_19', 'RDATE_20', 'RDATE_21', 'RDATE_22', 'RDATE_23', 'RDATE_24']\n"
     ]
    }
   ],
   "source": [
    "print(dl.date_features)"
   ]
  },
  {
   "cell_type": "markdown",
   "metadata": {},
   "source": [
    "First, parse all date features into datetime values. This also takes care of dates that by the default pivot fall into the 21st century by subtracting 100 years for these.\n",
    "Invalid dates (shorter than 3 digits, 3 digits are fixed as usually the format is yym) are set to NaT"
   ]
  },
  {
   "cell_type": "code",
   "execution_count": 34,
   "metadata": {
    "ExecuteTime": {
     "end_time": "2018-10-17T09:05:10.374672Z",
     "start_time": "2018-10-17T09:05:10.195673Z"
    }
   },
   "outputs": [],
   "source": [
    "date_transformer = ColumnTransformer([\n",
    "    (\"parse_dates\",\n",
    "     ParseDates(treat_errors='ignore'),\n",
    "     dl.date_features\n",
    "     )\n",
    "])"
   ]
  },
  {
   "cell_type": "code",
   "execution_count": 35,
   "metadata": {
    "ExecuteTime": {
     "end_time": "2018-10-17T09:05:40.706157Z",
     "start_time": "2018-10-17T09:05:10.376671Z"
    }
   },
   "outputs": [],
   "source": [
    "dates = date_transformer.fit_transform(learning)"
   ]
  },
  {
   "cell_type": "code",
   "execution_count": 36,
   "metadata": {
    "ExecuteTime": {
     "end_time": "2018-10-17T09:05:40.857158Z",
     "start_time": "2018-10-17T09:05:40.709159Z"
    }
   },
   "outputs": [
    {
     "name": "stdout",
     "output_type": "stream",
     "text": [
      "['ODATEDW', 'DOB', 'ADATE_2', 'ADATE_3', 'ADATE_4', 'ADATE_5', 'ADATE_6', 'ADATE_7', 'ADATE_8', 'ADATE_9', 'ADATE_10', 'ADATE_11', 'ADATE_12', 'ADATE_13', 'ADATE_14', 'ADATE_15', 'ADATE_16', 'ADATE_17', 'ADATE_18', 'ADATE_19', 'ADATE_20', 'ADATE_21', 'ADATE_22', 'ADATE_23', 'ADATE_24', 'RDATE_3', 'RDATE_4', 'RDATE_5', 'RDATE_6', 'RDATE_7', 'RDATE_8', 'RDATE_9', 'RDATE_10', 'RDATE_11', 'RDATE_12', 'RDATE_13', 'RDATE_14', 'RDATE_15', 'RDATE_16', 'RDATE_17', 'RDATE_18', 'RDATE_19', 'RDATE_20', 'RDATE_21', 'RDATE_22', 'RDATE_23', 'RDATE_24']\n"
     ]
    }
   ],
   "source": [
    "feature_names = [n[n.find('__')+2:]\n",
    "                 for n in date_transformer.get_feature_names()]\n",
    "print(feature_names) "
   ]
  },
  {
   "cell_type": "code",
   "execution_count": 37,
   "metadata": {
    "ExecuteTime": {
     "end_time": "2018-10-17T09:05:41.035159Z",
     "start_time": "2018-10-17T09:05:40.860157Z"
    }
   },
   "outputs": [],
   "source": [
    "dates = pd.DataFrame(dates, columns=list(\n",
    "    dl.date_features), index=learning.index)\n"
   ]
  },
  {
   "cell_type": "code",
   "execution_count": 38,
   "metadata": {
    "ExecuteTime": {
     "end_time": "2018-10-17T09:05:44.632157Z",
     "start_time": "2018-10-17T09:05:41.038158Z"
    }
   },
   "outputs": [],
   "source": [
    "learning[dl.date_features] = dates"
   ]
  },
  {
   "cell_type": "markdown",
   "metadata": {},
   "source": [
    "Now, we transform the dates from the giving history. First, we create two dataframes with the sending dates of the mailings and the dates when the gift (donation) for these was received."
   ]
  },
  {
   "cell_type": "code",
   "execution_count": 39,
   "metadata": {
    "ExecuteTime": {
     "end_time": "2018-10-17T09:05:44.796158Z",
     "start_time": "2018-10-17T09:05:44.635160Z"
    }
   },
   "outputs": [],
   "source": [
    "don_hist_transformer = ColumnTransformer([\n",
    "    (\"months_to_donation\",\n",
    "     MonthsToDonation(),\n",
    "     dl.don_hist_dates\n",
    "     )\n",
    "])"
   ]
  },
  {
   "cell_type": "code",
   "execution_count": 40,
   "metadata": {
    "ExecuteTime": {
     "end_time": "2018-10-17T09:07:54.747128Z",
     "start_time": "2018-10-17T09:05:44.799159Z"
    }
   },
   "outputs": [],
   "source": [
    "donation_responses = don_hist_transformer.fit_transform(learning)"
   ]
  },
  {
   "cell_type": "code",
   "execution_count": 41,
   "metadata": {
    "ExecuteTime": {
     "end_time": "2018-10-17T09:07:54.989127Z",
     "start_time": "2018-10-17T09:07:54.751126Z"
    }
   },
   "outputs": [],
   "source": [
    "feature_names = [n[n.find('__')+2:]\n",
    "                 for n in don_hist_transformer.get_feature_names()]"
   ]
  },
  {
   "cell_type": "code",
   "execution_count": 42,
   "metadata": {
    "ExecuteTime": {
     "end_time": "2018-10-17T09:07:55.257128Z",
     "start_time": "2018-10-17T09:07:54.993126Z"
    }
   },
   "outputs": [],
   "source": [
    "donation_responses = pd.DataFrame(\n",
    "    donation_responses, index=learning.index, columns=feature_names)"
   ]
  },
  {
   "cell_type": "code",
   "execution_count": 43,
   "metadata": {
    "ExecuteTime": {
     "end_time": "2018-10-17T09:07:55.508128Z",
     "start_time": "2018-10-17T09:07:55.273129Z"
    }
   },
   "outputs": [
    {
     "data": {
      "text/plain": [
       " 0.0     73943\n",
       " 2.0     10239\n",
       " 1.0      8478\n",
       " 3.0      2489\n",
       " 4.0       200\n",
       "-2.0        29\n",
       " 5.0         9\n",
       "-3.0         7\n",
       " 6.0         6\n",
       " 7.0         4\n",
       "-8.0         3\n",
       " 8.0         2\n",
       "-11.0        1\n",
       "-9.0         1\n",
       " 11.0        1\n",
       "Name: MONTHS_TO_DONATION_8, dtype: int64"
      ]
     },
     "execution_count": 43,
     "metadata": {},
     "output_type": "execute_result"
    }
   ],
   "source": [
    "donation_responses.MONTHS_TO_DONATION_8.value_counts()"
   ]
  },
  {
   "cell_type": "code",
   "execution_count": 44,
   "metadata": {
    "ExecuteTime": {
     "end_time": "2018-10-17T09:08:00.432648Z",
     "start_time": "2018-10-17T09:07:55.511132Z"
    }
   },
   "outputs": [],
   "source": [
    "learning = learning.merge(donation_responses, on=learning.index.name)\n",
    "learning = learning.drop(dl.don_hist_dates, axis=1, inplace=True)"
   ]
  },
  {
   "cell_type": "markdown",
   "metadata": {},
   "source": [
    "Finally, we compute the membership years and age of the records"
   ]
  },
  {
   "cell_type": "code",
   "execution_count": 45,
   "metadata": {
    "ExecuteTime": {
     "end_time": "2018-10-17T09:08:00.648647Z",
     "start_time": "2018-10-17T09:08:00.435646Z"
    }
   },
   "outputs": [],
   "source": [
    "age_transformer = ColumnTransformer([\n",
    "    (\"relative_age\",\n",
    "     ComputeAge(),\n",
    "    ['ODATEDW', 'DOB'])\n",
    "])"
   ]
  },
  {
   "cell_type": "code",
   "execution_count": 46,
   "metadata": {
    "ExecuteTime": {
     "end_time": "2018-10-17T09:08:01.246647Z",
     "start_time": "2018-10-17T09:08:00.653647Z"
    }
   },
   "outputs": [
    {
     "ename": "ValueError",
     "evalue": "Expected 2D array, got scalar array instead:\narray=None.\nReshape your data either using array.reshape(-1, 1) if your data has a single feature or array.reshape(1, -1) if it contains a single sample.",
     "output_type": "error",
     "traceback": [
      "\u001b[1;31m---------------------------------------------------------------------------\u001b[0m",
      "\u001b[1;31mValueError\u001b[0m                                Traceback (most recent call last)",
      "\u001b[1;32m<ipython-input-46-99bb960c1b9c>\u001b[0m in \u001b[0;36m<module>\u001b[1;34m()\u001b[0m\n\u001b[1;32m----> 1\u001b[1;33m \u001b[0mrel_ages\u001b[0m \u001b[1;33m=\u001b[0m \u001b[0mage_transformer\u001b[0m\u001b[1;33m.\u001b[0m\u001b[0mfit_transform\u001b[0m\u001b[1;33m(\u001b[0m\u001b[0mlearning\u001b[0m\u001b[1;33m)\u001b[0m\u001b[1;33m\u001b[0m\u001b[0m\n\u001b[0m",
      "\u001b[1;32m~\\Anaconda3\\lib\\site-packages\\sklearn\\compose\\_column_transformer.py\u001b[0m in \u001b[0;36mfit_transform\u001b[1;34m(self, X, y)\u001b[0m\n\u001b[0;32m    442\u001b[0m \u001b[1;33m\u001b[0m\u001b[0m\n\u001b[0;32m    443\u001b[0m         \"\"\"\n\u001b[1;32m--> 444\u001b[1;33m         \u001b[0mX\u001b[0m \u001b[1;33m=\u001b[0m \u001b[0m_check_X\u001b[0m\u001b[1;33m(\u001b[0m\u001b[0mX\u001b[0m\u001b[1;33m)\u001b[0m\u001b[1;33m\u001b[0m\u001b[0m\n\u001b[0m\u001b[0;32m    445\u001b[0m         \u001b[0mself\u001b[0m\u001b[1;33m.\u001b[0m\u001b[0m_validate_transformers\u001b[0m\u001b[1;33m(\u001b[0m\u001b[1;33m)\u001b[0m\u001b[1;33m\u001b[0m\u001b[0m\n\u001b[0;32m    446\u001b[0m         \u001b[0mself\u001b[0m\u001b[1;33m.\u001b[0m\u001b[0m_validate_column_callables\u001b[0m\u001b[1;33m(\u001b[0m\u001b[0mX\u001b[0m\u001b[1;33m)\u001b[0m\u001b[1;33m\u001b[0m\u001b[0m\n",
      "\u001b[1;32m~\\Anaconda3\\lib\\site-packages\\sklearn\\compose\\_column_transformer.py\u001b[0m in \u001b[0;36m_check_X\u001b[1;34m(X)\u001b[0m\n\u001b[0;32m    523\u001b[0m     \u001b[1;32mif\u001b[0m \u001b[0mhasattr\u001b[0m\u001b[1;33m(\u001b[0m\u001b[0mX\u001b[0m\u001b[1;33m,\u001b[0m \u001b[1;34m'__array__'\u001b[0m\u001b[1;33m)\u001b[0m \u001b[1;32mor\u001b[0m \u001b[0msparse\u001b[0m\u001b[1;33m.\u001b[0m\u001b[0missparse\u001b[0m\u001b[1;33m(\u001b[0m\u001b[0mX\u001b[0m\u001b[1;33m)\u001b[0m\u001b[1;33m:\u001b[0m\u001b[1;33m\u001b[0m\u001b[0m\n\u001b[0;32m    524\u001b[0m         \u001b[1;32mreturn\u001b[0m \u001b[0mX\u001b[0m\u001b[1;33m\u001b[0m\u001b[0m\n\u001b[1;32m--> 525\u001b[1;33m     \u001b[1;32mreturn\u001b[0m \u001b[0mcheck_array\u001b[0m\u001b[1;33m(\u001b[0m\u001b[0mX\u001b[0m\u001b[1;33m,\u001b[0m \u001b[0mforce_all_finite\u001b[0m\u001b[1;33m=\u001b[0m\u001b[1;34m'allow-nan'\u001b[0m\u001b[1;33m,\u001b[0m \u001b[0mdtype\u001b[0m\u001b[1;33m=\u001b[0m\u001b[0mnp\u001b[0m\u001b[1;33m.\u001b[0m\u001b[0mobject\u001b[0m\u001b[1;33m)\u001b[0m\u001b[1;33m\u001b[0m\u001b[0m\n\u001b[0m\u001b[0;32m    526\u001b[0m \u001b[1;33m\u001b[0m\u001b[0m\n\u001b[0;32m    527\u001b[0m \u001b[1;33m\u001b[0m\u001b[0m\n",
      "\u001b[1;32m~\\Anaconda3\\lib\\site-packages\\sklearn\\utils\\validation.py\u001b[0m in \u001b[0;36mcheck_array\u001b[1;34m(array, accept_sparse, accept_large_sparse, dtype, order, copy, force_all_finite, ensure_2d, allow_nd, ensure_min_samples, ensure_min_features, warn_on_dtype, estimator)\u001b[0m\n\u001b[0;32m    538\u001b[0m                     \u001b[1;34m\"Reshape your data either using array.reshape(-1, 1) if \"\u001b[0m\u001b[1;33m\u001b[0m\u001b[0m\n\u001b[0;32m    539\u001b[0m                     \u001b[1;34m\"your data has a single feature or array.reshape(1, -1) \"\u001b[0m\u001b[1;33m\u001b[0m\u001b[0m\n\u001b[1;32m--> 540\u001b[1;33m                     \"if it contains a single sample.\".format(array))\n\u001b[0m\u001b[0;32m    541\u001b[0m             \u001b[1;31m# If input is 1D raise error\u001b[0m\u001b[1;33m\u001b[0m\u001b[1;33m\u001b[0m\u001b[0m\n\u001b[0;32m    542\u001b[0m             \u001b[1;32mif\u001b[0m \u001b[0marray\u001b[0m\u001b[1;33m.\u001b[0m\u001b[0mndim\u001b[0m \u001b[1;33m==\u001b[0m \u001b[1;36m1\u001b[0m\u001b[1;33m:\u001b[0m\u001b[1;33m\u001b[0m\u001b[0m\n",
      "\u001b[1;31mValueError\u001b[0m: Expected 2D array, got scalar array instead:\narray=None.\nReshape your data either using array.reshape(-1, 1) if your data has a single feature or array.reshape(1, -1) if it contains a single sample."
     ]
    }
   ],
   "source": [
    "rel_ages = age_transformer.fit_transform(learning)"
   ]
  },
  {
   "cell_type": "code",
   "execution_count": null,
   "metadata": {
    "ExecuteTime": {
     "end_time": "2018-10-17T09:08:01.247652Z",
     "start_time": "2018-10-17T09:04:27.601Z"
    }
   },
   "outputs": [],
   "source": [
    "feature_names = [n[n.find('__')+2:]\n",
    "                 for n in age_transformer.get_feature_names()]"
   ]
  },
  {
   "cell_type": "code",
   "execution_count": null,
   "metadata": {
    "ExecuteTime": {
     "end_time": "2018-10-17T09:08:01.250647Z",
     "start_time": "2018-10-17T09:04:27.635Z"
    }
   },
   "outputs": [],
   "source": [
    "rel_ages =pd.DataFrame(rel_ages, index=learning.index,columns=feature_names)"
   ]
  },
  {
   "cell_type": "code",
   "execution_count": null,
   "metadata": {
    "ExecuteTime": {
     "end_time": "2018-10-17T09:08:01.252647Z",
     "start_time": "2018-10-17T09:04:27.676Z"
    }
   },
   "outputs": [],
   "source": [
    "learning[['ODATEDW', 'DOB']] = rel_ages"
   ]
  },
  {
   "cell_type": "code",
   "execution_count": null,
   "metadata": {
    "ExecuteTime": {
     "end_time": "2018-10-17T09:08:01.254649Z",
     "start_time": "2018-10-17T09:04:27.730Z"
    }
   },
   "outputs": [],
   "source": [
    "learning.info()"
   ]
  },
  {
   "cell_type": "markdown",
   "metadata": {},
   "source": [
    "## Digging through the data"
   ]
  },
  {
   "cell_type": "code",
   "execution_count": null,
   "metadata": {
    "ExecuteTime": {
     "end_time": "2018-10-17T09:08:01.256648Z",
     "start_time": "2018-10-17T09:04:27.782Z"
    },
    "scrolled": true
   },
   "outputs": [],
   "source": [
    "learning.select_dtypes(include=np.float).hist(bins=50, figsize=(50, 50))\n",
    "save_fig(\"float_feature_histograms\")"
   ]
  },
  {
   "cell_type": "markdown",
   "metadata": {},
   "source": [
    "### Some promising fetures and their impact on the label"
   ]
  },
  {
   "cell_type": "code",
   "execution_count": null,
   "metadata": {},
   "outputs": [],
   "source": [
    "%matplotlib inline\n",
    "sns.catplot(x=\"WEALTH2\", y=\"TARGET_D\", hue=\"MAJOR\",\n",
    "            kind=\"violin\", inner=\"stick\", split=True, data=learning)"
   ]
  },
  {
   "cell_type": "markdown",
   "metadata": {},
   "source": [
    "### Income, Wealth and donations"
   ]
  },
  {
   "cell_type": "code",
   "execution_count": null,
   "metadata": {},
   "outputs": [],
   "source": [
    "sns.violinplot(x=\"INCOME\", y=\"TARGET_D\", palette=\"pastel\", data=learning)"
   ]
  },
  {
   "cell_type": "code",
   "execution_count": null,
   "metadata": {},
   "outputs": [],
   "source": [
    "sns.violinplot(x=\"WEALTH1\", y=\"TARGET_D\", palette=\"pastel\", data=learning)"
   ]
  },
  {
   "cell_type": "markdown",
   "metadata": {},
   "source": [
    "### Interests and donations"
   ]
  },
  {
   "cell_type": "code",
   "execution_count": null,
   "metadata": {
    "scrolled": true
   },
   "outputs": [],
   "source": [
    "data = learning_raw.loc[:, dl.interest_features+[\"TARGET_D\"]].fillna(0)\n",
    "interests = pd.melt(data, value_vars=dl.interest_features,\n",
    "                    value_name=\"Interest\")\n",
    "data.head()"
   ]
  },
  {
   "cell_type": "markdown",
   "metadata": {},
   "source": [
    "Features with constant values:"
   ]
  },
  {
   "cell_type": "code",
   "execution_count": null,
   "metadata": {},
   "outputs": [],
   "source": [
    "learning_raw.nunique(axis=1)"
   ]
  },
  {
   "cell_type": "markdown",
   "metadata": {},
   "source": [
    "### Individual feature properties\n",
    "\n",
    "Value range, distribution, outliers"
   ]
  },
  {
   "cell_type": "markdown",
   "metadata": {},
   "source": [
    "### Correlations\n",
    "\n",
    "-> Product moment covariance"
   ]
  },
  {
   "cell_type": "code",
   "execution_count": null,
   "metadata": {},
   "outputs": [],
   "source": [
    "# calculate the correlation matrix\n",
    "corr = learning_raw.drop(['TARGET_B', 'TARGET_D'], axis=1).corr()"
   ]
  },
  {
   "cell_type": "code",
   "execution_count": null,
   "metadata": {},
   "outputs": [],
   "source": [
    "# plot the heatmap\n",
    "# Generate a mask for the upper triangle\n",
    "mask = np.zeros_like(corr, dtype=np.bool)\n",
    "mask[np.triu_indices_from(mask)] = True\n",
    "\n",
    "# Set up the matplotlib figure\n",
    "f, ax = plt.subplots(figsize=(12, 12))\n",
    "\n",
    "# Generate a custom diverging colormap\n",
    "cmap = sns.diverging_palette(220, 10, as_cmap=True)\n",
    "\n",
    "sns.heatmap(corr, mask=mask, cmap=cmap, vmax=.8, center=0,\n",
    "            square=True, linewidths=.5, cbar_kws={\"shrink\": .5})"
   ]
  },
  {
   "cell_type": "markdown",
   "metadata": {},
   "source": [
    "### Target variable (labels)"
   ]
  },
  {
   "cell_type": "code",
   "execution_count": null,
   "metadata": {},
   "outputs": [],
   "source": [
    "%matplotlib inline\n",
    "sns.catplot(x=\"WEALTH2\", y=\"TARGET_D\", hue=\"MAJOR\",\n",
    "            kind=\"violin\", inner=\"stick\", split=True,\n",
    "            palette=\"pastel\", data=learning)"
   ]
  },
  {
   "cell_type": "code",
   "execution_count": null,
   "metadata": {},
   "outputs": [],
   "source": [
    "sns.catplot(x=\"CLUSTER\", y=\"TARGET_D\", kind=\"box\", data=learning)"
   ]
  },
  {
   "cell_type": "code",
   "execution_count": null,
   "metadata": {},
   "outputs": [],
   "source": [
    "%matplotlib inline\n",
    "sns.distplot(learning.loc[learning.TARGET_D > 0.0,\n",
    "                          'TARGET_D'], bins=50, kde=False, rug=True)"
   ]
  },
  {
   "cell_type": "markdown",
   "metadata": {},
   "source": [
    "### US census data"
   ]
  },
  {
   "cell_type": "code",
   "execution_count": null,
   "metadata": {},
   "outputs": [],
   "source": [
    "us_census = [\"POP901\", \"POP902\", \"POP903\", \"POP90C1\", \"POP90C2\", \"POP90C3\", \"POP90C4\", \"POP90C5\", \"ETH1\", \"ETH2\", \"ETH3\", \"ETH4\", \"ETH5\", \"ETH6\", \"ETH7\", \"ETH8\", \"ETH9\", \"ETH10\", \"ETH11\", \"ETH12\", \"ETH13\", \"ETH14\", \"ETH15\", \"ETH16\", \"AGE901\", \"AGE902\", \"AGE903\", \"AGE904\", \"AGE905\", \"AGE906\", \"AGE907\", \"CHIL1\", \"CHIL2\", \"CHIL3\", \"AGEC1\", \"AGEC2\", \"AGEC3\", \"AGEC4\", \"AGEC5\", \"AGEC6\", \"AGEC7\", \"CHILC1\", \"CHILC2\", \"CHILC3\", \"CHILC4\", \"CHILC5\", \"HHAGE1\", \"HHAGE2\", \"HHAGE3\", \"HHN1\", \"HHN2\", \"HHN3\", \"HHN4\", \"HHN5\", \"HHN6\", \"MARR1\", \"MARR2\", \"MARR3\", \"MARR4\", \"HHP1\", \"HHP2\", \"DW1\", \"DW2\", \"DW3\", \"DW4\", \"DW5\", \"DW6\", \"DW7\", \"DW8\", \"DW9\", \"HV1\", \"HV2\", \"HV3\", \"HV4\", \"HU1\", \"HU2\", \"HU3\", \"HU4\", \"HU5\", \"HHD1\", \"HHD2\", \"HHD3\", \"HHD4\", \"HHD5\", \"HHD6\", \"HHD7\", \"HHD8\", \"HHD9\", \"HHD10\", \"HHD11\", \"HHD12\", \"ETHC1\", \"ETHC2\", \"ETHC3\", \"ETHC4\", \"ETHC5\", \"ETHC6\", \"HVP1\", \"HVP2\", \"HVP3\", \"HVP4\", \"HVP5\", \"HVP6\", \"HUR1\", \"HUR2\", \"RHP1\", \"RHP2\", \"RHP3\", \"RHP4\", \"HUPA1\", \"HUPA2\", \"HUPA3\", \"HUPA4\", \"HUPA5\", \"HUPA6\", \"HUPA7\", \"RP1\", \"RP2\", \"RP3\", \"RP4\", \"MSA\", \"ADI\", \"DMA\", \"IC1\", \"IC2\", \"IC3\", \"IC4\", \"IC5\", \"IC6\", \"IC7\", \"IC8\", \"IC9\", \"IC10\", \"IC11\", \"IC12\", \"IC13\", \"IC14\", \"IC15\", \"IC16\", \"IC17\",\n",
    "             \"IC18\", \"IC19\", \"IC20\", \"IC21\", \"IC22\", \"IC23\", \"HHAS1\", \"HHAS2\", \"HHAS3\", \"HHAS4\", \"MC1\", \"MC2\", \"MC3\", \"TPE1\", \"TPE2\", \"TPE3\", \"TPE4\", \"TPE5\", \"TPE6\", \"TPE7\", \"TPE8\", \"TPE9\", \"PEC1\", \"PEC2\", \"TPE10\", \"TPE11\", \"TPE12\", \"TPE13\", \"LFC1\", \"LFC2\", \"LFC3\", \"LFC4\", \"LFC5\", \"LFC6\", \"LFC7\", \"LFC8\", \"LFC9\", \"LFC10\", \"OCC1\", \"OCC2\", \"OCC3\", \"OCC4\", \"OCC5\", \"OCC6\", \"OCC7\", \"OCC8\", \"OCC9\", \"OCC10\", \"OCC11\", \"OCC12\", \"OCC13\", \"EIC1\", \"EIC2\", \"EIC3\", \"EIC4\", \"EIC5\", \"EIC6\", \"EIC7\", \"EIC8\", \"EIC9\", \"EIC10\", \"EIC11\", \"EIC12\", \"EIC13\", \"EIC14\", \"EIC15\", \"EIC16\", \"OEDC1\", \"OEDC2\", \"OEDC3\", \"OEDC4\", \"OEDC5\", \"OEDC6\", \"OEDC7\", \"EC1\", \"EC2\", \"EC3\", \"EC4\", \"EC5\", \"EC6\", \"EC7\", \"EC8\", \"SEC1\", \"SEC2\", \"SEC3\", \"SEC4\", \"SEC5\", \"AFC1\", \"AFC2\", \"AFC3\", \"AFC4\", \"AFC5\", \"AFC6\", \"VC1\", \"VC2\", \"VC3\", \"VC4\", \"ANC1\", \"ANC2\", \"ANC3\", \"ANC4\", \"ANC5\", \"ANC6\", \"ANC7\", \"ANC8\", \"ANC9\", \"ANC10\", \"ANC11\", \"ANC12\", \"ANC13\", \"ANC14\", \"ANC15\", \"POBC1\", \"POBC2\", \"LSC1\", \"LSC2\", \"LSC3\", \"LSC4\", \"VOC1\", \"VOC2\", \"VOC3\", \"HC1\", \"HC2\", \"HC3\", \"HC4\", \"HC5\", \"HC6\", \"HC7\", \"HC8\", \"HC9\", \"HC10\", \"HC11\", \"HC12\", \"HC13\", \"HC14\", \"HC15\", \"HC16\", \"HC17\", \"HC18\", \"HC19\", \"HC20\", \"HC21\", \"MHUC1\", \"MHUC2\", \"AC1\", \"AC2\"]\n",
    "len(us_census)"
   ]
  },
  {
   "cell_type": "markdown",
   "metadata": {},
   "source": [
    "## Feature Selection\n",
    "Meant to reduce dimensionality by selecting only features that are 'interesting enough' to be considered in order to boost performance of calculations / improve accuracy of the estimator\n",
    "- By variance threshold\n",
    "- Recursive Feature Elimination by Cross-Validation\n",
    "- L1-based feature selection (Logistic Regression, Lasso, SVM)\n",
    "- Tree-based feature selection\n",
    "\n",
    "See [scikit-learn: feature selection](http://scikit-learn.org/stable/modules/feature_selection.html#feature-selection)"
   ]
  },
  {
   "cell_type": "markdown",
   "metadata": {},
   "source": [
    "### Removing constant features (zero variance)"
   ]
  },
  {
   "cell_type": "code",
   "execution_count": null,
   "metadata": {},
   "outputs": [],
   "source": [
    "for column in learning.columns:\n",
    "    if len(learning[column].unique()) == 1:\n",
    "        print(column)"
   ]
  },
  {
   "cell_type": "markdown",
   "metadata": {},
   "source": [
    "### Sparse Features"
   ]
  },
  {
   "cell_type": "code",
   "execution_count": null,
   "metadata": {},
   "outputs": [],
   "source": [
    "sparse_features = []\n",
    "for column in learning:\n",
    "    top_freq = learning[column].value_counts(normalize=True).iloc[0]\n",
    "    if top_freq > 0.995:\n",
    "        sparse_features.append(column)\n",
    "        print(column+\" has a top frequency of: \" + str(top_freq))\n",
    "        print(learning[column].value_counts(normalize=True))"
   ]
  },
  {
   "cell_type": "code",
   "execution_count": null,
   "metadata": {},
   "outputs": [],
   "source": [
    "sparse_features"
   ]
  },
  {
   "cell_type": "markdown",
   "metadata": {},
   "source": [
    "## Feature Extraction\n",
    "All explanatory fields have to be numerical for the subsequent operations with scikit-learn. Here, the necessary feature extractions are performed.\n",
    "\n",
    "See [scikit-learn: feature extraction](http://scikit-learn.org/stable/modules/feature_extraction.html)"
   ]
  },
  {
   "cell_type": "code",
   "execution_count": null,
   "metadata": {},
   "outputs": [],
   "source": [
    "import pandas as pd"
   ]
  },
  {
   "cell_type": "code",
   "execution_count": null,
   "metadata": {},
   "outputs": [],
   "source": [
    "symbolic_features = []\n",
    "symbolic_features.append(tds.SymbolicFeatureSpreader(\n",
    "    \"DOMAIN\", [\"U\", \"S\"]))  # Urbanicity, SocioEconomicStatus\n",
    "# RFA_2 is already spread out\n",
    "for i in range(3, 25):\n",
    "    feature = \"_\".join([\"RFA\", str(i)])\n",
    "    symbolic_features.append(tds.SymbolicFeatureSpreader(\n",
    "        feature, [\"R\", \"F\", \"A\"]))  # Recency, Frequency, Amount\n",
    "\n",
    "spread_multibyte = pd.DataFrame(index=learning_raw.index)\n",
    "for f in symbolic_features:\n",
    "    f.set_tidy_dataset_ref(learning_raw)\n",
    "    spread_multibyte = pd.concat(\n",
    "        [spread_multibyte, f.spread(inplace=False)], axis=1)"
   ]
  },
  {
   "cell_type": "code",
   "execution_count": null,
   "metadata": {
    "scrolled": true
   },
   "outputs": [],
   "source": [
    "spread_multibyte.info()"
   ]
  },
  {
   "cell_type": "markdown",
   "metadata": {},
   "source": [
    "# PCA\n",
    "\n",
    "A first look at important features"
   ]
  },
  {
   "cell_type": "code",
   "execution_count": null,
   "metadata": {},
   "outputs": [],
   "source": [
    "from sklearn import decomposition"
   ]
  },
  {
   "cell_type": "code",
   "execution_count": null,
   "metadata": {},
   "outputs": [],
   "source": [
    "X = learning.drop([\"TARGET_B\", \"TARGET_D\"], axis=1)"
   ]
  },
  {
   "cell_type": "code",
   "execution_count": null,
   "metadata": {},
   "outputs": [],
   "source": [
    "n_comp = 3\n",
    "pca = decomposition.PCA(n_components=n_comp)\n",
    "pca.fit(X)\n",
    "result = pd.DataFrame(pca.transform(X), columns=[\n",
    "                      \"PCA%i\" % i for i in range(n_comp)], index=X.index)"
   ]
  },
  {
   "cell_type": "code",
   "execution_count": null,
   "metadata": {
    "scrolled": false
   },
   "outputs": [],
   "source": [
    "import cProfile\n",
    "domain_spreader = tds.SymbolicFieldToDummies(\n",
    "    learning, \"RFA_24\", [\"Recency\", \"Frequency\", \"Amount\"])\n",
    "cProfile.run('domain_spreader.spread()', sort='time')"
   ]
  },
  {
   "cell_type": "code",
   "execution_count": null,
   "metadata": {},
   "outputs": [],
   "source": [
    "learning.head()"
   ]
  },
  {
   "cell_type": "code",
   "execution_count": null,
   "metadata": {},
   "outputs": [],
   "source": [
    "import os\n",
    "import numpy as np\n",
    "import sys\n",
    "os.getcwd()\n",
    "proj_dir = os.path.split(os.getcwd())[0]\n",
    "if proj_dir not in sys.path:\n",
    "    sys.path.append(proj_dir)"
   ]
  },
  {
   "cell_type": "code",
   "execution_count": null,
   "metadata": {},
   "outputs": [],
   "source": [
    "import eda.tidy_dataset as tds\n",
    "tidy = tds.TidyDataset(\"cup98LRN.txt\")"
   ]
  },
  {
   "cell_type": "code",
   "execution_count": null,
   "metadata": {},
   "outputs": [],
   "source": [
    "raw = tidy.get_raw_data()"
   ]
  },
  {
   "cell_type": "code",
   "execution_count": null,
   "metadata": {},
   "outputs": [],
   "source": [
    "spreader = tds.SymbolicFieldToDummies(\n",
    "    raw, \"RFA_24\", [\"Recency\", \"Frequency\", \"Amount\"])\n",
    "spreader.spread()"
   ]
  },
  {
   "cell_type": "code",
   "execution_count": null,
   "metadata": {},
   "outputs": [],
   "source": []
  }
 ],
 "metadata": {
  "kernelspec": {
   "display_name": "Python 3",
   "language": "python",
   "name": "python3"
  },
  "language_info": {
   "codemirror_mode": {
    "name": "ipython",
    "version": 3
   },
   "file_extension": ".py",
   "mimetype": "text/x-python",
   "name": "python",
   "nbconvert_exporter": "python",
   "pygments_lexer": "ipython3",
   "version": "3.6.6"
  }
 },
 "nbformat": 4,
 "nbformat_minor": 2
}
