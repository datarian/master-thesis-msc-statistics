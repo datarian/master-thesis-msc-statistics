{
 "cells": [
  {
   "cell_type": "markdown",
   "metadata": {},
   "source": [
    "# Exploratory Data Analysis\n",
    "This notebook contains all code for the prelimiatory analysis of the KDD Cup 98 datasets"
   ]
  },
  {
   "cell_type": "code",
   "execution_count": 6,
   "metadata": {},
   "outputs": [],
   "source": [
    "%load_ext autoreload"
   ]
  },
  {
   "cell_type": "code",
   "execution_count": 7,
   "metadata": {},
   "outputs": [],
   "source": [
    "import os\n",
    "import numpy as np\n",
    "import pandas as pd\n",
    "import seaborn as sns\n",
    "import matplotlib as mpl\n",
    "import matplotlib.pyplot as plt\n",
    "from scipy import stats\n",
    "\n",
    "os.chdir(\"../\")\n",
    "import util.data_loader as dl\n",
    "%matplotlib inline"
   ]
  },
  {
   "cell_type": "code",
   "execution_count": 8,
   "metadata": {},
   "outputs": [],
   "source": [
    "# seaborn config\n",
    "sns.set(color_codes=True)\n",
    "sns.set_style('ticks')\n",
    "plt.rcParams['figure.figsize'] = [40, 40]"
   ]
  },
  {
   "cell_type": "markdown",
   "metadata": {},
   "source": [
    "## Loading the learning dataset\n"
   ]
  },
  {
   "cell_type": "markdown",
   "metadata": {},
   "source": [
    "Set working directory to main code folder"
   ]
  },
  {
   "cell_type": "code",
   "execution_count": 11,
   "metadata": {},
   "outputs": [],
   "source": [
    "%autoreload 2 # automatically reloads modules\n",
    "lrn = dl.KDD98DataLoader(\"cup98LRN.txt\")\n",
    "learning_raw = lrn.get_dataset()"
   ]
  },
  {
   "cell_type": "markdown",
   "metadata": {},
   "source": [
    "## Overview"
   ]
  },
  {
   "cell_type": "markdown",
   "metadata": {},
   "source": [
    "A first, general look at the data structure:"
   ]
  },
  {
   "cell_type": "code",
   "execution_count": 12,
   "metadata": {},
   "outputs": [
    {
     "name": "stdout",
     "output_type": "stream",
     "text": [
      "<class 'pandas.core.frame.DataFrame'>\n",
      "Int64Index: 95412 entries, 95515 to 185114\n",
      "Columns: 480 entries, ODATEDW to GEOCODE2\n",
      "dtypes: category(23), float64(96), int64(306), object(55)\n",
      "memory usage: 335.6+ MB\n"
     ]
    }
   ],
   "source": [
    "learning_raw.info()"
   ]
  },
  {
   "cell_type": "markdown",
   "metadata": {},
   "source": [
    "### Numerical Features"
   ]
  },
  {
   "cell_type": "code",
   "execution_count": 15,
   "metadata": {
    "scrolled": false
   },
   "outputs": [
    {
     "name": "stdout",
     "output_type": "stream",
     "text": [
      "Index(['ODATEDW', 'DOB', 'AGE', 'NUMCHLD', 'INCOME', 'WEALTH1', 'HIT',\n",
      "       'MBCRAFT', 'MBGARDEN', 'MBBOOKS',\n",
      "       ...\n",
      "       'MAXRDATE', 'LASTGIFT', 'LASTDATE', 'FISTDATE', 'NEXTDATE', 'TIMELAG',\n",
      "       'AVGGIFT', 'TARGET_D', 'RFA_2F', 'CLUSTER2'],\n",
      "      dtype='object', length=402)\n"
     ]
    }
   ],
   "source": [
    "numerical = learning_raw.select_dtypes(include=['float64', 'int64']).columns\n",
    "print(numerical)"
   ]
  },
  {
   "cell_type": "markdown",
   "metadata": {},
   "source": [
    "### Categorical Features\n",
    "\n",
    "Categories were defined on import of the csv data. The categories were identified in the dataset dictionary."
   ]
  },
  {
   "cell_type": "code",
   "execution_count": 13,
   "metadata": {
    "scrolled": true
   },
   "outputs": [
    {
     "name": "stdout",
     "output_type": "stream",
     "text": [
      "Index(['OSOURCE', 'TCODE', 'STATE', 'PVASTATE', 'CLUSTER', 'CHILD03',\n",
      "       'CHILD07', 'CHILD12', 'CHILD18', 'GENDER', 'DATASRCE', 'SOLP3', 'SOLIH',\n",
      "       'WEALTH2', 'GEOCODE', 'LIFESRC', 'TARGET_B', 'RFA_2R', 'RFA_2A',\n",
      "       'MDMAUD_R', 'MDMAUD_F', 'MDMAUD_A', 'GEOCODE2'],\n",
      "      dtype='object')\n"
     ]
    }
   ],
   "source": [
    "categories = learning_raw.select_dtypes(include='category').columns\n",
    "print(categories)"
   ]
  },
  {
   "cell_type": "code",
   "execution_count": 14,
   "metadata": {},
   "outputs": [
    {
     "data": {
      "text/html": [
       "<div>\n",
       "<style scoped>\n",
       "    .dataframe tbody tr th:only-of-type {\n",
       "        vertical-align: middle;\n",
       "    }\n",
       "\n",
       "    .dataframe tbody tr th {\n",
       "        vertical-align: top;\n",
       "    }\n",
       "\n",
       "    .dataframe thead th {\n",
       "        text-align: right;\n",
       "    }\n",
       "</style>\n",
       "<table border=\"1\" class=\"dataframe\">\n",
       "  <thead>\n",
       "    <tr style=\"text-align: right;\">\n",
       "      <th></th>\n",
       "      <th>OSOURCE</th>\n",
       "      <th>TCODE</th>\n",
       "      <th>STATE</th>\n",
       "      <th>PVASTATE</th>\n",
       "      <th>CLUSTER</th>\n",
       "      <th>CHILD03</th>\n",
       "      <th>CHILD07</th>\n",
       "      <th>CHILD12</th>\n",
       "      <th>CHILD18</th>\n",
       "      <th>GENDER</th>\n",
       "      <th>...</th>\n",
       "      <th>WEALTH2</th>\n",
       "      <th>GEOCODE</th>\n",
       "      <th>LIFESRC</th>\n",
       "      <th>TARGET_B</th>\n",
       "      <th>RFA_2R</th>\n",
       "      <th>RFA_2A</th>\n",
       "      <th>MDMAUD_R</th>\n",
       "      <th>MDMAUD_F</th>\n",
       "      <th>MDMAUD_A</th>\n",
       "      <th>GEOCODE2</th>\n",
       "    </tr>\n",
       "  </thead>\n",
       "  <tbody>\n",
       "    <tr>\n",
       "      <th>count</th>\n",
       "      <td>95412</td>\n",
       "      <td>95412</td>\n",
       "      <td>95412</td>\n",
       "      <td>95412</td>\n",
       "      <td>95412</td>\n",
       "      <td>95412</td>\n",
       "      <td>95412</td>\n",
       "      <td>95412</td>\n",
       "      <td>95412</td>\n",
       "      <td>95412</td>\n",
       "      <td>...</td>\n",
       "      <td>51589</td>\n",
       "      <td>95412</td>\n",
       "      <td>95412</td>\n",
       "      <td>95412</td>\n",
       "      <td>95412</td>\n",
       "      <td>95412</td>\n",
       "      <td>95412</td>\n",
       "      <td>95412</td>\n",
       "      <td>95412</td>\n",
       "      <td>95280</td>\n",
       "    </tr>\n",
       "    <tr>\n",
       "      <th>unique</th>\n",
       "      <td>896</td>\n",
       "      <td>55</td>\n",
       "      <td>57</td>\n",
       "      <td>3</td>\n",
       "      <td>54</td>\n",
       "      <td>4</td>\n",
       "      <td>4</td>\n",
       "      <td>4</td>\n",
       "      <td>4</td>\n",
       "      <td>7</td>\n",
       "      <td>...</td>\n",
       "      <td>10</td>\n",
       "      <td>8</td>\n",
       "      <td>4</td>\n",
       "      <td>2</td>\n",
       "      <td>1</td>\n",
       "      <td>4</td>\n",
       "      <td>5</td>\n",
       "      <td>4</td>\n",
       "      <td>5</td>\n",
       "      <td>5</td>\n",
       "    </tr>\n",
       "    <tr>\n",
       "      <th>top</th>\n",
       "      <td>MBC</td>\n",
       "      <td>0</td>\n",
       "      <td>CA</td>\n",
       "      <td></td>\n",
       "      <td>40</td>\n",
       "      <td></td>\n",
       "      <td></td>\n",
       "      <td></td>\n",
       "      <td></td>\n",
       "      <td>F</td>\n",
       "      <td>...</td>\n",
       "      <td>9</td>\n",
       "      <td></td>\n",
       "      <td></td>\n",
       "      <td>0</td>\n",
       "      <td>L</td>\n",
       "      <td>F</td>\n",
       "      <td>X</td>\n",
       "      <td>X</td>\n",
       "      <td>X</td>\n",
       "      <td>A</td>\n",
       "    </tr>\n",
       "    <tr>\n",
       "      <th>freq</th>\n",
       "      <td>4539</td>\n",
       "      <td>40917</td>\n",
       "      <td>17343</td>\n",
       "      <td>93954</td>\n",
       "      <td>3979</td>\n",
       "      <td>94266</td>\n",
       "      <td>93846</td>\n",
       "      <td>93601</td>\n",
       "      <td>92565</td>\n",
       "      <td>51277</td>\n",
       "      <td>...</td>\n",
       "      <td>6523</td>\n",
       "      <td>80168</td>\n",
       "      <td>54032</td>\n",
       "      <td>90569</td>\n",
       "      <td>95412</td>\n",
       "      <td>46964</td>\n",
       "      <td>95118</td>\n",
       "      <td>95118</td>\n",
       "      <td>95118</td>\n",
       "      <td>34484</td>\n",
       "    </tr>\n",
       "  </tbody>\n",
       "</table>\n",
       "<p>4 rows × 23 columns</p>\n",
       "</div>"
      ],
      "text/plain": [
       "       OSOURCE  TCODE  STATE PVASTATE CLUSTER CHILD03 CHILD07 CHILD12 CHILD18  \\\n",
       "count    95412  95412  95412    95412   95412   95412   95412   95412   95412   \n",
       "unique     896     55     57        3      54       4       4       4       4   \n",
       "top        MBC      0     CA               40                                   \n",
       "freq      4539  40917  17343    93954    3979   94266   93846   93601   92565   \n",
       "\n",
       "       GENDER   ...    WEALTH2 GEOCODE LIFESRC TARGET_B RFA_2R RFA_2A  \\\n",
       "count   95412   ...      51589   95412   95412    95412  95412  95412   \n",
       "unique      7   ...         10       8       4        2      1      4   \n",
       "top         F   ...          9                        0      L      F   \n",
       "freq    51277   ...       6523   80168   54032    90569  95412  46964   \n",
       "\n",
       "       MDMAUD_R MDMAUD_F MDMAUD_A GEOCODE2  \n",
       "count     95412    95412    95412    95280  \n",
       "unique        5        4        5        5  \n",
       "top           X        X        X        A  \n",
       "freq      95118    95118    95118    34484  \n",
       "\n",
       "[4 rows x 23 columns]"
      ]
     },
     "execution_count": 14,
     "metadata": {},
     "output_type": "execute_result"
    }
   ],
   "source": [
    "learning_raw.loc[:,categories].describe()"
   ]
  },
  {
   "cell_type": "markdown",
   "metadata": {},
   "source": [
    "### Object Features\n",
    "\n",
    "These features have mixed datatypes. This hints at noisy data and features that will have to be transformed before becoming usable."
   ]
  },
  {
   "cell_type": "code",
   "execution_count": 16,
   "metadata": {},
   "outputs": [
    {
     "name": "stdout",
     "output_type": "stream",
     "text": [
      "Index(['ZIP', 'MAILCODE', 'NOEXCH', 'RECINHSE', 'RECP3', 'RECPGVG', 'RECSWEEP',\n",
      "       'MDMAUD', 'DOMAIN', 'AGEFLAG', 'HOMEOWNR', 'MAJOR', 'COLLECT1',\n",
      "       'VETERANS', 'BIBLE', 'CATLG', 'HOMEE', 'PETS', 'CDPLAY', 'STEREO',\n",
      "       'PCOWNERS', 'PHOTO', 'CRAFTS', 'FISHER', 'GARDENIN', 'BOATS', 'WALKER',\n",
      "       'KIDSTUFF', 'CARDS', 'PLATES', 'PEPSTRFL', 'RFA_2', 'RFA_3', 'RFA_4',\n",
      "       'RFA_5', 'RFA_6', 'RFA_7', 'RFA_8', 'RFA_9', 'RFA_10', 'RFA_11',\n",
      "       'RFA_12', 'RFA_13', 'RFA_14', 'RFA_15', 'RFA_16', 'RFA_17', 'RFA_18',\n",
      "       'RFA_19', 'RFA_20', 'RFA_21', 'RFA_22', 'RFA_23', 'RFA_24', 'HPHONE_D'],\n",
      "      dtype='object')\n"
     ]
    }
   ],
   "source": [
    "objects = learning_raw.select_dtypes(include='object').columns\n",
    "print(objects)"
   ]
  },
  {
   "cell_type": "code",
   "execution_count": 17,
   "metadata": {},
   "outputs": [
    {
     "data": {
      "text/html": [
       "<div>\n",
       "<style scoped>\n",
       "    .dataframe tbody tr th:only-of-type {\n",
       "        vertical-align: middle;\n",
       "    }\n",
       "\n",
       "    .dataframe tbody tr th {\n",
       "        vertical-align: top;\n",
       "    }\n",
       "\n",
       "    .dataframe thead th {\n",
       "        text-align: right;\n",
       "    }\n",
       "</style>\n",
       "<table border=\"1\" class=\"dataframe\">\n",
       "  <thead>\n",
       "    <tr style=\"text-align: right;\">\n",
       "      <th></th>\n",
       "      <th>ZIP</th>\n",
       "      <th>MAILCODE</th>\n",
       "      <th>NOEXCH</th>\n",
       "      <th>RECINHSE</th>\n",
       "      <th>RECP3</th>\n",
       "      <th>RECPGVG</th>\n",
       "      <th>RECSWEEP</th>\n",
       "      <th>MDMAUD</th>\n",
       "      <th>DOMAIN</th>\n",
       "      <th>AGEFLAG</th>\n",
       "      <th>...</th>\n",
       "      <th>RFA_16</th>\n",
       "      <th>RFA_17</th>\n",
       "      <th>RFA_18</th>\n",
       "      <th>RFA_19</th>\n",
       "      <th>RFA_20</th>\n",
       "      <th>RFA_21</th>\n",
       "      <th>RFA_22</th>\n",
       "      <th>RFA_23</th>\n",
       "      <th>RFA_24</th>\n",
       "      <th>HPHONE_D</th>\n",
       "    </tr>\n",
       "  </thead>\n",
       "  <tbody>\n",
       "    <tr>\n",
       "      <th>count</th>\n",
       "      <td>95412</td>\n",
       "      <td>95412</td>\n",
       "      <td>95412</td>\n",
       "      <td>95412</td>\n",
       "      <td>95412</td>\n",
       "      <td>95412</td>\n",
       "      <td>95412</td>\n",
       "      <td>95412</td>\n",
       "      <td>95412</td>\n",
       "      <td>95412</td>\n",
       "      <td>...</td>\n",
       "      <td>95412</td>\n",
       "      <td>95412</td>\n",
       "      <td>95412</td>\n",
       "      <td>95412</td>\n",
       "      <td>95412</td>\n",
       "      <td>95412</td>\n",
       "      <td>95412</td>\n",
       "      <td>95412</td>\n",
       "      <td>95412</td>\n",
       "      <td>95412</td>\n",
       "    </tr>\n",
       "    <tr>\n",
       "      <th>unique</th>\n",
       "      <td>19938</td>\n",
       "      <td>2</td>\n",
       "      <td>4</td>\n",
       "      <td>2</td>\n",
       "      <td>2</td>\n",
       "      <td>2</td>\n",
       "      <td>2</td>\n",
       "      <td>28</td>\n",
       "      <td>17</td>\n",
       "      <td>3</td>\n",
       "      <td>...</td>\n",
       "      <td>123</td>\n",
       "      <td>118</td>\n",
       "      <td>122</td>\n",
       "      <td>108</td>\n",
       "      <td>80</td>\n",
       "      <td>102</td>\n",
       "      <td>117</td>\n",
       "      <td>87</td>\n",
       "      <td>97</td>\n",
       "      <td>2</td>\n",
       "    </tr>\n",
       "    <tr>\n",
       "      <th>top</th>\n",
       "      <td>85351</td>\n",
       "      <td></td>\n",
       "      <td>0</td>\n",
       "      <td></td>\n",
       "      <td></td>\n",
       "      <td></td>\n",
       "      <td></td>\n",
       "      <td>XXXX</td>\n",
       "      <td>R2</td>\n",
       "      <td>E</td>\n",
       "      <td>...</td>\n",
       "      <td></td>\n",
       "      <td></td>\n",
       "      <td></td>\n",
       "      <td></td>\n",
       "      <td></td>\n",
       "      <td></td>\n",
       "      <td></td>\n",
       "      <td></td>\n",
       "      <td></td>\n",
       "      <td>1</td>\n",
       "    </tr>\n",
       "    <tr>\n",
       "      <th>freq</th>\n",
       "      <td>61</td>\n",
       "      <td>94013</td>\n",
       "      <td>95085</td>\n",
       "      <td>88709</td>\n",
       "      <td>93395</td>\n",
       "      <td>95298</td>\n",
       "      <td>93795</td>\n",
       "      <td>95118</td>\n",
       "      <td>13623</td>\n",
       "      <td>57344</td>\n",
       "      <td>...</td>\n",
       "      <td>20417</td>\n",
       "      <td>27650</td>\n",
       "      <td>21263</td>\n",
       "      <td>24492</td>\n",
       "      <td>50200</td>\n",
       "      <td>35212</td>\n",
       "      <td>25648</td>\n",
       "      <td>56274</td>\n",
       "      <td>36973</td>\n",
       "      <td>47765</td>\n",
       "    </tr>\n",
       "  </tbody>\n",
       "</table>\n",
       "<p>4 rows × 55 columns</p>\n",
       "</div>"
      ],
      "text/plain": [
       "          ZIP MAILCODE NOEXCH RECINHSE  RECP3 RECPGVG RECSWEEP MDMAUD DOMAIN  \\\n",
       "count   95412    95412  95412    95412  95412   95412    95412  95412  95412   \n",
       "unique  19938        2      4        2      2       2        2     28     17   \n",
       "top     85351               0                                    XXXX     R2   \n",
       "freq       61    94013  95085    88709  93395   95298    93795  95118  13623   \n",
       "\n",
       "       AGEFLAG   ...    RFA_16 RFA_17 RFA_18 RFA_19 RFA_20 RFA_21 RFA_22  \\\n",
       "count    95412   ...     95412  95412  95412  95412  95412  95412  95412   \n",
       "unique       3   ...       123    118    122    108     80    102    117   \n",
       "top          E   ...                                                       \n",
       "freq     57344   ...     20417  27650  21263  24492  50200  35212  25648   \n",
       "\n",
       "       RFA_23 RFA_24 HPHONE_D  \n",
       "count   95412  95412    95412  \n",
       "unique     87     97        2  \n",
       "top                         1  \n",
       "freq    56274  36973    47765  \n",
       "\n",
       "[4 rows x 55 columns]"
      ]
     },
     "execution_count": 17,
     "metadata": {},
     "output_type": "execute_result"
    }
   ],
   "source": [
    "learning_raw.loc[:,objects].describe()"
   ]
  },
  {
   "cell_type": "markdown",
   "metadata": {},
   "source": [
    "### Date features\n",
    "These are imported as floats and will have to be transformed later on to become useful."
   ]
  },
  {
   "cell_type": "code",
   "execution_count": 18,
   "metadata": {},
   "outputs": [
    {
     "data": {
      "text/html": [
       "<div>\n",
       "<style scoped>\n",
       "    .dataframe tbody tr th:only-of-type {\n",
       "        vertical-align: middle;\n",
       "    }\n",
       "\n",
       "    .dataframe tbody tr th {\n",
       "        vertical-align: top;\n",
       "    }\n",
       "\n",
       "    .dataframe thead th {\n",
       "        text-align: right;\n",
       "    }\n",
       "</style>\n",
       "<table border=\"1\" class=\"dataframe\">\n",
       "  <thead>\n",
       "    <tr style=\"text-align: right;\">\n",
       "      <th></th>\n",
       "      <th>ODATEDW</th>\n",
       "      <th>DOB</th>\n",
       "      <th>ADATE_2</th>\n",
       "      <th>ADATE_3</th>\n",
       "      <th>ADATE_4</th>\n",
       "      <th>ADATE_5</th>\n",
       "      <th>ADATE_6</th>\n",
       "      <th>ADATE_7</th>\n",
       "      <th>ADATE_8</th>\n",
       "      <th>ADATE_9</th>\n",
       "      <th>...</th>\n",
       "      <th>ADATE_15</th>\n",
       "      <th>ADATE_16</th>\n",
       "      <th>ADATE_17</th>\n",
       "      <th>ADATE_18</th>\n",
       "      <th>ADATE_19</th>\n",
       "      <th>ADATE_20</th>\n",
       "      <th>ADATE_21</th>\n",
       "      <th>ADATE_22</th>\n",
       "      <th>ADATE_23</th>\n",
       "      <th>ADATE_24</th>\n",
       "    </tr>\n",
       "  </thead>\n",
       "  <tbody>\n",
       "    <tr>\n",
       "      <th>count</th>\n",
       "      <td>95412.000000</td>\n",
       "      <td>95412.000000</td>\n",
       "      <td>95412.000000</td>\n",
       "      <td>93462.000000</td>\n",
       "      <td>93221.000000</td>\n",
       "      <td>61822.0</td>\n",
       "      <td>91855.000000</td>\n",
       "      <td>86538.000000</td>\n",
       "      <td>91901.000000</td>\n",
       "      <td>84167.000000</td>\n",
       "      <td>...</td>\n",
       "      <td>29935.0</td>\n",
       "      <td>75048.000000</td>\n",
       "      <td>67762.000000</td>\n",
       "      <td>74149.000000</td>\n",
       "      <td>70932.000000</td>\n",
       "      <td>45212.000000</td>\n",
       "      <td>60200.000000</td>\n",
       "      <td>69764.000000</td>\n",
       "      <td>39142.000000</td>\n",
       "      <td>58439.000000</td>\n",
       "    </tr>\n",
       "    <tr>\n",
       "      <th>mean</th>\n",
       "      <td>9141.363256</td>\n",
       "      <td>2723.602933</td>\n",
       "      <td>9705.999727</td>\n",
       "      <td>9605.999615</td>\n",
       "      <td>9604.015383</td>\n",
       "      <td>9604.0</td>\n",
       "      <td>9602.998890</td>\n",
       "      <td>9601.818507</td>\n",
       "      <td>9594.791384</td>\n",
       "      <td>9510.927074</td>\n",
       "      <td>...</td>\n",
       "      <td>9504.0</td>\n",
       "      <td>9503.018362</td>\n",
       "      <td>9501.920339</td>\n",
       "      <td>9464.210805</td>\n",
       "      <td>9410.955253</td>\n",
       "      <td>9411.000310</td>\n",
       "      <td>9409.927990</td>\n",
       "      <td>9410.041956</td>\n",
       "      <td>9406.940397</td>\n",
       "      <td>9405.995243</td>\n",
       "    </tr>\n",
       "    <tr>\n",
       "      <th>std</th>\n",
       "      <td>343.454752</td>\n",
       "      <td>2132.241295</td>\n",
       "      <td>0.023344</td>\n",
       "      <td>0.027753</td>\n",
       "      <td>0.955062</td>\n",
       "      <td>0.0</td>\n",
       "      <td>0.047114</td>\n",
       "      <td>3.354988</td>\n",
       "      <td>22.674375</td>\n",
       "      <td>0.362638</td>\n",
       "      <td>...</td>\n",
       "      <td>0.0</td>\n",
       "      <td>0.146045</td>\n",
       "      <td>0.271803</td>\n",
       "      <td>43.832112</td>\n",
       "      <td>0.293832</td>\n",
       "      <td>0.017594</td>\n",
       "      <td>0.258507</td>\n",
       "      <td>10.344987</td>\n",
       "      <td>2.252852</td>\n",
       "      <td>0.068808</td>\n",
       "    </tr>\n",
       "    <tr>\n",
       "      <th>min</th>\n",
       "      <td>8306.000000</td>\n",
       "      <td>0.000000</td>\n",
       "      <td>9704.000000</td>\n",
       "      <td>9604.000000</td>\n",
       "      <td>9511.000000</td>\n",
       "      <td>9604.0</td>\n",
       "      <td>9601.000000</td>\n",
       "      <td>9512.000000</td>\n",
       "      <td>9511.000000</td>\n",
       "      <td>9509.000000</td>\n",
       "      <td>...</td>\n",
       "      <td>9504.0</td>\n",
       "      <td>9502.000000</td>\n",
       "      <td>9501.000000</td>\n",
       "      <td>9409.000000</td>\n",
       "      <td>9409.000000</td>\n",
       "      <td>9411.000000</td>\n",
       "      <td>9409.000000</td>\n",
       "      <td>9408.000000</td>\n",
       "      <td>9312.000000</td>\n",
       "      <td>9405.000000</td>\n",
       "    </tr>\n",
       "    <tr>\n",
       "      <th>25%</th>\n",
       "      <td>8801.000000</td>\n",
       "      <td>201.000000</td>\n",
       "      <td>9706.000000</td>\n",
       "      <td>9606.000000</td>\n",
       "      <td>9604.000000</td>\n",
       "      <td>9604.0</td>\n",
       "      <td>9603.000000</td>\n",
       "      <td>9602.000000</td>\n",
       "      <td>9601.000000</td>\n",
       "      <td>9511.000000</td>\n",
       "      <td>...</td>\n",
       "      <td>9504.0</td>\n",
       "      <td>9503.000000</td>\n",
       "      <td>9502.000000</td>\n",
       "      <td>9412.000000</td>\n",
       "      <td>9411.000000</td>\n",
       "      <td>9411.000000</td>\n",
       "      <td>9410.000000</td>\n",
       "      <td>9409.000000</td>\n",
       "      <td>9407.000000</td>\n",
       "      <td>9406.000000</td>\n",
       "    </tr>\n",
       "    <tr>\n",
       "      <th>50%</th>\n",
       "      <td>9201.000000</td>\n",
       "      <td>2610.000000</td>\n",
       "      <td>9706.000000</td>\n",
       "      <td>9606.000000</td>\n",
       "      <td>9604.000000</td>\n",
       "      <td>9604.0</td>\n",
       "      <td>9603.000000</td>\n",
       "      <td>9602.000000</td>\n",
       "      <td>9601.000000</td>\n",
       "      <td>9511.000000</td>\n",
       "      <td>...</td>\n",
       "      <td>9504.0</td>\n",
       "      <td>9503.000000</td>\n",
       "      <td>9502.000000</td>\n",
       "      <td>9501.000000</td>\n",
       "      <td>9411.000000</td>\n",
       "      <td>9411.000000</td>\n",
       "      <td>9410.000000</td>\n",
       "      <td>9409.000000</td>\n",
       "      <td>9407.000000</td>\n",
       "      <td>9406.000000</td>\n",
       "    </tr>\n",
       "    <tr>\n",
       "      <th>75%</th>\n",
       "      <td>9501.000000</td>\n",
       "      <td>4601.000000</td>\n",
       "      <td>9706.000000</td>\n",
       "      <td>9606.000000</td>\n",
       "      <td>9604.000000</td>\n",
       "      <td>9604.0</td>\n",
       "      <td>9603.000000</td>\n",
       "      <td>9602.000000</td>\n",
       "      <td>9601.000000</td>\n",
       "      <td>9511.000000</td>\n",
       "      <td>...</td>\n",
       "      <td>9504.0</td>\n",
       "      <td>9503.000000</td>\n",
       "      <td>9502.000000</td>\n",
       "      <td>9501.000000</td>\n",
       "      <td>9411.000000</td>\n",
       "      <td>9411.000000</td>\n",
       "      <td>9410.000000</td>\n",
       "      <td>9409.000000</td>\n",
       "      <td>9407.000000</td>\n",
       "      <td>9406.000000</td>\n",
       "    </tr>\n",
       "    <tr>\n",
       "      <th>max</th>\n",
       "      <td>9701.000000</td>\n",
       "      <td>9710.000000</td>\n",
       "      <td>9706.000000</td>\n",
       "      <td>9606.000000</td>\n",
       "      <td>9609.000000</td>\n",
       "      <td>9604.0</td>\n",
       "      <td>9603.000000</td>\n",
       "      <td>9602.000000</td>\n",
       "      <td>9605.000000</td>\n",
       "      <td>9511.000000</td>\n",
       "      <td>...</td>\n",
       "      <td>9504.0</td>\n",
       "      <td>9504.000000</td>\n",
       "      <td>9503.000000</td>\n",
       "      <td>9508.000000</td>\n",
       "      <td>9411.000000</td>\n",
       "      <td>9412.000000</td>\n",
       "      <td>9410.000000</td>\n",
       "      <td>9506.000000</td>\n",
       "      <td>9407.000000</td>\n",
       "      <td>9406.000000</td>\n",
       "    </tr>\n",
       "  </tbody>\n",
       "</table>\n",
       "<p>8 rows × 25 columns</p>\n",
       "</div>"
      ],
      "text/plain": [
       "            ODATEDW           DOB       ADATE_2       ADATE_3       ADATE_4  \\\n",
       "count  95412.000000  95412.000000  95412.000000  93462.000000  93221.000000   \n",
       "mean    9141.363256   2723.602933   9705.999727   9605.999615   9604.015383   \n",
       "std      343.454752   2132.241295      0.023344      0.027753      0.955062   \n",
       "min     8306.000000      0.000000   9704.000000   9604.000000   9511.000000   \n",
       "25%     8801.000000    201.000000   9706.000000   9606.000000   9604.000000   \n",
       "50%     9201.000000   2610.000000   9706.000000   9606.000000   9604.000000   \n",
       "75%     9501.000000   4601.000000   9706.000000   9606.000000   9604.000000   \n",
       "max     9701.000000   9710.000000   9706.000000   9606.000000   9609.000000   \n",
       "\n",
       "       ADATE_5       ADATE_6       ADATE_7       ADATE_8       ADATE_9  \\\n",
       "count  61822.0  91855.000000  86538.000000  91901.000000  84167.000000   \n",
       "mean    9604.0   9602.998890   9601.818507   9594.791384   9510.927074   \n",
       "std        0.0      0.047114      3.354988     22.674375      0.362638   \n",
       "min     9604.0   9601.000000   9512.000000   9511.000000   9509.000000   \n",
       "25%     9604.0   9603.000000   9602.000000   9601.000000   9511.000000   \n",
       "50%     9604.0   9603.000000   9602.000000   9601.000000   9511.000000   \n",
       "75%     9604.0   9603.000000   9602.000000   9601.000000   9511.000000   \n",
       "max     9604.0   9603.000000   9602.000000   9605.000000   9511.000000   \n",
       "\n",
       "           ...       ADATE_15      ADATE_16      ADATE_17      ADATE_18  \\\n",
       "count      ...        29935.0  75048.000000  67762.000000  74149.000000   \n",
       "mean       ...         9504.0   9503.018362   9501.920339   9464.210805   \n",
       "std        ...            0.0      0.146045      0.271803     43.832112   \n",
       "min        ...         9504.0   9502.000000   9501.000000   9409.000000   \n",
       "25%        ...         9504.0   9503.000000   9502.000000   9412.000000   \n",
       "50%        ...         9504.0   9503.000000   9502.000000   9501.000000   \n",
       "75%        ...         9504.0   9503.000000   9502.000000   9501.000000   \n",
       "max        ...         9504.0   9504.000000   9503.000000   9508.000000   \n",
       "\n",
       "           ADATE_19      ADATE_20      ADATE_21      ADATE_22      ADATE_23  \\\n",
       "count  70932.000000  45212.000000  60200.000000  69764.000000  39142.000000   \n",
       "mean    9410.955253   9411.000310   9409.927990   9410.041956   9406.940397   \n",
       "std        0.293832      0.017594      0.258507     10.344987      2.252852   \n",
       "min     9409.000000   9411.000000   9409.000000   9408.000000   9312.000000   \n",
       "25%     9411.000000   9411.000000   9410.000000   9409.000000   9407.000000   \n",
       "50%     9411.000000   9411.000000   9410.000000   9409.000000   9407.000000   \n",
       "75%     9411.000000   9411.000000   9410.000000   9409.000000   9407.000000   \n",
       "max     9411.000000   9412.000000   9410.000000   9506.000000   9407.000000   \n",
       "\n",
       "           ADATE_24  \n",
       "count  58439.000000  \n",
       "mean    9405.995243  \n",
       "std        0.068808  \n",
       "min     9405.000000  \n",
       "25%     9406.000000  \n",
       "50%     9406.000000  \n",
       "75%     9406.000000  \n",
       "max     9406.000000  \n",
       "\n",
       "[8 rows x 25 columns]"
      ]
     },
     "execution_count": 18,
     "metadata": {},
     "output_type": "execute_result"
    }
   ],
   "source": [
    "dates = learning_raw.loc[:,dl.date_features]\n",
    "dates.describe()"
   ]
  },
  {
   "cell_type": "code",
   "execution_count": null,
   "metadata": {},
   "outputs": [],
   "source": [
    "learning.select_dtypes(include= np.number).hist(bins=50, figsize=(200,200))\n",
    "plt.show()"
   ]
  },
  {
   "cell_type": "markdown",
   "metadata": {},
   "source": [
    "## Digging deeper"
   ]
  },
  {
   "cell_type": "markdown",
   "metadata": {},
   "source": [
    "### Some promising fetures and their impact on the label"
   ]
  },
  {
   "cell_type": "code",
   "execution_count": null,
   "metadata": {},
   "outputs": [],
   "source": [
    "%matplotlib inline\n",
    "sns.catplot(x=\"WEALTH2\", y=\"TARGET_D\", hue=\"MAJOR\",\n",
    "            kind=\"violin\", inner=\"stick\", split=True,\n",
    "            palette=\"pastel\", data=learning);"
   ]
  },
  {
   "cell_type": "markdown",
   "metadata": {},
   "source": [
    "### Interests and donations"
   ]
  },
  {
   "cell_type": "code",
   "execution_count": null,
   "metadata": {
    "scrolled": true
   },
   "outputs": [],
   "source": [
    "data = learning_raw.loc[:,dl.interest_features+[\"TARGET_D\"]].fillna(0)\n",
    "interests = pd.melt(data,value_vars=dl.interest_features, value_name=\"Interest\")\n",
    "data.head()"
   ]
  },
  {
   "cell_type": "markdown",
   "metadata": {},
   "source": [
    "Features with constant values:"
   ]
  },
  {
   "cell_type": "code",
   "execution_count": null,
   "metadata": {},
   "outputs": [],
   "source": [
    "learning_raw.nunique(axis=1)"
   ]
  },
  {
   "cell_type": "markdown",
   "metadata": {},
   "source": [
    "### Individual feature properties\n",
    "\n",
    "Value range, distribution, outliers"
   ]
  },
  {
   "cell_type": "markdown",
   "metadata": {},
   "source": [
    "### Correlations\n",
    "\n",
    "-> Product moment covariance"
   ]
  },
  {
   "cell_type": "code",
   "execution_count": null,
   "metadata": {},
   "outputs": [],
   "source": [
    "# calculate the correlation matrix\n",
    "corr = learning_raw.drop(['TARGET_B','TARGET_D'],axis=1).corr()"
   ]
  },
  {
   "cell_type": "code",
   "execution_count": null,
   "metadata": {},
   "outputs": [],
   "source": [
    "# plot the heatmap\n",
    "# Generate a mask for the upper triangle\n",
    "mask = np.zeros_like(corr, dtype=np.bool)\n",
    "mask[np.triu_indices_from(mask)] = True\n",
    "\n",
    "# Set up the matplotlib figure\n",
    "f, ax = plt.subplots(figsize=(12, 12))\n",
    "\n",
    "# Generate a custom diverging colormap\n",
    "cmap = sns.diverging_palette(220, 10, as_cmap=True)\n",
    "\n",
    "sns.heatmap(corr, mask=mask, cmap=cmap, vmax=.8, center=0,\n",
    "            square=True, linewidths=.5, cbar_kws={\"shrink\": .5})"
   ]
  },
  {
   "cell_type": "markdown",
   "metadata": {},
   "source": [
    "### Target variable (labels)"
   ]
  },
  {
   "cell_type": "code",
   "execution_count": null,
   "metadata": {},
   "outputs": [],
   "source": [
    "%matplotlib inline\n",
    "sns.catplot(x=\"WEALTH2\", y=\"TARGET_D\", hue=\"MAJOR\",\n",
    "            kind=\"violin\", inner=\"stick\", split=True,\n",
    "            palette=\"pastel\", data=learning);"
   ]
  },
  {
   "cell_type": "code",
   "execution_count": null,
   "metadata": {},
   "outputs": [],
   "source": [
    "sns.catplot(x=\"CLUSTER\", y=\"TARGET_D\", kind=\"box\", data=learning);"
   ]
  },
  {
   "cell_type": "code",
   "execution_count": null,
   "metadata": {},
   "outputs": [],
   "source": [
    "%matplotlib inline\n",
    "sns.distplot(learning.loc[learning.TARGET_D > 0.0, 'TARGET_D'], bins=50, kde=False, rug=True);"
   ]
  },
  {
   "cell_type": "markdown",
   "metadata": {},
   "source": [
    "### US census data"
   ]
  },
  {
   "cell_type": "code",
   "execution_count": null,
   "metadata": {},
   "outputs": [],
   "source": [
    "us_census = [\"POP901\", \"POP902\", \"POP903\", \"POP90C1\", \"POP90C2\", \"POP90C3\", \"POP90C4\", \"POP90C5\", \"ETH1\", \"ETH2\", \"ETH3\", \"ETH4\", \"ETH5\", \"ETH6\", \"ETH7\", \"ETH8\", \"ETH9\", \"ETH10\", \"ETH11\", \"ETH12\", \"ETH13\", \"ETH14\", \"ETH15\", \"ETH16\", \"AGE901\", \"AGE902\", \"AGE903\", \"AGE904\", \"AGE905\", \"AGE906\", \"AGE907\", \"CHIL1\", \"CHIL2\", \"CHIL3\", \"AGEC1\", \"AGEC2\", \"AGEC3\", \"AGEC4\", \"AGEC5\", \"AGEC6\", \"AGEC7\", \"CHILC1\", \"CHILC2\", \"CHILC3\", \"CHILC4\", \"CHILC5\", \"HHAGE1\", \"HHAGE2\", \"HHAGE3\", \"HHN1\", \"HHN2\", \"HHN3\", \"HHN4\", \"HHN5\", \"HHN6\", \"MARR1\", \"MARR2\", \"MARR3\", \"MARR4\", \"HHP1\", \"HHP2\", \"DW1\", \"DW2\", \"DW3\", \"DW4\", \"DW5\", \"DW6\", \"DW7\", \"DW8\", \"DW9\", \"HV1\", \"HV2\", \"HV3\", \"HV4\", \"HU1\", \"HU2\", \"HU3\", \"HU4\", \"HU5\", \"HHD1\", \"HHD2\", \"HHD3\", \"HHD4\", \"HHD5\", \"HHD6\", \"HHD7\", \"HHD8\", \"HHD9\", \"HHD10\", \"HHD11\", \"HHD12\", \"ETHC1\", \"ETHC2\", \"ETHC3\", \"ETHC4\", \"ETHC5\", \"ETHC6\", \"HVP1\", \"HVP2\", \"HVP3\", \"HVP4\", \"HVP5\", \"HVP6\", \"HUR1\", \"HUR2\", \"RHP1\", \"RHP2\", \"RHP3\", \"RHP4\", \"HUPA1\", \"HUPA2\", \"HUPA3\", \"HUPA4\", \"HUPA5\", \"HUPA6\", \"HUPA7\", \"RP1\", \"RP2\", \"RP3\", \"RP4\", \"MSA\", \"ADI\", \"DMA\", \"IC1\", \"IC2\", \"IC3\", \"IC4\", \"IC5\", \"IC6\", \"IC7\", \"IC8\", \"IC9\", \"IC10\", \"IC11\", \"IC12\", \"IC13\", \"IC14\", \"IC15\", \"IC16\", \"IC17\", \"IC18\", \"IC19\", \"IC20\", \"IC21\", \"IC22\", \"IC23\", \"HHAS1\", \"HHAS2\", \"HHAS3\", \"HHAS4\", \"MC1\", \"MC2\", \"MC3\", \"TPE1\", \"TPE2\", \"TPE3\", \"TPE4\", \"TPE5\", \"TPE6\", \"TPE7\", \"TPE8\", \"TPE9\", \"PEC1\", \"PEC2\", \"TPE10\", \"TPE11\", \"TPE12\", \"TPE13\", \"LFC1\", \"LFC2\", \"LFC3\", \"LFC4\", \"LFC5\", \"LFC6\", \"LFC7\", \"LFC8\", \"LFC9\", \"LFC10\", \"OCC1\", \"OCC2\", \"OCC3\", \"OCC4\", \"OCC5\", \"OCC6\", \"OCC7\", \"OCC8\", \"OCC9\", \"OCC10\", \"OCC11\", \"OCC12\", \"OCC13\", \"EIC1\", \"EIC2\", \"EIC3\", \"EIC4\", \"EIC5\", \"EIC6\", \"EIC7\", \"EIC8\", \"EIC9\", \"EIC10\", \"EIC11\", \"EIC12\", \"EIC13\", \"EIC14\", \"EIC15\", \"EIC16\", \"OEDC1\", \"OEDC2\", \"OEDC3\", \"OEDC4\", \"OEDC5\", \"OEDC6\", \"OEDC7\", \"EC1\", \"EC2\", \"EC3\", \"EC4\", \"EC5\", \"EC6\", \"EC7\", \"EC8\", \"SEC1\", \"SEC2\", \"SEC3\", \"SEC4\", \"SEC5\", \"AFC1\", \"AFC2\", \"AFC3\", \"AFC4\", \"AFC5\", \"AFC6\", \"VC1\", \"VC2\", \"VC3\", \"VC4\", \"ANC1\", \"ANC2\", \"ANC3\", \"ANC4\", \"ANC5\", \"ANC6\", \"ANC7\", \"ANC8\", \"ANC9\", \"ANC10\", \"ANC11\", \"ANC12\", \"ANC13\", \"ANC14\", \"ANC15\", \"POBC1\", \"POBC2\", \"LSC1\", \"LSC2\", \"LSC3\", \"LSC4\", \"VOC1\", \"VOC2\", \"VOC3\", \"HC1\", \"HC2\", \"HC3\", \"HC4\", \"HC5\", \"HC6\", \"HC7\", \"HC8\", \"HC9\", \"HC10\", \"HC11\", \"HC12\", \"HC13\", \"HC14\", \"HC15\", \"HC16\", \"HC17\", \"HC18\", \"HC19\", \"HC20\", \"HC21\", \"MHUC1\", \"MHUC2\", \"AC1\", \"AC2\"]\n",
    "len(us_census)"
   ]
  },
  {
   "cell_type": "markdown",
   "metadata": {},
   "source": [
    "## Feature Selection\n",
    "Meant to reduce dimensionality by selecting only features that are 'interesting enough' to be considered in order to boost performance of calculations / improve accuracy of the estimator\n",
    "- By variance threshold\n",
    "- Recursive Feature Elimination by Cross-Validation\n",
    "- L1-based feature selection (Logistic Regression, Lasso, SVM)\n",
    "- Tree-based feature selection\n",
    "\n",
    "See [scikit-learn: feature selection](http://scikit-learn.org/stable/modules/feature_selection.html#feature-selection)"
   ]
  },
  {
   "cell_type": "markdown",
   "metadata": {},
   "source": [
    "### Removing constant features (zero variance)"
   ]
  },
  {
   "cell_type": "code",
   "execution_count": null,
   "metadata": {},
   "outputs": [],
   "source": [
    "for column in learning.columns:\n",
    "        if len(learning[column].unique()) == 1:\n",
    "            print(column)"
   ]
  },
  {
   "cell_type": "markdown",
   "metadata": {},
   "source": [
    "### Sparse Features"
   ]
  },
  {
   "cell_type": "code",
   "execution_count": null,
   "metadata": {},
   "outputs": [],
   "source": [
    "sparse_features = []\n",
    "for column in learning:\n",
    "    top_freq = learning[column].value_counts(normalize=True).iloc[0]\n",
    "    if top_freq > 0.995:\n",
    "        sparse_features.append(column)\n",
    "        print(column+\" has a top frequency of: \" + str(top_freq))\n",
    "        print(learning[column].value_counts(normalize=True))"
   ]
  },
  {
   "cell_type": "code",
   "execution_count": null,
   "metadata": {},
   "outputs": [],
   "source": [
    "sparse_features"
   ]
  },
  {
   "cell_type": "markdown",
   "metadata": {},
   "source": [
    "## Feature Extraction\n",
    "All explanatory fields have to be numerical for the subsequent operations with scikit-learn. Here, the necessary feature extractions are performed.\n",
    "\n",
    "See [scikit-learn: feature extraction](http://scikit-learn.org/stable/modules/feature_extraction.html)"
   ]
  },
  {
   "cell_type": "code",
   "execution_count": null,
   "metadata": {},
   "outputs": [],
   "source": [
    "import pandas as pd"
   ]
  },
  {
   "cell_type": "code",
   "execution_count": null,
   "metadata": {},
   "outputs": [],
   "source": [
    "symbolic_features = []\n",
    "symbolic_features.append(tds.SymbolicFeatureSpreader(\n",
    "    \"DOMAIN\", [\"U\", \"S\"])) #Urbanicity, SocioEconomicStatus\n",
    "# RFA_2 is already spread out\n",
    "for i in range(3, 25):\n",
    "    feature = \"_\".join([\"RFA\", str(i)])\n",
    "    symbolic_features.append(tds.SymbolicFeatureSpreader(\n",
    "        feature, [\"R\", \"F\", \"A\"])) # Recency, Frequency, Amount\n",
    "\n",
    "spread_multibyte = pd.DataFrame(index=learning_raw.index)\n",
    "for f in symbolic_features:\n",
    "    f.set_tidy_dataset_ref(learning_raw)\n",
    "    spread_multibyte = pd.concat([spread_multibyte,f.spread(inplace=False)],axis=1)"
   ]
  },
  {
   "cell_type": "code",
   "execution_count": null,
   "metadata": {
    "scrolled": true
   },
   "outputs": [],
   "source": [
    "spread_multibyte.info()"
   ]
  },
  {
   "cell_type": "markdown",
   "metadata": {},
   "source": [
    "# PCA\n",
    "\n",
    "A first look at important features"
   ]
  },
  {
   "cell_type": "code",
   "execution_count": null,
   "metadata": {},
   "outputs": [],
   "source": [
    "from sklearn import decomposition"
   ]
  },
  {
   "cell_type": "code",
   "execution_count": null,
   "metadata": {},
   "outputs": [],
   "source": [
    "X = learning.drop([\"TARGET_B\",\"TARGET_D\"],axis=1)"
   ]
  },
  {
   "cell_type": "code",
   "execution_count": null,
   "metadata": {},
   "outputs": [],
   "source": [
    "n_comp = 3\n",
    "pca = decomposition.PCA(n_components = n_comp)\n",
    "pca.fit(X)\n",
    "result = pd.DataFrame(pca.transform(X), columns=[\"PCA%i\" % i for i in range(n_comp)], index=X.index)"
   ]
  },
  {
   "cell_type": "code",
   "execution_count": null,
   "metadata": {
    "scrolled": false
   },
   "outputs": [],
   "source": [
    "import cProfile\n",
    "domain_spreader = tds.SymbolicFieldToDummies(learning,\"RFA_24\",[\"Recency\", \"Frequency\", \"Amount\"])\n",
    "cProfile.run('domain_spreader.spread()', sort='time')"
   ]
  },
  {
   "cell_type": "code",
   "execution_count": null,
   "metadata": {},
   "outputs": [],
   "source": [
    "learning.head()"
   ]
  },
  {
   "cell_type": "code",
   "execution_count": null,
   "metadata": {},
   "outputs": [],
   "source": [
    "import os\n",
    "import numpy as np\n",
    "import sys\n",
    "os.getcwd()\n",
    "proj_dir = os.path.split(os.getcwd())[0]\n",
    "if proj_dir not in sys.path:\n",
    "    sys.path.append(proj_dir)"
   ]
  },
  {
   "cell_type": "code",
   "execution_count": null,
   "metadata": {},
   "outputs": [],
   "source": [
    "import eda.tidy_dataset as tds\n",
    "tidy = tds.TidyDataset(\"cup98LRN.txt\")"
   ]
  },
  {
   "cell_type": "code",
   "execution_count": null,
   "metadata": {},
   "outputs": [],
   "source": [
    "raw = tidy.get_raw_data()"
   ]
  },
  {
   "cell_type": "code",
   "execution_count": null,
   "metadata": {},
   "outputs": [],
   "source": [
    "spreader = tds.SymbolicFieldToDummies(\n",
    "    raw, \"RFA_24\", [\"Recency\", \"Frequency\", \"Amount\"])\n",
    "spreader.spread()"
   ]
  },
  {
   "cell_type": "code",
   "execution_count": null,
   "metadata": {},
   "outputs": [],
   "source": []
  }
 ],
 "metadata": {
  "kernelspec": {
   "display_name": "Python 3",
   "language": "python",
   "name": "python3"
  },
  "language_info": {
   "codemirror_mode": {
    "name": "ipython",
    "version": 3
   },
   "file_extension": ".py",
   "mimetype": "text/x-python",
   "name": "python",
   "nbconvert_exporter": "python",
   "pygments_lexer": "ipython3",
   "version": "3.6.6"
  }
 },
 "nbformat": 4,
 "nbformat_minor": 2
}
