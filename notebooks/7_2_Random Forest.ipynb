{
 "cells": [
  {
   "cell_type": "code",
   "execution_count": 60,
   "metadata": {
    "init_cell": true
   },
   "outputs": [
    {
     "name": "stdout",
     "output_type": "stream",
     "text": [
      "The autoreload extension is already loaded. To reload it, use:\n",
      "  %reload_ext autoreload\n"
     ]
    }
   ],
   "source": [
    "%load_ext autoreload"
   ]
  },
  {
   "cell_type": "code",
   "execution_count": 61,
   "metadata": {
    "init_cell": true
   },
   "outputs": [],
   "source": [
    "%run ./common_init.ipynb"
   ]
  },
  {
   "cell_type": "code",
   "execution_count": 62,
   "metadata": {
    "init_cell": true
   },
   "outputs": [],
   "source": [
    "%run ./learning_init.ipynb"
   ]
  },
  {
   "cell_type": "code",
   "execution_count": 63,
   "metadata": {
    "init_cell": true
   },
   "outputs": [],
   "source": [
    "%autoreload 2\n",
    "import pandas as pd\n",
    "import seaborn as sns\n",
    "import matplotlib as mpl\n",
    "import matplotlib.pyplot as plt\n",
    "\n",
    "# Load custom code\n",
    "import kdd98.data_handler as dh\n",
    "from kdd98.config import Config\n",
    "import pickle"
   ]
  },
  {
   "cell_type": "code",
   "execution_count": 64,
   "metadata": {
    "init_cell": true
   },
   "outputs": [],
   "source": [
    "# Where to save the figures\n",
    "PROJECT_ROOT_DIR = \"../../\"\n",
    "CHAPTER_ID = \"random_forest\"\n",
    "IMAGES_PATH = os.path.join(PROJECT_ROOT_DIR, \"figures\", CHAPTER_ID)\n",
    "\n",
    "if not os.path.exists(IMAGES_PATH):\n",
    "    os.makedirs(IMAGES_PATH)\n",
    "\n",
    "def save_fig(fig_id, tight_layout=True, fig_extension=[\"pdf\", \"png\"], resolution=300):\n",
    "    if tight_layout:\n",
    "        plt.tight_layout()\n",
    "    [plt.savefig(pathlib.Path(IMAGES_PATH, fig_id + \".\" + f), \n",
    "                 format=f,\n",
    "                 dpi=resolution,\n",
    "                 transparent=True,\n",
    "                 bbox_inches='tight') for f in fig_extension]"
   ]
  },
  {
   "cell_type": "markdown",
   "metadata": {},
   "source": [
    "# Loading Data"
   ]
  },
  {
   "cell_type": "code",
   "execution_count": 65,
   "metadata": {
    "init_cell": true
   },
   "outputs": [],
   "source": [
    "with open(pathlib.Path(Config.get(\"df_store\"), \"X_train.pd.pkl\"), \"rb\") as f:\n",
    "    kdd98_learn_feat = pickle.load(f)\n",
    "with open(pathlib.Path(Config.get(\"df_store\"), \"y_train.pd.pkl\"), \"rb\") as f:\n",
    "    kdd98_learn_targets = pickle.load(f)\n",
    "with open(pathlib.Path(Config.get(\"df_store\"), \"X_test.pd.pkl\"), \"rb\") as f:\n",
    "    kdd98_test_feat = pickle.load(f)\n",
    "with open(pathlib.Path(Config.get(\"df_store\"), \"y_test.pd.pkl\"), \"rb\") as f:\n",
    "    kdd98_test_targets = pickle.load(f)\n",
    "with open(pathlib.Path(Config.get(\"df_store\"), \"X_train_all_relevant.pd.pkl\"), \"rb\") as f:\n",
    "    kdd98_learn_feat_all_relevant = pickle.load(f)\n",
    "with open(pathlib.Path(Config.get(\"df_store\"), \"X_test_all_relevant.pd.pkl\"), \"rb\") as f:\n",
    "    kdd98_test_feat_all_relevant = pickle.load(f)\n",
    "    \n",
    "# Extracting the data and resetting target to [-1, 1]\n",
    "X_train = kdd98_learn_feat.values\n",
    "X_train_all_relevant = kdd98_learn_feat_all_relevant.values\n",
    "y_train = kdd98_learn_targets.loc[:,\"TARGET_B\"].astype(\"int64\").values\n",
    "X_test = kdd98_test_feat.values\n",
    "X_test_all_relevant = kdd98_test_feat_all_relevant.values\n",
    "y_test = kdd98_test_targets.loc[:,\"TARGET_B\"].astype(\"int64\").values"
   ]
  },
  {
   "cell_type": "code",
   "execution_count": 8,
   "metadata": {},
   "outputs": [],
   "source": [
    "from imblearn.over_sampling import RandomOverSampler\n",
    "\n",
    "ovs = RandomOverSampler(sampling_strategy=\"minority\", random_state=Config.get(\"random_seed\"), )\n",
    "X_resampled, y_resampled = ovs.fit_resample(X_train_all_relevant, y_train)"
   ]
  },
  {
   "cell_type": "markdown",
   "metadata": {},
   "source": [
    "## Setting up classifier"
   ]
  },
  {
   "cell_type": "code",
   "execution_count": 25,
   "metadata": {},
   "outputs": [],
   "source": [
    "# Setting up the classifier \n",
    "from sklearn.ensemble import RandomForestClassifier\n",
    "from sklearn.model_selection import ParameterGrid\n",
    "from sklearn.model_selection import GridSearchCV, RandomizedSearchCV, StratifiedKFold\n",
    "from sklearn.metrics import make_scorer, roc_auc_score, log_loss, confusion_matrix\n",
    "from sklearn.pipeline import Pipeline"
   ]
  },
  {
   "cell_type": "code",
   "execution_count": 68,
   "metadata": {},
   "outputs": [],
   "source": [
    "param_grid = {\n",
    "    \"class_weight\": [\"balanced_subsample\"],\n",
    "    \"n_estimators\": [500, 800, 1000],\n",
    "}\n",
    "\n",
    "# We use the same strategy as for splitting into train / test set to provide cv splits:\n",
    "cv = StratifiedKFold(n_splits=5, shuffle=True, random_state=Config.get(\"random_seed\"))\n",
    "\n",
    "scoring = {\"roc\": make_scorer(roc_auc_score, average=\"weighted\"),\n",
    "           \"neg_log_loss\": \"neg_log_loss\"}\n",
    "\n",
    "rf_classif = RandomForestClassifier(max_depth=8,\n",
    "                                    oob_score=True,\n",
    "                                    random_state=Config.get(\"random_seed\"))"
   ]
  },
  {
   "cell_type": "code",
   "execution_count": 69,
   "metadata": {},
   "outputs": [],
   "source": [
    "grid_search = GridSearchCV(\n",
    "    rf_classif,\n",
    "    param_grid,\n",
    "    scoring=scoring,\n",
    "    pre_dispatch=2,\n",
    "    n_jobs=4,\n",
    "    cv=cv,\n",
    "    refit=\"neg_log_loss\",\n",
    "    return_train_score=True,\n",
    "    verbose=3)"
   ]
  },
  {
   "cell_type": "markdown",
   "metadata": {},
   "source": [
    "# Fitting"
   ]
  },
  {
   "cell_type": "code",
   "execution_count": null,
   "metadata": {},
   "outputs": [
    {
     "name": "stdout",
     "output_type": "stream",
     "text": [
      "Fitting 5 folds for each of 3 candidates, totalling 15 fits\n"
     ]
    },
    {
     "name": "stderr",
     "output_type": "stream",
     "text": [
      "[Parallel(n_jobs=4)]: Using backend LokyBackend with 4 concurrent workers.\n"
     ]
    }
   ],
   "source": [
    "grid_search.fit(X_train_all_relevant, y_train)"
   ]
  },
  {
   "cell_type": "code",
   "execution_count": null,
   "metadata": {},
   "outputs": [],
   "source": [
    "import pickle\n",
    "import pathlib\n",
    "with open(pathlib.Path(Config.get(\"model_store\"), \"random_forest_gridsearch.pkl\"), \"wb\") as f:\n",
    "    pickle.dump(grid_search, f)"
   ]
  },
  {
   "cell_type": "code",
   "execution_count": null,
   "metadata": {},
   "outputs": [],
   "source": [
    "results = grid_search.cv_results_"
   ]
  },
  {
   "cell_type": "code",
   "execution_count": null,
   "metadata": {},
   "outputs": [],
   "source": [
    "best_estimator = grid_search.best_estimator_"
   ]
  },
  {
   "cell_type": "code",
   "execution_count": null,
   "metadata": {},
   "outputs": [],
   "source": [
    "best_estimator.get_params()"
   ]
  },
  {
   "cell_type": "code",
   "execution_count": null,
   "metadata": {},
   "outputs": [],
   "source": [
    "kdd98_learn_feat_all_relevant.columns.values"
   ]
  },
  {
   "cell_type": "code",
   "execution_count": null,
   "metadata": {},
   "outputs": [],
   "source": [
    "gs_features = best_estimator.feature_importances_\n",
    "gs_important_features = pd.DataFrame(data=gs_features, index=kdd98_learn_feat_all_relevant.columns.values, columns=[\"feature_importance\"])"
   ]
  },
  {
   "cell_type": "code",
   "execution_count": null,
   "metadata": {
    "scrolled": true
   },
   "outputs": [],
   "source": [
    "gs_important_features = gs_important_features.sort_values(ascending=False, by=\"feature_importance\")"
   ]
  },
  {
   "cell_type": "code",
   "execution_count": null,
   "metadata": {},
   "outputs": [],
   "source": [
    "plt.rcParams['figure.figsize'] = (18, 10)\n",
    "gs_important_features.head(n=40).sort_values(ascending=True, by=\"feature_importance\").plot.barh()"
   ]
  },
  {
   "cell_type": "markdown",
   "metadata": {},
   "source": [
    "# Predictions"
   ]
  },
  {
   "cell_type": "code",
   "execution_count": null,
   "metadata": {},
   "outputs": [],
   "source": [
    "y_predict = grid_search.predict(X_test_all_relevant)"
   ]
  },
  {
   "cell_type": "code",
   "execution_count": null,
   "metadata": {},
   "outputs": [],
   "source": [
    "from sklearn.metrics import confusion_matrix\n",
    "confusion_matrix(y_test,y_predict, labels=[1,0])"
   ]
  },
  {
   "cell_type": "code",
   "execution_count": null,
   "metadata": {},
   "outputs": [],
   "source": [
    "plot_confusion_matrix(y_test,y_predict, [1,0], normalize=True, cmap=Config.get(\"color_map\"))"
   ]
  },
  {
   "cell_type": "code",
   "execution_count": null,
   "metadata": {},
   "outputs": [],
   "source": [
    "from sklearn.metrics import roc_curve, auc\n",
    "\n",
    "fpr, tpr, thresholds = roc_curve(y_test, grid_search.predict_proba(X_test_all_relevant)[:,1],pos_label=1)\n",
    "roc_auc = auc(fpr, tpr)\n",
    "plt.xlabel(\"False Positive Rate\")\n",
    "plt.ylabel(\"True Positive Rate\")\n",
    "plt.plot([0, 1], [0, 1], color='navy', lw=1, linestyle='--')\n",
    "plt.plot(fpr, tpr, lw=1, label='ROC curve (area = %0.2f)' % roc_auc)\n",
    "plt.legend(loc=\"lower right\")\n",
    "plt.xlim(0.0,1.0)\n",
    "plt.ylim(0.0,1.0)"
   ]
  },
  {
   "cell_type": "code",
   "execution_count": null,
   "metadata": {},
   "outputs": [],
   "source": []
  }
 ],
 "metadata": {
  "kernelspec": {
   "display_name": "py36",
   "language": "python",
   "name": "py36"
  },
  "language_info": {
   "codemirror_mode": {
    "name": "ipython",
    "version": 3
   },
   "file_extension": ".py",
   "mimetype": "text/x-python",
   "name": "python",
   "nbconvert_exporter": "python",
   "pygments_lexer": "ipython3",
   "version": "3.6.7"
  },
  "toc": {
   "base_numbering": 1,
   "nav_menu": {},
   "number_sections": true,
   "sideBar": true,
   "skip_h1_title": false,
   "title_cell": "Table of Contents",
   "title_sidebar": "Contents",
   "toc_cell": false,
   "toc_position": {},
   "toc_section_display": true,
   "toc_window_display": false
  }
 },
 "nbformat": 4,
 "nbformat_minor": 2
}
