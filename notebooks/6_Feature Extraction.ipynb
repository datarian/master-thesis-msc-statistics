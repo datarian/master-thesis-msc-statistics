{
 "cells": [
  {
   "cell_type": "code",
   "execution_count": 1,
   "metadata": {
    "init_cell": true
   },
   "outputs": [],
   "source": [
    "%load_ext autoreload"
   ]
  },
  {
   "cell_type": "code",
   "execution_count": 2,
   "metadata": {
    "init_cell": true
   },
   "outputs": [
    {
     "name": "stdout",
     "output_type": "stream",
     "text": [
      "Setup logging to file: out.log\n",
      "Figure output directory saved in figure_output at /home/datarian/OneDrive/unine/Master_Thesis/ma-thesis-report/figures\n"
     ]
    }
   ],
   "source": [
    "%run \"./common_init.ipynb\""
   ]
  },
  {
   "cell_type": "code",
   "execution_count": 3,
   "metadata": {
    "init_cell": true
   },
   "outputs": [
    {
     "name": "stderr",
     "output_type": "stream",
     "text": [
      "Using TensorFlow backend.\n"
     ]
    }
   ],
   "source": [
    "%autoreload 2\n",
    "import pandas as pd\n",
    "import seaborn as sns\n",
    "import matplotlib as mpl\n",
    "import matplotlib.pyplot as plt\n",
    "\n",
    "# Load custom code\n",
    "import kdd98.data_handler as dh\n",
    "from kdd98.config import Config\n",
    "import pickle"
   ]
  },
  {
   "cell_type": "code",
   "execution_count": 4,
   "metadata": {
    "init_cell": true
   },
   "outputs": [],
   "source": [
    "# Where to save the figures\n",
    "PROJECT_ROOT_DIR = \"../../\"\n",
    "CHAPTER_ID = \"feature_extraction\"\n",
    "IMAGES_PATH = os.path.join(PROJECT_ROOT_DIR, \"figures\", CHAPTER_ID)\n",
    "\n",
    "if not os.path.exists(IMAGES_PATH):\n",
    "    os.makedirs(IMAGES_PATH)\n",
    "\n",
    "def save_fig(fig_id, tight_layout=True, fig_extension=[\"pdf\", \"png\"], resolution=300):\n",
    "    if tight_layout:\n",
    "        plt.tight_layout()\n",
    "    [plt.savefig(pathlib.Path(IMAGES_PATH, fig_id + \".\" + f), \n",
    "                 format=f,\n",
    "                 dpi=resolution,\n",
    "                 transparent=True,\n",
    "                 bbox_inches='tight') for f in fig_extension]"
   ]
  },
  {
   "cell_type": "markdown",
   "metadata": {},
   "source": [
    "## Finding relevant features"
   ]
  },
  {
   "cell_type": "code",
   "execution_count": 20,
   "metadata": {},
   "outputs": [],
   "source": [
    "with open(pathlib.Path(Config.get(\"df_store\"), \"X_train.pd.pkl\"), \"rb\") as f:\n",
    "    kdd98_learn_feat = pickle.load(f)\n",
    "with open(pathlib.Path(Config.get(\"df_store\"), \"y_train.pd.pkl\"), \"rb\") as f:\n",
    "    kdd98_learn_targets = pickle.load(f)\n",
    "with open(pathlib.Path(Config.get(\"df_store\"), \"X_test.pd.pkl\"), \"rb\") as f:\n",
    "    kdd98_test_feat = pickle.load(f)\n",
    "with open(pathlib.Path(Config.get(\"df_store\"), \"y_test.pd.pkl\"), \"rb\") as f:\n",
    "    kdd98_test_targets = pickle.load(f)\n",
    "    \n",
    "# Extracting the data and resetting target to [-1, 1]\n",
    "X_train = kdd98_learn_feat.values\n",
    "y_train = kdd98_learn_targets.loc[:,\"TARGET_B\"].astype(\"int64\").values\n",
    "X_test = kdd98_test_feat.values\n",
    "y_test = kdd98_test_targets.loc[:,\"TARGET_B\"].astype(\"int64\").values"
   ]
  },
  {
   "cell_type": "code",
   "execution_count": 35,
   "metadata": {},
   "outputs": [
    {
     "data": {
      "text/html": [
       "<div>\n",
       "<style scoped>\n",
       "    .dataframe tbody tr th:only-of-type {\n",
       "        vertical-align: middle;\n",
       "    }\n",
       "\n",
       "    .dataframe tbody tr th {\n",
       "        vertical-align: top;\n",
       "    }\n",
       "\n",
       "    .dataframe thead th {\n",
       "        text-align: right;\n",
       "    }\n",
       "</style>\n",
       "<table border=\"1\" class=\"dataframe\">\n",
       "  <thead>\n",
       "    <tr style=\"text-align: right;\">\n",
       "      <th></th>\n",
       "      <th>RECINHSE</th>\n",
       "      <th>AGE</th>\n",
       "      <th>AGEFLAG</th>\n",
       "      <th>HOMEOWNR</th>\n",
       "      <th>NUMCHLD</th>\n",
       "      <th>INCOME</th>\n",
       "      <th>WEALTH1</th>\n",
       "      <th>HIT</th>\n",
       "      <th>MBCRAFT</th>\n",
       "      <th>MBBOOKS</th>\n",
       "      <th>...</th>\n",
       "      <th>RFA_24R_P</th>\n",
       "      <th>RFA_24R_S</th>\n",
       "      <th>RFA_24R_U</th>\n",
       "      <th>RFA_24R_nan</th>\n",
       "      <th>DOMAINUrbanicity_C</th>\n",
       "      <th>DOMAINUrbanicity_R</th>\n",
       "      <th>DOMAINUrbanicity_S</th>\n",
       "      <th>DOMAINUrbanicity_T</th>\n",
       "      <th>DOMAINUrbanicity_U</th>\n",
       "      <th>DOMAINUrbanicity_nan</th>\n",
       "    </tr>\n",
       "  </thead>\n",
       "  <tbody>\n",
       "    <tr>\n",
       "      <th>count</th>\n",
       "      <td>76329.000000</td>\n",
       "      <td>76329.000000</td>\n",
       "      <td>76329.000000</td>\n",
       "      <td>76329.000000</td>\n",
       "      <td>76329.000000</td>\n",
       "      <td>76329.000000</td>\n",
       "      <td>76329.000000</td>\n",
       "      <td>76329.000000</td>\n",
       "      <td>76329.000000</td>\n",
       "      <td>76329.000000</td>\n",
       "      <td>...</td>\n",
       "      <td>76329.000000</td>\n",
       "      <td>76329.000000</td>\n",
       "      <td>76329.000000</td>\n",
       "      <td>76329.0</td>\n",
       "      <td>76329.000000</td>\n",
       "      <td>76329.000000</td>\n",
       "      <td>76329.000000</td>\n",
       "      <td>76329.000000</td>\n",
       "      <td>76329.000000</td>\n",
       "      <td>76329.0</td>\n",
       "    </tr>\n",
       "    <tr>\n",
       "      <th>mean</th>\n",
       "      <td>0.070746</td>\n",
       "      <td>61.449201</td>\n",
       "      <td>0.854659</td>\n",
       "      <td>-0.863716</td>\n",
       "      <td>1.364048</td>\n",
       "      <td>1.714437</td>\n",
       "      <td>6.717558</td>\n",
       "      <td>3.321634</td>\n",
       "      <td>0.086531</td>\n",
       "      <td>0.777084</td>\n",
       "      <td>...</td>\n",
       "      <td>0.099508</td>\n",
       "      <td>0.177269</td>\n",
       "      <td>0.000307</td>\n",
       "      <td>0.0</td>\n",
       "      <td>0.204292</td>\n",
       "      <td>0.213531</td>\n",
       "      <td>0.229232</td>\n",
       "      <td>0.221255</td>\n",
       "      <td>0.130092</td>\n",
       "      <td>0.0</td>\n",
       "    </tr>\n",
       "    <tr>\n",
       "      <th>std</th>\n",
       "      <td>0.256402</td>\n",
       "      <td>14.900026</td>\n",
       "      <td>0.286464</td>\n",
       "      <td>45.037617</td>\n",
       "      <td>0.359500</td>\n",
       "      <td>61.237378</td>\n",
       "      <td>15.171171</td>\n",
       "      <td>9.177437</td>\n",
       "      <td>0.433996</td>\n",
       "      <td>1.242794</td>\n",
       "      <td>...</td>\n",
       "      <td>0.267212</td>\n",
       "      <td>0.355014</td>\n",
       "      <td>0.015785</td>\n",
       "      <td>0.0</td>\n",
       "      <td>0.541232</td>\n",
       "      <td>0.408701</td>\n",
       "      <td>0.506772</td>\n",
       "      <td>0.672556</td>\n",
       "      <td>0.333819</td>\n",
       "      <td>0.0</td>\n",
       "    </tr>\n",
       "    <tr>\n",
       "      <th>min</th>\n",
       "      <td>0.000000</td>\n",
       "      <td>1.000000</td>\n",
       "      <td>-0.211835</td>\n",
       "      <td>-730.838982</td>\n",
       "      <td>-0.638993</td>\n",
       "      <td>-1010.384878</td>\n",
       "      <td>-423.716602</td>\n",
       "      <td>0.000000</td>\n",
       "      <td>-4.948830</td>\n",
       "      <td>-3.631724</td>\n",
       "      <td>...</td>\n",
       "      <td>-0.104695</td>\n",
       "      <td>-0.298597</td>\n",
       "      <td>-0.012515</td>\n",
       "      <td>0.0</td>\n",
       "      <td>-10.780329</td>\n",
       "      <td>-0.738482</td>\n",
       "      <td>-12.112740</td>\n",
       "      <td>-4.536081</td>\n",
       "      <td>-0.349886</td>\n",
       "      <td>0.0</td>\n",
       "    </tr>\n",
       "    <tr>\n",
       "      <th>25%</th>\n",
       "      <td>0.000000</td>\n",
       "      <td>51.000000</td>\n",
       "      <td>0.827223</td>\n",
       "      <td>0.000000</td>\n",
       "      <td>1.162586</td>\n",
       "      <td>2.000000</td>\n",
       "      <td>4.000000</td>\n",
       "      <td>0.000000</td>\n",
       "      <td>0.000000</td>\n",
       "      <td>0.000000</td>\n",
       "      <td>...</td>\n",
       "      <td>0.000000</td>\n",
       "      <td>0.000000</td>\n",
       "      <td>0.000000</td>\n",
       "      <td>0.0</td>\n",
       "      <td>0.000000</td>\n",
       "      <td>0.000000</td>\n",
       "      <td>0.000000</td>\n",
       "      <td>0.000000</td>\n",
       "      <td>0.000000</td>\n",
       "      <td>0.0</td>\n",
       "    </tr>\n",
       "    <tr>\n",
       "      <th>50%</th>\n",
       "      <td>0.000000</td>\n",
       "      <td>61.123079</td>\n",
       "      <td>1.000000</td>\n",
       "      <td>1.000000</td>\n",
       "      <td>1.317721</td>\n",
       "      <td>4.000000</td>\n",
       "      <td>6.665674</td>\n",
       "      <td>0.000000</td>\n",
       "      <td>0.000000</td>\n",
       "      <td>0.497027</td>\n",
       "      <td>...</td>\n",
       "      <td>0.000000</td>\n",
       "      <td>0.000000</td>\n",
       "      <td>0.000000</td>\n",
       "      <td>0.0</td>\n",
       "      <td>0.000000</td>\n",
       "      <td>0.000000</td>\n",
       "      <td>0.000000</td>\n",
       "      <td>0.000000</td>\n",
       "      <td>0.000000</td>\n",
       "      <td>0.0</td>\n",
       "    </tr>\n",
       "    <tr>\n",
       "      <th>75%</th>\n",
       "      <td>0.000000</td>\n",
       "      <td>72.000000</td>\n",
       "      <td>1.000000</td>\n",
       "      <td>1.000000</td>\n",
       "      <td>1.485394</td>\n",
       "      <td>5.000000</td>\n",
       "      <td>9.000000</td>\n",
       "      <td>3.000000</td>\n",
       "      <td>0.065181</td>\n",
       "      <td>1.000000</td>\n",
       "      <td>...</td>\n",
       "      <td>0.004415</td>\n",
       "      <td>0.122632</td>\n",
       "      <td>0.000000</td>\n",
       "      <td>0.0</td>\n",
       "      <td>0.000000</td>\n",
       "      <td>0.000000</td>\n",
       "      <td>0.000000</td>\n",
       "      <td>0.000000</td>\n",
       "      <td>0.000000</td>\n",
       "      <td>0.0</td>\n",
       "    </tr>\n",
       "    <tr>\n",
       "      <th>max</th>\n",
       "      <td>1.000000</td>\n",
       "      <td>98.000000</td>\n",
       "      <td>1.418120</td>\n",
       "      <td>1289.931072</td>\n",
       "      <td>7.000000</td>\n",
       "      <td>1735.805410</td>\n",
       "      <td>269.630100</td>\n",
       "      <td>241.000000</td>\n",
       "      <td>8.478668</td>\n",
       "      <td>14.426068</td>\n",
       "      <td>...</td>\n",
       "      <td>1.263528</td>\n",
       "      <td>1.961900</td>\n",
       "      <td>1.000000</td>\n",
       "      <td>0.0</td>\n",
       "      <td>4.204680</td>\n",
       "      <td>2.223565</td>\n",
       "      <td>2.851415</td>\n",
       "      <td>16.153102</td>\n",
       "      <td>1.439049</td>\n",
       "      <td>0.0</td>\n",
       "    </tr>\n",
       "  </tbody>\n",
       "</table>\n",
       "<p>8 rows × 653 columns</p>\n",
       "</div>"
      ],
      "text/plain": [
       "           RECINHSE           AGE       AGEFLAG      HOMEOWNR       NUMCHLD  \\\n",
       "count  76329.000000  76329.000000  76329.000000  76329.000000  76329.000000   \n",
       "mean       0.070746     61.449201      0.854659     -0.863716      1.364048   \n",
       "std        0.256402     14.900026      0.286464     45.037617      0.359500   \n",
       "min        0.000000      1.000000     -0.211835   -730.838982     -0.638993   \n",
       "25%        0.000000     51.000000      0.827223      0.000000      1.162586   \n",
       "50%        0.000000     61.123079      1.000000      1.000000      1.317721   \n",
       "75%        0.000000     72.000000      1.000000      1.000000      1.485394   \n",
       "max        1.000000     98.000000      1.418120   1289.931072      7.000000   \n",
       "\n",
       "             INCOME       WEALTH1           HIT       MBCRAFT       MBBOOKS  \\\n",
       "count  76329.000000  76329.000000  76329.000000  76329.000000  76329.000000   \n",
       "mean       1.714437      6.717558      3.321634      0.086531      0.777084   \n",
       "std       61.237378     15.171171      9.177437      0.433996      1.242794   \n",
       "min    -1010.384878   -423.716602      0.000000     -4.948830     -3.631724   \n",
       "25%        2.000000      4.000000      0.000000      0.000000      0.000000   \n",
       "50%        4.000000      6.665674      0.000000      0.000000      0.497027   \n",
       "75%        5.000000      9.000000      3.000000      0.065181      1.000000   \n",
       "max     1735.805410    269.630100    241.000000      8.478668     14.426068   \n",
       "\n",
       "       ...     RFA_24R_P     RFA_24R_S     RFA_24R_U  RFA_24R_nan  \\\n",
       "count  ...  76329.000000  76329.000000  76329.000000      76329.0   \n",
       "mean   ...      0.099508      0.177269      0.000307          0.0   \n",
       "std    ...      0.267212      0.355014      0.015785          0.0   \n",
       "min    ...     -0.104695     -0.298597     -0.012515          0.0   \n",
       "25%    ...      0.000000      0.000000      0.000000          0.0   \n",
       "50%    ...      0.000000      0.000000      0.000000          0.0   \n",
       "75%    ...      0.004415      0.122632      0.000000          0.0   \n",
       "max    ...      1.263528      1.961900      1.000000          0.0   \n",
       "\n",
       "       DOMAINUrbanicity_C  DOMAINUrbanicity_R  DOMAINUrbanicity_S  \\\n",
       "count        76329.000000        76329.000000        76329.000000   \n",
       "mean             0.204292            0.213531            0.229232   \n",
       "std              0.541232            0.408701            0.506772   \n",
       "min            -10.780329           -0.738482          -12.112740   \n",
       "25%              0.000000            0.000000            0.000000   \n",
       "50%              0.000000            0.000000            0.000000   \n",
       "75%              0.000000            0.000000            0.000000   \n",
       "max              4.204680            2.223565            2.851415   \n",
       "\n",
       "       DOMAINUrbanicity_T  DOMAINUrbanicity_U  DOMAINUrbanicity_nan  \n",
       "count        76329.000000        76329.000000               76329.0  \n",
       "mean             0.221255            0.130092                   0.0  \n",
       "std              0.672556            0.333819                   0.0  \n",
       "min             -4.536081           -0.349886                   0.0  \n",
       "25%              0.000000            0.000000                   0.0  \n",
       "50%              0.000000            0.000000                   0.0  \n",
       "75%              0.000000            0.000000                   0.0  \n",
       "max             16.153102            1.439049                   0.0  \n",
       "\n",
       "[8 rows x 653 columns]"
      ]
     },
     "execution_count": 35,
     "metadata": {},
     "output_type": "execute_result"
    }
   ],
   "source": [
    "kdd98_learn_feat.describe()"
   ]
  },
  {
   "cell_type": "code",
   "execution_count": 36,
   "metadata": {},
   "outputs": [
    {
     "data": {
      "text/html": [
       "<div>\n",
       "<style scoped>\n",
       "    .dataframe tbody tr th:only-of-type {\n",
       "        vertical-align: middle;\n",
       "    }\n",
       "\n",
       "    .dataframe tbody tr th {\n",
       "        vertical-align: top;\n",
       "    }\n",
       "\n",
       "    .dataframe thead th {\n",
       "        text-align: right;\n",
       "    }\n",
       "</style>\n",
       "<table border=\"1\" class=\"dataframe\">\n",
       "  <thead>\n",
       "    <tr style=\"text-align: right;\">\n",
       "      <th></th>\n",
       "      <th>TARGET_B</th>\n",
       "      <th>TARGET_D</th>\n",
       "    </tr>\n",
       "  </thead>\n",
       "  <tbody>\n",
       "    <tr>\n",
       "      <th>count</th>\n",
       "      <td>76329.000000</td>\n",
       "      <td>76329.000000</td>\n",
       "    </tr>\n",
       "    <tr>\n",
       "      <th>mean</th>\n",
       "      <td>0.050754</td>\n",
       "      <td>0.799556</td>\n",
       "    </tr>\n",
       "    <tr>\n",
       "      <th>std</th>\n",
       "      <td>0.219496</td>\n",
       "      <td>4.493090</td>\n",
       "    </tr>\n",
       "    <tr>\n",
       "      <th>min</th>\n",
       "      <td>0.000000</td>\n",
       "      <td>0.000000</td>\n",
       "    </tr>\n",
       "    <tr>\n",
       "      <th>25%</th>\n",
       "      <td>0.000000</td>\n",
       "      <td>0.000000</td>\n",
       "    </tr>\n",
       "    <tr>\n",
       "      <th>50%</th>\n",
       "      <td>0.000000</td>\n",
       "      <td>0.000000</td>\n",
       "    </tr>\n",
       "    <tr>\n",
       "      <th>75%</th>\n",
       "      <td>0.000000</td>\n",
       "      <td>0.000000</td>\n",
       "    </tr>\n",
       "    <tr>\n",
       "      <th>max</th>\n",
       "      <td>1.000000</td>\n",
       "      <td>200.000000</td>\n",
       "    </tr>\n",
       "  </tbody>\n",
       "</table>\n",
       "</div>"
      ],
      "text/plain": [
       "           TARGET_B      TARGET_D\n",
       "count  76329.000000  76329.000000\n",
       "mean       0.050754      0.799556\n",
       "std        0.219496      4.493090\n",
       "min        0.000000      0.000000\n",
       "25%        0.000000      0.000000\n",
       "50%        0.000000      0.000000\n",
       "75%        0.000000      0.000000\n",
       "max        1.000000    200.000000"
      ]
     },
     "execution_count": 36,
     "metadata": {},
     "output_type": "execute_result"
    }
   ],
   "source": [
    "kdd98_learn_targets.describe()"
   ]
  },
  {
   "cell_type": "markdown",
   "metadata": {},
   "source": [
    "### Boruta"
   ]
  },
  {
   "cell_type": "code",
   "execution_count": 6,
   "metadata": {},
   "outputs": [],
   "source": [
    "from boruta import BorutaPy\n",
    "from sklearn.ensemble import RandomForestClassifier"
   ]
  },
  {
   "cell_type": "code",
   "execution_count": 7,
   "metadata": {},
   "outputs": [
    {
     "name": "stdout",
     "output_type": "stream",
     "text": [
      "Help on class BorutaPy in module boruta.boruta_py:\n",
      "\n",
      "class BorutaPy(sklearn.base.BaseEstimator, sklearn.base.TransformerMixin)\n",
      " |  Improved Python implementation of the Boruta R package.\n",
      " |  \n",
      " |  The improvements of this implementation include:\n",
      " |  - Faster run times:\n",
      " |      Thanks to scikit-learn's fast implementation of the ensemble methods.\n",
      " |  - Scikit-learn like interface:\n",
      " |      Use BorutaPy just like any other scikit learner: fit, fit_transform and\n",
      " |      transform are all implemented in a similar fashion.\n",
      " |  - Modularity:\n",
      " |      Any ensemble method could be used: random forest, extra trees\n",
      " |      classifier, even gradient boosted trees.\n",
      " |  - Two step correction:\n",
      " |      The original Boruta code corrects for multiple testing in an overly\n",
      " |      conservative way. In this implementation, the Benjamini Hochberg FDR is\n",
      " |      used to correct in each iteration across active features. This means\n",
      " |      only those features are included in the correction which are still in\n",
      " |      the selection process. Following this, each that passed goes through a\n",
      " |      regular Bonferroni correction to check for the repeated testing over\n",
      " |      the iterations.\n",
      " |  - Percentile:\n",
      " |      Instead of using the max values of the shadow features the user can\n",
      " |      specify which percentile to use. This gives a finer control over this\n",
      " |      crucial parameter. For more info, please read about the perc parameter.\n",
      " |  - Automatic tree number:\n",
      " |      Setting the n_estimator to 'auto' will calculate the number of trees\n",
      " |      in each itartion based on the number of features under investigation.\n",
      " |      This way more trees are used when the training data has many feautres\n",
      " |      and less when most of the features have been rejected.\n",
      " |  - Ranking of features:\n",
      " |      After fitting BorutaPy it provides the user with ranking of features.\n",
      " |      Confirmed ones are 1, Tentatives are 2, and the rejected are ranked\n",
      " |      starting from 3, based on their feautre importance history through\n",
      " |      the iterations.\n",
      " |  \n",
      " |  We highly recommend using pruned trees with a depth between 3-7.\n",
      " |  \n",
      " |  For more, see the docs of these functions, and the examples below.\n",
      " |  \n",
      " |  Original code and method by: Miron B Kursa, https://m2.icm.edu.pl/boruta/\n",
      " |  \n",
      " |  Boruta is an all relevant feature selection method, while most other are\n",
      " |  minimal optimal; this means it tries to find all features carrying\n",
      " |  information usable for prediction, rather than finding a possibly compact\n",
      " |  subset of features on which some classifier has a minimal error.\n",
      " |  \n",
      " |  Why bother with all relevant feature selection?\n",
      " |  When you try to understand the phenomenon that made your data, you should\n",
      " |  care about all factors that contribute to it, not just the bluntest signs\n",
      " |  of it in context of your methodology (yes, minimal optimal set of features\n",
      " |  by definition depends on your classifier choice).\n",
      " |  \n",
      " |  Parameters\n",
      " |  ----------\n",
      " |  \n",
      " |  estimator : object\n",
      " |      A supervised learning estimator, with a 'fit' method that returns the\n",
      " |      feature_importances_ attribute. Important features must correspond to\n",
      " |      high absolute values in the feature_importances_.\n",
      " |  \n",
      " |  n_estimators : int or string, default = 1000\n",
      " |      If int sets the number of estimators in the chosen ensemble method.\n",
      " |      If 'auto' this is determined automatically based on the size of the\n",
      " |      dataset. The other parameters of the used estimators need to be set\n",
      " |      with initialisation.\n",
      " |  \n",
      " |  perc : int, default = 100\n",
      " |      Instead of the max we use the percentile defined by the user, to pick\n",
      " |      our threshold for comparison between shadow and real features. The max\n",
      " |      tend to be too stringent. This provides a finer control over this. The\n",
      " |      lower perc is the more false positives will be picked as relevant but\n",
      " |      also the less relevant features will be left out. The usual trade-off.\n",
      " |      The default is essentially the vanilla Boruta corresponding to the max.\n",
      " |  \n",
      " |  alpha : float, default = 0.05\n",
      " |      Level at which the corrected p-values will get rejected in both\n",
      " |      correction steps.\n",
      " |  \n",
      " |  two_step : Boolean, default = True\n",
      " |      If you want to use the original implementation of Boruta with Bonferroni\n",
      " |      correction only set this to False.\n",
      " |  \n",
      " |  max_iter : int, default = 100\n",
      " |      The number of maximum iterations to perform.\n",
      " |  \n",
      " |  random_state : int, RandomState instance or None; default=None\n",
      " |      If int, random_state is the seed used by the random number generator;\n",
      " |      If RandomState instance, random_state is the random number generator;\n",
      " |      If None, the random number generator is the RandomState instance used\n",
      " |      by `np.random`.\n",
      " |  \n",
      " |  verbose : int, default=0\n",
      " |      Controls verbosity of output:\n",
      " |      - 0: no output\n",
      " |      - 1: displays iteration number\n",
      " |      - 2: which features have been selected already\n",
      " |  \n",
      " |  Attributes\n",
      " |  ----------\n",
      " |  \n",
      " |  n_features_ : int\n",
      " |      The number of selected features.\n",
      " |  \n",
      " |  support_ : array of shape [n_features]\n",
      " |  \n",
      " |      The mask of selected features - only confirmed ones are True.\n",
      " |  \n",
      " |  support_weak_ : array of shape [n_features]\n",
      " |  \n",
      " |      The mask of selected tentative features, which haven't gained enough\n",
      " |      support during the max_iter number of iterations..\n",
      " |  \n",
      " |  ranking_ : array of shape [n_features]\n",
      " |  \n",
      " |      The feature ranking, such that ``ranking_[i]`` corresponds to the\n",
      " |      ranking position of the i-th feature. Selected (i.e., estimated\n",
      " |      best) features are assigned rank 1 and tentative features are assigned\n",
      " |      rank 2.\n",
      " |  \n",
      " |  Examples\n",
      " |  --------\n",
      " |  \n",
      " |  import pandas as pd\n",
      " |  from sklearn.ensemble import RandomForestClassifier\n",
      " |  from boruta import BorutaPy\n",
      " |  \n",
      " |  # load X and y\n",
      " |  # NOTE BorutaPy accepts numpy arrays only, hence the .values attribute\n",
      " |  X = pd.read_csv('examples/test_X.csv', index_col=0).values\n",
      " |  y = pd.read_csv('examples/test_y.csv', header=None, index_col=0).values\n",
      " |  y = y.ravel()\n",
      " |  \n",
      " |  # define random forest classifier, with utilising all cores and\n",
      " |  # sampling in proportion to y labels\n",
      " |  rf = RandomForestClassifier(n_jobs=-1, class_weight='auto', max_depth=5)\n",
      " |  \n",
      " |  # define Boruta feature selection method\n",
      " |  feat_selector = BorutaPy(rf, n_estimators='auto', verbose=2, random_state=1)\n",
      " |  \n",
      " |  # find all relevant features - 5 features should be selected\n",
      " |  feat_selector.fit(X, y)\n",
      " |  \n",
      " |  # check selected features - first 5 features are selected\n",
      " |  feat_selector.support_\n",
      " |  \n",
      " |  # check ranking of features\n",
      " |  feat_selector.ranking_\n",
      " |  \n",
      " |  # call transform() on X to filter it down to selected features\n",
      " |  X_filtered = feat_selector.transform(X)\n",
      " |  \n",
      " |  References\n",
      " |  ----------\n",
      " |  \n",
      " |  [1] Kursa M., Rudnicki W., \"Feature Selection with the Boruta Package\"\n",
      " |      Journal of Statistical Software, Vol. 36, Issue 11, Sep 2010\n",
      " |  \n",
      " |  Method resolution order:\n",
      " |      BorutaPy\n",
      " |      sklearn.base.BaseEstimator\n",
      " |      sklearn.base.TransformerMixin\n",
      " |      builtins.object\n",
      " |  \n",
      " |  Methods defined here:\n",
      " |  \n",
      " |  __init__(self, estimator, n_estimators=1000, perc=100, alpha=0.05, two_step=True, max_iter=100, random_state=None, verbose=0)\n",
      " |      Initialize self.  See help(type(self)) for accurate signature.\n",
      " |  \n",
      " |  fit(self, X, y)\n",
      " |      Fits the Boruta feature selection with the provided estimator.\n",
      " |      \n",
      " |      Parameters\n",
      " |      ----------\n",
      " |      X : array-like, shape = [n_samples, n_features]\n",
      " |          The training input samples.\n",
      " |      \n",
      " |      y : array-like, shape = [n_samples]\n",
      " |          The target values.\n",
      " |  \n",
      " |  fit_transform(self, X, y, weak=False)\n",
      " |      Fits Boruta, then reduces the input X to the selected features.\n",
      " |      \n",
      " |      Parameters\n",
      " |      ----------\n",
      " |      X : array-like, shape = [n_samples, n_features]\n",
      " |          The training input samples.\n",
      " |      \n",
      " |      y : array-like, shape = [n_samples]\n",
      " |          The target values.\n",
      " |      \n",
      " |      weak: boolean, default = False\n",
      " |          If set to true, the tentative features are also used to reduce X.\n",
      " |      \n",
      " |      Returns\n",
      " |      -------\n",
      " |      X : array-like, shape = [n_samples, n_features_]\n",
      " |          The input matrix X's columns are reduced to the features which were\n",
      " |          selected by Boruta.\n",
      " |  \n",
      " |  transform(self, X, weak=False)\n",
      " |      Reduces the input X to the features selected by Boruta.\n",
      " |      \n",
      " |      Parameters\n",
      " |      ----------\n",
      " |      X : array-like, shape = [n_samples, n_features]\n",
      " |          The training input samples.\n",
      " |      \n",
      " |      weak: boolean, default = False\n",
      " |          If set to true, the tentative features are also used to reduce X.\n",
      " |      \n",
      " |      Returns\n",
      " |      -------\n",
      " |      X : array-like, shape = [n_samples, n_features_]\n",
      " |          The input matrix X's columns are reduced to the features which were\n",
      " |          selected by Boruta.\n",
      " |  \n",
      " |  ----------------------------------------------------------------------\n",
      " |  Methods inherited from sklearn.base.BaseEstimator:\n",
      " |  \n",
      " |  __getstate__(self)\n",
      " |  \n",
      " |  __repr__(self)\n",
      " |      Return repr(self).\n",
      " |  \n",
      " |  __setstate__(self, state)\n",
      " |  \n",
      " |  get_params(self, deep=True)\n",
      " |      Get parameters for this estimator.\n",
      " |      \n",
      " |      Parameters\n",
      " |      ----------\n",
      " |      deep : boolean, optional\n",
      " |          If True, will return the parameters for this estimator and\n",
      " |          contained subobjects that are estimators.\n",
      " |      \n",
      " |      Returns\n",
      " |      -------\n",
      " |      params : mapping of string to any\n",
      " |          Parameter names mapped to their values.\n",
      " |  \n",
      " |  set_params(self, **params)\n",
      " |      Set the parameters of this estimator.\n",
      " |      \n",
      " |      The method works on simple estimators as well as on nested objects\n",
      " |      (such as pipelines). The latter have parameters of the form\n",
      " |      ``<component>__<parameter>`` so that it's possible to update each\n",
      " |      component of a nested object.\n",
      " |      \n",
      " |      Returns\n",
      " |      -------\n",
      " |      self\n",
      " |  \n",
      " |  ----------------------------------------------------------------------\n",
      " |  Data descriptors inherited from sklearn.base.BaseEstimator:\n",
      " |  \n",
      " |  __dict__\n",
      " |      dictionary for instance variables (if defined)\n",
      " |  \n",
      " |  __weakref__\n",
      " |      list of weak references to the object (if defined)\n",
      "\n"
     ]
    }
   ],
   "source": [
    "help(BorutaPy)"
   ]
  },
  {
   "cell_type": "code",
   "execution_count": 8,
   "metadata": {},
   "outputs": [],
   "source": [
    "# define random forest classifier, with utilising all cores and\n",
    "# sampling in proportion to y labels\n",
    "rf = RandomForestClassifier(n_jobs=-1, class_weight='balanced_subsample', max_depth=5)\n",
    "\n",
    "# define Boruta feature selection method\n",
    "feat_selector = BorutaPy(rf, n_estimators='auto',\n",
    "                         max_iter=120,\n",
    "                         verbose=2,\n",
    "                         random_state=Config.get(\"random_seed\"))"
   ]
  },
  {
   "cell_type": "code",
   "execution_count": 9,
   "metadata": {},
   "outputs": [
    {
     "name": "stdout",
     "output_type": "stream",
     "text": [
      "Iteration: \t1 / 120\n",
      "Confirmed: \t0\n",
      "Tentative: \t653\n",
      "Rejected: \t0\n",
      "Iteration: \t2 / 120\n",
      "Confirmed: \t0\n",
      "Tentative: \t653\n",
      "Rejected: \t0\n",
      "Iteration: \t3 / 120\n",
      "Confirmed: \t0\n",
      "Tentative: \t653\n",
      "Rejected: \t0\n",
      "Iteration: \t4 / 120\n",
      "Confirmed: \t0\n",
      "Tentative: \t653\n",
      "Rejected: \t0\n",
      "Iteration: \t5 / 120\n",
      "Confirmed: \t0\n",
      "Tentative: \t653\n",
      "Rejected: \t0\n",
      "Iteration: \t6 / 120\n",
      "Confirmed: \t0\n",
      "Tentative: \t653\n",
      "Rejected: \t0\n",
      "Iteration: \t7 / 120\n",
      "Confirmed: \t0\n",
      "Tentative: \t653\n",
      "Rejected: \t0\n",
      "Iteration: \t8 / 120\n",
      "Confirmed: \t90\n",
      "Tentative: \t98\n",
      "Rejected: \t465\n"
     ]
    },
    {
     "name": "stderr",
     "output_type": "stream",
     "text": [
      "/data/anaconda/envs/py36/lib/python3.6/site-packages/boruta/boruta_py.py:418: RuntimeWarning: invalid value encountered in greater\n",
      "  hits = np.where(cur_imp[0] > imp_sha_max)[0]\n"
     ]
    },
    {
     "name": "stdout",
     "output_type": "stream",
     "text": [
      "Iteration: \t9 / 120\n",
      "Confirmed: \t90\n",
      "Tentative: \t98\n",
      "Rejected: \t465\n"
     ]
    },
    {
     "name": "stderr",
     "output_type": "stream",
     "text": [
      "/data/anaconda/envs/py36/lib/python3.6/site-packages/boruta/boruta_py.py:418: RuntimeWarning: invalid value encountered in greater\n",
      "  hits = np.where(cur_imp[0] > imp_sha_max)[0]\n"
     ]
    },
    {
     "name": "stdout",
     "output_type": "stream",
     "text": [
      "Iteration: \t10 / 120\n",
      "Confirmed: \t90\n",
      "Tentative: \t98\n",
      "Rejected: \t465\n"
     ]
    },
    {
     "name": "stderr",
     "output_type": "stream",
     "text": [
      "/data/anaconda/envs/py36/lib/python3.6/site-packages/boruta/boruta_py.py:418: RuntimeWarning: invalid value encountered in greater\n",
      "  hits = np.where(cur_imp[0] > imp_sha_max)[0]\n"
     ]
    },
    {
     "name": "stdout",
     "output_type": "stream",
     "text": [
      "Iteration: \t11 / 120\n",
      "Confirmed: \t90\n",
      "Tentative: \t98\n",
      "Rejected: \t465\n"
     ]
    },
    {
     "name": "stderr",
     "output_type": "stream",
     "text": [
      "/data/anaconda/envs/py36/lib/python3.6/site-packages/boruta/boruta_py.py:418: RuntimeWarning: invalid value encountered in greater\n",
      "  hits = np.where(cur_imp[0] > imp_sha_max)[0]\n"
     ]
    },
    {
     "name": "stdout",
     "output_type": "stream",
     "text": [
      "Iteration: \t12 / 120\n",
      "Confirmed: \t98\n",
      "Tentative: \t66\n",
      "Rejected: \t489\n"
     ]
    },
    {
     "name": "stderr",
     "output_type": "stream",
     "text": [
      "/data/anaconda/envs/py36/lib/python3.6/site-packages/boruta/boruta_py.py:418: RuntimeWarning: invalid value encountered in greater\n",
      "  hits = np.where(cur_imp[0] > imp_sha_max)[0]\n"
     ]
    },
    {
     "name": "stdout",
     "output_type": "stream",
     "text": [
      "Iteration: \t13 / 120\n",
      "Confirmed: \t98\n",
      "Tentative: \t66\n",
      "Rejected: \t489\n"
     ]
    },
    {
     "name": "stderr",
     "output_type": "stream",
     "text": [
      "/data/anaconda/envs/py36/lib/python3.6/site-packages/boruta/boruta_py.py:418: RuntimeWarning: invalid value encountered in greater\n",
      "  hits = np.where(cur_imp[0] > imp_sha_max)[0]\n"
     ]
    },
    {
     "name": "stdout",
     "output_type": "stream",
     "text": [
      "Iteration: \t14 / 120\n",
      "Confirmed: \t98\n",
      "Tentative: \t66\n",
      "Rejected: \t489\n"
     ]
    },
    {
     "name": "stderr",
     "output_type": "stream",
     "text": [
      "/data/anaconda/envs/py36/lib/python3.6/site-packages/boruta/boruta_py.py:418: RuntimeWarning: invalid value encountered in greater\n",
      "  hits = np.where(cur_imp[0] > imp_sha_max)[0]\n"
     ]
    },
    {
     "name": "stdout",
     "output_type": "stream",
     "text": [
      "Iteration: \t15 / 120\n",
      "Confirmed: \t98\n",
      "Tentative: \t66\n",
      "Rejected: \t489\n"
     ]
    },
    {
     "name": "stderr",
     "output_type": "stream",
     "text": [
      "/data/anaconda/envs/py36/lib/python3.6/site-packages/boruta/boruta_py.py:418: RuntimeWarning: invalid value encountered in greater\n",
      "  hits = np.where(cur_imp[0] > imp_sha_max)[0]\n"
     ]
    },
    {
     "name": "stdout",
     "output_type": "stream",
     "text": [
      "Iteration: \t16 / 120\n",
      "Confirmed: \t99\n",
      "Tentative: \t58\n",
      "Rejected: \t496\n"
     ]
    },
    {
     "name": "stderr",
     "output_type": "stream",
     "text": [
      "/data/anaconda/envs/py36/lib/python3.6/site-packages/boruta/boruta_py.py:418: RuntimeWarning: invalid value encountered in greater\n",
      "  hits = np.where(cur_imp[0] > imp_sha_max)[0]\n"
     ]
    },
    {
     "name": "stdout",
     "output_type": "stream",
     "text": [
      "Iteration: \t17 / 120\n",
      "Confirmed: \t99\n",
      "Tentative: \t58\n",
      "Rejected: \t496\n"
     ]
    },
    {
     "name": "stderr",
     "output_type": "stream",
     "text": [
      "/data/anaconda/envs/py36/lib/python3.6/site-packages/boruta/boruta_py.py:418: RuntimeWarning: invalid value encountered in greater\n",
      "  hits = np.where(cur_imp[0] > imp_sha_max)[0]\n"
     ]
    },
    {
     "name": "stdout",
     "output_type": "stream",
     "text": [
      "Iteration: \t18 / 120\n",
      "Confirmed: \t99\n",
      "Tentative: \t58\n",
      "Rejected: \t496\n"
     ]
    },
    {
     "name": "stderr",
     "output_type": "stream",
     "text": [
      "/data/anaconda/envs/py36/lib/python3.6/site-packages/boruta/boruta_py.py:418: RuntimeWarning: invalid value encountered in greater\n",
      "  hits = np.where(cur_imp[0] > imp_sha_max)[0]\n"
     ]
    },
    {
     "name": "stdout",
     "output_type": "stream",
     "text": [
      "Iteration: \t19 / 120\n",
      "Confirmed: \t99\n",
      "Tentative: \t51\n",
      "Rejected: \t503\n"
     ]
    },
    {
     "name": "stderr",
     "output_type": "stream",
     "text": [
      "/data/anaconda/envs/py36/lib/python3.6/site-packages/boruta/boruta_py.py:418: RuntimeWarning: invalid value encountered in greater\n",
      "  hits = np.where(cur_imp[0] > imp_sha_max)[0]\n"
     ]
    },
    {
     "name": "stdout",
     "output_type": "stream",
     "text": [
      "Iteration: \t20 / 120\n",
      "Confirmed: \t99\n",
      "Tentative: \t51\n",
      "Rejected: \t503\n"
     ]
    },
    {
     "name": "stderr",
     "output_type": "stream",
     "text": [
      "/data/anaconda/envs/py36/lib/python3.6/site-packages/boruta/boruta_py.py:418: RuntimeWarning: invalid value encountered in greater\n",
      "  hits = np.where(cur_imp[0] > imp_sha_max)[0]\n"
     ]
    },
    {
     "name": "stdout",
     "output_type": "stream",
     "text": [
      "Iteration: \t21 / 120\n",
      "Confirmed: \t99\n",
      "Tentative: \t51\n",
      "Rejected: \t503\n"
     ]
    },
    {
     "name": "stderr",
     "output_type": "stream",
     "text": [
      "/data/anaconda/envs/py36/lib/python3.6/site-packages/boruta/boruta_py.py:418: RuntimeWarning: invalid value encountered in greater\n",
      "  hits = np.where(cur_imp[0] > imp_sha_max)[0]\n"
     ]
    },
    {
     "name": "stdout",
     "output_type": "stream",
     "text": [
      "Iteration: \t22 / 120\n",
      "Confirmed: \t100\n",
      "Tentative: \t50\n",
      "Rejected: \t503\n"
     ]
    },
    {
     "name": "stderr",
     "output_type": "stream",
     "text": [
      "/data/anaconda/envs/py36/lib/python3.6/site-packages/boruta/boruta_py.py:418: RuntimeWarning: invalid value encountered in greater\n",
      "  hits = np.where(cur_imp[0] > imp_sha_max)[0]\n"
     ]
    },
    {
     "name": "stdout",
     "output_type": "stream",
     "text": [
      "Iteration: \t23 / 120\n",
      "Confirmed: \t100\n",
      "Tentative: \t46\n",
      "Rejected: \t507\n"
     ]
    },
    {
     "name": "stderr",
     "output_type": "stream",
     "text": [
      "/data/anaconda/envs/py36/lib/python3.6/site-packages/boruta/boruta_py.py:418: RuntimeWarning: invalid value encountered in greater\n",
      "  hits = np.where(cur_imp[0] > imp_sha_max)[0]\n"
     ]
    },
    {
     "name": "stdout",
     "output_type": "stream",
     "text": [
      "Iteration: \t24 / 120\n",
      "Confirmed: \t100\n",
      "Tentative: \t46\n",
      "Rejected: \t507\n"
     ]
    },
    {
     "name": "stderr",
     "output_type": "stream",
     "text": [
      "/data/anaconda/envs/py36/lib/python3.6/site-packages/boruta/boruta_py.py:418: RuntimeWarning: invalid value encountered in greater\n",
      "  hits = np.where(cur_imp[0] > imp_sha_max)[0]\n"
     ]
    },
    {
     "name": "stdout",
     "output_type": "stream",
     "text": [
      "Iteration: \t25 / 120\n",
      "Confirmed: \t100\n",
      "Tentative: \t46\n",
      "Rejected: \t507\n"
     ]
    },
    {
     "name": "stderr",
     "output_type": "stream",
     "text": [
      "/data/anaconda/envs/py36/lib/python3.6/site-packages/boruta/boruta_py.py:418: RuntimeWarning: invalid value encountered in greater\n",
      "  hits = np.where(cur_imp[0] > imp_sha_max)[0]\n"
     ]
    },
    {
     "name": "stdout",
     "output_type": "stream",
     "text": [
      "Iteration: \t26 / 120\n",
      "Confirmed: \t101\n",
      "Tentative: \t41\n",
      "Rejected: \t511\n"
     ]
    },
    {
     "name": "stderr",
     "output_type": "stream",
     "text": [
      "/data/anaconda/envs/py36/lib/python3.6/site-packages/boruta/boruta_py.py:418: RuntimeWarning: invalid value encountered in greater\n",
      "  hits = np.where(cur_imp[0] > imp_sha_max)[0]\n"
     ]
    },
    {
     "name": "stdout",
     "output_type": "stream",
     "text": [
      "Iteration: \t27 / 120\n",
      "Confirmed: \t101\n",
      "Tentative: \t41\n",
      "Rejected: \t511\n"
     ]
    },
    {
     "name": "stderr",
     "output_type": "stream",
     "text": [
      "/data/anaconda/envs/py36/lib/python3.6/site-packages/boruta/boruta_py.py:418: RuntimeWarning: invalid value encountered in greater\n",
      "  hits = np.where(cur_imp[0] > imp_sha_max)[0]\n"
     ]
    },
    {
     "name": "stdout",
     "output_type": "stream",
     "text": [
      "Iteration: \t28 / 120\n",
      "Confirmed: \t101\n",
      "Tentative: \t41\n",
      "Rejected: \t511\n"
     ]
    },
    {
     "name": "stderr",
     "output_type": "stream",
     "text": [
      "/data/anaconda/envs/py36/lib/python3.6/site-packages/boruta/boruta_py.py:418: RuntimeWarning: invalid value encountered in greater\n",
      "  hits = np.where(cur_imp[0] > imp_sha_max)[0]\n"
     ]
    },
    {
     "name": "stdout",
     "output_type": "stream",
     "text": [
      "Iteration: \t29 / 120\n",
      "Confirmed: \t102\n",
      "Tentative: \t40\n",
      "Rejected: \t511\n"
     ]
    },
    {
     "name": "stderr",
     "output_type": "stream",
     "text": [
      "/data/anaconda/envs/py36/lib/python3.6/site-packages/boruta/boruta_py.py:418: RuntimeWarning: invalid value encountered in greater\n",
      "  hits = np.where(cur_imp[0] > imp_sha_max)[0]\n"
     ]
    },
    {
     "name": "stdout",
     "output_type": "stream",
     "text": [
      "Iteration: \t30 / 120\n",
      "Confirmed: \t102\n",
      "Tentative: \t37\n",
      "Rejected: \t514\n"
     ]
    },
    {
     "name": "stderr",
     "output_type": "stream",
     "text": [
      "/data/anaconda/envs/py36/lib/python3.6/site-packages/boruta/boruta_py.py:418: RuntimeWarning: invalid value encountered in greater\n",
      "  hits = np.where(cur_imp[0] > imp_sha_max)[0]\n"
     ]
    },
    {
     "name": "stdout",
     "output_type": "stream",
     "text": [
      "Iteration: \t31 / 120\n",
      "Confirmed: \t102\n",
      "Tentative: \t37\n",
      "Rejected: \t514\n"
     ]
    },
    {
     "name": "stderr",
     "output_type": "stream",
     "text": [
      "/data/anaconda/envs/py36/lib/python3.6/site-packages/boruta/boruta_py.py:418: RuntimeWarning: invalid value encountered in greater\n",
      "  hits = np.where(cur_imp[0] > imp_sha_max)[0]\n"
     ]
    },
    {
     "name": "stdout",
     "output_type": "stream",
     "text": [
      "Iteration: \t32 / 120\n",
      "Confirmed: \t102\n",
      "Tentative: \t33\n",
      "Rejected: \t518\n"
     ]
    },
    {
     "name": "stderr",
     "output_type": "stream",
     "text": [
      "/data/anaconda/envs/py36/lib/python3.6/site-packages/boruta/boruta_py.py:418: RuntimeWarning: invalid value encountered in greater\n",
      "  hits = np.where(cur_imp[0] > imp_sha_max)[0]\n"
     ]
    },
    {
     "name": "stdout",
     "output_type": "stream",
     "text": [
      "Iteration: \t33 / 120\n",
      "Confirmed: \t102\n",
      "Tentative: \t33\n",
      "Rejected: \t518\n"
     ]
    },
    {
     "name": "stderr",
     "output_type": "stream",
     "text": [
      "/data/anaconda/envs/py36/lib/python3.6/site-packages/boruta/boruta_py.py:418: RuntimeWarning: invalid value encountered in greater\n",
      "  hits = np.where(cur_imp[0] > imp_sha_max)[0]\n"
     ]
    },
    {
     "name": "stdout",
     "output_type": "stream",
     "text": [
      "Iteration: \t34 / 120\n",
      "Confirmed: \t102\n",
      "Tentative: \t33\n",
      "Rejected: \t518\n"
     ]
    },
    {
     "name": "stderr",
     "output_type": "stream",
     "text": [
      "/data/anaconda/envs/py36/lib/python3.6/site-packages/boruta/boruta_py.py:418: RuntimeWarning: invalid value encountered in greater\n",
      "  hits = np.where(cur_imp[0] > imp_sha_max)[0]\n"
     ]
    },
    {
     "name": "stdout",
     "output_type": "stream",
     "text": [
      "Iteration: \t35 / 120\n",
      "Confirmed: \t102\n",
      "Tentative: \t33\n",
      "Rejected: \t518\n"
     ]
    },
    {
     "name": "stderr",
     "output_type": "stream",
     "text": [
      "/data/anaconda/envs/py36/lib/python3.6/site-packages/boruta/boruta_py.py:418: RuntimeWarning: invalid value encountered in greater\n",
      "  hits = np.where(cur_imp[0] > imp_sha_max)[0]\n"
     ]
    },
    {
     "name": "stdout",
     "output_type": "stream",
     "text": [
      "Iteration: \t36 / 120\n",
      "Confirmed: \t102\n",
      "Tentative: \t31\n",
      "Rejected: \t520\n"
     ]
    },
    {
     "name": "stderr",
     "output_type": "stream",
     "text": [
      "/data/anaconda/envs/py36/lib/python3.6/site-packages/boruta/boruta_py.py:418: RuntimeWarning: invalid value encountered in greater\n",
      "  hits = np.where(cur_imp[0] > imp_sha_max)[0]\n"
     ]
    },
    {
     "name": "stdout",
     "output_type": "stream",
     "text": [
      "Iteration: \t37 / 120\n",
      "Confirmed: \t102\n",
      "Tentative: \t31\n",
      "Rejected: \t520\n"
     ]
    },
    {
     "name": "stderr",
     "output_type": "stream",
     "text": [
      "/data/anaconda/envs/py36/lib/python3.6/site-packages/boruta/boruta_py.py:418: RuntimeWarning: invalid value encountered in greater\n",
      "  hits = np.where(cur_imp[0] > imp_sha_max)[0]\n"
     ]
    },
    {
     "name": "stdout",
     "output_type": "stream",
     "text": [
      "Iteration: \t38 / 120\n",
      "Confirmed: \t102\n",
      "Tentative: \t31\n",
      "Rejected: \t520\n"
     ]
    },
    {
     "name": "stderr",
     "output_type": "stream",
     "text": [
      "/data/anaconda/envs/py36/lib/python3.6/site-packages/boruta/boruta_py.py:418: RuntimeWarning: invalid value encountered in greater\n",
      "  hits = np.where(cur_imp[0] > imp_sha_max)[0]\n"
     ]
    },
    {
     "name": "stdout",
     "output_type": "stream",
     "text": [
      "Iteration: \t39 / 120\n",
      "Confirmed: \t102\n",
      "Tentative: \t30\n",
      "Rejected: \t521\n"
     ]
    },
    {
     "name": "stderr",
     "output_type": "stream",
     "text": [
      "/data/anaconda/envs/py36/lib/python3.6/site-packages/boruta/boruta_py.py:418: RuntimeWarning: invalid value encountered in greater\n",
      "  hits = np.where(cur_imp[0] > imp_sha_max)[0]\n"
     ]
    },
    {
     "name": "stdout",
     "output_type": "stream",
     "text": [
      "Iteration: \t40 / 120\n",
      "Confirmed: \t102\n",
      "Tentative: \t26\n",
      "Rejected: \t525\n"
     ]
    },
    {
     "name": "stderr",
     "output_type": "stream",
     "text": [
      "/data/anaconda/envs/py36/lib/python3.6/site-packages/boruta/boruta_py.py:418: RuntimeWarning: invalid value encountered in greater\n",
      "  hits = np.where(cur_imp[0] > imp_sha_max)[0]\n"
     ]
    },
    {
     "name": "stdout",
     "output_type": "stream",
     "text": [
      "Iteration: \t41 / 120\n",
      "Confirmed: \t102\n",
      "Tentative: \t26\n",
      "Rejected: \t525\n"
     ]
    },
    {
     "name": "stderr",
     "output_type": "stream",
     "text": [
      "/data/anaconda/envs/py36/lib/python3.6/site-packages/boruta/boruta_py.py:418: RuntimeWarning: invalid value encountered in greater\n",
      "  hits = np.where(cur_imp[0] > imp_sha_max)[0]\n"
     ]
    },
    {
     "name": "stdout",
     "output_type": "stream",
     "text": [
      "Iteration: \t42 / 120\n",
      "Confirmed: \t102\n",
      "Tentative: \t26\n",
      "Rejected: \t525\n"
     ]
    },
    {
     "name": "stderr",
     "output_type": "stream",
     "text": [
      "/data/anaconda/envs/py36/lib/python3.6/site-packages/boruta/boruta_py.py:418: RuntimeWarning: invalid value encountered in greater\n",
      "  hits = np.where(cur_imp[0] > imp_sha_max)[0]\n"
     ]
    },
    {
     "name": "stdout",
     "output_type": "stream",
     "text": [
      "Iteration: \t43 / 120\n",
      "Confirmed: \t102\n",
      "Tentative: \t24\n",
      "Rejected: \t527\n"
     ]
    },
    {
     "name": "stderr",
     "output_type": "stream",
     "text": [
      "/data/anaconda/envs/py36/lib/python3.6/site-packages/boruta/boruta_py.py:418: RuntimeWarning: invalid value encountered in greater\n",
      "  hits = np.where(cur_imp[0] > imp_sha_max)[0]\n"
     ]
    },
    {
     "name": "stdout",
     "output_type": "stream",
     "text": [
      "Iteration: \t44 / 120\n",
      "Confirmed: \t102\n",
      "Tentative: \t24\n",
      "Rejected: \t527\n"
     ]
    },
    {
     "name": "stderr",
     "output_type": "stream",
     "text": [
      "/data/anaconda/envs/py36/lib/python3.6/site-packages/boruta/boruta_py.py:418: RuntimeWarning: invalid value encountered in greater\n",
      "  hits = np.where(cur_imp[0] > imp_sha_max)[0]\n"
     ]
    },
    {
     "name": "stdout",
     "output_type": "stream",
     "text": [
      "Iteration: \t45 / 120\n",
      "Confirmed: \t102\n",
      "Tentative: \t24\n",
      "Rejected: \t527\n"
     ]
    },
    {
     "name": "stderr",
     "output_type": "stream",
     "text": [
      "/data/anaconda/envs/py36/lib/python3.6/site-packages/boruta/boruta_py.py:418: RuntimeWarning: invalid value encountered in greater\n",
      "  hits = np.where(cur_imp[0] > imp_sha_max)[0]\n"
     ]
    },
    {
     "name": "stdout",
     "output_type": "stream",
     "text": [
      "Iteration: \t46 / 120\n",
      "Confirmed: \t102\n",
      "Tentative: \t23\n",
      "Rejected: \t528\n"
     ]
    },
    {
     "name": "stderr",
     "output_type": "stream",
     "text": [
      "/data/anaconda/envs/py36/lib/python3.6/site-packages/boruta/boruta_py.py:418: RuntimeWarning: invalid value encountered in greater\n",
      "  hits = np.where(cur_imp[0] > imp_sha_max)[0]\n"
     ]
    },
    {
     "name": "stdout",
     "output_type": "stream",
     "text": [
      "Iteration: \t47 / 120\n",
      "Confirmed: \t102\n",
      "Tentative: \t23\n",
      "Rejected: \t528\n"
     ]
    },
    {
     "name": "stderr",
     "output_type": "stream",
     "text": [
      "/data/anaconda/envs/py36/lib/python3.6/site-packages/boruta/boruta_py.py:418: RuntimeWarning: invalid value encountered in greater\n",
      "  hits = np.where(cur_imp[0] > imp_sha_max)[0]\n"
     ]
    },
    {
     "name": "stdout",
     "output_type": "stream",
     "text": [
      "Iteration: \t48 / 120\n",
      "Confirmed: \t102\n",
      "Tentative: \t23\n",
      "Rejected: \t528\n"
     ]
    },
    {
     "name": "stderr",
     "output_type": "stream",
     "text": [
      "/data/anaconda/envs/py36/lib/python3.6/site-packages/boruta/boruta_py.py:418: RuntimeWarning: invalid value encountered in greater\n",
      "  hits = np.where(cur_imp[0] > imp_sha_max)[0]\n"
     ]
    },
    {
     "name": "stdout",
     "output_type": "stream",
     "text": [
      "Iteration: \t49 / 120\n",
      "Confirmed: \t102\n",
      "Tentative: \t23\n",
      "Rejected: \t528\n"
     ]
    },
    {
     "name": "stderr",
     "output_type": "stream",
     "text": [
      "/data/anaconda/envs/py36/lib/python3.6/site-packages/boruta/boruta_py.py:418: RuntimeWarning: invalid value encountered in greater\n",
      "  hits = np.where(cur_imp[0] > imp_sha_max)[0]\n"
     ]
    },
    {
     "name": "stdout",
     "output_type": "stream",
     "text": [
      "Iteration: \t50 / 120\n",
      "Confirmed: \t102\n",
      "Tentative: \t23\n",
      "Rejected: \t528\n"
     ]
    },
    {
     "name": "stderr",
     "output_type": "stream",
     "text": [
      "/data/anaconda/envs/py36/lib/python3.6/site-packages/boruta/boruta_py.py:418: RuntimeWarning: invalid value encountered in greater\n",
      "  hits = np.where(cur_imp[0] > imp_sha_max)[0]\n"
     ]
    },
    {
     "name": "stdout",
     "output_type": "stream",
     "text": [
      "Iteration: \t51 / 120\n",
      "Confirmed: \t102\n",
      "Tentative: \t23\n",
      "Rejected: \t528\n"
     ]
    },
    {
     "name": "stderr",
     "output_type": "stream",
     "text": [
      "/data/anaconda/envs/py36/lib/python3.6/site-packages/boruta/boruta_py.py:418: RuntimeWarning: invalid value encountered in greater\n",
      "  hits = np.where(cur_imp[0] > imp_sha_max)[0]\n"
     ]
    },
    {
     "name": "stdout",
     "output_type": "stream",
     "text": [
      "Iteration: \t52 / 120\n",
      "Confirmed: \t102\n",
      "Tentative: \t23\n",
      "Rejected: \t528\n"
     ]
    },
    {
     "name": "stderr",
     "output_type": "stream",
     "text": [
      "/data/anaconda/envs/py36/lib/python3.6/site-packages/boruta/boruta_py.py:418: RuntimeWarning: invalid value encountered in greater\n",
      "  hits = np.where(cur_imp[0] > imp_sha_max)[0]\n"
     ]
    },
    {
     "name": "stdout",
     "output_type": "stream",
     "text": [
      "Iteration: \t53 / 120\n",
      "Confirmed: \t102\n",
      "Tentative: \t23\n",
      "Rejected: \t528\n"
     ]
    },
    {
     "name": "stderr",
     "output_type": "stream",
     "text": [
      "/data/anaconda/envs/py36/lib/python3.6/site-packages/boruta/boruta_py.py:418: RuntimeWarning: invalid value encountered in greater\n",
      "  hits = np.where(cur_imp[0] > imp_sha_max)[0]\n"
     ]
    },
    {
     "name": "stdout",
     "output_type": "stream",
     "text": [
      "Iteration: \t54 / 120\n",
      "Confirmed: \t102\n",
      "Tentative: \t22\n",
      "Rejected: \t529\n"
     ]
    },
    {
     "name": "stderr",
     "output_type": "stream",
     "text": [
      "/data/anaconda/envs/py36/lib/python3.6/site-packages/boruta/boruta_py.py:418: RuntimeWarning: invalid value encountered in greater\n",
      "  hits = np.where(cur_imp[0] > imp_sha_max)[0]\n"
     ]
    },
    {
     "name": "stdout",
     "output_type": "stream",
     "text": [
      "Iteration: \t55 / 120\n",
      "Confirmed: \t102\n",
      "Tentative: \t22\n",
      "Rejected: \t529\n"
     ]
    },
    {
     "name": "stderr",
     "output_type": "stream",
     "text": [
      "/data/anaconda/envs/py36/lib/python3.6/site-packages/boruta/boruta_py.py:418: RuntimeWarning: invalid value encountered in greater\n",
      "  hits = np.where(cur_imp[0] > imp_sha_max)[0]\n"
     ]
    },
    {
     "name": "stdout",
     "output_type": "stream",
     "text": [
      "Iteration: \t56 / 120\n",
      "Confirmed: \t102\n",
      "Tentative: \t22\n",
      "Rejected: \t529\n"
     ]
    },
    {
     "name": "stderr",
     "output_type": "stream",
     "text": [
      "/data/anaconda/envs/py36/lib/python3.6/site-packages/boruta/boruta_py.py:418: RuntimeWarning: invalid value encountered in greater\n",
      "  hits = np.where(cur_imp[0] > imp_sha_max)[0]\n"
     ]
    },
    {
     "name": "stdout",
     "output_type": "stream",
     "text": [
      "Iteration: \t57 / 120\n",
      "Confirmed: \t103\n",
      "Tentative: \t21\n",
      "Rejected: \t529\n"
     ]
    },
    {
     "name": "stderr",
     "output_type": "stream",
     "text": [
      "/data/anaconda/envs/py36/lib/python3.6/site-packages/boruta/boruta_py.py:418: RuntimeWarning: invalid value encountered in greater\n",
      "  hits = np.where(cur_imp[0] > imp_sha_max)[0]\n"
     ]
    },
    {
     "name": "stdout",
     "output_type": "stream",
     "text": [
      "Iteration: \t58 / 120\n",
      "Confirmed: \t103\n",
      "Tentative: \t21\n",
      "Rejected: \t529\n"
     ]
    },
    {
     "name": "stderr",
     "output_type": "stream",
     "text": [
      "/data/anaconda/envs/py36/lib/python3.6/site-packages/boruta/boruta_py.py:418: RuntimeWarning: invalid value encountered in greater\n",
      "  hits = np.where(cur_imp[0] > imp_sha_max)[0]\n"
     ]
    },
    {
     "name": "stdout",
     "output_type": "stream",
     "text": [
      "Iteration: \t59 / 120\n",
      "Confirmed: \t104\n",
      "Tentative: \t20\n",
      "Rejected: \t529\n"
     ]
    },
    {
     "name": "stderr",
     "output_type": "stream",
     "text": [
      "/data/anaconda/envs/py36/lib/python3.6/site-packages/boruta/boruta_py.py:418: RuntimeWarning: invalid value encountered in greater\n",
      "  hits = np.where(cur_imp[0] > imp_sha_max)[0]\n"
     ]
    },
    {
     "name": "stdout",
     "output_type": "stream",
     "text": [
      "Iteration: \t60 / 120\n",
      "Confirmed: \t104\n",
      "Tentative: \t20\n",
      "Rejected: \t529\n"
     ]
    },
    {
     "name": "stderr",
     "output_type": "stream",
     "text": [
      "/data/anaconda/envs/py36/lib/python3.6/site-packages/boruta/boruta_py.py:418: RuntimeWarning: invalid value encountered in greater\n",
      "  hits = np.where(cur_imp[0] > imp_sha_max)[0]\n"
     ]
    },
    {
     "name": "stdout",
     "output_type": "stream",
     "text": [
      "Iteration: \t61 / 120\n",
      "Confirmed: \t104\n",
      "Tentative: \t20\n",
      "Rejected: \t529\n"
     ]
    },
    {
     "name": "stderr",
     "output_type": "stream",
     "text": [
      "/data/anaconda/envs/py36/lib/python3.6/site-packages/boruta/boruta_py.py:418: RuntimeWarning: invalid value encountered in greater\n",
      "  hits = np.where(cur_imp[0] > imp_sha_max)[0]\n"
     ]
    },
    {
     "name": "stdout",
     "output_type": "stream",
     "text": [
      "Iteration: \t62 / 120\n",
      "Confirmed: \t104\n",
      "Tentative: \t20\n",
      "Rejected: \t529\n"
     ]
    },
    {
     "name": "stderr",
     "output_type": "stream",
     "text": [
      "/data/anaconda/envs/py36/lib/python3.6/site-packages/boruta/boruta_py.py:418: RuntimeWarning: invalid value encountered in greater\n",
      "  hits = np.where(cur_imp[0] > imp_sha_max)[0]\n"
     ]
    },
    {
     "name": "stdout",
     "output_type": "stream",
     "text": [
      "Iteration: \t63 / 120\n",
      "Confirmed: \t104\n",
      "Tentative: \t20\n",
      "Rejected: \t529\n"
     ]
    },
    {
     "name": "stderr",
     "output_type": "stream",
     "text": [
      "/data/anaconda/envs/py36/lib/python3.6/site-packages/boruta/boruta_py.py:418: RuntimeWarning: invalid value encountered in greater\n",
      "  hits = np.where(cur_imp[0] > imp_sha_max)[0]\n"
     ]
    },
    {
     "name": "stdout",
     "output_type": "stream",
     "text": [
      "Iteration: \t64 / 120\n",
      "Confirmed: \t104\n",
      "Tentative: \t20\n",
      "Rejected: \t529\n"
     ]
    },
    {
     "name": "stderr",
     "output_type": "stream",
     "text": [
      "/data/anaconda/envs/py36/lib/python3.6/site-packages/boruta/boruta_py.py:418: RuntimeWarning: invalid value encountered in greater\n",
      "  hits = np.where(cur_imp[0] > imp_sha_max)[0]\n"
     ]
    },
    {
     "name": "stdout",
     "output_type": "stream",
     "text": [
      "Iteration: \t65 / 120\n",
      "Confirmed: \t104\n",
      "Tentative: \t20\n",
      "Rejected: \t529\n"
     ]
    },
    {
     "name": "stderr",
     "output_type": "stream",
     "text": [
      "/data/anaconda/envs/py36/lib/python3.6/site-packages/boruta/boruta_py.py:418: RuntimeWarning: invalid value encountered in greater\n",
      "  hits = np.where(cur_imp[0] > imp_sha_max)[0]\n"
     ]
    },
    {
     "name": "stdout",
     "output_type": "stream",
     "text": [
      "Iteration: \t66 / 120\n",
      "Confirmed: \t104\n",
      "Tentative: \t20\n",
      "Rejected: \t529\n"
     ]
    },
    {
     "name": "stderr",
     "output_type": "stream",
     "text": [
      "/data/anaconda/envs/py36/lib/python3.6/site-packages/boruta/boruta_py.py:418: RuntimeWarning: invalid value encountered in greater\n",
      "  hits = np.where(cur_imp[0] > imp_sha_max)[0]\n"
     ]
    },
    {
     "name": "stdout",
     "output_type": "stream",
     "text": [
      "Iteration: \t67 / 120\n",
      "Confirmed: \t104\n",
      "Tentative: \t20\n",
      "Rejected: \t529\n"
     ]
    },
    {
     "name": "stderr",
     "output_type": "stream",
     "text": [
      "/data/anaconda/envs/py36/lib/python3.6/site-packages/boruta/boruta_py.py:418: RuntimeWarning: invalid value encountered in greater\n",
      "  hits = np.where(cur_imp[0] > imp_sha_max)[0]\n"
     ]
    },
    {
     "name": "stdout",
     "output_type": "stream",
     "text": [
      "Iteration: \t68 / 120\n",
      "Confirmed: \t104\n",
      "Tentative: \t20\n",
      "Rejected: \t529\n"
     ]
    },
    {
     "name": "stderr",
     "output_type": "stream",
     "text": [
      "/data/anaconda/envs/py36/lib/python3.6/site-packages/boruta/boruta_py.py:418: RuntimeWarning: invalid value encountered in greater\n",
      "  hits = np.where(cur_imp[0] > imp_sha_max)[0]\n"
     ]
    },
    {
     "name": "stdout",
     "output_type": "stream",
     "text": [
      "Iteration: \t69 / 120\n",
      "Confirmed: \t104\n",
      "Tentative: \t20\n",
      "Rejected: \t529\n"
     ]
    },
    {
     "name": "stderr",
     "output_type": "stream",
     "text": [
      "/data/anaconda/envs/py36/lib/python3.6/site-packages/boruta/boruta_py.py:418: RuntimeWarning: invalid value encountered in greater\n",
      "  hits = np.where(cur_imp[0] > imp_sha_max)[0]\n"
     ]
    },
    {
     "name": "stdout",
     "output_type": "stream",
     "text": [
      "Iteration: \t70 / 120\n",
      "Confirmed: \t104\n",
      "Tentative: \t20\n",
      "Rejected: \t529\n"
     ]
    },
    {
     "name": "stderr",
     "output_type": "stream",
     "text": [
      "/data/anaconda/envs/py36/lib/python3.6/site-packages/boruta/boruta_py.py:418: RuntimeWarning: invalid value encountered in greater\n",
      "  hits = np.where(cur_imp[0] > imp_sha_max)[0]\n"
     ]
    },
    {
     "name": "stdout",
     "output_type": "stream",
     "text": [
      "Iteration: \t71 / 120\n",
      "Confirmed: \t104\n",
      "Tentative: \t20\n",
      "Rejected: \t529\n"
     ]
    },
    {
     "name": "stderr",
     "output_type": "stream",
     "text": [
      "/data/anaconda/envs/py36/lib/python3.6/site-packages/boruta/boruta_py.py:418: RuntimeWarning: invalid value encountered in greater\n",
      "  hits = np.where(cur_imp[0] > imp_sha_max)[0]\n"
     ]
    },
    {
     "name": "stdout",
     "output_type": "stream",
     "text": [
      "Iteration: \t72 / 120\n",
      "Confirmed: \t104\n",
      "Tentative: \t20\n",
      "Rejected: \t529\n"
     ]
    },
    {
     "name": "stderr",
     "output_type": "stream",
     "text": [
      "/data/anaconda/envs/py36/lib/python3.6/site-packages/boruta/boruta_py.py:418: RuntimeWarning: invalid value encountered in greater\n",
      "  hits = np.where(cur_imp[0] > imp_sha_max)[0]\n"
     ]
    },
    {
     "name": "stdout",
     "output_type": "stream",
     "text": [
      "Iteration: \t73 / 120\n",
      "Confirmed: \t104\n",
      "Tentative: \t20\n",
      "Rejected: \t529\n"
     ]
    },
    {
     "name": "stderr",
     "output_type": "stream",
     "text": [
      "/data/anaconda/envs/py36/lib/python3.6/site-packages/boruta/boruta_py.py:418: RuntimeWarning: invalid value encountered in greater\n",
      "  hits = np.where(cur_imp[0] > imp_sha_max)[0]\n"
     ]
    },
    {
     "name": "stdout",
     "output_type": "stream",
     "text": [
      "Iteration: \t74 / 120\n",
      "Confirmed: \t104\n",
      "Tentative: \t20\n",
      "Rejected: \t529\n"
     ]
    },
    {
     "name": "stderr",
     "output_type": "stream",
     "text": [
      "/data/anaconda/envs/py36/lib/python3.6/site-packages/boruta/boruta_py.py:418: RuntimeWarning: invalid value encountered in greater\n",
      "  hits = np.where(cur_imp[0] > imp_sha_max)[0]\n"
     ]
    },
    {
     "name": "stdout",
     "output_type": "stream",
     "text": [
      "Iteration: \t75 / 120\n",
      "Confirmed: \t104\n",
      "Tentative: \t18\n",
      "Rejected: \t531\n"
     ]
    },
    {
     "name": "stderr",
     "output_type": "stream",
     "text": [
      "/data/anaconda/envs/py36/lib/python3.6/site-packages/boruta/boruta_py.py:418: RuntimeWarning: invalid value encountered in greater\n",
      "  hits = np.where(cur_imp[0] > imp_sha_max)[0]\n"
     ]
    },
    {
     "name": "stdout",
     "output_type": "stream",
     "text": [
      "Iteration: \t76 / 120\n",
      "Confirmed: \t104\n",
      "Tentative: \t18\n",
      "Rejected: \t531\n"
     ]
    },
    {
     "name": "stderr",
     "output_type": "stream",
     "text": [
      "/data/anaconda/envs/py36/lib/python3.6/site-packages/boruta/boruta_py.py:418: RuntimeWarning: invalid value encountered in greater\n",
      "  hits = np.where(cur_imp[0] > imp_sha_max)[0]\n"
     ]
    },
    {
     "name": "stdout",
     "output_type": "stream",
     "text": [
      "Iteration: \t77 / 120\n",
      "Confirmed: \t104\n",
      "Tentative: \t18\n",
      "Rejected: \t531\n"
     ]
    },
    {
     "name": "stderr",
     "output_type": "stream",
     "text": [
      "/data/anaconda/envs/py36/lib/python3.6/site-packages/boruta/boruta_py.py:418: RuntimeWarning: invalid value encountered in greater\n",
      "  hits = np.where(cur_imp[0] > imp_sha_max)[0]\n"
     ]
    },
    {
     "name": "stdout",
     "output_type": "stream",
     "text": [
      "Iteration: \t78 / 120\n",
      "Confirmed: \t104\n",
      "Tentative: \t18\n",
      "Rejected: \t531\n"
     ]
    },
    {
     "name": "stderr",
     "output_type": "stream",
     "text": [
      "/data/anaconda/envs/py36/lib/python3.6/site-packages/boruta/boruta_py.py:418: RuntimeWarning: invalid value encountered in greater\n",
      "  hits = np.where(cur_imp[0] > imp_sha_max)[0]\n"
     ]
    },
    {
     "name": "stdout",
     "output_type": "stream",
     "text": [
      "Iteration: \t79 / 120\n",
      "Confirmed: \t104\n",
      "Tentative: \t18\n",
      "Rejected: \t531\n"
     ]
    },
    {
     "name": "stderr",
     "output_type": "stream",
     "text": [
      "/data/anaconda/envs/py36/lib/python3.6/site-packages/boruta/boruta_py.py:418: RuntimeWarning: invalid value encountered in greater\n",
      "  hits = np.where(cur_imp[0] > imp_sha_max)[0]\n"
     ]
    },
    {
     "name": "stdout",
     "output_type": "stream",
     "text": [
      "Iteration: \t80 / 120\n",
      "Confirmed: \t104\n",
      "Tentative: \t18\n",
      "Rejected: \t531\n"
     ]
    },
    {
     "name": "stderr",
     "output_type": "stream",
     "text": [
      "/data/anaconda/envs/py36/lib/python3.6/site-packages/boruta/boruta_py.py:418: RuntimeWarning: invalid value encountered in greater\n",
      "  hits = np.where(cur_imp[0] > imp_sha_max)[0]\n"
     ]
    },
    {
     "name": "stdout",
     "output_type": "stream",
     "text": [
      "Iteration: \t81 / 120\n",
      "Confirmed: \t104\n",
      "Tentative: \t18\n",
      "Rejected: \t531\n"
     ]
    },
    {
     "name": "stderr",
     "output_type": "stream",
     "text": [
      "/data/anaconda/envs/py36/lib/python3.6/site-packages/boruta/boruta_py.py:418: RuntimeWarning: invalid value encountered in greater\n",
      "  hits = np.where(cur_imp[0] > imp_sha_max)[0]\n"
     ]
    },
    {
     "name": "stdout",
     "output_type": "stream",
     "text": [
      "Iteration: \t82 / 120\n",
      "Confirmed: \t104\n",
      "Tentative: \t18\n",
      "Rejected: \t531\n"
     ]
    },
    {
     "name": "stderr",
     "output_type": "stream",
     "text": [
      "/data/anaconda/envs/py36/lib/python3.6/site-packages/boruta/boruta_py.py:418: RuntimeWarning: invalid value encountered in greater\n",
      "  hits = np.where(cur_imp[0] > imp_sha_max)[0]\n"
     ]
    },
    {
     "name": "stdout",
     "output_type": "stream",
     "text": [
      "Iteration: \t83 / 120\n",
      "Confirmed: \t104\n",
      "Tentative: \t18\n",
      "Rejected: \t531\n"
     ]
    },
    {
     "name": "stderr",
     "output_type": "stream",
     "text": [
      "/data/anaconda/envs/py36/lib/python3.6/site-packages/boruta/boruta_py.py:418: RuntimeWarning: invalid value encountered in greater\n",
      "  hits = np.where(cur_imp[0] > imp_sha_max)[0]\n"
     ]
    },
    {
     "name": "stdout",
     "output_type": "stream",
     "text": [
      "Iteration: \t84 / 120\n",
      "Confirmed: \t104\n",
      "Tentative: \t18\n",
      "Rejected: \t531\n"
     ]
    },
    {
     "name": "stderr",
     "output_type": "stream",
     "text": [
      "/data/anaconda/envs/py36/lib/python3.6/site-packages/boruta/boruta_py.py:418: RuntimeWarning: invalid value encountered in greater\n",
      "  hits = np.where(cur_imp[0] > imp_sha_max)[0]\n"
     ]
    },
    {
     "name": "stdout",
     "output_type": "stream",
     "text": [
      "Iteration: \t85 / 120\n",
      "Confirmed: \t104\n",
      "Tentative: \t16\n",
      "Rejected: \t533\n"
     ]
    },
    {
     "name": "stderr",
     "output_type": "stream",
     "text": [
      "/data/anaconda/envs/py36/lib/python3.6/site-packages/boruta/boruta_py.py:418: RuntimeWarning: invalid value encountered in greater\n",
      "  hits = np.where(cur_imp[0] > imp_sha_max)[0]\n"
     ]
    },
    {
     "name": "stdout",
     "output_type": "stream",
     "text": [
      "Iteration: \t86 / 120\n",
      "Confirmed: \t104\n",
      "Tentative: \t16\n",
      "Rejected: \t533\n"
     ]
    },
    {
     "name": "stderr",
     "output_type": "stream",
     "text": [
      "/data/anaconda/envs/py36/lib/python3.6/site-packages/boruta/boruta_py.py:418: RuntimeWarning: invalid value encountered in greater\n",
      "  hits = np.where(cur_imp[0] > imp_sha_max)[0]\n"
     ]
    },
    {
     "name": "stdout",
     "output_type": "stream",
     "text": [
      "Iteration: \t87 / 120\n",
      "Confirmed: \t104\n",
      "Tentative: \t16\n",
      "Rejected: \t533\n"
     ]
    },
    {
     "name": "stderr",
     "output_type": "stream",
     "text": [
      "/data/anaconda/envs/py36/lib/python3.6/site-packages/boruta/boruta_py.py:418: RuntimeWarning: invalid value encountered in greater\n",
      "  hits = np.where(cur_imp[0] > imp_sha_max)[0]\n"
     ]
    },
    {
     "name": "stdout",
     "output_type": "stream",
     "text": [
      "Iteration: \t88 / 120\n",
      "Confirmed: \t104\n",
      "Tentative: \t16\n",
      "Rejected: \t533\n"
     ]
    },
    {
     "name": "stderr",
     "output_type": "stream",
     "text": [
      "/data/anaconda/envs/py36/lib/python3.6/site-packages/boruta/boruta_py.py:418: RuntimeWarning: invalid value encountered in greater\n",
      "  hits = np.where(cur_imp[0] > imp_sha_max)[0]\n"
     ]
    },
    {
     "name": "stdout",
     "output_type": "stream",
     "text": [
      "Iteration: \t89 / 120\n",
      "Confirmed: \t104\n",
      "Tentative: \t16\n",
      "Rejected: \t533\n"
     ]
    },
    {
     "name": "stderr",
     "output_type": "stream",
     "text": [
      "/data/anaconda/envs/py36/lib/python3.6/site-packages/boruta/boruta_py.py:418: RuntimeWarning: invalid value encountered in greater\n",
      "  hits = np.where(cur_imp[0] > imp_sha_max)[0]\n"
     ]
    },
    {
     "name": "stdout",
     "output_type": "stream",
     "text": [
      "Iteration: \t90 / 120\n",
      "Confirmed: \t104\n",
      "Tentative: \t16\n",
      "Rejected: \t533\n"
     ]
    },
    {
     "name": "stderr",
     "output_type": "stream",
     "text": [
      "/data/anaconda/envs/py36/lib/python3.6/site-packages/boruta/boruta_py.py:418: RuntimeWarning: invalid value encountered in greater\n",
      "  hits = np.where(cur_imp[0] > imp_sha_max)[0]\n"
     ]
    },
    {
     "name": "stdout",
     "output_type": "stream",
     "text": [
      "Iteration: \t91 / 120\n",
      "Confirmed: \t104\n",
      "Tentative: \t16\n",
      "Rejected: \t533\n"
     ]
    },
    {
     "name": "stderr",
     "output_type": "stream",
     "text": [
      "/data/anaconda/envs/py36/lib/python3.6/site-packages/boruta/boruta_py.py:418: RuntimeWarning: invalid value encountered in greater\n",
      "  hits = np.where(cur_imp[0] > imp_sha_max)[0]\n"
     ]
    },
    {
     "name": "stdout",
     "output_type": "stream",
     "text": [
      "Iteration: \t92 / 120\n",
      "Confirmed: \t104\n",
      "Tentative: \t16\n",
      "Rejected: \t533\n"
     ]
    },
    {
     "name": "stderr",
     "output_type": "stream",
     "text": [
      "/data/anaconda/envs/py36/lib/python3.6/site-packages/boruta/boruta_py.py:418: RuntimeWarning: invalid value encountered in greater\n",
      "  hits = np.where(cur_imp[0] > imp_sha_max)[0]\n"
     ]
    },
    {
     "name": "stdout",
     "output_type": "stream",
     "text": [
      "Iteration: \t93 / 120\n",
      "Confirmed: \t105\n",
      "Tentative: \t15\n",
      "Rejected: \t533\n"
     ]
    },
    {
     "name": "stderr",
     "output_type": "stream",
     "text": [
      "/data/anaconda/envs/py36/lib/python3.6/site-packages/boruta/boruta_py.py:418: RuntimeWarning: invalid value encountered in greater\n",
      "  hits = np.where(cur_imp[0] > imp_sha_max)[0]\n"
     ]
    },
    {
     "name": "stdout",
     "output_type": "stream",
     "text": [
      "Iteration: \t94 / 120\n",
      "Confirmed: \t105\n",
      "Tentative: \t15\n",
      "Rejected: \t533\n"
     ]
    },
    {
     "name": "stderr",
     "output_type": "stream",
     "text": [
      "/data/anaconda/envs/py36/lib/python3.6/site-packages/boruta/boruta_py.py:418: RuntimeWarning: invalid value encountered in greater\n",
      "  hits = np.where(cur_imp[0] > imp_sha_max)[0]\n"
     ]
    },
    {
     "name": "stdout",
     "output_type": "stream",
     "text": [
      "Iteration: \t95 / 120\n",
      "Confirmed: \t106\n",
      "Tentative: \t14\n",
      "Rejected: \t533\n"
     ]
    },
    {
     "name": "stderr",
     "output_type": "stream",
     "text": [
      "/data/anaconda/envs/py36/lib/python3.6/site-packages/boruta/boruta_py.py:418: RuntimeWarning: invalid value encountered in greater\n",
      "  hits = np.where(cur_imp[0] > imp_sha_max)[0]\n"
     ]
    },
    {
     "name": "stdout",
     "output_type": "stream",
     "text": [
      "Iteration: \t96 / 120\n",
      "Confirmed: \t106\n",
      "Tentative: \t14\n",
      "Rejected: \t533\n"
     ]
    },
    {
     "name": "stderr",
     "output_type": "stream",
     "text": [
      "/data/anaconda/envs/py36/lib/python3.6/site-packages/boruta/boruta_py.py:418: RuntimeWarning: invalid value encountered in greater\n",
      "  hits = np.where(cur_imp[0] > imp_sha_max)[0]\n"
     ]
    },
    {
     "name": "stdout",
     "output_type": "stream",
     "text": [
      "Iteration: \t97 / 120\n",
      "Confirmed: \t106\n",
      "Tentative: \t14\n",
      "Rejected: \t533\n"
     ]
    },
    {
     "name": "stderr",
     "output_type": "stream",
     "text": [
      "/data/anaconda/envs/py36/lib/python3.6/site-packages/boruta/boruta_py.py:418: RuntimeWarning: invalid value encountered in greater\n",
      "  hits = np.where(cur_imp[0] > imp_sha_max)[0]\n"
     ]
    },
    {
     "name": "stdout",
     "output_type": "stream",
     "text": [
      "Iteration: \t98 / 120\n",
      "Confirmed: \t106\n",
      "Tentative: \t14\n",
      "Rejected: \t533\n"
     ]
    },
    {
     "name": "stderr",
     "output_type": "stream",
     "text": [
      "/data/anaconda/envs/py36/lib/python3.6/site-packages/boruta/boruta_py.py:418: RuntimeWarning: invalid value encountered in greater\n",
      "  hits = np.where(cur_imp[0] > imp_sha_max)[0]\n"
     ]
    },
    {
     "name": "stdout",
     "output_type": "stream",
     "text": [
      "Iteration: \t99 / 120\n",
      "Confirmed: \t106\n",
      "Tentative: \t14\n",
      "Rejected: \t533\n"
     ]
    },
    {
     "name": "stderr",
     "output_type": "stream",
     "text": [
      "/data/anaconda/envs/py36/lib/python3.6/site-packages/boruta/boruta_py.py:418: RuntimeWarning: invalid value encountered in greater\n",
      "  hits = np.where(cur_imp[0] > imp_sha_max)[0]\n"
     ]
    },
    {
     "name": "stdout",
     "output_type": "stream",
     "text": [
      "Iteration: \t100 / 120\n",
      "Confirmed: \t106\n",
      "Tentative: \t14\n",
      "Rejected: \t533\n"
     ]
    },
    {
     "name": "stderr",
     "output_type": "stream",
     "text": [
      "/data/anaconda/envs/py36/lib/python3.6/site-packages/boruta/boruta_py.py:418: RuntimeWarning: invalid value encountered in greater\n",
      "  hits = np.where(cur_imp[0] > imp_sha_max)[0]\n"
     ]
    },
    {
     "name": "stdout",
     "output_type": "stream",
     "text": [
      "Iteration: \t101 / 120\n",
      "Confirmed: \t106\n",
      "Tentative: \t14\n",
      "Rejected: \t533\n"
     ]
    },
    {
     "name": "stderr",
     "output_type": "stream",
     "text": [
      "/data/anaconda/envs/py36/lib/python3.6/site-packages/boruta/boruta_py.py:418: RuntimeWarning: invalid value encountered in greater\n",
      "  hits = np.where(cur_imp[0] > imp_sha_max)[0]\n"
     ]
    },
    {
     "name": "stdout",
     "output_type": "stream",
     "text": [
      "Iteration: \t102 / 120\n",
      "Confirmed: \t106\n",
      "Tentative: \t14\n",
      "Rejected: \t533\n"
     ]
    },
    {
     "name": "stderr",
     "output_type": "stream",
     "text": [
      "/data/anaconda/envs/py36/lib/python3.6/site-packages/boruta/boruta_py.py:418: RuntimeWarning: invalid value encountered in greater\n",
      "  hits = np.where(cur_imp[0] > imp_sha_max)[0]\n"
     ]
    },
    {
     "name": "stdout",
     "output_type": "stream",
     "text": [
      "Iteration: \t103 / 120\n",
      "Confirmed: \t106\n",
      "Tentative: \t13\n",
      "Rejected: \t534\n"
     ]
    },
    {
     "name": "stderr",
     "output_type": "stream",
     "text": [
      "/data/anaconda/envs/py36/lib/python3.6/site-packages/boruta/boruta_py.py:418: RuntimeWarning: invalid value encountered in greater\n",
      "  hits = np.where(cur_imp[0] > imp_sha_max)[0]\n"
     ]
    },
    {
     "name": "stdout",
     "output_type": "stream",
     "text": [
      "Iteration: \t104 / 120\n",
      "Confirmed: \t106\n",
      "Tentative: \t13\n",
      "Rejected: \t534\n"
     ]
    },
    {
     "name": "stderr",
     "output_type": "stream",
     "text": [
      "/data/anaconda/envs/py36/lib/python3.6/site-packages/boruta/boruta_py.py:418: RuntimeWarning: invalid value encountered in greater\n",
      "  hits = np.where(cur_imp[0] > imp_sha_max)[0]\n"
     ]
    },
    {
     "name": "stdout",
     "output_type": "stream",
     "text": [
      "Iteration: \t105 / 120\n",
      "Confirmed: \t106\n",
      "Tentative: \t12\n",
      "Rejected: \t535\n"
     ]
    },
    {
     "name": "stderr",
     "output_type": "stream",
     "text": [
      "/data/anaconda/envs/py36/lib/python3.6/site-packages/boruta/boruta_py.py:418: RuntimeWarning: invalid value encountered in greater\n",
      "  hits = np.where(cur_imp[0] > imp_sha_max)[0]\n"
     ]
    },
    {
     "name": "stdout",
     "output_type": "stream",
     "text": [
      "Iteration: \t106 / 120\n",
      "Confirmed: \t106\n",
      "Tentative: \t12\n",
      "Rejected: \t535\n"
     ]
    },
    {
     "name": "stderr",
     "output_type": "stream",
     "text": [
      "/data/anaconda/envs/py36/lib/python3.6/site-packages/boruta/boruta_py.py:418: RuntimeWarning: invalid value encountered in greater\n",
      "  hits = np.where(cur_imp[0] > imp_sha_max)[0]\n"
     ]
    },
    {
     "name": "stdout",
     "output_type": "stream",
     "text": [
      "Iteration: \t107 / 120\n",
      "Confirmed: \t106\n",
      "Tentative: \t12\n",
      "Rejected: \t535\n"
     ]
    },
    {
     "name": "stderr",
     "output_type": "stream",
     "text": [
      "/data/anaconda/envs/py36/lib/python3.6/site-packages/boruta/boruta_py.py:418: RuntimeWarning: invalid value encountered in greater\n",
      "  hits = np.where(cur_imp[0] > imp_sha_max)[0]\n"
     ]
    },
    {
     "name": "stdout",
     "output_type": "stream",
     "text": [
      "Iteration: \t108 / 120\n",
      "Confirmed: \t106\n",
      "Tentative: \t12\n",
      "Rejected: \t535\n"
     ]
    },
    {
     "name": "stderr",
     "output_type": "stream",
     "text": [
      "/data/anaconda/envs/py36/lib/python3.6/site-packages/boruta/boruta_py.py:418: RuntimeWarning: invalid value encountered in greater\n",
      "  hits = np.where(cur_imp[0] > imp_sha_max)[0]\n"
     ]
    },
    {
     "name": "stdout",
     "output_type": "stream",
     "text": [
      "Iteration: \t109 / 120\n",
      "Confirmed: \t106\n",
      "Tentative: \t12\n",
      "Rejected: \t535\n"
     ]
    },
    {
     "name": "stderr",
     "output_type": "stream",
     "text": [
      "/data/anaconda/envs/py36/lib/python3.6/site-packages/boruta/boruta_py.py:418: RuntimeWarning: invalid value encountered in greater\n",
      "  hits = np.where(cur_imp[0] > imp_sha_max)[0]\n"
     ]
    },
    {
     "name": "stdout",
     "output_type": "stream",
     "text": [
      "Iteration: \t110 / 120\n",
      "Confirmed: \t106\n",
      "Tentative: \t12\n",
      "Rejected: \t535\n"
     ]
    },
    {
     "name": "stderr",
     "output_type": "stream",
     "text": [
      "/data/anaconda/envs/py36/lib/python3.6/site-packages/boruta/boruta_py.py:418: RuntimeWarning: invalid value encountered in greater\n",
      "  hits = np.where(cur_imp[0] > imp_sha_max)[0]\n"
     ]
    },
    {
     "name": "stdout",
     "output_type": "stream",
     "text": [
      "Iteration: \t111 / 120\n",
      "Confirmed: \t106\n",
      "Tentative: \t12\n",
      "Rejected: \t535\n"
     ]
    },
    {
     "name": "stderr",
     "output_type": "stream",
     "text": [
      "/data/anaconda/envs/py36/lib/python3.6/site-packages/boruta/boruta_py.py:418: RuntimeWarning: invalid value encountered in greater\n",
      "  hits = np.where(cur_imp[0] > imp_sha_max)[0]\n"
     ]
    },
    {
     "name": "stdout",
     "output_type": "stream",
     "text": [
      "Iteration: \t112 / 120\n",
      "Confirmed: \t106\n",
      "Tentative: \t12\n",
      "Rejected: \t535\n"
     ]
    },
    {
     "name": "stderr",
     "output_type": "stream",
     "text": [
      "/data/anaconda/envs/py36/lib/python3.6/site-packages/boruta/boruta_py.py:418: RuntimeWarning: invalid value encountered in greater\n",
      "  hits = np.where(cur_imp[0] > imp_sha_max)[0]\n"
     ]
    },
    {
     "name": "stdout",
     "output_type": "stream",
     "text": [
      "Iteration: \t113 / 120\n",
      "Confirmed: \t106\n",
      "Tentative: \t12\n",
      "Rejected: \t535\n"
     ]
    },
    {
     "name": "stderr",
     "output_type": "stream",
     "text": [
      "/data/anaconda/envs/py36/lib/python3.6/site-packages/boruta/boruta_py.py:418: RuntimeWarning: invalid value encountered in greater\n",
      "  hits = np.where(cur_imp[0] > imp_sha_max)[0]\n"
     ]
    },
    {
     "name": "stdout",
     "output_type": "stream",
     "text": [
      "Iteration: \t114 / 120\n",
      "Confirmed: \t106\n",
      "Tentative: \t12\n",
      "Rejected: \t535\n"
     ]
    },
    {
     "name": "stderr",
     "output_type": "stream",
     "text": [
      "/data/anaconda/envs/py36/lib/python3.6/site-packages/boruta/boruta_py.py:418: RuntimeWarning: invalid value encountered in greater\n",
      "  hits = np.where(cur_imp[0] > imp_sha_max)[0]\n"
     ]
    },
    {
     "name": "stdout",
     "output_type": "stream",
     "text": [
      "Iteration: \t115 / 120\n",
      "Confirmed: \t106\n",
      "Tentative: \t12\n",
      "Rejected: \t535\n"
     ]
    },
    {
     "name": "stderr",
     "output_type": "stream",
     "text": [
      "/data/anaconda/envs/py36/lib/python3.6/site-packages/boruta/boruta_py.py:418: RuntimeWarning: invalid value encountered in greater\n",
      "  hits = np.where(cur_imp[0] > imp_sha_max)[0]\n"
     ]
    },
    {
     "name": "stdout",
     "output_type": "stream",
     "text": [
      "Iteration: \t116 / 120\n",
      "Confirmed: \t106\n",
      "Tentative: \t12\n",
      "Rejected: \t535\n"
     ]
    },
    {
     "name": "stderr",
     "output_type": "stream",
     "text": [
      "/data/anaconda/envs/py36/lib/python3.6/site-packages/boruta/boruta_py.py:418: RuntimeWarning: invalid value encountered in greater\n",
      "  hits = np.where(cur_imp[0] > imp_sha_max)[0]\n"
     ]
    },
    {
     "name": "stdout",
     "output_type": "stream",
     "text": [
      "Iteration: \t117 / 120\n",
      "Confirmed: \t106\n",
      "Tentative: \t12\n",
      "Rejected: \t535\n"
     ]
    },
    {
     "name": "stderr",
     "output_type": "stream",
     "text": [
      "/data/anaconda/envs/py36/lib/python3.6/site-packages/boruta/boruta_py.py:418: RuntimeWarning: invalid value encountered in greater\n",
      "  hits = np.where(cur_imp[0] > imp_sha_max)[0]\n"
     ]
    },
    {
     "name": "stdout",
     "output_type": "stream",
     "text": [
      "Iteration: \t118 / 120\n",
      "Confirmed: \t106\n",
      "Tentative: \t12\n",
      "Rejected: \t535\n",
      "Iteration: \t119 / 120\n",
      "Confirmed: \t106\n",
      "Tentative: \t12\n",
      "Rejected: \t535\n",
      "\n",
      "\n",
      "BorutaPy finished running.\n",
      "\n",
      "Iteration: \t120 / 120\n",
      "Confirmed: \t106\n",
      "Tentative: \t1\n",
      "Rejected: \t535\n"
     ]
    },
    {
     "name": "stderr",
     "output_type": "stream",
     "text": [
      "/data/anaconda/envs/py36/lib/python3.6/site-packages/boruta/boruta_py.py:418: RuntimeWarning: invalid value encountered in greater\n",
      "  hits = np.where(cur_imp[0] > imp_sha_max)[0]\n"
     ]
    },
    {
     "data": {
      "text/plain": [
       "BorutaPy(alpha=0.05,\n",
       "     estimator=RandomForestClassifier(bootstrap=True, class_weight='balanced_subsample',\n",
       "            criterion='gini', max_depth=5, max_features='auto',\n",
       "            max_leaf_nodes=None, min_impurity_decrease=0.0,\n",
       "            min_impurity_split=None, min_samples_leaf=1,\n",
       "            min_samples_split=2, min_weight_fraction_leaf=0.0,\n",
       "            n_estimators=307, n_jobs=-1, oob_score=False,\n",
       "            random_state=<mtrand.RandomState object at 0x7fb03032ef30>,\n",
       "            verbose=0, warm_start=False),\n",
       "     max_iter=120, n_estimators='auto', perc=100,\n",
       "     random_state=<mtrand.RandomState object at 0x7fb03032ef30>,\n",
       "     two_step=True, verbose=2)"
      ]
     },
     "execution_count": 9,
     "metadata": {},
     "output_type": "execute_result"
    }
   ],
   "source": [
    "# find all relevant features\n",
    "feat_selector.fit(kdd98_learn_feat.values, kdd98_learn_targets.TARGET_B.values)"
   ]
  },
  {
   "cell_type": "code",
   "execution_count": 21,
   "metadata": {},
   "outputs": [],
   "source": [
    "with open(pathlib.Path(Config.get(\"model_store\"), \"feature_selection_boruta.pkl\"), \"wb\") as of:\n",
    "    pickle.dump(feat_selector, of)"
   ]
  },
  {
   "cell_type": "code",
   "execution_count": 10,
   "metadata": {},
   "outputs": [
    {
     "data": {
      "text/plain": [
       "array([False,  True, False, False,  True,  True, False, False, False,\n",
       "       False,  True,  True,  True,  True,  True,  True,  True,  True,\n",
       "        True, False, False, False, False, False, False, False,  True,\n",
       "       False, False, False, False, False, False, False, False, False,\n",
       "       False, False, False, False,  True, False, False, False, False,\n",
       "       False, False, False, False, False, False, False, False, False,\n",
       "       False, False, False, False, False, False, False, False, False,\n",
       "       False, False, False, False, False, False, False, False, False,\n",
       "       False, False, False, False, False, False, False, False, False,\n",
       "       False, False, False, False, False, False, False, False, False,\n",
       "       False, False, False, False, False, False, False, False, False,\n",
       "       False, False, False, False, False, False, False, False, False,\n",
       "       False, False,  True,  True, False, False, False, False, False,\n",
       "       False, False, False, False, False, False, False, False, False,\n",
       "       False, False, False, False, False, False, False, False, False,\n",
       "       False, False,  True,  True,  True,  True,  True, False, False,\n",
       "       False, False, False, False, False, False, False, False, False,\n",
       "       False, False, False,  True,  True, False, False, False, False,\n",
       "        True,  True,  True,  True,  True,  True, False, False, False,\n",
       "       False, False, False, False, False, False, False, False, False,\n",
       "       False, False, False, False, False, False, False, False,  True,\n",
       "       False, False, False, False, False, False, False, False, False,\n",
       "       False, False, False, False, False, False, False, False, False,\n",
       "       False, False, False, False, False, False, False, False, False,\n",
       "       False, False, False, False, False, False, False, False, False,\n",
       "       False, False, False, False, False, False, False, False, False,\n",
       "       False, False, False, False, False, False, False, False, False,\n",
       "       False, False, False, False, False, False, False, False, False,\n",
       "       False, False, False, False, False, False,  True, False, False,\n",
       "       False, False, False, False, False, False, False, False, False,\n",
       "       False, False, False, False, False, False, False, False, False,\n",
       "       False, False, False, False, False, False, False, False, False,\n",
       "       False, False,  True, False, False, False, False, False, False,\n",
       "       False, False, False, False, False, False, False, False, False,\n",
       "       False, False, False, False, False, False, False, False, False,\n",
       "       False, False, False, False, False, False, False,  True,  True,\n",
       "        True,  True, False,  True, False, False, False,  True,  True,\n",
       "        True,  True,  True,  True, False,  True, False,  True,  True,\n",
       "       False,  True,  True,  True,  True,  True,  True,  True,  True,\n",
       "        True,  True,  True,  True,  True,  True,  True,  True,  True,\n",
       "        True,  True,  True,  True,  True, False,  True,  True,  True,\n",
       "       False,  True, False,  True, False,  True, False, False, False,\n",
       "        True, False, False, False,  True,  True,  True, False,  True,\n",
       "       False, False,  True, False,  True, False, False, False, False,\n",
       "        True,  True, False, False, False, False, False, False, False,\n",
       "       False,  True, False,  True,  True, False, False, False, False,\n",
       "       False, False, False, False, False, False, False, False, False,\n",
       "       False, False, False, False, False, False, False, False, False,\n",
       "       False, False, False, False, False, False, False, False, False,\n",
       "       False,  True, False, False, False, False, False, False, False,\n",
       "       False, False, False, False,  True, False, False, False, False,\n",
       "       False, False, False, False, False, False, False, False, False,\n",
       "       False, False, False, False, False, False,  True, False, False,\n",
       "       False, False, False,  True, False, False, False, False,  True,\n",
       "       False, False, False, False, False, False, False, False, False,\n",
       "       False, False, False, False, False, False, False, False, False,\n",
       "       False, False, False, False, False, False, False, False, False,\n",
       "       False, False, False, False, False, False,  True,  True, False,\n",
       "       False, False, False,  True, False, False, False, False, False,\n",
       "       False, False, False, False,  True, False, False, False, False,\n",
       "       False, False, False, False, False, False, False, False, False,\n",
       "       False, False, False, False, False, False, False, False, False,\n",
       "       False, False, False, False,  True, False, False,  True, False,\n",
       "       False, False, False, False,  True,  True, False, False, False,\n",
       "       False, False, False, False, False, False, False, False, False,\n",
       "       False, False, False, False, False, False, False, False, False,\n",
       "       False, False, False, False, False, False, False, False, False,\n",
       "       False, False, False,  True,  True, False,  True, False, False,\n",
       "       False, False, False, False, False, False, False, False, False,\n",
       "       False, False,  True, False, False, False, False, False, False,\n",
       "       False, False,  True, False, False, False, False, False, False,\n",
       "        True, False, False, False, False, False,  True, False, False,\n",
       "       False, False, False, False, False])"
      ]
     },
     "execution_count": 10,
     "metadata": {},
     "output_type": "execute_result"
    }
   ],
   "source": [
    "# check selected features\n",
    "feat_selector.support_"
   ]
  },
  {
   "cell_type": "code",
   "execution_count": 11,
   "metadata": {},
   "outputs": [
    {
     "data": {
      "text/plain": [
       "array([280,   1, 252,  19,   1,   1,   8,  11,   2,   3,   1,   1,   1,\n",
       "         1,   1,   1,   1,   1,   1, 445, 284, 216, 264, 325, 365, 292,\n",
       "         1, 513, 489, 499, 493, 482, 471, 503, 490, 512, 491, 505, 468,\n",
       "       416,   1, 148, 141, 139, 442, 396, 404, 353, 354,  35,  17, 417,\n",
       "       141, 181, 486, 358, 398, 431, 459, 439, 144, 476, 499, 298,  89,\n",
       "       252, 207, 238, 213, 251, 332, 239, 359, 289, 162, 280, 311, 335,\n",
       "       294, 175, 274, 311, 335, 342, 365, 289, 193, 267, 227, 315,  67,\n",
       "       266, 234, 344, 385, 166, 380, 367, 154, 256, 228, 241, 259, 357,\n",
       "       267, 318, 365, 412, 396, 453,   1,   1, 149,  85, 212, 206, 261,\n",
       "       287, 273, 223, 231, 203, 316, 264, 308,  10, 480,  21, 345, 308,\n",
       "       347, 245, 160, 196, 124,  44,  97,   1,   1,   1,   1,   1,  19,\n",
       "       341, 226, 271, 178, 386, 400, 174, 326, 319, 269, 247, 332, 383,\n",
       "         1,   1,   8,  72, 101,  70,   1,   1,   1,   1,   1,   1, 132,\n",
       "       203, 219, 277, 157,   3, 188,  91, 201,   3, 229, 213, 246,  76,\n",
       "        29, 114, 154, 183, 236, 194,   1,  65, 164, 158,  53, 175, 244,\n",
       "       158, 324, 486, 369, 371, 387, 263, 314, 305, 320, 220, 300, 299,\n",
       "       221, 313, 322, 283, 248, 340, 414, 151,  32, 192, 373, 222, 326,\n",
       "       446, 401, 177, 359, 232,  30, 339, 278, 370, 463, 328, 215, 308,\n",
       "       404, 343, 323, 301, 351, 403, 411, 275, 347, 282, 375, 257, 377,\n",
       "       338, 200, 248, 236, 451,  78,  14,  73,  30,  84, 255,   1,  26,\n",
       "       276, 284, 419, 163, 356, 451, 448, 259, 208, 393, 269, 181, 146,\n",
       "       135, 435, 229, 429, 172, 467, 488, 320, 210, 172, 297, 458, 440,\n",
       "       444, 422, 509,  81,   1, 186, 294, 303, 345,  95, 153, 271, 350,\n",
       "        24, 361, 250, 168, 130,  93,  51, 243, 392, 208, 291, 240, 363,\n",
       "       372, 367, 384, 361, 477,  25, 115, 434, 349, 389,   1,   1,   1,\n",
       "         1, 211,   1,  74, 328, 415,   1,   1,   1,   1,   1,   1, 205,\n",
       "         1, 456,   1,   1,  50,   1,   1,   1,   1,   1,   1,   1,   1,\n",
       "         1,   1,   1,   1,   1,   1,   1,   1,   1,   1,   1,   1,   1,\n",
       "         1,  38,   1,   1,   1,  66,   1,  48,   1,  56,   1,  59,  40,\n",
       "        17,   1,  64,  16,  51,   1,   1,   1,  41,   1, 381, 107,   1,\n",
       "       471,   1, 286, 408, 493, 280,   1,   1, 420, 427, 450, 435, 335,\n",
       "       433, 382, 302,   1,   3,   1,   1, 529, 510, 466, 464, 480, 469,\n",
       "       484, 496, 462, 465, 501, 529, 508, 388, 390, 446, 497, 483, 529,\n",
       "       495, 438, 456, 484, 461, 395, 529, 506, 460, 507, 423, 473, 497,\n",
       "         1, 406, 449, 379, 432, 317, 529, 105,   3,  63, 529,  78,   1,\n",
       "        58, 150, 104,  14, 139, 529,   3,  14, 143, 529, 504, 502, 511,\n",
       "       491, 529,  87,  93, 437, 424,   1, 529, 119, 116, 440, 442,   1,\n",
       "       529,  36, 131,  61,   1, 529, 401, 234, 470, 390, 417, 421,  28,\n",
       "       429, 529, 377, 185, 261, 310, 409, 160,  38, 373, 529, 478, 407,\n",
       "       428, 375, 424, 254,  45, 453, 529, 332, 355, 218, 306, 242,   1,\n",
       "         1, 303, 529, 106, 127,   1, 170, 101,  41, 529, 410, 296, 132,\n",
       "       394, 287,   1,  45, 529, 413, 352, 337, 398, 330,  11,  87, 139,\n",
       "       529,  87, 113,  56,  67, 171,  43, 169, 529, 184, 233, 225,  59,\n",
       "        70,  98,  55,   1, 529,  96,   1,   8, 127, 529, 147, 189,   1,\n",
       "         1, 191, 197, 198, 103, 529, 121, 108, 165, 179, 110,  23,  80,\n",
       "       199, 529, 202, 167, 187, 259, 217,  37,  98, 111, 529, 190, 145,\n",
       "       129, 293,  82, 117, 117,  47, 529, 156,   1,   1, 119,   1,  26,\n",
       "       137, 529, 134,  89, 109,  34,   3,  49,  21, 529, 223, 126,   1,\n",
       "       152, 112,  62,  53, 100, 529,  93,  33,   1,  69,  83,  76, 122,\n",
       "       529, 194,   1, 122,  74, 180, 125, 136,   1, 529, 426, 455, 479,\n",
       "       475, 474, 529])"
      ]
     },
     "execution_count": 11,
     "metadata": {},
     "output_type": "execute_result"
    }
   ],
   "source": [
    "# check ranking of features\n",
    "feat_selector.ranking_"
   ]
  },
  {
   "cell_type": "code",
   "execution_count": 22,
   "metadata": {},
   "outputs": [],
   "source": [
    "# call transform() on X to filter it down to selected features\n",
    "X_filtered = feat_selector.transform(X_train, weak=True)"
   ]
  },
  {
   "cell_type": "code",
   "execution_count": 18,
   "metadata": {},
   "outputs": [
    {
     "data": {
      "text/plain": [
       "array(['AGE', 'NUMCHLD', 'INCOME', 'MAGFAML', 'MAGFEM', 'MAGMALE',\n",
       "       'PUBGARDN', 'PUBCULIN', 'PUBHLTH', 'PUBDOITY', 'PUBNEWFN',\n",
       "       'PUBOPP', 'WEALTH2', 'PEPSTRFL', 'HV1', 'HV2', 'HVP1', 'HVP2',\n",
       "       'HVP3', 'HVP4', 'HVP5', 'RP1', 'RP2', 'DMA', 'IC1', 'IC2', 'IC3',\n",
       "       'IC4', 'IC5', 'HHAS3', 'EC7', 'POBC2', 'CARDPROM', 'NUMPROM',\n",
       "       'CARDPM12', 'NUMPRM12', 'RAMNT_14', 'RAMNTALL', 'NGIFTALL',\n",
       "       'CARDGIFT', 'MINRAMNT', 'MAXRAMNT', 'LASTGIFT', 'AVGGIFT',\n",
       "       'RFA_2F', 'RFA_2A', 'RFA_3F', 'RFA_3A', 'RFA_4F', 'RFA_4A',\n",
       "       'RFA_5F', 'RFA_5A', 'RFA_6F', 'RFA_6A', 'RFA_7F', 'RFA_7A',\n",
       "       'RFA_8F', 'RFA_8A', 'RFA_9F', 'RFA_9A', 'RFA_10F', 'RFA_10A',\n",
       "       'RFA_11F', 'RFA_11A', 'RFA_12F', 'RFA_12A', 'RFA_13F', 'RFA_13A',\n",
       "       'RFA_14A', 'RFA_15F', 'RFA_15A', 'RFA_16A', 'RFA_17A', 'RFA_18A',\n",
       "       'RFA_20A', 'RFA_22A', 'RFA_23F', 'RFA_23A', 'RFA_24A',\n",
       "       'ZIP_longitude', 'MONTHS_TO_DONATION_8', 'MONTHS_TO_DONATION_13',\n",
       "       'MONTHS_TO_DONATION_14', 'LASTDATE_DELTA_MONTHS',\n",
       "       'MAXRDATE_DELTA_MONTHS', 'ODATEDW_DELTA_YEARS', 'GENDER_A',\n",
       "       'GEOCODE_02', 'RFA_3R_S', 'RFA_4R_S', 'RFA_5R_S', 'RFA_9R_P',\n",
       "       'RFA_9R_S', 'RFA_10R_I', 'RFA_11R_P', 'RFA_14R_U', 'RFA_15R_N',\n",
       "       'RFA_16R_I', 'RFA_16R_L', 'RFA_20R_F', 'RFA_20R_I', 'RFA_20R_N',\n",
       "       'RFA_22R_I', 'RFA_23R_I', 'RFA_24R_F', 'RFA_24R_U'], dtype=object)"
      ]
     },
     "execution_count": 18,
     "metadata": {},
     "output_type": "execute_result"
    }
   ],
   "source": [
    "kdd98_learn_feat.columns.values[feat_selector.support_]"
   ]
  },
  {
   "cell_type": "code",
   "execution_count": 23,
   "metadata": {},
   "outputs": [],
   "source": [
    "X_train_all_relevant = pd.DataFrame(feat_selector.transform(X_train),\n",
    "                                    columns = kdd98_learn_feat.columns.values[feat_selector.support_])\n",
    "X_test_all_relevant = pd.DataFrame(feat_selector.transform(X_test),\n",
    "                                   columns = kdd98_learn_feat.columns.values[feat_selector.support_])\n",
    "\n",
    "with open(pathlib.Path(Config.get(\"df_store\"), \"X_train_all_relevant.pkl\"), \"wb\") as of:\n",
    "    pickle.dump(X_train_all_relevant, of)\n",
    "with open(pathlib.Path(Config.get(\"df_store\"), \"X_test_all_relevant.pkl\"), \"wb\") as of:\n",
    "    pickle.dump(X_test_all_relevant, of)"
   ]
  },
  {
   "cell_type": "code",
   "execution_count": 15,
   "metadata": {},
   "outputs": [],
   "source": [
    "from sklearn import decomposition\n",
    "from sklearn import preprocessing\n",
    "from sklearn.pipeline import Pipeline"
   ]
  },
  {
   "cell_type": "code",
   "execution_count": 15,
   "metadata": {},
   "outputs": [],
   "source": [
    "scaled = preprocessing.StandardScaler().fit_transform(kdd98_learn_feat)\n",
    "pca = decomposition.PCA(n_components=0.9)\n",
    "pca.fit(scaled)\n",
    "kdd98_learn_feat_pca = pca.transform(scaled)"
   ]
  },
  {
   "cell_type": "code",
   "execution_count": 16,
   "metadata": {},
   "outputs": [
    {
     "data": {
      "text/plain": [
       "array([[-8.81577705,  6.10712558,  0.80967323, ...,  0.15675791,\n",
       "        -0.067287  , -0.76867522],\n",
       "       [-6.91144902, -2.43116463, -2.87755731, ...,  0.71592679,\n",
       "        -0.43179058,  0.07843202],\n",
       "       [-2.21619883, -4.44950703, -6.03630413, ...,  1.18408065,\n",
       "         0.74591542, -0.13534931],\n",
       "       ...,\n",
       "       [-0.13672755, -6.6761208 , -0.92195376, ..., -0.34820757,\n",
       "         0.98247709,  0.59160201],\n",
       "       [-2.39344373,  1.66550228,  2.7648879 , ..., -0.16736959,\n",
       "        -0.12642847, -0.0814907 ],\n",
       "       [10.44589494, -6.38366429,  7.30353424, ..., -0.34718913,\n",
       "         0.99769692, -0.15743521]])"
      ]
     },
     "execution_count": 16,
     "metadata": {},
     "output_type": "execute_result"
    }
   ],
   "source": [
    "kdd98_learn_feat_pca"
   ]
  },
  {
   "cell_type": "code",
   "execution_count": 17,
   "metadata": {},
   "outputs": [
    {
     "data": {
      "text/plain": [
       "array([[-0.00024736, -0.01882243, -0.00563905, ...,  0.0101577 ,\n",
       "         0.00589738, -0.        ],\n",
       "       [ 0.01464038,  0.02553318,  0.00029485, ...,  0.00848866,\n",
       "        -0.02437162, -0.        ],\n",
       "       [ 0.01745245,  0.04837184, -0.00987981, ..., -0.01335246,\n",
       "         0.04489   ,  0.        ],\n",
       "       ...,\n",
       "       [-0.00534693,  0.01795122,  0.05115053, ...,  0.07551834,\n",
       "         0.00942342, -0.        ],\n",
       "       [ 0.00679768, -0.01072038, -0.00456838, ..., -0.06518717,\n",
       "        -0.06354686,  0.        ],\n",
       "       [ 0.06410796, -0.02016498,  0.00167632, ..., -0.11423718,\n",
       "         0.11611469, -0.        ]])"
      ]
     },
     "execution_count": 17,
     "metadata": {},
     "output_type": "execute_result"
    }
   ],
   "source": [
    "pca.components_"
   ]
  },
  {
   "cell_type": "code",
   "execution_count": 18,
   "metadata": {},
   "outputs": [
    {
     "data": {
      "application/pdf": "[encoded data removed]",
      "image/png": "[encoded data removed]",
      "text/plain": [
       "<Figure size 432x288 with 1 Axes>"
      ]
     },
     "metadata": {
      "needs_background": "light"
     },
     "output_type": "display_data"
    }
   ],
   "source": [
    "cum_var_expl = np.cumsum(pca.explained_variance_ratio_)\n",
    "sns.lineplot(data = cum_var_expl)\n",
    "plt.xlabel = \"Number of dimensions\"\n",
    "plt.ylabel = \"Variance explained\""
   ]
  },
  {
   "cell_type": "code",
   "execution_count": 19,
   "metadata": {},
   "outputs": [
    {
     "data": {
      "text/plain": [
       "203"
      ]
     },
     "execution_count": 19,
     "metadata": {},
     "output_type": "execute_result"
    }
   ],
   "source": [
    "pca.n_components_"
   ]
  },
  {
   "cell_type": "code",
   "execution_count": 20,
   "metadata": {},
   "outputs": [
    {
     "data": {
      "text/plain": [
       "653"
      ]
     },
     "execution_count": 20,
     "metadata": {},
     "output_type": "execute_result"
    }
   ],
   "source": [
    "pca.n_features_"
   ]
  },
  {
   "cell_type": "code",
   "execution_count": 21,
   "metadata": {},
   "outputs": [
    {
     "data": {
      "text/plain": [
       "<bound method BaseEstimator.get_params of PCA(copy=True, iterated_power='auto', n_components=0.9, random_state=None,\n",
       "  svd_solver='auto', tol=0.0, whiten=False)>"
      ]
     },
     "execution_count": 21,
     "metadata": {},
     "output_type": "execute_result"
    }
   ],
   "source": [
    "pca.get_params"
   ]
  },
  {
   "cell_type": "code",
   "execution_count": null,
   "metadata": {},
   "outputs": [],
   "source": []
  }
 ],
 "metadata": {
  "kernelspec": {
   "display_name": "py36",
   "language": "python",
   "name": "py36"
  },
  "language_info": {
   "codemirror_mode": {
    "name": "ipython",
    "version": 3
   },
   "file_extension": ".py",
   "mimetype": "text/x-python",
   "name": "python",
   "nbconvert_exporter": "python",
   "pygments_lexer": "ipython3",
   "version": "3.6.7"
  },
  "toc": {
   "base_numbering": 1,
   "nav_menu": {},
   "number_sections": true,
   "sideBar": true,
   "skip_h1_title": false,
   "title_cell": "Table of Contents",
   "title_sidebar": "Contents",
   "toc_cell": false,
   "toc_position": {
    "height": "calc(100% - 180px)",
    "left": "10px",
    "top": "150px",
    "width": "214px"
   },
   "toc_section_display": true,
   "toc_window_display": true
  }
 },
 "nbformat": 4,
 "nbformat_minor": 2
}
